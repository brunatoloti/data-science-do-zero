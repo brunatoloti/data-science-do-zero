{
  "nbformat": 4,
  "nbformat_minor": 0,
  "metadata": {
    "colab": {
      "name": "knn_digitos.ipynb",
      "provenance": [],
      "collapsed_sections": [],
      "authorship_tag": "ABX9TyOypYBxTXryEt2IYwxwepMl",
      "include_colab_link": true
    },
    "kernelspec": {
      "name": "python3",
      "display_name": "Python 3"
    }
  },
  "cells": [
    {
      "cell_type": "markdown",
      "metadata": {
        "id": "view-in-github",
        "colab_type": "text"
      },
      "source": [
        "<a href=\"https://colab.research.google.com/github/brunatoloti/data-science-do-zero/blob/main/Machine%20Learning/KNN/knn_digitos.ipynb\" target=\"_parent\"><img src=\"https://colab.research.google.com/assets/colab-badge.svg\" alt=\"Open In Colab\"/></a>"
      ]
    },
    {
      "cell_type": "markdown",
      "metadata": {
        "id": "In66CO7KiukF"
      },
      "source": [
        "#Machine Learning - KNN"
      ]
    },
    {
      "cell_type": "markdown",
      "metadata": {
        "id": "lzhY6wk9iyWd"
      },
      "source": [
        "\r\n",
        "\r\n",
        "*   Algoritmo supervisionado\r\n",
        "\r\n"
      ]
    },
    {
      "cell_type": "markdown",
      "metadata": {
        "id": "c8bq-yf0i5zP"
      },
      "source": [
        "Importando bibliotecas"
      ]
    },
    {
      "cell_type": "code",
      "metadata": {
        "id": "MUgTWmuHipmD"
      },
      "source": [
        "import pandas as pd\r\n",
        "import seaborn as sns\r\n",
        "import matplotlib.pyplot as plt\r\n",
        "import numpy as np\r\n",
        "import warnings\r\n",
        "warnings.filterwarnings('ignore')"
      ],
      "execution_count": 1,
      "outputs": []
    },
    {
      "cell_type": "markdown",
      "metadata": {
        "id": "thgQS8dzjgrm"
      },
      "source": [
        "Nesse notebook, utilizaremos o KNN para identificar dígitos escritos a mão."
      ]
    },
    {
      "cell_type": "markdown",
      "metadata": {
        "id": "Nr0k2YuVnc6e"
      },
      "source": [
        "Utilizaremos, para isso, um dataset fornecido pela biblioteca sklearn. Portanto, carregando a base de dados de dígitos."
      ]
    },
    {
      "cell_type": "code",
      "metadata": {
        "id": "loYj_L-si95x"
      },
      "source": [
        "from sklearn import datasets, svm, metrics"
      ],
      "execution_count": 2,
      "outputs": []
    },
    {
      "cell_type": "code",
      "metadata": {
        "id": "mTBSXvR_nvI4"
      },
      "source": [
        "digits = datasets.load_digits()"
      ],
      "execution_count": 3,
      "outputs": []
    },
    {
      "cell_type": "markdown",
      "metadata": {
        "id": "ELW4rMK6n20t"
      },
      "source": [
        "Descrição da base de dados"
      ]
    },
    {
      "cell_type": "code",
      "metadata": {
        "colab": {
          "base_uri": "https://localhost:8080/"
        },
        "id": "svrnCwIFnyUC",
        "outputId": "5ab5a652-e2c7-4099-a8b7-4cda96836fc4"
      },
      "source": [
        "print(digits.DESCR)"
      ],
      "execution_count": 4,
      "outputs": [
        {
          "output_type": "stream",
          "text": [
            ".. _digits_dataset:\n",
            "\n",
            "Optical recognition of handwritten digits dataset\n",
            "--------------------------------------------------\n",
            "\n",
            "**Data Set Characteristics:**\n",
            "\n",
            "    :Number of Instances: 5620\n",
            "    :Number of Attributes: 64\n",
            "    :Attribute Information: 8x8 image of integer pixels in the range 0..16.\n",
            "    :Missing Attribute Values: None\n",
            "    :Creator: E. Alpaydin (alpaydin '@' boun.edu.tr)\n",
            "    :Date: July; 1998\n",
            "\n",
            "This is a copy of the test set of the UCI ML hand-written digits datasets\n",
            "https://archive.ics.uci.edu/ml/datasets/Optical+Recognition+of+Handwritten+Digits\n",
            "\n",
            "The data set contains images of hand-written digits: 10 classes where\n",
            "each class refers to a digit.\n",
            "\n",
            "Preprocessing programs made available by NIST were used to extract\n",
            "normalized bitmaps of handwritten digits from a preprinted form. From a\n",
            "total of 43 people, 30 contributed to the training set and different 13\n",
            "to the test set. 32x32 bitmaps are divided into nonoverlapping blocks of\n",
            "4x4 and the number of on pixels are counted in each block. This generates\n",
            "an input matrix of 8x8 where each element is an integer in the range\n",
            "0..16. This reduces dimensionality and gives invariance to small\n",
            "distortions.\n",
            "\n",
            "For info on NIST preprocessing routines, see M. D. Garris, J. L. Blue, G.\n",
            "T. Candela, D. L. Dimmick, J. Geist, P. J. Grother, S. A. Janet, and C.\n",
            "L. Wilson, NIST Form-Based Handprint Recognition System, NISTIR 5469,\n",
            "1994.\n",
            "\n",
            ".. topic:: References\n",
            "\n",
            "  - C. Kaynak (1995) Methods of Combining Multiple Classifiers and Their\n",
            "    Applications to Handwritten Digit Recognition, MSc Thesis, Institute of\n",
            "    Graduate Studies in Science and Engineering, Bogazici University.\n",
            "  - E. Alpaydin, C. Kaynak (1998) Cascading Classifiers, Kybernetika.\n",
            "  - Ken Tang and Ponnuthurai N. Suganthan and Xi Yao and A. Kai Qin.\n",
            "    Linear dimensionalityreduction using relevance weighted LDA. School of\n",
            "    Electrical and Electronic Engineering Nanyang Technological University.\n",
            "    2005.\n",
            "  - Claudio Gentile. A New Approximate Maximal Margin Classification\n",
            "    Algorithm. NIPS. 2000.\n"
          ],
          "name": "stdout"
        }
      ]
    },
    {
      "cell_type": "markdown",
      "metadata": {
        "id": "Ql68krQ4oFPZ"
      },
      "source": [
        "Visualizando os valores dos dados (pixels das imagens)"
      ]
    },
    {
      "cell_type": "code",
      "metadata": {
        "colab": {
          "base_uri": "https://localhost:8080/"
        },
        "id": "vynHkRZnn7IX",
        "outputId": "aae40482-a63b-4606-a2d0-e2febd1fef97"
      },
      "source": [
        "digits.images"
      ],
      "execution_count": 5,
      "outputs": [
        {
          "output_type": "execute_result",
          "data": {
            "text/plain": [
              "array([[[ 0.,  0.,  5., ...,  1.,  0.,  0.],\n",
              "        [ 0.,  0., 13., ..., 15.,  5.,  0.],\n",
              "        [ 0.,  3., 15., ..., 11.,  8.,  0.],\n",
              "        ...,\n",
              "        [ 0.,  4., 11., ..., 12.,  7.,  0.],\n",
              "        [ 0.,  2., 14., ..., 12.,  0.,  0.],\n",
              "        [ 0.,  0.,  6., ...,  0.,  0.,  0.]],\n",
              "\n",
              "       [[ 0.,  0.,  0., ...,  5.,  0.,  0.],\n",
              "        [ 0.,  0.,  0., ...,  9.,  0.,  0.],\n",
              "        [ 0.,  0.,  3., ...,  6.,  0.,  0.],\n",
              "        ...,\n",
              "        [ 0.,  0.,  1., ...,  6.,  0.,  0.],\n",
              "        [ 0.,  0.,  1., ...,  6.,  0.,  0.],\n",
              "        [ 0.,  0.,  0., ..., 10.,  0.,  0.]],\n",
              "\n",
              "       [[ 0.,  0.,  0., ..., 12.,  0.,  0.],\n",
              "        [ 0.,  0.,  3., ..., 14.,  0.,  0.],\n",
              "        [ 0.,  0.,  8., ..., 16.,  0.,  0.],\n",
              "        ...,\n",
              "        [ 0.,  9., 16., ...,  0.,  0.,  0.],\n",
              "        [ 0.,  3., 13., ..., 11.,  5.,  0.],\n",
              "        [ 0.,  0.,  0., ..., 16.,  9.,  0.]],\n",
              "\n",
              "       ...,\n",
              "\n",
              "       [[ 0.,  0.,  1., ...,  1.,  0.,  0.],\n",
              "        [ 0.,  0., 13., ...,  2.,  1.,  0.],\n",
              "        [ 0.,  0., 16., ..., 16.,  5.,  0.],\n",
              "        ...,\n",
              "        [ 0.,  0., 16., ..., 15.,  0.,  0.],\n",
              "        [ 0.,  0., 15., ..., 16.,  0.,  0.],\n",
              "        [ 0.,  0.,  2., ...,  6.,  0.,  0.]],\n",
              "\n",
              "       [[ 0.,  0.,  2., ...,  0.,  0.,  0.],\n",
              "        [ 0.,  0., 14., ..., 15.,  1.,  0.],\n",
              "        [ 0.,  4., 16., ..., 16.,  7.,  0.],\n",
              "        ...,\n",
              "        [ 0.,  0.,  0., ..., 16.,  2.,  0.],\n",
              "        [ 0.,  0.,  4., ..., 16.,  2.,  0.],\n",
              "        [ 0.,  0.,  5., ..., 12.,  0.,  0.]],\n",
              "\n",
              "       [[ 0.,  0., 10., ...,  1.,  0.,  0.],\n",
              "        [ 0.,  2., 16., ...,  1.,  0.,  0.],\n",
              "        [ 0.,  0., 15., ..., 15.,  0.,  0.],\n",
              "        ...,\n",
              "        [ 0.,  4., 16., ..., 16.,  6.,  0.],\n",
              "        [ 0.,  8., 16., ..., 16.,  8.,  0.],\n",
              "        [ 0.,  1.,  8., ..., 12.,  1.,  0.]]])"
            ]
          },
          "metadata": {
            "tags": []
          },
          "execution_count": 5
        }
      ]
    },
    {
      "cell_type": "markdown",
      "metadata": {
        "id": "ke6n-2wuoSsE"
      },
      "source": [
        "Visualizando os valores de classes - os valores de dígitos"
      ]
    },
    {
      "cell_type": "code",
      "metadata": {
        "colab": {
          "base_uri": "https://localhost:8080/"
        },
        "id": "GcYLSJX4oJ-n",
        "outputId": "901bdc99-7847-45a5-e9dc-456e4784568e"
      },
      "source": [
        "digits.target_names"
      ],
      "execution_count": 6,
      "outputs": [
        {
          "output_type": "execute_result",
          "data": {
            "text/plain": [
              "array([0, 1, 2, 3, 4, 5, 6, 7, 8, 9])"
            ]
          },
          "metadata": {
            "tags": []
          },
          "execution_count": 6
        }
      ]
    },
    {
      "cell_type": "markdown",
      "metadata": {
        "id": "9zlRCGuhpxMB"
      },
      "source": [
        "Visualizando as imagens e classes"
      ]
    },
    {
      "cell_type": "code",
      "metadata": {
        "colab": {
          "base_uri": "https://localhost:8080/",
          "height": 264
        },
        "id": "5soJSNnioWbs",
        "outputId": "a868e8ad-e9e9-4775-b2ca-ef5dfeb0dcd0"
      },
      "source": [
        "images_and_labels = list(zip(digits.images, digits.target))\r\n",
        "for index, (image, label) in enumerate(images_and_labels[:10]):\r\n",
        "  plt.subplot(3, 4, index + 1)\r\n",
        "  plt.axis('off')\r\n",
        "  plt.imshow(image, cmap=plt.cm.gray_r, interpolation='nearest')\r\n",
        "  plt.title('Training: %i' %label)"
      ],
      "execution_count": 7,
      "outputs": [
        {
          "output_type": "display_data",
          "data": {
            "image/png": "[encoded data removed]",
            "text/plain": [
              "<Figure size 432x288 with 10 Axes>"
            ]
          },
          "metadata": {
            "tags": [],
            "needs_background": "light"
          }
        }
      ]
    },
    {
      "cell_type": "markdown",
      "metadata": {
        "id": "2U-6yD-HJ2xf"
      },
      "source": [
        "Convertendo os dados em Dataframe"
      ]
    },
    {
      "cell_type": "code",
      "metadata": {
        "id": "g791L3alqgeo"
      },
      "source": [
        "n_samples = len(digits.images)\r\n",
        "data = digits.images.reshape((n_samples, -1))\r\n",
        "classe = digits.target"
      ],
      "execution_count": 8,
      "outputs": []
    },
    {
      "cell_type": "code",
      "metadata": {
        "id": "W_tsP9tCLEHj"
      },
      "source": [
        "dataset = pd.DataFrame(data)\r\n",
        "dataset['classe'] = classe"
      ],
      "execution_count": 9,
      "outputs": []
    },
    {
      "cell_type": "markdown",
      "metadata": {
        "id": "RBgM-v1hLdtw"
      },
      "source": [
        "Cada linha do dataframe criado é uma imagem e cada coluna (tirando a coluna classe) é um valor de pixel daquela imagem. A coluna classe, logicamente, nos diz o dígito que corresponde àquela imagem."
      ]
    },
    {
      "cell_type": "code",
      "metadata": {
        "colab": {
          "base_uri": "https://localhost:8080/",
          "height": 224
        },
        "id": "pdqlnNKFLMGB",
        "outputId": "572ac0b2-e6f9-418d-cc83-c25f7cf6887e"
      },
      "source": [
        "dataset.head()"
      ],
      "execution_count": 12,
      "outputs": [
        {
          "output_type": "execute_result",
          "data": {
            "text/html": [
              "<div>\n",
              "<style scoped>\n",
              "    .dataframe tbody tr th:only-of-type {\n",
              "        vertical-align: middle;\n",
              "    }\n",
              "\n",
              "    .dataframe tbody tr th {\n",
              "        vertical-align: top;\n",
              "    }\n",
              "\n",
              "    .dataframe thead th {\n",
              "        text-align: right;\n",
              "    }\n",
              "</style>\n",
              "<table border=\"1\" class=\"dataframe\">\n",
              "  <thead>\n",
              "    <tr style=\"text-align: right;\">\n",
              "      <th></th>\n",
              "      <th>0</th>\n",
              "      <th>1</th>\n",
              "      <th>2</th>\n",
              "      <th>3</th>\n",
              "      <th>4</th>\n",
              "      <th>5</th>\n",
              "      <th>6</th>\n",
              "      <th>7</th>\n",
              "      <th>8</th>\n",
              "      <th>9</th>\n",
              "      <th>10</th>\n",
              "      <th>11</th>\n",
              "      <th>12</th>\n",
              "      <th>13</th>\n",
              "      <th>14</th>\n",
              "      <th>15</th>\n",
              "      <th>16</th>\n",
              "      <th>17</th>\n",
              "      <th>18</th>\n",
              "      <th>19</th>\n",
              "      <th>20</th>\n",
              "      <th>21</th>\n",
              "      <th>22</th>\n",
              "      <th>23</th>\n",
              "      <th>24</th>\n",
              "      <th>25</th>\n",
              "      <th>26</th>\n",
              "      <th>27</th>\n",
              "      <th>28</th>\n",
              "      <th>29</th>\n",
              "      <th>30</th>\n",
              "      <th>31</th>\n",
              "      <th>32</th>\n",
              "      <th>33</th>\n",
              "      <th>34</th>\n",
              "      <th>35</th>\n",
              "      <th>36</th>\n",
              "      <th>37</th>\n",
              "      <th>38</th>\n",
              "      <th>39</th>\n",
              "      <th>40</th>\n",
              "      <th>41</th>\n",
              "      <th>42</th>\n",
              "      <th>43</th>\n",
              "      <th>44</th>\n",
              "      <th>45</th>\n",
              "      <th>46</th>\n",
              "      <th>47</th>\n",
              "      <th>48</th>\n",
              "      <th>49</th>\n",
              "      <th>50</th>\n",
              "      <th>51</th>\n",
              "      <th>52</th>\n",
              "      <th>53</th>\n",
              "      <th>54</th>\n",
              "      <th>55</th>\n",
              "      <th>56</th>\n",
              "      <th>57</th>\n",
              "      <th>58</th>\n",
              "      <th>59</th>\n",
              "      <th>60</th>\n",
              "      <th>61</th>\n",
              "      <th>62</th>\n",
              "      <th>63</th>\n",
              "      <th>classe</th>\n",
              "    </tr>\n",
              "  </thead>\n",
              "  <tbody>\n",
              "    <tr>\n",
              "      <th>0</th>\n",
              "      <td>0.0</td>\n",
              "      <td>0.0</td>\n",
              "      <td>5.0</td>\n",
              "      <td>13.0</td>\n",
              "      <td>9.0</td>\n",
              "      <td>1.0</td>\n",
              "      <td>0.0</td>\n",
              "      <td>0.0</td>\n",
              "      <td>0.0</td>\n",
              "      <td>0.0</td>\n",
              "      <td>13.0</td>\n",
              "      <td>15.0</td>\n",
              "      <td>10.0</td>\n",
              "      <td>15.0</td>\n",
              "      <td>5.0</td>\n",
              "      <td>0.0</td>\n",
              "      <td>0.0</td>\n",
              "      <td>3.0</td>\n",
              "      <td>15.0</td>\n",
              "      <td>2.0</td>\n",
              "      <td>0.0</td>\n",
              "      <td>11.0</td>\n",
              "      <td>8.0</td>\n",
              "      <td>0.0</td>\n",
              "      <td>0.0</td>\n",
              "      <td>4.0</td>\n",
              "      <td>12.0</td>\n",
              "      <td>0.0</td>\n",
              "      <td>0.0</td>\n",
              "      <td>8.0</td>\n",
              "      <td>8.0</td>\n",
              "      <td>0.0</td>\n",
              "      <td>0.0</td>\n",
              "      <td>5.0</td>\n",
              "      <td>8.0</td>\n",
              "      <td>0.0</td>\n",
              "      <td>0.0</td>\n",
              "      <td>9.0</td>\n",
              "      <td>8.0</td>\n",
              "      <td>0.0</td>\n",
              "      <td>0.0</td>\n",
              "      <td>4.0</td>\n",
              "      <td>11.0</td>\n",
              "      <td>0.0</td>\n",
              "      <td>1.0</td>\n",
              "      <td>12.0</td>\n",
              "      <td>7.0</td>\n",
              "      <td>0.0</td>\n",
              "      <td>0.0</td>\n",
              "      <td>2.0</td>\n",
              "      <td>14.0</td>\n",
              "      <td>5.0</td>\n",
              "      <td>10.0</td>\n",
              "      <td>12.0</td>\n",
              "      <td>0.0</td>\n",
              "      <td>0.0</td>\n",
              "      <td>0.0</td>\n",
              "      <td>0.0</td>\n",
              "      <td>6.0</td>\n",
              "      <td>13.0</td>\n",
              "      <td>10.0</td>\n",
              "      <td>0.0</td>\n",
              "      <td>0.0</td>\n",
              "      <td>0.0</td>\n",
              "      <td>0</td>\n",
              "    </tr>\n",
              "    <tr>\n",
              "      <th>1</th>\n",
              "      <td>0.0</td>\n",
              "      <td>0.0</td>\n",
              "      <td>0.0</td>\n",
              "      <td>12.0</td>\n",
              "      <td>13.0</td>\n",
              "      <td>5.0</td>\n",
              "      <td>0.0</td>\n",
              "      <td>0.0</td>\n",
              "      <td>0.0</td>\n",
              "      <td>0.0</td>\n",
              "      <td>0.0</td>\n",
              "      <td>11.0</td>\n",
              "      <td>16.0</td>\n",
              "      <td>9.0</td>\n",
              "      <td>0.0</td>\n",
              "      <td>0.0</td>\n",
              "      <td>0.0</td>\n",
              "      <td>0.0</td>\n",
              "      <td>3.0</td>\n",
              "      <td>15.0</td>\n",
              "      <td>16.0</td>\n",
              "      <td>6.0</td>\n",
              "      <td>0.0</td>\n",
              "      <td>0.0</td>\n",
              "      <td>0.0</td>\n",
              "      <td>7.0</td>\n",
              "      <td>15.0</td>\n",
              "      <td>16.0</td>\n",
              "      <td>16.0</td>\n",
              "      <td>2.0</td>\n",
              "      <td>0.0</td>\n",
              "      <td>0.0</td>\n",
              "      <td>0.0</td>\n",
              "      <td>0.0</td>\n",
              "      <td>1.0</td>\n",
              "      <td>16.0</td>\n",
              "      <td>16.0</td>\n",
              "      <td>3.0</td>\n",
              "      <td>0.0</td>\n",
              "      <td>0.0</td>\n",
              "      <td>0.0</td>\n",
              "      <td>0.0</td>\n",
              "      <td>1.0</td>\n",
              "      <td>16.0</td>\n",
              "      <td>16.0</td>\n",
              "      <td>6.0</td>\n",
              "      <td>0.0</td>\n",
              "      <td>0.0</td>\n",
              "      <td>0.0</td>\n",
              "      <td>0.0</td>\n",
              "      <td>1.0</td>\n",
              "      <td>16.0</td>\n",
              "      <td>16.0</td>\n",
              "      <td>6.0</td>\n",
              "      <td>0.0</td>\n",
              "      <td>0.0</td>\n",
              "      <td>0.0</td>\n",
              "      <td>0.0</td>\n",
              "      <td>0.0</td>\n",
              "      <td>11.0</td>\n",
              "      <td>16.0</td>\n",
              "      <td>10.0</td>\n",
              "      <td>0.0</td>\n",
              "      <td>0.0</td>\n",
              "      <td>1</td>\n",
              "    </tr>\n",
              "    <tr>\n",
              "      <th>2</th>\n",
              "      <td>0.0</td>\n",
              "      <td>0.0</td>\n",
              "      <td>0.0</td>\n",
              "      <td>4.0</td>\n",
              "      <td>15.0</td>\n",
              "      <td>12.0</td>\n",
              "      <td>0.0</td>\n",
              "      <td>0.0</td>\n",
              "      <td>0.0</td>\n",
              "      <td>0.0</td>\n",
              "      <td>3.0</td>\n",
              "      <td>16.0</td>\n",
              "      <td>15.0</td>\n",
              "      <td>14.0</td>\n",
              "      <td>0.0</td>\n",
              "      <td>0.0</td>\n",
              "      <td>0.0</td>\n",
              "      <td>0.0</td>\n",
              "      <td>8.0</td>\n",
              "      <td>13.0</td>\n",
              "      <td>8.0</td>\n",
              "      <td>16.0</td>\n",
              "      <td>0.0</td>\n",
              "      <td>0.0</td>\n",
              "      <td>0.0</td>\n",
              "      <td>0.0</td>\n",
              "      <td>1.0</td>\n",
              "      <td>6.0</td>\n",
              "      <td>15.0</td>\n",
              "      <td>11.0</td>\n",
              "      <td>0.0</td>\n",
              "      <td>0.0</td>\n",
              "      <td>0.0</td>\n",
              "      <td>1.0</td>\n",
              "      <td>8.0</td>\n",
              "      <td>13.0</td>\n",
              "      <td>15.0</td>\n",
              "      <td>1.0</td>\n",
              "      <td>0.0</td>\n",
              "      <td>0.0</td>\n",
              "      <td>0.0</td>\n",
              "      <td>9.0</td>\n",
              "      <td>16.0</td>\n",
              "      <td>16.0</td>\n",
              "      <td>5.0</td>\n",
              "      <td>0.0</td>\n",
              "      <td>0.0</td>\n",
              "      <td>0.0</td>\n",
              "      <td>0.0</td>\n",
              "      <td>3.0</td>\n",
              "      <td>13.0</td>\n",
              "      <td>16.0</td>\n",
              "      <td>16.0</td>\n",
              "      <td>11.0</td>\n",
              "      <td>5.0</td>\n",
              "      <td>0.0</td>\n",
              "      <td>0.0</td>\n",
              "      <td>0.0</td>\n",
              "      <td>0.0</td>\n",
              "      <td>3.0</td>\n",
              "      <td>11.0</td>\n",
              "      <td>16.0</td>\n",
              "      <td>9.0</td>\n",
              "      <td>0.0</td>\n",
              "      <td>2</td>\n",
              "    </tr>\n",
              "    <tr>\n",
              "      <th>3</th>\n",
              "      <td>0.0</td>\n",
              "      <td>0.0</td>\n",
              "      <td>7.0</td>\n",
              "      <td>15.0</td>\n",
              "      <td>13.0</td>\n",
              "      <td>1.0</td>\n",
              "      <td>0.0</td>\n",
              "      <td>0.0</td>\n",
              "      <td>0.0</td>\n",
              "      <td>8.0</td>\n",
              "      <td>13.0</td>\n",
              "      <td>6.0</td>\n",
              "      <td>15.0</td>\n",
              "      <td>4.0</td>\n",
              "      <td>0.0</td>\n",
              "      <td>0.0</td>\n",
              "      <td>0.0</td>\n",
              "      <td>2.0</td>\n",
              "      <td>1.0</td>\n",
              "      <td>13.0</td>\n",
              "      <td>13.0</td>\n",
              "      <td>0.0</td>\n",
              "      <td>0.0</td>\n",
              "      <td>0.0</td>\n",
              "      <td>0.0</td>\n",
              "      <td>0.0</td>\n",
              "      <td>2.0</td>\n",
              "      <td>15.0</td>\n",
              "      <td>11.0</td>\n",
              "      <td>1.0</td>\n",
              "      <td>0.0</td>\n",
              "      <td>0.0</td>\n",
              "      <td>0.0</td>\n",
              "      <td>0.0</td>\n",
              "      <td>0.0</td>\n",
              "      <td>1.0</td>\n",
              "      <td>12.0</td>\n",
              "      <td>12.0</td>\n",
              "      <td>1.0</td>\n",
              "      <td>0.0</td>\n",
              "      <td>0.0</td>\n",
              "      <td>0.0</td>\n",
              "      <td>0.0</td>\n",
              "      <td>0.0</td>\n",
              "      <td>1.0</td>\n",
              "      <td>10.0</td>\n",
              "      <td>8.0</td>\n",
              "      <td>0.0</td>\n",
              "      <td>0.0</td>\n",
              "      <td>0.0</td>\n",
              "      <td>8.0</td>\n",
              "      <td>4.0</td>\n",
              "      <td>5.0</td>\n",
              "      <td>14.0</td>\n",
              "      <td>9.0</td>\n",
              "      <td>0.0</td>\n",
              "      <td>0.0</td>\n",
              "      <td>0.0</td>\n",
              "      <td>7.0</td>\n",
              "      <td>13.0</td>\n",
              "      <td>13.0</td>\n",
              "      <td>9.0</td>\n",
              "      <td>0.0</td>\n",
              "      <td>0.0</td>\n",
              "      <td>3</td>\n",
              "    </tr>\n",
              "    <tr>\n",
              "      <th>4</th>\n",
              "      <td>0.0</td>\n",
              "      <td>0.0</td>\n",
              "      <td>0.0</td>\n",
              "      <td>1.0</td>\n",
              "      <td>11.0</td>\n",
              "      <td>0.0</td>\n",
              "      <td>0.0</td>\n",
              "      <td>0.0</td>\n",
              "      <td>0.0</td>\n",
              "      <td>0.0</td>\n",
              "      <td>0.0</td>\n",
              "      <td>7.0</td>\n",
              "      <td>8.0</td>\n",
              "      <td>0.0</td>\n",
              "      <td>0.0</td>\n",
              "      <td>0.0</td>\n",
              "      <td>0.0</td>\n",
              "      <td>0.0</td>\n",
              "      <td>1.0</td>\n",
              "      <td>13.0</td>\n",
              "      <td>6.0</td>\n",
              "      <td>2.0</td>\n",
              "      <td>2.0</td>\n",
              "      <td>0.0</td>\n",
              "      <td>0.0</td>\n",
              "      <td>0.0</td>\n",
              "      <td>7.0</td>\n",
              "      <td>15.0</td>\n",
              "      <td>0.0</td>\n",
              "      <td>9.0</td>\n",
              "      <td>8.0</td>\n",
              "      <td>0.0</td>\n",
              "      <td>0.0</td>\n",
              "      <td>5.0</td>\n",
              "      <td>16.0</td>\n",
              "      <td>10.0</td>\n",
              "      <td>0.0</td>\n",
              "      <td>16.0</td>\n",
              "      <td>6.0</td>\n",
              "      <td>0.0</td>\n",
              "      <td>0.0</td>\n",
              "      <td>4.0</td>\n",
              "      <td>15.0</td>\n",
              "      <td>16.0</td>\n",
              "      <td>13.0</td>\n",
              "      <td>16.0</td>\n",
              "      <td>1.0</td>\n",
              "      <td>0.0</td>\n",
              "      <td>0.0</td>\n",
              "      <td>0.0</td>\n",
              "      <td>0.0</td>\n",
              "      <td>3.0</td>\n",
              "      <td>15.0</td>\n",
              "      <td>10.0</td>\n",
              "      <td>0.0</td>\n",
              "      <td>0.0</td>\n",
              "      <td>0.0</td>\n",
              "      <td>0.0</td>\n",
              "      <td>0.0</td>\n",
              "      <td>2.0</td>\n",
              "      <td>16.0</td>\n",
              "      <td>4.0</td>\n",
              "      <td>0.0</td>\n",
              "      <td>0.0</td>\n",
              "      <td>4</td>\n",
              "    </tr>\n",
              "  </tbody>\n",
              "</table>\n",
              "</div>"
            ],
            "text/plain": [
              "     0    1    2     3     4     5  ...    59    60    61   62   63  classe\n",
              "0  0.0  0.0  5.0  13.0   9.0   1.0  ...  13.0  10.0   0.0  0.0  0.0       0\n",
              "1  0.0  0.0  0.0  12.0  13.0   5.0  ...  11.0  16.0  10.0  0.0  0.0       1\n",
              "2  0.0  0.0  0.0   4.0  15.0  12.0  ...   3.0  11.0  16.0  9.0  0.0       2\n",
              "3  0.0  0.0  7.0  15.0  13.0   1.0  ...  13.0  13.0   9.0  0.0  0.0       3\n",
              "4  0.0  0.0  0.0   1.0  11.0   0.0  ...   2.0  16.0   4.0  0.0  0.0       4\n",
              "\n",
              "[5 rows x 65 columns]"
            ]
          },
          "metadata": {
            "tags": []
          },
          "execution_count": 12
        }
      ]
    },
    {
      "cell_type": "markdown",
      "metadata": {
        "id": "shA2hDA9MVAk"
      },
      "source": [
        "Dividindo os dados em treino e teste"
      ]
    },
    {
      "cell_type": "code",
      "metadata": {
        "id": "zl4-E9i6LNJW"
      },
      "source": [
        "from sklearn.model_selection import train_test_split\r\n",
        "X_train, X_test, y_train, y_test = train_test_split(dataset.drop(columns='classe'), dataset['classe'], test_size=0.3)"
      ],
      "execution_count": 13,
      "outputs": []
    },
    {
      "cell_type": "markdown",
      "metadata": {
        "id": "ickG5gF8M-D6"
      },
      "source": [
        "Verificando a forma dos dados"
      ]
    },
    {
      "cell_type": "code",
      "metadata": {
        "colab": {
          "base_uri": "https://localhost:8080/"
        },
        "id": "F873RW_9M5gQ",
        "outputId": "4bfbefda-b0c9-4276-d690-e02d15cc813e"
      },
      "source": [
        "X_train.shape, X_test.shape"
      ],
      "execution_count": 14,
      "outputs": [
        {
          "output_type": "execute_result",
          "data": {
            "text/plain": [
              "((1257, 64), (540, 64))"
            ]
          },
          "metadata": {
            "tags": []
          },
          "execution_count": 14
        }
      ]
    },
    {
      "cell_type": "code",
      "metadata": {
        "colab": {
          "base_uri": "https://localhost:8080/"
        },
        "id": "3n3F1wfcNGC2",
        "outputId": "ff941117-b270-4eb8-beee-6b560cc996f2"
      },
      "source": [
        "y_train.shape, y_test.shape"
      ],
      "execution_count": 15,
      "outputs": [
        {
          "output_type": "execute_result",
          "data": {
            "text/plain": [
              "((1257,), (540,))"
            ]
          },
          "metadata": {
            "tags": []
          },
          "execution_count": 15
        }
      ]
    },
    {
      "cell_type": "markdown",
      "metadata": {
        "id": "lcfDKHIfNMnH"
      },
      "source": [
        "Instanciando o algoritmo KNN"
      ]
    },
    {
      "cell_type": "code",
      "metadata": {
        "id": "NQ9QVZF9NKsk"
      },
      "source": [
        "from sklearn.neighbors import KNeighborsClassifier\r\n",
        "knn = KNeighborsClassifier(n_neighbors=3)"
      ],
      "execution_count": 16,
      "outputs": []
    },
    {
      "cell_type": "markdown",
      "metadata": {
        "id": "H1QQKWeLNpMg"
      },
      "source": [
        "Treinando o algoritmo"
      ]
    },
    {
      "cell_type": "code",
      "metadata": {
        "colab": {
          "base_uri": "https://localhost:8080/"
        },
        "id": "oJzLRFFxNUIq",
        "outputId": "cf74cb18-451f-4dc9-c07f-ace9f0adcc35"
      },
      "source": [
        "knn.fit(X_train, y_train)"
      ],
      "execution_count": 17,
      "outputs": [
        {
          "output_type": "execute_result",
          "data": {
            "text/plain": [
              "KNeighborsClassifier(algorithm='auto', leaf_size=30, metric='minkowski',\n",
              "                     metric_params=None, n_jobs=None, n_neighbors=3, p=2,\n",
              "                     weights='uniform')"
            ]
          },
          "metadata": {
            "tags": []
          },
          "execution_count": 17
        }
      ]
    },
    {
      "cell_type": "markdown",
      "metadata": {
        "id": "7_duCGqaNv5w"
      },
      "source": [
        "Executando o KNN com o conjunto de teste"
      ]
    },
    {
      "cell_type": "code",
      "metadata": {
        "id": "jBvT23trNtjz"
      },
      "source": [
        "resultado = knn.predict(X_test)"
      ],
      "execution_count": 18,
      "outputs": []
    },
    {
      "cell_type": "markdown",
      "metadata": {
        "id": "sOh4vhUzN-eo"
      },
      "source": [
        "###Técnicas de Validação"
      ]
    },
    {
      "cell_type": "markdown",
      "metadata": {
        "id": "DFOz0ClZOBzp"
      },
      "source": [
        "Métricas de Classificação"
      ]
    },
    {
      "cell_type": "code",
      "metadata": {
        "colab": {
          "base_uri": "https://localhost:8080/"
        },
        "id": "UX3S3ADdN4KN",
        "outputId": "7c642bfa-5f3a-4da8-af30-38a95add11ed"
      },
      "source": [
        "from sklearn import metrics\r\n",
        "print(metrics.classification_report(y_test, resultado))"
      ],
      "execution_count": 19,
      "outputs": [
        {
          "output_type": "stream",
          "text": [
            "              precision    recall  f1-score   support\n",
            "\n",
            "           0       1.00      1.00      1.00        60\n",
            "           1       1.00      1.00      1.00        65\n",
            "           2       1.00      1.00      1.00        46\n",
            "           3       0.96      0.96      0.96        54\n",
            "           4       1.00      0.98      0.99        61\n",
            "           5       1.00      0.98      0.99        51\n",
            "           6       1.00      1.00      1.00        55\n",
            "           7       0.98      1.00      0.99        57\n",
            "           8       1.00      0.96      0.98        49\n",
            "           9       0.93      1.00      0.97        42\n",
            "\n",
            "    accuracy                           0.99       540\n",
            "   macro avg       0.99      0.99      0.99       540\n",
            "weighted avg       0.99      0.99      0.99       540\n",
            "\n"
          ],
          "name": "stdout"
        }
      ]
    },
    {
      "cell_type": "markdown",
      "metadata": {
        "id": "4wnl6JBwO3EN"
      },
      "source": [
        "Matriz de Confusão"
      ]
    },
    {
      "cell_type": "code",
      "metadata": {
        "colab": {
          "base_uri": "https://localhost:8080/"
        },
        "id": "J4Z5M3e0OMJX",
        "outputId": "021d6e94-a787-491c-f62c-0e4f27e7bb2e"
      },
      "source": [
        "print(pd.crosstab(y_test, resultado, rownames=['Real'], colnames=['Predito'], margins=True))"
      ],
      "execution_count": 20,
      "outputs": [
        {
          "output_type": "stream",
          "text": [
            "Predito   0   1   2   3   4   5   6   7   8   9  All\n",
            "Real                                                \n",
            "0        60   0   0   0   0   0   0   0   0   0   60\n",
            "1         0  65   0   0   0   0   0   0   0   0   65\n",
            "2         0   0  46   0   0   0   0   0   0   0   46\n",
            "3         0   0   0  52   0   0   0   1   0   1   54\n",
            "4         0   0   0   0  60   0   0   0   0   1   61\n",
            "5         0   0   0   0   0  50   0   0   0   1   51\n",
            "6         0   0   0   0   0   0  55   0   0   0   55\n",
            "7         0   0   0   0   0   0   0  57   0   0   57\n",
            "8         0   0   0   2   0   0   0   0  47   0   49\n",
            "9         0   0   0   0   0   0   0   0   0  42   42\n",
            "All      60  65  46  54  60  50  55  58  47  45  540\n"
          ],
          "name": "stdout"
        }
      ]
    },
    {
      "cell_type": "markdown",
      "metadata": {
        "id": "q_RRMJNOQbeW"
      },
      "source": [
        "Cross Validation"
      ]
    },
    {
      "cell_type": "code",
      "metadata": {
        "colab": {
          "base_uri": "https://localhost:8080/"
        },
        "id": "sixqe4bIPMfl",
        "outputId": "7898d55a-7d1a-4d18-d06d-1a7431e66298"
      },
      "source": [
        "from sklearn.model_selection import cross_val_score\r\n",
        "scores = cross_val_score(knn, dataset.drop(columns='classe'), dataset['classe'], cv=5)\r\n",
        "scores"
      ],
      "execution_count": 21,
      "outputs": [
        {
          "output_type": "execute_result",
          "data": {
            "text/plain": [
              "array([0.95555556, 0.95833333, 0.96657382, 0.98328691, 0.96657382])"
            ]
          },
          "metadata": {
            "tags": []
          },
          "execution_count": 21
        }
      ]
    },
    {
      "cell_type": "markdown",
      "metadata": {
        "id": "PenBe2NjcgDH"
      },
      "source": [
        "###Otimizando o parâmetro K"
      ]
    },
    {
      "cell_type": "markdown",
      "metadata": {
        "id": "HoHygJKjcq-x"
      },
      "source": [
        "Importando o GridSearch"
      ]
    },
    {
      "cell_type": "code",
      "metadata": {
        "id": "G20K7mrbRSE7"
      },
      "source": [
        "from sklearn.model_selection import GridSearchCV"
      ],
      "execution_count": 22,
      "outputs": []
    },
    {
      "cell_type": "markdown",
      "metadata": {
        "id": "qKnq-1EVc41r"
      },
      "source": [
        "Definindo a lista de valores para o parâmetro"
      ]
    },
    {
      "cell_type": "code",
      "metadata": {
        "id": "FEVWJzHWc0w9"
      },
      "source": [
        "k_list = list(range(1,31))"
      ],
      "execution_count": 25,
      "outputs": []
    },
    {
      "cell_type": "code",
      "metadata": {
        "colab": {
          "base_uri": "https://localhost:8080/"
        },
        "id": "gw8aGDtLdAci",
        "outputId": "9769a5e4-7d18-4c53-a39d-64120b382bf2"
      },
      "source": [
        "k_values = dict(n_neighbors=k_list)\r\n",
        "k_values"
      ],
      "execution_count": 26,
      "outputs": [
        {
          "output_type": "execute_result",
          "data": {
            "text/plain": [
              "{'n_neighbors': [1,\n",
              "  2,\n",
              "  3,\n",
              "  4,\n",
              "  5,\n",
              "  6,\n",
              "  7,\n",
              "  8,\n",
              "  9,\n",
              "  10,\n",
              "  11,\n",
              "  12,\n",
              "  13,\n",
              "  14,\n",
              "  15,\n",
              "  16,\n",
              "  17,\n",
              "  18,\n",
              "  19,\n",
              "  20,\n",
              "  21,\n",
              "  22,\n",
              "  23,\n",
              "  24,\n",
              "  25,\n",
              "  26,\n",
              "  27,\n",
              "  28,\n",
              "  29,\n",
              "  30]}"
            ]
          },
          "metadata": {
            "tags": []
          },
          "execution_count": 26
        }
      ]
    },
    {
      "cell_type": "markdown",
      "metadata": {
        "id": "rxt0BN97dOoy"
      },
      "source": [
        "Instanciando o objeto GridSearch"
      ]
    },
    {
      "cell_type": "code",
      "metadata": {
        "id": "QRyyt1H1dHFt"
      },
      "source": [
        "grid = GridSearchCV(knn, k_values, cv=5, scoring='accuracy')"
      ],
      "execution_count": 27,
      "outputs": []
    },
    {
      "cell_type": "markdown",
      "metadata": {
        "id": "8uQnyMGsdy_h"
      },
      "source": [
        "Treinando o objeto"
      ]
    },
    {
      "cell_type": "code",
      "metadata": {
        "colab": {
          "base_uri": "https://localhost:8080/"
        },
        "id": "4bGUbv8HdyMO",
        "outputId": "bd10df28-dacc-40f6-e607-a4320b75a433"
      },
      "source": [
        "grid.fit(dataset.drop(columns='classe'), dataset['classe'])"
      ],
      "execution_count": 28,
      "outputs": [
        {
          "output_type": "execute_result",
          "data": {
            "text/plain": [
              "GridSearchCV(cv=5, error_score=nan,\n",
              "             estimator=KNeighborsClassifier(algorithm='auto', leaf_size=30,\n",
              "                                            metric='minkowski',\n",
              "                                            metric_params=None, n_jobs=None,\n",
              "                                            n_neighbors=3, p=2,\n",
              "                                            weights='uniform'),\n",
              "             iid='deprecated', n_jobs=None,\n",
              "             param_grid={'n_neighbors': [1, 2, 3, 4, 5, 6, 7, 8, 9, 10, 11, 12,\n",
              "                                         13, 14, 15, 16, 17, 18, 19, 20, 21, 22,\n",
              "                                         23, 24, 25, 26, 27, 28, 29, 30]},\n",
              "             pre_dispatch='2*n_jobs', refit=True, return_train_score=False,\n",
              "             scoring='accuracy', verbose=0)"
            ]
          },
          "metadata": {
            "tags": []
          },
          "execution_count": 28
        }
      ]
    },
    {
      "cell_type": "markdown",
      "metadata": {
        "id": "FyliJ9LeeNwz"
      },
      "source": [
        "Visualizando os valores de scores"
      ]
    },
    {
      "cell_type": "code",
      "metadata": {
        "colab": {
          "base_uri": "https://localhost:8080/"
        },
        "id": "7M_E33O-eDib",
        "outputId": "229466f9-fcf7-45fa-c03a-c995e0356b6a"
      },
      "source": [
        "grid.cv_results_"
      ],
      "execution_count": 30,
      "outputs": [
        {
          "output_type": "execute_result",
          "data": {
            "text/plain": [
              "{'mean_fit_time': array([0.00998435, 0.01000562, 0.00995893, 0.0099052 , 0.01001196,\n",
              "        0.01001105, 0.00980878, 0.01014247, 0.00990009, 0.01016479,\n",
              "        0.01002908, 0.00999131, 0.01002479, 0.01034265, 0.00989108,\n",
              "        0.01061525, 0.00989113, 0.00993352, 0.01027045, 0.00979681,\n",
              "        0.01014504, 0.01021419, 0.00979772, 0.01008468, 0.01037602,\n",
              "        0.01018295, 0.00990281, 0.00984311, 0.00987864, 0.01011229]),\n",
              " 'mean_score_time': array([0.06854329, 0.07265258, 0.07201891, 0.07331676, 0.07310624,\n",
              "        0.07282329, 0.07502513, 0.07384725, 0.07489343, 0.07443352,\n",
              "        0.07505641, 0.07666249, 0.07861338, 0.0788619 , 0.07546792,\n",
              "        0.07680979, 0.07577901, 0.07699327, 0.08080449, 0.07688184,\n",
              "        0.07715483, 0.07596946, 0.07829685, 0.07735181, 0.07830472,\n",
              "        0.07735596, 0.07686448, 0.07824593, 0.07753177, 0.07851272]),\n",
              " 'mean_test_score': array([0.96439338, 0.96717115, 0.96606469, 0.96384092, 0.96272826,\n",
              "        0.95938564, 0.95994584, 0.95827608, 0.95661096, 0.95494274,\n",
              "        0.9554983 , 0.95605231, 0.95549675, 0.95605076, 0.95438254,\n",
              "        0.95438409, 0.95326679, 0.94937481, 0.95048437, 0.94992881,\n",
              "        0.94881925, 0.94937635, 0.9482637 , 0.94882389, 0.94603838,\n",
              "        0.94548282, 0.94380997, 0.94324977, 0.94102755, 0.94102445]),\n",
              " 'param_n_neighbors': masked_array(data=[1, 2, 3, 4, 5, 6, 7, 8, 9, 10, 11, 12, 13, 14, 15, 16,\n",
              "                    17, 18, 19, 20, 21, 22, 23, 24, 25, 26, 27, 28, 29, 30],\n",
              "              mask=[False, False, False, False, False, False, False, False,\n",
              "                    False, False, False, False, False, False, False, False,\n",
              "                    False, False, False, False, False, False, False, False,\n",
              "                    False, False, False, False, False, False],\n",
              "        fill_value='?',\n",
              "             dtype=object),\n",
              " 'params': [{'n_neighbors': 1},\n",
              "  {'n_neighbors': 2},\n",
              "  {'n_neighbors': 3},\n",
              "  {'n_neighbors': 4},\n",
              "  {'n_neighbors': 5},\n",
              "  {'n_neighbors': 6},\n",
              "  {'n_neighbors': 7},\n",
              "  {'n_neighbors': 8},\n",
              "  {'n_neighbors': 9},\n",
              "  {'n_neighbors': 10},\n",
              "  {'n_neighbors': 11},\n",
              "  {'n_neighbors': 12},\n",
              "  {'n_neighbors': 13},\n",
              "  {'n_neighbors': 14},\n",
              "  {'n_neighbors': 15},\n",
              "  {'n_neighbors': 16},\n",
              "  {'n_neighbors': 17},\n",
              "  {'n_neighbors': 18},\n",
              "  {'n_neighbors': 19},\n",
              "  {'n_neighbors': 20},\n",
              "  {'n_neighbors': 21},\n",
              "  {'n_neighbors': 22},\n",
              "  {'n_neighbors': 23},\n",
              "  {'n_neighbors': 24},\n",
              "  {'n_neighbors': 25},\n",
              "  {'n_neighbors': 26},\n",
              "  {'n_neighbors': 27},\n",
              "  {'n_neighbors': 28},\n",
              "  {'n_neighbors': 29},\n",
              "  {'n_neighbors': 30}],\n",
              " 'rank_test_score': array([ 3,  1,  2,  4,  5,  7,  6,  8,  9, 14, 12, 10, 13, 11, 16, 15, 17,\n",
              "        21, 18, 19, 23, 20, 24, 22, 25, 26, 27, 28, 29, 30], dtype=int32),\n",
              " 'split0_test_score': array([0.96111111, 0.96111111, 0.95555556, 0.94722222, 0.94722222,\n",
              "        0.94444444, 0.93611111, 0.93611111, 0.93055556, 0.93055556,\n",
              "        0.93611111, 0.93333333, 0.93333333, 0.93611111, 0.93333333,\n",
              "        0.93055556, 0.93611111, 0.92777778, 0.93055556, 0.925     ,\n",
              "        0.925     , 0.91944444, 0.925     , 0.91944444, 0.92222222,\n",
              "        0.92222222, 0.92777778, 0.93055556, 0.92777778, 0.925     ]),\n",
              " 'split1_test_score': array([0.95277778, 0.96666667, 0.95833333, 0.95833333, 0.95555556,\n",
              "        0.95833333, 0.96111111, 0.95833333, 0.95277778, 0.94722222,\n",
              "        0.94444444, 0.95277778, 0.95      , 0.95277778, 0.95      ,\n",
              "        0.95      , 0.95      , 0.94444444, 0.95      , 0.95277778,\n",
              "        0.94444444, 0.95      , 0.94166667, 0.94166667, 0.93888889,\n",
              "        0.93611111, 0.93333333, 0.93611111, 0.92777778, 0.93611111]),\n",
              " 'split2_test_score': array([0.96657382, 0.96935933, 0.96657382, 0.96657382, 0.96657382,\n",
              "        0.96657382, 0.96935933, 0.96935933, 0.97214485, 0.96935933,\n",
              "        0.96935933, 0.96935933, 0.97214485, 0.96935933, 0.96935933,\n",
              "        0.96935933, 0.9637883 , 0.9637883 , 0.9637883 , 0.96657382,\n",
              "        0.9637883 , 0.96657382, 0.9637883 , 0.96657382, 0.95821727,\n",
              "        0.95821727, 0.94986072, 0.94428969, 0.94150418, 0.93871866]),\n",
              " 'split3_test_score': array([0.98607242, 0.97771588, 0.98328691, 0.98050139, 0.98050139,\n",
              "        0.97493036, 0.98050139, 0.97771588, 0.97771588, 0.97771588,\n",
              "        0.97771588, 0.97493036, 0.97493036, 0.97214485, 0.97214485,\n",
              "        0.96935933, 0.96657382, 0.9637883 , 0.9637883 , 0.96100279,\n",
              "        0.96657382, 0.9637883 , 0.96657382, 0.96935933, 0.96657382,\n",
              "        0.9637883 , 0.9637883 , 0.96100279, 0.96100279, 0.96100279]),\n",
              " 'split4_test_score': array([0.95543175, 0.96100279, 0.96657382, 0.96657382, 0.9637883 ,\n",
              "        0.95264624, 0.95264624, 0.94986072, 0.94986072, 0.94986072,\n",
              "        0.94986072, 0.94986072, 0.94707521, 0.94986072, 0.94707521,\n",
              "        0.95264624, 0.94986072, 0.94707521, 0.94428969, 0.94428969,\n",
              "        0.94428969, 0.94707521, 0.94428969, 0.94707521, 0.94428969,\n",
              "        0.94707521, 0.94428969, 0.94428969, 0.94707521, 0.94428969]),\n",
              " 'std_fit_time': array([5.60534312e-04, 2.04671629e-04, 2.44376201e-04, 1.78009934e-04,\n",
              "        3.28472294e-04, 2.18938710e-04, 3.89436150e-05, 2.53294022e-04,\n",
              "        1.25493086e-04, 4.14493601e-04, 3.33667973e-04, 2.37561957e-04,\n",
              "        4.11769718e-04, 4.76489307e-04, 1.29769233e-04, 1.32977197e-03,\n",
              "        1.53926078e-04, 1.88293956e-04, 6.23135473e-04, 1.17314869e-04,\n",
              "        4.59827020e-04, 5.31798027e-04, 8.09065781e-05, 3.78405525e-04,\n",
              "        3.59799859e-04, 3.22208737e-04, 1.14465810e-04, 1.23536444e-04,\n",
              "        1.53725600e-04, 3.28443655e-04]),\n",
              " 'std_score_time': array([0.00110944, 0.00119161, 0.00127442, 0.00178623, 0.00054249,\n",
              "        0.00060456, 0.00252324, 0.00068392, 0.00144967, 0.00074761,\n",
              "        0.00088787, 0.0013783 , 0.00406066, 0.004356  , 0.00083958,\n",
              "        0.00161325, 0.000724  , 0.0010954 , 0.00594205, 0.0004581 ,\n",
              "        0.00153988, 0.00043536, 0.00313158, 0.00050267, 0.00146447,\n",
              "        0.00122862, 0.00024337, 0.00137429, 0.00077022, 0.00156091]),\n",
              " 'std_test_score': array([0.01183842, 0.00618072, 0.00966787, 0.01094553, 0.01116854,\n",
              "        0.01061202, 0.01505909, 0.01457979, 0.01688705, 0.01677273,\n",
              "        0.01559219, 0.01482341, 0.01579353, 0.01328726, 0.01452912,\n",
              "        0.01441218, 0.01099427, 0.01350204, 0.01256786, 0.01456744,\n",
              "        0.0151414 , 0.01676341, 0.01534136, 0.01818901, 0.0154364 ,\n",
              "        0.01502449, 0.01267096, 0.01029015, 0.01254531, 0.01179861])}"
            ]
          },
          "metadata": {
            "tags": []
          },
          "execution_count": 30
        }
      ]
    },
    {
      "cell_type": "code",
      "metadata": {
        "colab": {
          "base_uri": "https://localhost:8080/"
        },
        "id": "n_1FY6JFeb7m",
        "outputId": "5deb3046-2428-4e7f-849c-e4a7afd5375c"
      },
      "source": [
        "print(f'Melhor valor de k = {grid.best_params_} com o valor {grid.best_score_} de acurácia')"
      ],
      "execution_count": 32,
      "outputs": [
        {
          "output_type": "stream",
          "text": [
            "Melhor valor de k = {'n_neighbors': 2} com o valor 0.9671711544413494 de acurácia\n"
          ],
          "name": "stdout"
        }
      ]
    },
    {
      "cell_type": "markdown",
      "metadata": {
        "id": "K2-p67CGfvrF"
      },
      "source": [
        "Visualização dos valores de K e acurácia"
      ]
    },
    {
      "cell_type": "code",
      "metadata": {
        "id": "2JT9TR3IfgbQ"
      },
      "source": [
        "scores = []\r\n",
        "for score in grid.cv_results_['mean_test_score']:\r\n",
        "  scores.append(score)"
      ],
      "execution_count": 39,
      "outputs": []
    },
    {
      "cell_type": "code",
      "metadata": {
        "colab": {
          "base_uri": "https://localhost:8080/",
          "height": 388
        },
        "id": "9QzL_akqv_ul",
        "outputId": "31744938-e3a0-4ef0-eba7-94abfe5ea959"
      },
      "source": [
        "plt.figure(figsize=(10,6))\r\n",
        "plt.plot(k_list,scores, color='red', linestyle='dashed', marker='o')\r\n",
        "plt.xlabel('k')\r\n",
        "plt.ylabel('accuracy')\r\n",
        "plt.show()"
      ],
      "execution_count": 42,
      "outputs": [
        {
          "output_type": "display_data",
          "data": {
            "image/png": "[encoded data removed]",
            "text/plain": [
              "<Figure size 720x432 with 1 Axes>"
            ]
          },
          "metadata": {
            "tags": [],
            "needs_background": "light"
          }
        }
      ]
    }
  ]
}