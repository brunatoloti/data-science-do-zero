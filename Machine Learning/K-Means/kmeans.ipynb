{
  "nbformat": 4,
  "nbformat_minor": 0,
  "metadata": {
    "colab": {
      "name": "kmeans.ipynb",
      "provenance": [],
      "collapsed_sections": [],
      "authorship_tag": "ABX9TyN2oLKq9ws6KOMTVytxekNY",
      "include_colab_link": true
    },
    "kernelspec": {
      "name": "python3",
      "display_name": "Python 3"
    }
  },
  "cells": [
    {
      "cell_type": "markdown",
      "metadata": {
        "id": "view-in-github",
        "colab_type": "text"
      },
      "source": [
        "<a href=\"https://colab.research.google.com/github/brunatoloti/data-science-do-zero/blob/main/Machine%20Learning/K-Means/kmeans.ipynb\" target=\"_parent\"><img src=\"https://colab.research.google.com/assets/colab-badge.svg\" alt=\"Open In Colab\"/></a>"
      ]
    },
    {
      "cell_type": "markdown",
      "metadata": {
        "id": "A792wf1_CIHK"
      },
      "source": [
        "#Machine Learning - KMeans"
      ]
    },
    {
      "cell_type": "markdown",
      "metadata": {
        "id": "jGH2_2a8CEI4"
      },
      "source": [
        "Importando bibliotecas"
      ]
    },
    {
      "cell_type": "code",
      "metadata": {
        "id": "cjx74JvXB8Wk"
      },
      "source": [
        "import pandas as pd\n",
        "import matplotlib.pyplot as plt\n",
        "import seaborn as sns\n",
        "from sklearn.cluster import KMeans"
      ],
      "execution_count": 205,
      "outputs": []
    },
    {
      "cell_type": "markdown",
      "metadata": {
        "id": "kHQFVI4yCbH3"
      },
      "source": [
        "Carregando a base de dados **iris**"
      ]
    },
    {
      "cell_type": "code",
      "metadata": {
        "id": "mhxvYbjxD4Be"
      },
      "source": [
        "iris = sns.load_dataset('iris')"
      ],
      "execution_count": 206,
      "outputs": []
    },
    {
      "cell_type": "code",
      "metadata": {
        "colab": {
          "base_uri": "https://localhost:8080/",
          "height": 204
        },
        "id": "a6NEby3aChYS",
        "outputId": "d4b19393-85c3-4943-8b0c-fcc714774a55"
      },
      "source": [
        "iris.head()"
      ],
      "execution_count": 207,
      "outputs": [
        {
          "output_type": "execute_result",
          "data": {
            "text/html": [
              "<div>\n",
              "<style scoped>\n",
              "    .dataframe tbody tr th:only-of-type {\n",
              "        vertical-align: middle;\n",
              "    }\n",
              "\n",
              "    .dataframe tbody tr th {\n",
              "        vertical-align: top;\n",
              "    }\n",
              "\n",
              "    .dataframe thead th {\n",
              "        text-align: right;\n",
              "    }\n",
              "</style>\n",
              "<table border=\"1\" class=\"dataframe\">\n",
              "  <thead>\n",
              "    <tr style=\"text-align: right;\">\n",
              "      <th></th>\n",
              "      <th>sepal_length</th>\n",
              "      <th>sepal_width</th>\n",
              "      <th>petal_length</th>\n",
              "      <th>petal_width</th>\n",
              "      <th>species</th>\n",
              "    </tr>\n",
              "  </thead>\n",
              "  <tbody>\n",
              "    <tr>\n",
              "      <th>0</th>\n",
              "      <td>5.1</td>\n",
              "      <td>3.5</td>\n",
              "      <td>1.4</td>\n",
              "      <td>0.2</td>\n",
              "      <td>setosa</td>\n",
              "    </tr>\n",
              "    <tr>\n",
              "      <th>1</th>\n",
              "      <td>4.9</td>\n",
              "      <td>3.0</td>\n",
              "      <td>1.4</td>\n",
              "      <td>0.2</td>\n",
              "      <td>setosa</td>\n",
              "    </tr>\n",
              "    <tr>\n",
              "      <th>2</th>\n",
              "      <td>4.7</td>\n",
              "      <td>3.2</td>\n",
              "      <td>1.3</td>\n",
              "      <td>0.2</td>\n",
              "      <td>setosa</td>\n",
              "    </tr>\n",
              "    <tr>\n",
              "      <th>3</th>\n",
              "      <td>4.6</td>\n",
              "      <td>3.1</td>\n",
              "      <td>1.5</td>\n",
              "      <td>0.2</td>\n",
              "      <td>setosa</td>\n",
              "    </tr>\n",
              "    <tr>\n",
              "      <th>4</th>\n",
              "      <td>5.0</td>\n",
              "      <td>3.6</td>\n",
              "      <td>1.4</td>\n",
              "      <td>0.2</td>\n",
              "      <td>setosa</td>\n",
              "    </tr>\n",
              "  </tbody>\n",
              "</table>\n",
              "</div>"
            ],
            "text/plain": [
              "   sepal_length  sepal_width  petal_length  petal_width species\n",
              "0           5.1          3.5           1.4          0.2  setosa\n",
              "1           4.9          3.0           1.4          0.2  setosa\n",
              "2           4.7          3.2           1.3          0.2  setosa\n",
              "3           4.6          3.1           1.5          0.2  setosa\n",
              "4           5.0          3.6           1.4          0.2  setosa"
            ]
          },
          "metadata": {
            "tags": []
          },
          "execution_count": 207
        }
      ]
    },
    {
      "cell_type": "markdown",
      "metadata": {
        "id": "6XyNV3haE6uI"
      },
      "source": [
        "Separando os valores de dados e os valores de classes"
      ]
    },
    {
      "cell_type": "code",
      "metadata": {
        "colab": {
          "base_uri": "https://localhost:8080/",
          "height": 359
        },
        "id": "XVigYBzaDrTP",
        "outputId": "39503f9f-0b90-438c-9b46-2098f21803f1"
      },
      "source": [
        "X = iris.drop(columns='species')\n",
        "X.head(10)"
      ],
      "execution_count": 208,
      "outputs": [
        {
          "output_type": "execute_result",
          "data": {
            "text/html": [
              "<div>\n",
              "<style scoped>\n",
              "    .dataframe tbody tr th:only-of-type {\n",
              "        vertical-align: middle;\n",
              "    }\n",
              "\n",
              "    .dataframe tbody tr th {\n",
              "        vertical-align: top;\n",
              "    }\n",
              "\n",
              "    .dataframe thead th {\n",
              "        text-align: right;\n",
              "    }\n",
              "</style>\n",
              "<table border=\"1\" class=\"dataframe\">\n",
              "  <thead>\n",
              "    <tr style=\"text-align: right;\">\n",
              "      <th></th>\n",
              "      <th>sepal_length</th>\n",
              "      <th>sepal_width</th>\n",
              "      <th>petal_length</th>\n",
              "      <th>petal_width</th>\n",
              "    </tr>\n",
              "  </thead>\n",
              "  <tbody>\n",
              "    <tr>\n",
              "      <th>0</th>\n",
              "      <td>5.1</td>\n",
              "      <td>3.5</td>\n",
              "      <td>1.4</td>\n",
              "      <td>0.2</td>\n",
              "    </tr>\n",
              "    <tr>\n",
              "      <th>1</th>\n",
              "      <td>4.9</td>\n",
              "      <td>3.0</td>\n",
              "      <td>1.4</td>\n",
              "      <td>0.2</td>\n",
              "    </tr>\n",
              "    <tr>\n",
              "      <th>2</th>\n",
              "      <td>4.7</td>\n",
              "      <td>3.2</td>\n",
              "      <td>1.3</td>\n",
              "      <td>0.2</td>\n",
              "    </tr>\n",
              "    <tr>\n",
              "      <th>3</th>\n",
              "      <td>4.6</td>\n",
              "      <td>3.1</td>\n",
              "      <td>1.5</td>\n",
              "      <td>0.2</td>\n",
              "    </tr>\n",
              "    <tr>\n",
              "      <th>4</th>\n",
              "      <td>5.0</td>\n",
              "      <td>3.6</td>\n",
              "      <td>1.4</td>\n",
              "      <td>0.2</td>\n",
              "    </tr>\n",
              "    <tr>\n",
              "      <th>5</th>\n",
              "      <td>5.4</td>\n",
              "      <td>3.9</td>\n",
              "      <td>1.7</td>\n",
              "      <td>0.4</td>\n",
              "    </tr>\n",
              "    <tr>\n",
              "      <th>6</th>\n",
              "      <td>4.6</td>\n",
              "      <td>3.4</td>\n",
              "      <td>1.4</td>\n",
              "      <td>0.3</td>\n",
              "    </tr>\n",
              "    <tr>\n",
              "      <th>7</th>\n",
              "      <td>5.0</td>\n",
              "      <td>3.4</td>\n",
              "      <td>1.5</td>\n",
              "      <td>0.2</td>\n",
              "    </tr>\n",
              "    <tr>\n",
              "      <th>8</th>\n",
              "      <td>4.4</td>\n",
              "      <td>2.9</td>\n",
              "      <td>1.4</td>\n",
              "      <td>0.2</td>\n",
              "    </tr>\n",
              "    <tr>\n",
              "      <th>9</th>\n",
              "      <td>4.9</td>\n",
              "      <td>3.1</td>\n",
              "      <td>1.5</td>\n",
              "      <td>0.1</td>\n",
              "    </tr>\n",
              "  </tbody>\n",
              "</table>\n",
              "</div>"
            ],
            "text/plain": [
              "   sepal_length  sepal_width  petal_length  petal_width\n",
              "0           5.1          3.5           1.4          0.2\n",
              "1           4.9          3.0           1.4          0.2\n",
              "2           4.7          3.2           1.3          0.2\n",
              "3           4.6          3.1           1.5          0.2\n",
              "4           5.0          3.6           1.4          0.2\n",
              "5           5.4          3.9           1.7          0.4\n",
              "6           4.6          3.4           1.4          0.3\n",
              "7           5.0          3.4           1.5          0.2\n",
              "8           4.4          2.9           1.4          0.2\n",
              "9           4.9          3.1           1.5          0.1"
            ]
          },
          "metadata": {
            "tags": []
          },
          "execution_count": 208
        }
      ]
    },
    {
      "cell_type": "code",
      "metadata": {
        "colab": {
          "base_uri": "https://localhost:8080/"
        },
        "id": "llXaGQhkFFv0",
        "outputId": "cecddbb5-c53a-4147-d1d2-7bdc89830ba7"
      },
      "source": [
        "y = iris.species\n",
        "y.unique()"
      ],
      "execution_count": 209,
      "outputs": [
        {
          "output_type": "execute_result",
          "data": {
            "text/plain": [
              "array(['setosa', 'versicolor', 'virginica'], dtype=object)"
            ]
          },
          "metadata": {
            "tags": []
          },
          "execution_count": 209
        }
      ]
    },
    {
      "cell_type": "markdown",
      "metadata": {
        "id": "Tfw8wnlDFXf9"
      },
      "source": [
        "Convertendo valores categóricos (as classes) em numéricos"
      ]
    },
    {
      "cell_type": "code",
      "metadata": {
        "id": "KeuqNVUZFQRZ"
      },
      "source": [
        "def converte_classe(l):\n",
        "  if l == 'virginica':\n",
        "    return 0\n",
        "  elif l == 'setosa':\n",
        "    return 1\n",
        "  elif l == 'versicolor':\n",
        "    return 2"
      ],
      "execution_count": 210,
      "outputs": []
    },
    {
      "cell_type": "code",
      "metadata": {
        "colab": {
          "base_uri": "https://localhost:8080/"
        },
        "id": "sFaFB27VFzEF",
        "outputId": "ecfe7316-ffd4-410f-9d99-6b16a0f5073f"
      },
      "source": [
        "y = y.apply(converte_classe)\n",
        "y.value_counts()"
      ],
      "execution_count": 211,
      "outputs": [
        {
          "output_type": "execute_result",
          "data": {
            "text/plain": [
              "2    50\n",
              "1    50\n",
              "0    50\n",
              "Name: species, dtype: int64"
            ]
          },
          "metadata": {
            "tags": []
          },
          "execution_count": 211
        }
      ]
    },
    {
      "cell_type": "markdown",
      "metadata": {
        "id": "UlWuBdQRGENs"
      },
      "source": [
        "Instanciando o algoritmo KMeans com 3 clusters"
      ]
    },
    {
      "cell_type": "code",
      "metadata": {
        "id": "tYVQ2IKiF3ii"
      },
      "source": [
        "kmeans = KMeans(n_clusters = 3, init = 'random')    #Colocando para que os dados sejam agrupados em 3 clusters"
      ],
      "execution_count": 212,
      "outputs": []
    },
    {
      "cell_type": "code",
      "metadata": {
        "colab": {
          "base_uri": "https://localhost:8080/"
        },
        "id": "aXZ_HmvYGZHD",
        "outputId": "bfe80842-cbd4-4976-ff87-46e0171670d2"
      },
      "source": [
        "kmeans.fit(X)"
      ],
      "execution_count": 213,
      "outputs": [
        {
          "output_type": "execute_result",
          "data": {
            "text/plain": [
              "KMeans(algorithm='auto', copy_x=True, init='random', max_iter=300, n_clusters=3,\n",
              "       n_init=10, n_jobs=None, precompute_distances='auto', random_state=None,\n",
              "       tol=0.0001, verbose=0)"
            ]
          },
          "metadata": {
            "tags": []
          },
          "execution_count": 213
        }
      ]
    },
    {
      "cell_type": "markdown",
      "metadata": {
        "id": "1VN3PpsrG3Dz"
      },
      "source": [
        "Centroids"
      ]
    },
    {
      "cell_type": "code",
      "metadata": {
        "colab": {
          "base_uri": "https://localhost:8080/"
        },
        "id": "i4Sw4z-AGh8-",
        "outputId": "b2407e08-5c1d-4fea-95e4-e044eea97f01"
      },
      "source": [
        "kmeans.cluster_centers_"
      ],
      "execution_count": 214,
      "outputs": [
        {
          "output_type": "execute_result",
          "data": {
            "text/plain": [
              "array([[6.85      , 3.07368421, 5.74210526, 2.07105263],\n",
              "       [5.9016129 , 2.7483871 , 4.39354839, 1.43387097],\n",
              "       [5.006     , 3.428     , 1.462     , 0.246     ]])"
            ]
          },
          "metadata": {
            "tags": []
          },
          "execution_count": 214
        }
      ]
    },
    {
      "cell_type": "markdown",
      "metadata": {
        "id": "eeTFsgxgHWww"
      },
      "source": [
        "Tabela de distância"
      ]
    },
    {
      "cell_type": "code",
      "metadata": {
        "colab": {
          "base_uri": "https://localhost:8080/"
        },
        "id": "O7ulz_8sHRAP",
        "outputId": "830b11c8-1a21-40cc-aa7a-66f92559fab8"
      },
      "source": [
        "distance = kmeans.fit_transform(X)  #Recebe os dados que estão armazenados em X e retorna as distâncias de cada valor a um dos, nesse caso, 3 centroides\n",
        "distance"
      ],
      "execution_count": 215,
      "outputs": [
        {
          "output_type": "execute_result",
          "data": {
            "text/plain": [
              "array([[5.0595416 , 0.14135063, 3.41925061],\n",
              "       [5.11494335, 0.44763825, 3.39857426],\n",
              "       [5.27935534, 0.4171091 , 3.56935666],\n",
              "       [5.15358977, 0.52533799, 3.42240962],\n",
              "       [5.10433388, 0.18862662, 3.46726403],\n",
              "       [4.68148797, 0.67703767, 3.14673162],\n",
              "       [5.21147652, 0.4151867 , 3.51650264],\n",
              "       [5.00252706, 0.06618157, 3.33654987],\n",
              "       [5.32798107, 0.80745278, 3.57233779],\n",
              "       [5.06790865, 0.37627118, 3.3583767 ],\n",
              "       [4.89806763, 0.4824728 , 3.32449131],\n",
              "       [4.9966845 , 0.25373214, 3.31126872],\n",
              "       [5.19103612, 0.50077939, 3.46661272],\n",
              "       [5.65173594, 0.91322505, 3.90578362],\n",
              "       [5.10804455, 1.01409073, 3.646649  ],\n",
              "       [4.88564095, 1.20481534, 3.49427881],\n",
              "       [5.03090587, 0.6542018 , 3.495248  ],\n",
              "       [5.02342022, 0.1441527 , 3.38444981],\n",
              "       [4.61792995, 0.82436642, 3.11245944],\n",
              "       [4.97213426, 0.38933276, 3.37738931],\n",
              "       [4.6955761 , 0.46344363, 3.07471224],\n",
              "       [4.9236821 , 0.3286031 , 3.31506588],\n",
              "       [5.59713396, 0.64029681, 3.93167253],\n",
              "       [4.68193765, 0.38259639, 3.01233762],\n",
              "       [4.75095704, 0.48701129, 3.06241269],\n",
              "       [4.90772894, 0.45208406, 3.19414543],\n",
              "       [4.84545508, 0.20875823, 3.17967089],\n",
              "       [4.93969029, 0.21536016, 3.30941724],\n",
              "       [5.01833618, 0.21066561, 3.37648183],\n",
              "       [5.02954567, 0.40838707, 3.31272968],\n",
              "       [4.98608729, 0.41373905, 3.26550651],\n",
              "       [4.79550372, 0.42565244, 3.18083736],\n",
              "       [5.06520776, 0.71552778, 3.53142353],\n",
              "       [5.04438334, 0.91977171, 3.57102821],\n",
              "       [5.02985959, 0.34982853, 3.31992769],\n",
              "       [5.25071556, 0.35039977, 3.56904033],\n",
              "       [5.02368214, 0.52685861, 3.43783276],\n",
              "       [5.17865184, 0.25686572, 3.53114948],\n",
              "       [5.40750095, 0.76077592, 3.66205264],\n",
              "       [4.9664149 , 0.11480418, 3.31092773],\n",
              "       [5.14520862, 0.18541845, 3.49764675],\n",
              "       [5.38423754, 1.24803045, 3.60850034],\n",
              "       [5.40847417, 0.6690142 , 3.68120561],\n",
              "       [4.78803478, 0.38675574, 3.14278239],\n",
              "       [4.59828494, 0.60231221, 3.00585191],\n",
              "       [5.11844067, 0.48205809, 3.39468045],\n",
              "       [4.92421655, 0.41034132, 3.32788568],\n",
              "       [5.23766854, 0.47199576, 3.51879523],\n",
              "       [4.92859681, 0.40494444, 3.34104251],\n",
              "       [5.08216833, 0.14959947, 3.40601705],\n",
              "       [1.25489071, 3.98049997, 1.22697525],\n",
              "       [1.44477759, 3.57731464, 0.684141  ],\n",
              "       [1.01903626, 4.13366423, 1.17527644],\n",
              "       [2.45978458, 3.01144152, 0.73153652],\n",
              "       [1.3520017 , 3.74779669, 0.63853451],\n",
              "       [1.88009327, 3.34908644, 0.26937898],\n",
              "       [1.28902785, 3.74283048, 0.76452634],\n",
              "       [3.37155487, 2.23937045, 1.58388575],\n",
              "       [1.41123804, 3.71181627, 0.75582717],\n",
              "       [2.58955659, 2.8005678 , 0.85984838],\n",
              "       [3.27864111, 2.60022691, 1.53611907],\n",
              "       [1.90055758, 3.17042268, 0.32426175],\n",
              "       [2.38073698, 3.08317693, 0.80841374],\n",
              "       [1.45909603, 3.64581678, 0.39674141],\n",
              "       [2.60303733, 2.51268382, 0.87269542],\n",
              "       [1.50822767, 3.59732957, 0.87306498],\n",
              "       [1.85387593, 3.36719171, 0.41229163],\n",
              "       [2.25517257, 2.94753796, 0.53579956],\n",
              "       [1.74778451, 3.70615434, 0.6367639 ],\n",
              "       [2.49557781, 2.80841236, 0.71254917],\n",
              "       [1.37094403, 3.79583719, 0.7093731 ],\n",
              "       [2.06563694, 3.02383531, 0.46349013],\n",
              "       [1.29106776, 3.99098735, 0.69373966],\n",
              "       [1.57547425, 3.60360653, 0.43661144],\n",
              "       [1.70495043, 3.37448959, 0.54593856],\n",
              "       [1.52298639, 3.56196294, 0.74313017],\n",
              "       [1.18965415, 4.01083283, 0.98798453],\n",
              "       [0.84636259, 4.20528001, 1.06739835],\n",
              "       [1.61913335, 3.47401497, 0.21993519],\n",
              "       [2.77868071, 2.42676328, 1.0243726 ],\n",
              "       [2.6440625 , 2.73795179, 0.86396528],\n",
              "       [2.75566654, 2.62259032, 0.97566381],\n",
              "       [2.32254696, 2.83096803, 0.55763082],\n",
              "       [1.22324554, 4.07263797, 0.73395781],\n",
              "       [1.9942056 , 3.33772078, 0.57500396],\n",
              "       [1.61049622, 3.47153856, 0.68790275],\n",
              "       [1.19803047, 3.87741924, 0.92700552],\n",
              "       [1.81572464, 3.56224367, 0.61459444],\n",
              "       [2.20430516, 2.93359506, 0.50830256],\n",
              "       [2.40438484, 2.94237659, 0.6291191 ],\n",
              "       [2.14635877, 3.23598208, 0.48790256],\n",
              "       [1.52402278, 3.5438369 , 0.38266958],\n",
              "       [2.26286106, 2.94407541, 0.49185351],\n",
              "       [3.33648305, 2.28455247, 1.5485635 ],\n",
              "       [2.16211718, 3.08064604, 0.3856087 ],\n",
              "       [2.11299567, 3.01190637, 0.44284695],\n",
              "       [2.07973003, 3.0607156 , 0.3449879 ],\n",
              "       [1.76829182, 3.29690461, 0.37241653],\n",
              "       [3.44291999, 1.99117553, 1.66064034],\n",
              "       [2.16527941, 2.99098312, 0.38393196],\n",
              "       [0.77731871, 5.23113563, 2.0445799 ],\n",
              "       [1.29757391, 4.13898297, 0.85382472],\n",
              "       [0.30610139, 5.26319105, 2.05245342],\n",
              "       [0.65293923, 4.63585807, 1.33089245],\n",
              "       [0.38458885, 5.00515534, 1.72813078],\n",
              "       [1.14225684, 6.06204421, 2.87401886],\n",
              "       [2.4108337 , 3.49513662, 1.07101875],\n",
              "       [0.78573677, 5.6002125 , 2.39730707],\n",
              "       [0.65454939, 4.9963967 , 1.67668563],\n",
              "       [0.8435596 , 5.60667281, 2.54158648],\n",
              "       [0.74552218, 4.31225927, 1.17541367],\n",
              "       [0.75289837, 4.46533089, 1.13563278],\n",
              "       [0.25958095, 4.81086063, 1.59322675],\n",
              "       [1.48572618, 4.11543193, 0.88917352],\n",
              "       [1.30303821, 4.34736472, 1.20227628],\n",
              "       [0.68288333, 4.57650303, 1.42273608],\n",
              "       [0.50991553, 4.59734489, 1.33403966],\n",
              "       [1.47791217, 6.21697515, 3.20105585],\n",
              "       [1.52971038, 6.46018421, 3.20759942],\n",
              "       [1.53708992, 4.07258886, 0.82617494],\n",
              "       [0.26952816, 5.08121836, 1.91251832],\n",
              "       [1.5334904 , 3.95519658, 0.81891975],\n",
              "       [1.31149299, 6.17779734, 2.9794431 ],\n",
              "       [1.10668455, 4.05452587, 0.74269596],\n",
              "       [0.27627819, 4.92787784, 1.75847731],\n",
              "       [0.52766931, 5.27958142, 2.14580999],\n",
              "       [1.20765678, 3.92137476, 0.62526165],\n",
              "       [1.16212743, 3.95155412, 0.70228926],\n",
              "       [0.54629196, 4.78518338, 1.4663925 ],\n",
              "       [0.59428255, 5.06442297, 1.93773659],\n",
              "       [0.7312665 , 5.51111422, 2.31885342],\n",
              "       [1.43802246, 5.99783127, 3.07340053],\n",
              "       [0.5605572 , 4.8248088 , 1.51444141],\n",
              "       [1.05631592, 4.10808715, 0.81536685],\n",
              "       [1.12133058, 4.50967626, 1.23209127],\n",
              "       [0.95311851, 5.75940796, 2.6381171 ],\n",
              "       [0.73306362, 4.84127876, 1.72401927],\n",
              "       [0.57903109, 4.557541  , 1.31541133],\n",
              "       [1.29960041, 3.83775716, 0.61011676],\n",
              "       [0.34794609, 4.7581488 , 1.60532899],\n",
              "       [0.3893492 , 4.97393004, 1.77481954],\n",
              "       [0.68403844, 4.59878027, 1.53937059],\n",
              "       [1.29757391, 4.13898297, 0.85382472],\n",
              "       [0.30952112, 5.21394093, 2.00764279],\n",
              "       [0.50939919, 5.09187392, 1.94554509],\n",
              "       [0.61173881, 4.60916261, 1.44957743],\n",
              "       [1.10072376, 4.21767471, 0.89747884],\n",
              "       [0.65334214, 4.41184542, 1.17993324],\n",
              "       [0.83572418, 4.59925864, 1.50889317],\n",
              "       [1.1805499 , 4.0782815 , 0.83452741]])"
            ]
          },
          "metadata": {
            "tags": []
          },
          "execution_count": 215
        }
      ]
    },
    {
      "cell_type": "code",
      "metadata": {
        "colab": {
          "base_uri": "https://localhost:8080/"
        },
        "id": "KSR2OQsMHg0N",
        "outputId": "74bf11eb-2e57-40ae-84dc-c20763fbf311"
      },
      "source": [
        "distance[0]   #Distâncias do primeiro dado de X em relação a cada cluster"
      ],
      "execution_count": 216,
      "outputs": [
        {
          "output_type": "execute_result",
          "data": {
            "text/plain": [
              "array([5.0595416 , 0.14135063, 3.41925061])"
            ]
          },
          "metadata": {
            "tags": []
          },
          "execution_count": 216
        }
      ]
    },
    {
      "cell_type": "markdown",
      "metadata": {
        "id": "ZkfEndeCH913"
      },
      "source": [
        "Visualizando valores da distância do primeiro dado de X em relação a cada cluster"
      ]
    },
    {
      "cell_type": "code",
      "metadata": {
        "colab": {
          "base_uri": "https://localhost:8080/",
          "height": 295
        },
        "id": "rLHl117LH6a-",
        "outputId": "512a5e19-88c6-442b-a170-677ddc7ddc3a"
      },
      "source": [
        "x = ['Cluster 0', 'Cluster 1 ', 'Cluster 2']\n",
        "plt.barh(x,distance[0])\n",
        "plt.xlabel('Distância')\n",
        "plt.title('Distância por Cluster')\n",
        "plt.show()"
      ],
      "execution_count": 217,
      "outputs": [
        {
          "output_type": "display_data",
          "data": {
            "image/png": "[encoded data removed]",
            "text/plain": [
              "<Figure size 432x288 with 1 Axes>"
            ]
          },
          "metadata": {
            "tags": [],
            "needs_background": "light"
          }
        }
      ]
    },
    {
      "cell_type": "markdown",
      "metadata": {
        "id": "urhtm4tGJcJZ"
      },
      "source": [
        "Imprimindo rótulos"
      ]
    },
    {
      "cell_type": "code",
      "metadata": {
        "id": "xTCzYGbSInYu"
      },
      "source": [
        "labels = kmeans.labels_"
      ],
      "execution_count": 218,
      "outputs": []
    },
    {
      "cell_type": "code",
      "metadata": {
        "colab": {
          "base_uri": "https://localhost:8080/"
        },
        "id": "dlNosmWhJgUu",
        "outputId": "4e435cbb-ef70-45f2-95fb-6215dd6154af"
      },
      "source": [
        "labels"
      ],
      "execution_count": 219,
      "outputs": [
        {
          "output_type": "execute_result",
          "data": {
            "text/plain": [
              "array([1, 1, 1, 1, 1, 1, 1, 1, 1, 1, 1, 1, 1, 1, 1, 1, 1, 1, 1, 1, 1, 1,\n",
              "       1, 1, 1, 1, 1, 1, 1, 1, 1, 1, 1, 1, 1, 1, 1, 1, 1, 1, 1, 1, 1, 1,\n",
              "       1, 1, 1, 1, 1, 1, 2, 2, 0, 2, 2, 2, 2, 2, 2, 2, 2, 2, 2, 2, 2, 2,\n",
              "       2, 2, 2, 2, 2, 2, 2, 2, 2, 2, 2, 0, 2, 2, 2, 2, 2, 2, 2, 2, 2, 2,\n",
              "       2, 2, 2, 2, 2, 2, 2, 2, 2, 2, 2, 2, 0, 2, 0, 0, 0, 0, 2, 0, 0, 0,\n",
              "       0, 0, 0, 2, 2, 0, 0, 0, 0, 2, 0, 2, 0, 2, 0, 0, 2, 2, 0, 0, 0, 0,\n",
              "       0, 2, 0, 0, 0, 0, 2, 0, 0, 0, 2, 0, 0, 0, 2, 0, 0, 2], dtype=int32)"
            ]
          },
          "metadata": {
            "tags": []
          },
          "execution_count": 219
        }
      ]
    },
    {
      "cell_type": "markdown",
      "metadata": {
        "id": "M8dCPaCMKIV1"
      },
      "source": [
        "Visualizando os centroids"
      ]
    },
    {
      "cell_type": "code",
      "metadata": {
        "colab": {
          "base_uri": "https://localhost:8080/",
          "height": 405
        },
        "id": "-f2zTp0KJhSX",
        "outputId": "8936cb98-53a8-4cf6-bb2e-1102e50d48be"
      },
      "source": [
        "plt.figure(figsize=(8,6))\n",
        "plt.scatter(X['sepal_length'], X['sepal_width'], s=100, c=kmeans.labels_)\n",
        "plt.scatter(kmeans.cluster_centers_[:, 0], kmeans.cluster_centers_[:, 1], s=300, c='red', label='Centroids')\n",
        "plt.title('Dataset Iris e Centroids')\n",
        "plt.xlabel('sepal_length')\n",
        "plt.ylabel('sepal_width')\n",
        "plt.show()"
      ],
      "execution_count": 220,
      "outputs": [
        {
          "output_type": "display_data",
          "data": {
            "image/png": "[encoded data removed]",
            "text/plain": [
              "<Figure size 576x432 with 1 Axes>"
            ]
          },
          "metadata": {
            "tags": [],
            "needs_background": "light"
          }
        }
      ]
    },
    {
      "cell_type": "markdown",
      "metadata": {
        "id": "UXlM-yE50OKX"
      },
      "source": [
        "Agrupando novos dados"
      ]
    },
    {
      "cell_type": "code",
      "metadata": {
        "id": "wI4p1Q7GK4bU"
      },
      "source": [
        "dados_novos = [\r\n",
        "               [4.12, 3.4, 1.6, 0.7],\r\n",
        "               [5.2, 5.8, 5.2, 6.7],\r\n",
        "               [3.1, 3.5, 3.3, 3.0]\r\n",
        "              ]"
      ],
      "execution_count": 221,
      "outputs": []
    },
    {
      "cell_type": "code",
      "metadata": {
        "colab": {
          "base_uri": "https://localhost:8080/"
        },
        "id": "PgRGL-et0mUf",
        "outputId": "6606d010-8c4c-4cd3-b990-39cc0cf2686b"
      },
      "source": [
        "#Agrupamos novos dados a partir do método predict() aplicado a nossa variável kmeans que já tem nosso modelo treinado\r\n",
        "kmeans.predict(dados_novos)"
      ],
      "execution_count": 222,
      "outputs": [
        {
          "output_type": "execute_result",
          "data": {
            "text/plain": [
              "array([1, 0, 2], dtype=int32)"
            ]
          },
          "metadata": {
            "tags": []
          },
          "execution_count": 222
        }
      ]
    },
    {
      "cell_type": "markdown",
      "metadata": {
        "id": "bDlTlai91CXg"
      },
      "source": [
        "Visualizando os resultados"
      ]
    },
    {
      "cell_type": "code",
      "metadata": {
        "colab": {
          "base_uri": "https://localhost:8080/",
          "height": 407
        },
        "id": "hSDJYuFZ0tsd",
        "outputId": "b7343b99-80dd-4698-ba24-a6a396eb511a"
      },
      "source": [
        "f, (ax1, ax2) = plt.subplots( 1, 2, sharey=True, figsize=(8,6))\r\n",
        "ax1.set_title('Original')\r\n",
        "ax1.scatter(X['sepal_length'], X['sepal_width'], s=150, c=sorted(y))\r\n",
        "ax2.set_title('KMeans')\r\n",
        "ax2.scatter(X['sepal_length'], X['sepal_width'], s=150, c=sorted(kmeans.labels_))"
      ],
      "execution_count": 223,
      "outputs": [
        {
          "output_type": "execute_result",
          "data": {
            "text/plain": [
              "<matplotlib.collections.PathCollection at 0x7f4723286650>"
            ]
          },
          "metadata": {
            "tags": []
          },
          "execution_count": 223
        },
        {
          "output_type": "display_data",
          "data": {
            "image/png": "[encoded data removed]",
            "text/plain": [
              "<Figure size 576x432 with 2 Axes>"
            ]
          },
          "metadata": {
            "tags": [],
            "needs_background": "light"
          }
        }
      ]
    },
    {
      "cell_type": "markdown",
      "metadata": {
        "id": "2ftQxXkw3OdV"
      },
      "source": [
        "Estimando o valor do parâmetro K - Método Elbow"
      ]
    },
    {
      "cell_type": "code",
      "metadata": {
        "id": "82rkt2fb19cw",
        "colab": {
          "base_uri": "https://localhost:8080/"
        },
        "outputId": "34d54d78-270c-4465-8ed9-f3c103578484"
      },
      "source": [
        "wcss = []   #lista vazia que armazenará as somas dos erros quadráticos\r\n",
        "\r\n",
        "for i in range(1, 11):  #10 iterações\r\n",
        "  kmeans2 = KMeans(n_clusters=i, init='random')\r\n",
        "  kmeans2.fit(X)\r\n",
        "  print(i, kmeans2.inertia_)    #atributo inertia_ faz a somatória dos erros quadraticos\r\n",
        "  wcss.append(kmeans2.inertia_)"
      ],
      "execution_count": 224,
      "outputs": [
        {
          "output_type": "stream",
          "text": [
            "1 681.3706\n",
            "2 152.34795176035792\n",
            "3 78.85144142614601\n",
            "4 57.25600931571815\n",
            "5 46.44618205128205\n",
            "6 39.066035353535355\n",
            "7 37.08482343358396\n",
            "8 32.13061369332422\n",
            "9 28.826498419021643\n",
            "10 27.04414074960128\n"
          ],
          "name": "stdout"
        }
      ]
    },
    {
      "cell_type": "code",
      "metadata": {
        "colab": {
          "base_uri": "https://localhost:8080/",
          "height": 295
        },
        "id": "ANKrSPxijMFS",
        "outputId": "1d36a38e-03b1-46ee-c826-cb9497b5326d"
      },
      "source": [
        "plt.plot(range(1, 11), wcss)\r\n",
        "plt.title('O Método Elbow')\r\n",
        "plt.xlabel('Número de Clusters')\r\n",
        "plt.ylabel('WCSS') #within cluster sum of squares\r\n",
        "plt.show()"
      ],
      "execution_count": 225,
      "outputs": [
        {
          "output_type": "display_data",
          "data": {
            "image/png": "[encoded data removed]",
            "text/plain": [
              "<Figure size 432x288 with 1 Axes>"
            ]
          },
          "metadata": {
            "tags": [],
            "needs_background": "light"
          }
        }
      ]
    },
    {
      "cell_type": "markdown",
      "metadata": {
        "id": "QV-SqSDCktQ9"
      },
      "source": [
        "Técnicas de Validação - Matriz de Confusão"
      ]
    },
    {
      "cell_type": "code",
      "metadata": {
        "colab": {
          "base_uri": "https://localhost:8080/"
        },
        "id": "V9ZymfDYkJ8e",
        "outputId": "7fa59062-9612-4981-e599-8725c4a77be8"
      },
      "source": [
        "print(pd.crosstab(y, kmeans.labels_, rownames=['Real'], colnames=['Predito'], margins=True))"
      ],
      "execution_count": 226,
      "outputs": [
        {
          "output_type": "stream",
          "text": [
            "Predito   0   1   2  All\n",
            "Real                    \n",
            "0        36   0  14   50\n",
            "1         0  50   0   50\n",
            "2         2   0  48   50\n",
            "All      38  50  62  150\n"
          ],
          "name": "stdout"
        }
      ]
    },
    {
      "cell_type": "markdown",
      "metadata": {
        "id": "6eaCwbQflkAF"
      },
      "source": [
        "Técnicas de Validação - Métricas de Classificação"
      ]
    },
    {
      "cell_type": "code",
      "metadata": {
        "colab": {
          "base_uri": "https://localhost:8080/"
        },
        "id": "WAdA3izflGg1",
        "outputId": "41c12f42-ea54-4297-9e91-82843c171937"
      },
      "source": [
        "from sklearn import metrics\r\n",
        "\r\n",
        "clusters = ['Cluster 2' , 'Cluster 1', 'Cluster 0']\r\n",
        "print(metrics.classification_report(y, kmeans.labels_, target_names=clusters))"
      ],
      "execution_count": 228,
      "outputs": [
        {
          "output_type": "stream",
          "text": [
            "              precision    recall  f1-score   support\n",
            "\n",
            "   Cluster 2       0.95      0.72      0.82        50\n",
            "   Cluster 1       1.00      1.00      1.00        50\n",
            "   Cluster 0       0.77      0.96      0.86        50\n",
            "\n",
            "    accuracy                           0.89       150\n",
            "   macro avg       0.91      0.89      0.89       150\n",
            "weighted avg       0.91      0.89      0.89       150\n",
            "\n"
          ],
          "name": "stdout"
        }
      ]
    }
  ]
}