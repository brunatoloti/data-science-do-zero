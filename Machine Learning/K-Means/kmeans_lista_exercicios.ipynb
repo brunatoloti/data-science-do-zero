{
  "nbformat": 4,
  "nbformat_minor": 0,
  "metadata": {
    "kernelspec": {
      "display_name": "Python 3",
      "language": "python",
      "name": "python3"
    },
    "language_info": {
      "codemirror_mode": {
        "name": "ipython",
        "version": 3
      },
      "file_extension": ".py",
      "mimetype": "text/x-python",
      "name": "python",
      "nbconvert_exporter": "python",
      "pygments_lexer": "ipython3",
      "version": "3.6.4"
    },
    "colab": {
      "name": "kmeans-lista-exercicios.ipynb",
      "provenance": [],
      "collapsed_sections": [],
      "include_colab_link": true
    }
  },
  "cells": [
    {
      "cell_type": "markdown",
      "metadata": {
        "id": "view-in-github",
        "colab_type": "text"
      },
      "source": [
        "<a href=\"https://colab.research.google.com/github/brunatoloti/data-science-do-zero/blob/main/Machine%20Learning/K-Means/kmeans_lista_exercicios.ipynb\" target=\"_parent\"><img src=\"https://colab.research.google.com/assets/colab-badge.svg\" alt=\"Open In Colab\"/></a>"
      ]
    },
    {
      "cell_type": "markdown",
      "metadata": {
        "id": "aHnpvJw0qMvK"
      },
      "source": [
        "# KMeans - Exercícios"
      ]
    },
    {
      "cell_type": "markdown",
      "metadata": {
        "id": "2vkCgd6yqMvU"
      },
      "source": [
        "<font color=blue><b> Data Science do Zero</b></font><br>\n",
        " www.minerandodados.com.br  "
      ]
    },
    {
      "cell_type": "markdown",
      "metadata": {
        "id": "G4mvEYaRqMvV"
      },
      "source": [
        "1) Importe as bibliotecas para visualização de dados e clustering."
      ]
    },
    {
      "cell_type": "code",
      "metadata": {
        "id": "LpnF-nlGrTqt"
      },
      "source": [
        "import pandas as pd\r\n",
        "import matplotlib.pyplot as plt\r\n",
        "import seaborn as sns\r\n",
        "from sklearn.cluster import KMeans"
      ],
      "execution_count": 1,
      "outputs": []
    },
    {
      "cell_type": "markdown",
      "metadata": {
        "id": "ILPHduYGqMvX"
      },
      "source": [
        "2) Leia a base de dados **iris** e crie um Dataframe."
      ]
    },
    {
      "cell_type": "code",
      "metadata": {
        "colab": {
          "base_uri": "https://localhost:8080/",
          "height": 204
        },
        "id": "oeDpZ8NmrW08",
        "outputId": "8691802d-b1b2-412c-d2dc-b09bbc4fce49"
      },
      "source": [
        "iris = sns.load_dataset('iris')\r\n",
        "iris.head()"
      ],
      "execution_count": 2,
      "outputs": [
        {
          "output_type": "execute_result",
          "data": {
            "text/html": [
              "<div>\n",
              "<style scoped>\n",
              "    .dataframe tbody tr th:only-of-type {\n",
              "        vertical-align: middle;\n",
              "    }\n",
              "\n",
              "    .dataframe tbody tr th {\n",
              "        vertical-align: top;\n",
              "    }\n",
              "\n",
              "    .dataframe thead th {\n",
              "        text-align: right;\n",
              "    }\n",
              "</style>\n",
              "<table border=\"1\" class=\"dataframe\">\n",
              "  <thead>\n",
              "    <tr style=\"text-align: right;\">\n",
              "      <th></th>\n",
              "      <th>sepal_length</th>\n",
              "      <th>sepal_width</th>\n",
              "      <th>petal_length</th>\n",
              "      <th>petal_width</th>\n",
              "      <th>species</th>\n",
              "    </tr>\n",
              "  </thead>\n",
              "  <tbody>\n",
              "    <tr>\n",
              "      <th>0</th>\n",
              "      <td>5.1</td>\n",
              "      <td>3.5</td>\n",
              "      <td>1.4</td>\n",
              "      <td>0.2</td>\n",
              "      <td>setosa</td>\n",
              "    </tr>\n",
              "    <tr>\n",
              "      <th>1</th>\n",
              "      <td>4.9</td>\n",
              "      <td>3.0</td>\n",
              "      <td>1.4</td>\n",
              "      <td>0.2</td>\n",
              "      <td>setosa</td>\n",
              "    </tr>\n",
              "    <tr>\n",
              "      <th>2</th>\n",
              "      <td>4.7</td>\n",
              "      <td>3.2</td>\n",
              "      <td>1.3</td>\n",
              "      <td>0.2</td>\n",
              "      <td>setosa</td>\n",
              "    </tr>\n",
              "    <tr>\n",
              "      <th>3</th>\n",
              "      <td>4.6</td>\n",
              "      <td>3.1</td>\n",
              "      <td>1.5</td>\n",
              "      <td>0.2</td>\n",
              "      <td>setosa</td>\n",
              "    </tr>\n",
              "    <tr>\n",
              "      <th>4</th>\n",
              "      <td>5.0</td>\n",
              "      <td>3.6</td>\n",
              "      <td>1.4</td>\n",
              "      <td>0.2</td>\n",
              "      <td>setosa</td>\n",
              "    </tr>\n",
              "  </tbody>\n",
              "</table>\n",
              "</div>"
            ],
            "text/plain": [
              "   sepal_length  sepal_width  petal_length  petal_width species\n",
              "0           5.1          3.5           1.4          0.2  setosa\n",
              "1           4.9          3.0           1.4          0.2  setosa\n",
              "2           4.7          3.2           1.3          0.2  setosa\n",
              "3           4.6          3.1           1.5          0.2  setosa\n",
              "4           5.0          3.6           1.4          0.2  setosa"
            ]
          },
          "metadata": {
            "tags": []
          },
          "execution_count": 2
        }
      ]
    },
    {
      "cell_type": "markdown",
      "metadata": {
        "id": "Cc4E9a3PqMvX"
      },
      "source": [
        "3) Armazene apenas as **features e seus dados** na variável train."
      ]
    },
    {
      "cell_type": "code",
      "metadata": {
        "colab": {
          "base_uri": "https://localhost:8080/",
          "height": 204
        },
        "id": "OoZuxLW9rcvj",
        "outputId": "fa1608c7-cea6-43ff-c8b1-4b9dd2b53052"
      },
      "source": [
        "train = iris.drop(columns='species')\r\n",
        "train.head()"
      ],
      "execution_count": 3,
      "outputs": [
        {
          "output_type": "execute_result",
          "data": {
            "text/html": [
              "<div>\n",
              "<style scoped>\n",
              "    .dataframe tbody tr th:only-of-type {\n",
              "        vertical-align: middle;\n",
              "    }\n",
              "\n",
              "    .dataframe tbody tr th {\n",
              "        vertical-align: top;\n",
              "    }\n",
              "\n",
              "    .dataframe thead th {\n",
              "        text-align: right;\n",
              "    }\n",
              "</style>\n",
              "<table border=\"1\" class=\"dataframe\">\n",
              "  <thead>\n",
              "    <tr style=\"text-align: right;\">\n",
              "      <th></th>\n",
              "      <th>sepal_length</th>\n",
              "      <th>sepal_width</th>\n",
              "      <th>petal_length</th>\n",
              "      <th>petal_width</th>\n",
              "    </tr>\n",
              "  </thead>\n",
              "  <tbody>\n",
              "    <tr>\n",
              "      <th>0</th>\n",
              "      <td>5.1</td>\n",
              "      <td>3.5</td>\n",
              "      <td>1.4</td>\n",
              "      <td>0.2</td>\n",
              "    </tr>\n",
              "    <tr>\n",
              "      <th>1</th>\n",
              "      <td>4.9</td>\n",
              "      <td>3.0</td>\n",
              "      <td>1.4</td>\n",
              "      <td>0.2</td>\n",
              "    </tr>\n",
              "    <tr>\n",
              "      <th>2</th>\n",
              "      <td>4.7</td>\n",
              "      <td>3.2</td>\n",
              "      <td>1.3</td>\n",
              "      <td>0.2</td>\n",
              "    </tr>\n",
              "    <tr>\n",
              "      <th>3</th>\n",
              "      <td>4.6</td>\n",
              "      <td>3.1</td>\n",
              "      <td>1.5</td>\n",
              "      <td>0.2</td>\n",
              "    </tr>\n",
              "    <tr>\n",
              "      <th>4</th>\n",
              "      <td>5.0</td>\n",
              "      <td>3.6</td>\n",
              "      <td>1.4</td>\n",
              "      <td>0.2</td>\n",
              "    </tr>\n",
              "  </tbody>\n",
              "</table>\n",
              "</div>"
            ],
            "text/plain": [
              "   sepal_length  sepal_width  petal_length  petal_width\n",
              "0           5.1          3.5           1.4          0.2\n",
              "1           4.9          3.0           1.4          0.2\n",
              "2           4.7          3.2           1.3          0.2\n",
              "3           4.6          3.1           1.5          0.2\n",
              "4           5.0          3.6           1.4          0.2"
            ]
          },
          "metadata": {
            "tags": []
          },
          "execution_count": 3
        }
      ]
    },
    {
      "cell_type": "markdown",
      "metadata": {
        "id": "9rcov4v0qMvY"
      },
      "source": [
        "5) Armazene os dados de classes na variável classes."
      ]
    },
    {
      "cell_type": "code",
      "metadata": {
        "colab": {
          "base_uri": "https://localhost:8080/"
        },
        "id": "OJ_8Sj3Erpkb",
        "outputId": "8f6c4bd8-6412-488d-90d8-3ee0d26755d3"
      },
      "source": [
        "classes = iris.species\r\n",
        "classes.unique()"
      ],
      "execution_count": 7,
      "outputs": [
        {
          "output_type": "execute_result",
          "data": {
            "text/plain": [
              "array(['setosa', 'versicolor', 'virginica'], dtype=object)"
            ]
          },
          "metadata": {
            "tags": []
          },
          "execution_count": 7
        }
      ]
    },
    {
      "cell_type": "markdown",
      "metadata": {
        "id": "zp5e9CgaqMvY"
      },
      "source": [
        "6) Utilizando o código abaixo, crie uma função que faça o **calculo da distância euclidiana entre dois vetores**."
      ]
    },
    {
      "cell_type": "code",
      "metadata": {
        "id": "gi-ORMpsqMvZ"
      },
      "source": [
        "# Função que retorna a distância eucludiana de dois vetores de duas dimensões.\n",
        "from sklearn.neighbors import DistanceMetric\n",
        "def calcula_distancia(x,c):\n",
        "    dist = DistanceMetric.get_metric('euclidean')\n",
        "    return dist.pairwise(x,c)"
      ],
      "execution_count": 8,
      "outputs": []
    },
    {
      "cell_type": "markdown",
      "metadata": {
        "id": "IAuB2CQJqMvZ"
      },
      "source": [
        "7) Utilizando a função **calcula_distancia**, faça:"
      ]
    },
    {
      "cell_type": "markdown",
      "metadata": {
        "id": "1Ao_DSrdqMva"
      },
      "source": [
        "- Calcule a distância entre os vetores **v1 e v2** abaixo\n",
        "> v1 = [[1.2,1,2.1,1]]<br>\n",
        "> v2 = [[1,1.9,5.4,3.2]]"
      ]
    },
    {
      "cell_type": "code",
      "metadata": {
        "id": "UL9b5d-2r-bh"
      },
      "source": [
        "v1 = [[1.2,1,2.1,1]]\r\n",
        "v2 = [[1,1.9,5.4,3.2]]\r\n",
        "\r\n",
        "d1 = calcula_distancia(v1,v2)"
      ],
      "execution_count": 10,
      "outputs": []
    },
    {
      "cell_type": "code",
      "metadata": {
        "colab": {
          "base_uri": "https://localhost:8080/"
        },
        "id": "RVAet1PxsT6p",
        "outputId": "95704b05-4f79-4934-ebca-21e5d795343f"
      },
      "source": [
        "d1"
      ],
      "execution_count": 11,
      "outputs": [
        {
          "output_type": "execute_result",
          "data": {
            "text/plain": [
              "array([[4.07185461]])"
            ]
          },
          "metadata": {
            "tags": []
          },
          "execution_count": 11
        }
      ]
    },
    {
      "cell_type": "markdown",
      "metadata": {
        "id": "4h9OcLsxqMva"
      },
      "source": [
        "- Calcule a distância entre os vetores **v3 e v4** abaixo e explique o retorno\n",
        "> v3 = [[0.5,0,2.1,1.5]]<br>\n",
        "> v4 = [[0.5,0,2.1,1.5]]"
      ]
    },
    {
      "cell_type": "code",
      "metadata": {
        "id": "1WlvohEDsVvC"
      },
      "source": [
        "v3 = [[0.5,0,2.1,1.5]]\r\n",
        "v4 = [[0.5,0,2.1,1.5]]\r\n",
        "\r\n",
        "d2 = calcula_distancia(v3, v4)"
      ],
      "execution_count": 12,
      "outputs": []
    },
    {
      "cell_type": "code",
      "metadata": {
        "colab": {
          "base_uri": "https://localhost:8080/"
        },
        "id": "MWo0evRAsa-6",
        "outputId": "45dbe85f-09a3-4887-e50e-9e4b1573299a"
      },
      "source": [
        "d2"
      ],
      "execution_count": 13,
      "outputs": [
        {
          "output_type": "execute_result",
          "data": {
            "text/plain": [
              "array([[0.]])"
            ]
          },
          "metadata": {
            "tags": []
          },
          "execution_count": 13
        }
      ]
    },
    {
      "cell_type": "markdown",
      "metadata": {
        "id": "eHGE-yycqMva"
      },
      "source": [
        "8) Instancie o algoritmo Kmeans com o número de clusters **igual ao número de classes** da sua base de dados e execute o algoritmo KMeans."
      ]
    },
    {
      "cell_type": "code",
      "metadata": {
        "id": "pniwIZdcsfwM"
      },
      "source": [
        "kmeans = KMeans(n_clusters=3, init='random')"
      ],
      "execution_count": 14,
      "outputs": []
    },
    {
      "cell_type": "code",
      "metadata": {
        "colab": {
          "base_uri": "https://localhost:8080/"
        },
        "id": "7yaSKbZVtDtZ",
        "outputId": "4b76d477-6b42-4ff5-e6d1-0e08812d84df"
      },
      "source": [
        "kmeans.fit(train)"
      ],
      "execution_count": 16,
      "outputs": [
        {
          "output_type": "execute_result",
          "data": {
            "text/plain": [
              "KMeans(algorithm='auto', copy_x=True, init='random', max_iter=300, n_clusters=3,\n",
              "       n_init=10, n_jobs=None, precompute_distances='auto', random_state=None,\n",
              "       tol=0.0001, verbose=0)"
            ]
          },
          "metadata": {
            "tags": []
          },
          "execution_count": 16
        }
      ]
    },
    {
      "cell_type": "markdown",
      "metadata": {
        "id": "YRmYz7jDqMva"
      },
      "source": [
        "09) Imprima os valores dos **centroides**."
      ]
    },
    {
      "cell_type": "code",
      "metadata": {
        "colab": {
          "base_uri": "https://localhost:8080/"
        },
        "id": "7N-zD9Fzsm3B",
        "outputId": "2e30cc68-e6e5-43f6-cd2f-000850177cd3"
      },
      "source": [
        "kmeans.cluster_centers_"
      ],
      "execution_count": 17,
      "outputs": [
        {
          "output_type": "execute_result",
          "data": {
            "text/plain": [
              "array([[6.85      , 3.07368421, 5.74210526, 2.07105263],\n",
              "       [5.006     , 3.428     , 1.462     , 0.246     ],\n",
              "       [5.9016129 , 2.7483871 , 4.39354839, 1.43387097]])"
            ]
          },
          "metadata": {
            "tags": []
          },
          "execution_count": 17
        }
      ]
    },
    {
      "cell_type": "markdown",
      "metadata": {
        "id": "OsZnVA-yqMvb"
      },
      "source": [
        "10) Selecione **três amostras da base de dados e calcule a distância euclidiana entre as amostras de dados e cada um dos valores de centroides**."
      ]
    },
    {
      "cell_type": "code",
      "metadata": {
        "id": "9td1Eld9tLGV"
      },
      "source": [
        "for i in range(1, 4):\r\n",
        "  vetor = train.head(i).values"
      ],
      "execution_count": 29,
      "outputs": []
    },
    {
      "cell_type": "code",
      "metadata": {
        "colab": {
          "base_uri": "https://localhost:8080/"
        },
        "id": "Jzf2SxsGvY_V",
        "outputId": "b302e457-af28-4e6c-da7a-8bf8d3c82bea"
      },
      "source": [
        "vetor"
      ],
      "execution_count": 30,
      "outputs": [
        {
          "output_type": "execute_result",
          "data": {
            "text/plain": [
              "array([[5.1, 3.5, 1.4, 0.2],\n",
              "       [4.9, 3. , 1.4, 0.2],\n",
              "       [4.7, 3.2, 1.3, 0.2]])"
            ]
          },
          "metadata": {
            "tags": []
          },
          "execution_count": 30
        }
      ]
    },
    {
      "cell_type": "code",
      "metadata": {
        "colab": {
          "base_uri": "https://localhost:8080/"
        },
        "id": "IO-xZgcWvfZE",
        "outputId": "a606e162-31b8-4ea5-dddd-7f5186d04f7e"
      },
      "source": [
        "dist_euclidiana = calcula_distancia(vetor, kmeans.cluster_centers_)\r\n",
        "dist_euclidiana"
      ],
      "execution_count": 32,
      "outputs": [
        {
          "output_type": "execute_result",
          "data": {
            "text/plain": [
              "array([[3.41925061, 0.14135063, 5.0595416 ],\n",
              "       [3.39857426, 0.44763825, 5.11494335],\n",
              "       [3.56935666, 0.4171091 , 5.27935534]])"
            ]
          },
          "metadata": {
            "tags": []
          },
          "execution_count": 32
        }
      ]
    },
    {
      "cell_type": "markdown",
      "metadata": {
        "id": "Tl8vhUjFqMvb"
      },
      "source": [
        "11) Gere a **tabela de distância** e verifique os valores através do método fit_transform()."
      ]
    },
    {
      "cell_type": "code",
      "metadata": {
        "colab": {
          "base_uri": "https://localhost:8080/"
        },
        "id": "DnB2K6xfuFvn",
        "outputId": "5090b1a8-8243-4c63-c942-e6416370a679"
      },
      "source": [
        "kmeans.fit_transform(train)[:3] #Verificando apenas os valores das 3 primeiras amostras"
      ],
      "execution_count": 57,
      "outputs": [
        {
          "output_type": "execute_result",
          "data": {
            "text/plain": [
              "array([[3.41925061, 5.0595416 , 0.14135063],\n",
              "       [3.39857426, 5.11494335, 0.44763825],\n",
              "       [3.56935666, 5.27935534, 0.4171091 ]])"
            ]
          },
          "metadata": {
            "tags": []
          },
          "execution_count": 57
        }
      ]
    },
    {
      "cell_type": "markdown",
      "metadata": {
        "id": "1KRfRFYrqMvb"
      },
      "source": [
        "12) Utilizando o método **predict()**, defina novos valores de dados e faça a predição."
      ]
    },
    {
      "cell_type": "code",
      "metadata": {
        "id": "BK2B_XKdv6vE"
      },
      "source": [
        "dados_novos = [\r\n",
        "        [4.8, 3.9, 1.7, 0.2],\r\n",
        "        [5.8, 2.9, 5.0, 2.1],\r\n",
        "        [6.5, 2.8, 3.7, 1.9]       \r\n",
        "      ]"
      ],
      "execution_count": 59,
      "outputs": []
    },
    {
      "cell_type": "code",
      "metadata": {
        "colab": {
          "base_uri": "https://localhost:8080/"
        },
        "id": "0JmkYujQwlXh",
        "outputId": "a8249c4f-8256-4768-91b8-b501c6c83731"
      },
      "source": [
        "kmeans.predict(dados_novos)"
      ],
      "execution_count": 60,
      "outputs": [
        {
          "output_type": "execute_result",
          "data": {
            "text/plain": [
              "array([2, 0, 0], dtype=int32)"
            ]
          },
          "metadata": {
            "tags": []
          },
          "execution_count": 60
        }
      ]
    }
  ]
}