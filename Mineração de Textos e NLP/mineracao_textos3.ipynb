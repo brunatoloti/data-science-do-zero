{
  "nbformat": 4,
  "nbformat_minor": 0,
  "metadata": {
    "colab": {
      "name": "mineracao_textos3.ipynb",
      "provenance": [],
      "collapsed_sections": [],
      "authorship_tag": "ABX9TyMm11DB2cT7AJr+mQY4QhB+",
      "include_colab_link": true
    },
    "kernelspec": {
      "name": "python3",
      "display_name": "Python 3"
    },
    "language_info": {
      "name": "python"
    }
  },
  "cells": [
    {
      "cell_type": "markdown",
      "metadata": {
        "id": "view-in-github",
        "colab_type": "text"
      },
      "source": [
        "<a href=\"https://colab.research.google.com/github/brunatoloti/data-science-do-zero/blob/main/Minera%C3%A7%C3%A3o%20de%20Textos%20e%20NLP/mineracao_textos3.ipynb\" target=\"_parent\"><img src=\"https://colab.research.google.com/assets/colab-badge.svg\" alt=\"Open In Colab\"/></a>"
      ]
    },
    {
      "cell_type": "markdown",
      "metadata": {
        "id": "ptud-8XO11xm"
      },
      "source": [
        "#Trabalhando com a biblioteca TextBlob"
      ]
    },
    {
      "cell_type": "markdown",
      "metadata": {
        "id": "np6bMc0S19e8"
      },
      "source": [
        "Neste notebook, iremos trabalhar com a biblioteca TextBlob. Porém, antes, iremos ver mais alguns recursos da NLTK."
      ]
    },
    {
      "cell_type": "markdown",
      "metadata": {
        "id": "gsk6oC8A2KHT"
      },
      "source": [
        "Importando as bibliotecas da NLTK"
      ]
    },
    {
      "cell_type": "code",
      "metadata": {
        "id": "bVF2b9QDGHEp"
      },
      "source": [
        "import nltk\n",
        "from nltk.tokenize import word_tokenize, sent_tokenize"
      ],
      "execution_count": null,
      "outputs": []
    },
    {
      "cell_type": "markdown",
      "metadata": {
        "id": "pF6elhbH51Ks"
      },
      "source": [
        "Fazendo o download da base de corpus da NLTK"
      ]
    },
    {
      "cell_type": "code",
      "metadata": {
        "id": "TtH5v4pV55m6"
      },
      "source": [
        "#nltk.download()"
      ],
      "execution_count": null,
      "outputs": []
    },
    {
      "cell_type": "markdown",
      "metadata": {
        "id": "8KUlZJus2ylS"
      },
      "source": [
        "Vejamos que, usando a NLTK, conseguimos também fazer a tokenização de sentenças."
      ]
    },
    {
      "cell_type": "code",
      "metadata": {
        "id": "VG25GNlx2MU8"
      },
      "source": [
        "text = \"A casa era feita de papel. Pedro ganhou na loteria. A baleia é azul.\""
      ],
      "execution_count": null,
      "outputs": []
    },
    {
      "cell_type": "markdown",
      "metadata": {
        "id": "zFW5jkmD5PiD"
      },
      "source": [
        "Fazendo a tokenização da frase (tokenization)"
      ]
    },
    {
      "cell_type": "code",
      "metadata": {
        "colab": {
          "base_uri": "https://localhost:8080/"
        },
        "id": "uh_k9UH_5OXH",
        "outputId": "db8a177c-ecc1-4e43-eb1e-cb2899da8a54"
      },
      "source": [
        "word_tokenize(text)"
      ],
      "execution_count": null,
      "outputs": [
        {
          "output_type": "execute_result",
          "data": {
            "text/plain": [
              "['A',\n",
              " 'casa',\n",
              " 'era',\n",
              " 'feita',\n",
              " 'de',\n",
              " 'papel',\n",
              " '.',\n",
              " 'Pedro',\n",
              " 'ganhou',\n",
              " 'na',\n",
              " 'loteria',\n",
              " '.',\n",
              " 'A',\n",
              " 'baleia',\n",
              " 'é',\n",
              " 'azul',\n",
              " '.']"
            ]
          },
          "metadata": {
            "tags": []
          },
          "execution_count": 14
        }
      ]
    },
    {
      "cell_type": "markdown",
      "metadata": {
        "id": "cz0xOzcD6fNu"
      },
      "source": [
        "Detectando sentenças"
      ]
    },
    {
      "cell_type": "code",
      "metadata": {
        "colab": {
          "base_uri": "https://localhost:8080/"
        },
        "id": "uJucwG3W5Xmy",
        "outputId": "8ac9c411-cc0a-4ad8-d46b-47e400d1e469"
      },
      "source": [
        "sent_tokenize(text)"
      ],
      "execution_count": null,
      "outputs": [
        {
          "output_type": "execute_result",
          "data": {
            "text/plain": [
              "['A casa era feita de papel.', 'Pedro ganhou na loteria.', 'A baleia é azul.']"
            ]
          },
          "metadata": {
            "tags": []
          },
          "execution_count": 15
        }
      ]
    },
    {
      "cell_type": "markdown",
      "metadata": {
        "id": "P_vYL3Yi6tva"
      },
      "source": [
        "##TextBlob"
      ]
    },
    {
      "cell_type": "markdown",
      "metadata": {
        "id": "9FkHQWEF6v9T"
      },
      "source": [
        "*   Extensão da NLTK para trabalhos com NLP.\n",
        "*   Fácil usabilidade.\n",
        "*   Documentação rica.\n",
        "*   Maior integrações com outros serviços e produtos."
      ]
    },
    {
      "cell_type": "markdown",
      "metadata": {
        "id": "Wqy4lo4G7QS5"
      },
      "source": [
        "Instalando a biblioteca"
      ]
    },
    {
      "cell_type": "code",
      "metadata": {
        "colab": {
          "base_uri": "https://localhost:8080/"
        },
        "id": "jTue34QR6j5J",
        "outputId": "7adbb921-8a31-457f-87fe-4b9fb945920a"
      },
      "source": [
        "!pip install textblob"
      ],
      "execution_count": null,
      "outputs": [
        {
          "output_type": "stream",
          "text": [
            "Requirement already satisfied: textblob in /usr/local/lib/python3.7/dist-packages (0.15.3)\n",
            "Requirement already satisfied: nltk>=3.1 in /usr/local/lib/python3.7/dist-packages (from textblob) (3.2.5)\n",
            "Requirement already satisfied: six in /usr/local/lib/python3.7/dist-packages (from nltk>=3.1->textblob) (1.15.0)\n"
          ],
          "name": "stdout"
        }
      ]
    },
    {
      "cell_type": "markdown",
      "metadata": {
        "id": "lpZUzvgk7iHK"
      },
      "source": [
        "Baixando bases de dados utilizadas pels NLTK"
      ]
    },
    {
      "cell_type": "code",
      "metadata": {
        "colab": {
          "base_uri": "https://localhost:8080/"
        },
        "id": "YE7AXrzf7fhg",
        "outputId": "c5dab141-58b6-43f2-a1e0-16a3a664e283"
      },
      "source": [
        "!python -m textblob.download_corpora"
      ],
      "execution_count": null,
      "outputs": [
        {
          "output_type": "stream",
          "text": [
            "[nltk_data] Downloading package brown to /root/nltk_data...\n",
            "[nltk_data]   Package brown is already up-to-date!\n",
            "[nltk_data] Downloading package punkt to /root/nltk_data...\n",
            "[nltk_data]   Package punkt is already up-to-date!\n",
            "[nltk_data] Downloading package wordnet to /root/nltk_data...\n",
            "[nltk_data]   Package wordnet is already up-to-date!\n",
            "[nltk_data] Downloading package averaged_perceptron_tagger to\n",
            "[nltk_data]     /root/nltk_data...\n",
            "[nltk_data]   Package averaged_perceptron_tagger is already up-to-\n",
            "[nltk_data]       date!\n",
            "[nltk_data] Downloading package conll2000 to /root/nltk_data...\n",
            "[nltk_data]   Package conll2000 is already up-to-date!\n",
            "[nltk_data] Downloading package movie_reviews to /root/nltk_data...\n",
            "[nltk_data]   Package movie_reviews is already up-to-date!\n",
            "Finished.\n"
          ],
          "name": "stdout"
        }
      ]
    },
    {
      "cell_type": "markdown",
      "metadata": {
        "id": "oLMcMFX_7yxZ"
      },
      "source": [
        "Importando a biblioteca"
      ]
    },
    {
      "cell_type": "code",
      "metadata": {
        "id": "VC-_bJEb7v-S"
      },
      "source": [
        "from textblob import TextBlob"
      ],
      "execution_count": null,
      "outputs": []
    },
    {
      "cell_type": "code",
      "metadata": {
        "id": "vwTSxos47-rI"
      },
      "source": [
        "sentences = TextBlob(\"Python é uma ótima linguagem para Data Science. Minerando Dados é a sua comunidade.\")"
      ],
      "execution_count": null,
      "outputs": []
    },
    {
      "cell_type": "markdown",
      "metadata": {
        "id": "sU6ytaMv93fs"
      },
      "source": [
        "**Tokenização de frases e detecção de sentenças**"
      ]
    },
    {
      "cell_type": "markdown",
      "metadata": {
        "id": "WX2SiwqD8RxM"
      },
      "source": [
        "Fazendo a tokenização da frase"
      ]
    },
    {
      "cell_type": "code",
      "metadata": {
        "colab": {
          "base_uri": "https://localhost:8080/"
        },
        "id": "wnaZrjSg8Nig",
        "outputId": "a5a60832-265d-4efd-f2c7-1db7082f095d"
      },
      "source": [
        "sentences.tokens"
      ],
      "execution_count": null,
      "outputs": [
        {
          "output_type": "execute_result",
          "data": {
            "text/plain": [
              "WordList(['Python', 'é', 'uma', 'ótima', 'linguagem', 'para', 'Data', 'Science', '.', 'Minerando', 'Dados', 'é', 'a', 'sua', 'comunidade', '.'])"
            ]
          },
          "metadata": {
            "tags": []
          },
          "execution_count": 20
        }
      ]
    },
    {
      "cell_type": "markdown",
      "metadata": {
        "id": "0Jk26DPN8V_Z"
      },
      "source": [
        "Detectando sentenças"
      ]
    },
    {
      "cell_type": "code",
      "metadata": {
        "colab": {
          "base_uri": "https://localhost:8080/"
        },
        "id": "pHVRk1HB8O1w",
        "outputId": "3b1aaed8-33af-4ee6-e61c-48abb464027e"
      },
      "source": [
        "sentences.sentences"
      ],
      "execution_count": null,
      "outputs": [
        {
          "output_type": "execute_result",
          "data": {
            "text/plain": [
              "[Sentence(\"Python é uma ótima linguagem para Data Science.\"),\n",
              " Sentence(\"Minerando Dados é a sua comunidade.\")]"
            ]
          },
          "metadata": {
            "tags": []
          },
          "execution_count": 21
        }
      ]
    },
    {
      "cell_type": "markdown",
      "metadata": {
        "id": "2zQ4A_ih9742"
      },
      "source": [
        "**Tradução de frases**"
      ]
    },
    {
      "cell_type": "markdown",
      "metadata": {
        "id": "HdlUog469_R6"
      },
      "source": [
        "*   A TextBlob utiliza a API do Google Translator para fazer a tradução."
      ]
    },
    {
      "cell_type": "markdown",
      "metadata": {
        "id": "F1kESrgk8qjc"
      },
      "source": [
        "Traduzindo a frase"
      ]
    },
    {
      "cell_type": "markdown",
      "metadata": {
        "id": "0h8LrfEZ86sL"
      },
      "source": [
        "*   Detecção automática do idioma"
      ]
    },
    {
      "cell_type": "code",
      "metadata": {
        "colab": {
          "base_uri": "https://localhost:8080/",
          "height": 35
        },
        "id": "tES0vuu68Yvx",
        "outputId": "a6a9deda-dfe3-40f8-b659-9bc6097ad7bc"
      },
      "source": [
        "sentences.detect_language()"
      ],
      "execution_count": null,
      "outputs": [
        {
          "output_type": "execute_result",
          "data": {
            "application/vnd.google.colaboratory.intrinsic+json": {
              "type": "string"
            },
            "text/plain": [
              "'pt'"
            ]
          },
          "metadata": {
            "tags": []
          },
          "execution_count": 22
        }
      ]
    },
    {
      "cell_type": "markdown",
      "metadata": {
        "id": "g2Q8Ai4N9C47"
      },
      "source": [
        "*   Traduzindo a frase para o inglês."
      ]
    },
    {
      "cell_type": "code",
      "metadata": {
        "colab": {
          "base_uri": "https://localhost:8080/"
        },
        "id": "RN54CTSC8_pZ",
        "outputId": "74083554-d985-4ede-9630-59bcdd0f0201"
      },
      "source": [
        "sentences.translate(to='en')"
      ],
      "execution_count": null,
      "outputs": [
        {
          "output_type": "execute_result",
          "data": {
            "text/plain": [
              "TextBlob(\"Python is a great language for Data Science. Data mining is your community.\")"
            ]
          },
          "metadata": {
            "tags": []
          },
          "execution_count": 23
        }
      ]
    },
    {
      "cell_type": "markdown",
      "metadata": {
        "id": "AsDM6O9Z9Lj8"
      },
      "source": [
        "*   Informando o idioma explicitamente e traduzindo a frase para o inglês (nem sempre a detecção automática de idioma se sai bem)"
      ]
    },
    {
      "cell_type": "code",
      "metadata": {
        "colab": {
          "base_uri": "https://localhost:8080/"
        },
        "id": "CuWzdQXb9H5p",
        "outputId": "2e475ca7-83b3-4f3a-e900-b8ca26867b8e"
      },
      "source": [
        "sentences.translate(from_lang='pt', to='en')"
      ],
      "execution_count": null,
      "outputs": [
        {
          "output_type": "execute_result",
          "data": {
            "text/plain": [
              "TextBlob(\"Python is a great language for Data Science. Data mining is your community.\")"
            ]
          },
          "metadata": {
            "tags": []
          },
          "execution_count": 24
        }
      ]
    },
    {
      "cell_type": "markdown",
      "metadata": {
        "id": "JybzSVlF9hjV"
      },
      "source": [
        "Traduzindo a frase para o espanhol"
      ]
    },
    {
      "cell_type": "code",
      "metadata": {
        "colab": {
          "base_uri": "https://localhost:8080/"
        },
        "id": "Xb0Fybb99dDR",
        "outputId": "01a44d35-c014-40c6-faa5-dba588595c29"
      },
      "source": [
        "sentences.translate(from_lang='pt', to='es')"
      ],
      "execution_count": null,
      "outputs": [
        {
          "output_type": "execute_result",
          "data": {
            "text/plain": [
              "TextBlob(\"Python es un gran lenguaje para la ciencia de datos. La minería de datos es tu comunidad.\")"
            ]
          },
          "metadata": {
            "tags": []
          },
          "execution_count": 25
        }
      ]
    },
    {
      "cell_type": "markdown",
      "metadata": {
        "id": "KicQuJ-v-LzS"
      },
      "source": [
        "**Correção automática**"
      ]
    },
    {
      "cell_type": "markdown",
      "metadata": {
        "id": "FuBl-3YV-nK7"
      },
      "source": [
        "*   A biblioteca TextBlob possui um método de correção automática, o *correct()*.\n",
        "*   Porém, essa parte de correção automática dessa biblioteca ainda não se sai bem com o idioma português. Funciona muito bem com o inglês."
      ]
    },
    {
      "cell_type": "code",
      "metadata": {
        "id": "qjlLsE0V9rQi"
      },
      "source": [
        "sentence = TextBlob('Eu tenhu que sair daqu hoji')"
      ],
      "execution_count": null,
      "outputs": []
    },
    {
      "cell_type": "code",
      "metadata": {
        "colab": {
          "base_uri": "https://localhost:8080/"
        },
        "id": "7bZ_5L2i-XEl",
        "outputId": "5275460f-0672-4ad4-ab9c-b49f584d1ad1"
      },
      "source": [
        "sentence.correct()"
      ],
      "execution_count": null,
      "outputs": [
        {
          "output_type": "execute_result",
          "data": {
            "text/plain": [
              "TextBlob(\"U ten que said day how\")"
            ]
          },
          "metadata": {
            "tags": []
          },
          "execution_count": 27
        }
      ]
    },
    {
      "cell_type": "markdown",
      "metadata": {
        "id": "fxbBOMQq_D4K"
      },
      "source": [
        "Observe que o método não identificou que o idioma era português e tentou fazer a correção das palavras para o inglês.\n",
        "\n",
        "Vemos, com isso, que ainda há falhas com o idioma português."
      ]
    },
    {
      "cell_type": "markdown",
      "metadata": {
        "id": "gHdaF9qXG_mq"
      },
      "source": [
        "Vejamos o resultado de uma correção automática de frases em inglês"
      ]
    },
    {
      "cell_type": "code",
      "metadata": {
        "id": "22sYlusz-YLg"
      },
      "source": [
        "sentence = TextBlob('I havv othyr idea, ok !! comi on')"
      ],
      "execution_count": null,
      "outputs": []
    },
    {
      "cell_type": "code",
      "metadata": {
        "colab": {
          "base_uri": "https://localhost:8080/"
        },
        "id": "qs1v8o9eHMt4",
        "outputId": "e5e8ec89-1405-4a28-fe2e-6aa715c84a11"
      },
      "source": [
        "sentence.correct()"
      ],
      "execution_count": null,
      "outputs": [
        {
          "output_type": "execute_result",
          "data": {
            "text/plain": [
              "TextBlob(\"I have other idea, ok !! come on\")"
            ]
          },
          "metadata": {
            "tags": []
          },
          "execution_count": 29
        }
      ]
    },
    {
      "cell_type": "markdown",
      "metadata": {
        "id": "fTdFox52HRz3"
      },
      "source": [
        "Observe que, de fato, o método corrigiu perfeitamente a frase em inglês."
      ]
    },
    {
      "cell_type": "markdown",
      "metadata": {
        "id": "K0REisvFIPU7"
      },
      "source": [
        "**Trabalhando com n-grams com a biblioteca TextBlob**"
      ]
    },
    {
      "cell_type": "markdown",
      "metadata": {
        "id": "airtCo1kIXG-"
      },
      "source": [
        "*   Bigram"
      ]
    },
    {
      "cell_type": "code",
      "metadata": {
        "colab": {
          "base_uri": "https://localhost:8080/"
        },
        "id": "o8cUf66MIFkL",
        "outputId": "77d1d3bd-4223-4d67-cb0f-bbe20acd5a5d"
      },
      "source": [
        "sentence = TextBlob('Python is a great language for Data Science')\n",
        "sentence.ngrams(n=2)"
      ],
      "execution_count": null,
      "outputs": [
        {
          "output_type": "execute_result",
          "data": {
            "text/plain": [
              "[WordList(['Python', 'is']),\n",
              " WordList(['is', 'a']),\n",
              " WordList(['a', 'great']),\n",
              " WordList(['great', 'language']),\n",
              " WordList(['language', 'for']),\n",
              " WordList(['for', 'Data']),\n",
              " WordList(['Data', 'Science'])]"
            ]
          },
          "metadata": {
            "tags": []
          },
          "execution_count": 35
        }
      ]
    },
    {
      "cell_type": "markdown",
      "metadata": {
        "id": "dWN1w0ykIkse"
      },
      "source": [
        "*   Trigram"
      ]
    },
    {
      "cell_type": "code",
      "metadata": {
        "colab": {
          "base_uri": "https://localhost:8080/"
        },
        "id": "wJp49uCcIjKz",
        "outputId": "49258cc3-8661-430b-9e4c-d88c745f1e22"
      },
      "source": [
        "sentence = TextBlob('Python is a great language for Data Science')\n",
        "sentence.ngrams(n=3)"
      ],
      "execution_count": null,
      "outputs": [
        {
          "output_type": "execute_result",
          "data": {
            "text/plain": [
              "[WordList(['Python', 'is', 'a']),\n",
              " WordList(['is', 'a', 'great']),\n",
              " WordList(['a', 'great', 'language']),\n",
              " WordList(['great', 'language', 'for']),\n",
              " WordList(['language', 'for', 'Data']),\n",
              " WordList(['for', 'Data', 'Science'])]"
            ]
          },
          "metadata": {
            "tags": []
          },
          "execution_count": 36
        }
      ]
    },
    {
      "cell_type": "markdown",
      "metadata": {
        "id": "wRA__pEtIop9"
      },
      "source": [
        "*   Fourgram"
      ]
    },
    {
      "cell_type": "code",
      "metadata": {
        "colab": {
          "base_uri": "https://localhost:8080/"
        },
        "id": "2HT2rr9pIn1K",
        "outputId": "e7be7a3f-a2c7-48b8-d868-86953357a284"
      },
      "source": [
        "sentence = TextBlob('Python is a great language for Data Science')\n",
        "sentence.ngrams(n=4)"
      ],
      "execution_count": null,
      "outputs": [
        {
          "output_type": "execute_result",
          "data": {
            "text/plain": [
              "[WordList(['Python', 'is', 'a', 'great']),\n",
              " WordList(['is', 'a', 'great', 'language']),\n",
              " WordList(['a', 'great', 'language', 'for']),\n",
              " WordList(['great', 'language', 'for', 'Data']),\n",
              " WordList(['language', 'for', 'Data', 'Science'])]"
            ]
          },
          "metadata": {
            "tags": []
          },
          "execution_count": 37
        }
      ]
    },
    {
      "cell_type": "markdown",
      "metadata": {
        "id": "cK2zxvx-I50o"
      },
      "source": [
        "###Análise de sentimentos com TextBlob"
      ]
    },
    {
      "cell_type": "markdown",
      "metadata": {
        "id": "j3dvc3kOJERb"
      },
      "source": [
        "*   Para fazer a análise de sentimentos, a TextBlob utiliza a biblioteca Pattern.\n",
        "*   Por padrão, a TextBlob usa base léxica.\n",
        "*   É possível alterar o classificador para utilizar Machine Learning."
      ]
    },
    {
      "cell_type": "code",
      "metadata": {
        "id": "Ae9n4YolIrOK"
      },
      "source": [
        "sentence = TextBlob('Python é uma ótima linguagem')"
      ],
      "execution_count": null,
      "outputs": []
    },
    {
      "cell_type": "markdown",
      "metadata": {
        "id": "FldVxm65Ja6H"
      },
      "source": [
        "Utilizando o método *sentiment* para imprimir o sentimento da frase"
      ]
    },
    {
      "cell_type": "code",
      "metadata": {
        "colab": {
          "base_uri": "https://localhost:8080/"
        },
        "id": "y4FyCuFnJZM6",
        "outputId": "0194c94f-c356-4b06-d427-10d7a24019f7"
      },
      "source": [
        "sentence.sentiment"
      ],
      "execution_count": null,
      "outputs": [
        {
          "output_type": "execute_result",
          "data": {
            "text/plain": [
              "Sentiment(polarity=0.0, subjectivity=0.0)"
            ]
          },
          "metadata": {
            "tags": []
          },
          "execution_count": 39
        }
      ]
    },
    {
      "cell_type": "markdown",
      "metadata": {
        "id": "NdEVAaPMJlMg"
      },
      "source": [
        "Obsever que tivemos polaridade=0 e subjetividade=0, ou seja, o método não conseguiu classificar o sentimento dessa frase. Isso foi ocasionado pelo fato de a frase estar em português. (Esse método também não performa bem em português, por enquanto). Ou seja, há uma limitação em relação ao idioma."
      ]
    },
    {
      "cell_type": "markdown",
      "metadata": {
        "id": "d34bKihKJ2Ct"
      },
      "source": [
        "Fazendo o mesmo com uma frase em inglês."
      ]
    },
    {
      "cell_type": "code",
      "metadata": {
        "id": "G3a0HC9qJiyS"
      },
      "source": [
        "sentence = TextBlob('Python is a great language for Data Science')"
      ],
      "execution_count": null,
      "outputs": []
    },
    {
      "cell_type": "code",
      "metadata": {
        "colab": {
          "base_uri": "https://localhost:8080/"
        },
        "id": "u1BBpm3LKEcf",
        "outputId": "0df6a9b8-604f-4c85-d779-4590d2b6df63"
      },
      "source": [
        "sentence.sentiment"
      ],
      "execution_count": null,
      "outputs": [
        {
          "output_type": "execute_result",
          "data": {
            "text/plain": [
              "Sentiment(polarity=0.8, subjectivity=0.75)"
            ]
          },
          "metadata": {
            "tags": []
          },
          "execution_count": 41
        }
      ]
    },
    {
      "cell_type": "markdown",
      "metadata": {
        "id": "7fcurYqpKMC-"
      },
      "source": [
        "A escala de polaridade vai de -1 a 1. Como a polaridade deu 0.8, essa frase é muito positiva.\n",
        "\n",
        "A escala de subjetividade vai de 0 a 1. Como a subjetividade deu 0.75, essa frase pode ser considerada mais subjetiva do que objetiva."
      ]
    },
    {
      "cell_type": "markdown",
      "metadata": {
        "id": "ABZ4WZ3KLCrt"
      },
      "source": [
        "Vejamos com outra frase em inglês"
      ]
    },
    {
      "cell_type": "code",
      "metadata": {
        "colab": {
          "base_uri": "https://localhost:8080/"
        },
        "id": "oPWpL3TJKKSy",
        "outputId": "84e1ff52-eadc-419f-f3f0-80407f551376"
      },
      "source": [
        "sentence = TextBlob('Python is a terrible language!')\n",
        "sentence.sentiment"
      ],
      "execution_count": null,
      "outputs": [
        {
          "output_type": "execute_result",
          "data": {
            "text/plain": [
              "Sentiment(polarity=-1.0, subjectivity=1.0)"
            ]
          },
          "metadata": {
            "tags": []
          },
          "execution_count": 42
        }
      ]
    },
    {
      "cell_type": "markdown",
      "metadata": {
        "id": "9Q_3VOMrLMjP"
      },
      "source": [
        "A escala de polaridade vai de -1 a 1. Como a polaridade deu -1, essa frase é muito negativa.\n",
        "\n",
        "A escala de subjetividade vai de 0 a 1. Como a subjetividade deu 1, essa frase é bastante subjetiva."
      ]
    },
    {
      "cell_type": "markdown",
      "metadata": {
        "id": "TsrkgGWULYol"
      },
      "source": [
        "Alterando o classificador utilizado para a Análise de Sentimentos.\n",
        "\n",
        "Aqui, vamos utilizar o classificador de Naive Bayes (esse classificador vem da NLTK e é treinado com a base de Tweets da mesma). Logo, a biblioteca utilizará Machine Learning."
      ]
    },
    {
      "cell_type": "code",
      "metadata": {
        "id": "WcBZLyvILKMz"
      },
      "source": [
        "from textblob.sentiments import NaiveBayesAnalyzer"
      ],
      "execution_count": null,
      "outputs": []
    },
    {
      "cell_type": "code",
      "metadata": {
        "colab": {
          "base_uri": "https://localhost:8080/"
        },
        "id": "ZSZDnyJsLzCT",
        "outputId": "98641452-f1ca-472b-d0c8-d49beae2d7bf"
      },
      "source": [
        "sentence = TextBlob('Python is a great language for Data Science', analyzer=NaiveBayesAnalyzer())\n",
        "sentence.sentiment"
      ],
      "execution_count": null,
      "outputs": [
        {
          "output_type": "execute_result",
          "data": {
            "text/plain": [
              "Sentiment(classification='pos', p_pos=0.6635684561319586, p_neg=0.33643154386804197)"
            ]
          },
          "metadata": {
            "tags": []
          },
          "execution_count": 44
        }
      ]
    },
    {
      "cell_type": "markdown",
      "metadata": {
        "id": "c1esESUiMI56"
      },
      "source": [
        "Com o Naive Bayes, a frase foi classificada como uma frase positiva. Observe que nos foi retornado a probabilidade de a frase ser positiva e de a frase ser negativa. Como a probabilidade de ser positiva é maior, a frase foi classificada como positiva."
      ]
    }
  ]
}