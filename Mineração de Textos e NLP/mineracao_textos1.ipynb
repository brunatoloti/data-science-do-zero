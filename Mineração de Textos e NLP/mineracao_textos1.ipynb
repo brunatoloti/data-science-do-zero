{
  "nbformat": 4,
  "nbformat_minor": 0,
  "metadata": {
    "colab": {
      "name": "mineracao_textos1.ipynb",
      "provenance": [],
      "collapsed_sections": [],
      "toc_visible": true,
      "mount_file_id": "1I7b-rwy30tUFCAJU4T07qGHfrItatO_i",
      "authorship_tag": "ABX9TyNSCWdVAqLUNMxjgFqDO256",
      "include_colab_link": true
    },
    "kernelspec": {
      "name": "python3",
      "display_name": "Python 3"
    },
    "language_info": {
      "name": "python"
    }
  },
  "cells": [
    {
      "cell_type": "markdown",
      "metadata": {
        "id": "view-in-github",
        "colab_type": "text"
      },
      "source": [
        "<a href=\"https://colab.research.google.com/github/brunatoloti/data-science-do-zero/blob/main/Minera%C3%A7%C3%A3o%20de%20Textos%20e%20NLP/mineracao_textos1.ipynb\" target=\"_parent\"><img src=\"https://colab.research.google.com/assets/colab-badge.svg\" alt=\"Open In Colab\"/></a>"
      ]
    },
    {
      "cell_type": "markdown",
      "metadata": {
        "id": "p3McNoQ2WK1s"
      },
      "source": [
        "#Mineração de Textos"
      ]
    },
    {
      "cell_type": "markdown",
      "metadata": {
        "id": "vdWnh4P2WNns"
      },
      "source": [
        "- Mineração de textos usando Python"
      ]
    },
    {
      "cell_type": "markdown",
      "metadata": {
        "id": "6JJYyodHWQ1E"
      },
      "source": [
        "**Importando as bibliotecas**"
      ]
    },
    {
      "cell_type": "code",
      "metadata": {
        "id": "EBFTR7JHWJ4_"
      },
      "source": [
        "import nltk\n",
        "import re\n",
        "from nltk.corpus import wordnet"
      ],
      "execution_count": null,
      "outputs": []
    },
    {
      "cell_type": "markdown",
      "metadata": {
        "id": "qYTVRoBQWaGl"
      },
      "source": [
        "Fazendo algumas operações com regex para relembrar"
      ]
    },
    {
      "cell_type": "code",
      "metadata": {
        "colab": {
          "base_uri": "https://localhost:8080/",
          "height": 35
        },
        "id": "O7le5K_RXxFs",
        "outputId": "f05a75c7-9f0a-40c9-a630-a05550f4ff3e"
      },
      "source": [
        "text = \"Data Science!!!!, Mineração de Texto !??!!;;()\"\n",
        "re.sub(r'[-./?!,\":;()\\']', '', text) #Removendo caracteres que não importam da frase (muito usado em data cleaning)"
      ],
      "execution_count": null,
      "outputs": [
        {
          "output_type": "execute_result",
          "data": {
            "application/vnd.google.colaboratory.intrinsic+json": {
              "type": "string"
            },
            "text/plain": [
              "'Data Science Mineração de Texto '"
            ]
          },
          "metadata": {
            "tags": []
          },
          "execution_count": 100
        }
      ]
    },
    {
      "cell_type": "markdown",
      "metadata": {
        "id": "k8tMLxhdbi4v"
      },
      "source": [
        "**Trabalhando com NLTK**"
      ]
    },
    {
      "cell_type": "markdown",
      "metadata": {
        "id": "umEQyNg1buf4"
      },
      "source": [
        "Fazendo o download dos pacotes da NLTK"
      ]
    },
    {
      "cell_type": "code",
      "metadata": {
        "id": "ahyrRR1XSyov"
      },
      "source": [
        "#nltk.download()"
      ],
      "execution_count": null,
      "outputs": []
    },
    {
      "cell_type": "markdown",
      "metadata": {
        "id": "m7GGmt2bbiTf"
      },
      "source": [
        "Separando as palavras da lista, transformando-as em tokens da NLTK"
      ]
    },
    {
      "cell_type": "code",
      "metadata": {
        "id": "h6gisL96bIPd",
        "colab": {
          "base_uri": "https://localhost:8080/"
        },
        "outputId": "e335d4b9-9776-48aa-ee21-01143af51d7f"
      },
      "source": [
        "string = 'Python é uma linguagem sensacional'\n",
        "words = nltk.word_tokenize(string)\n",
        "words"
      ],
      "execution_count": null,
      "outputs": [
        {
          "output_type": "execute_result",
          "data": {
            "text/plain": [
              "['Python', 'é', 'uma', 'linguagem', 'sensacional']"
            ]
          },
          "metadata": {
            "tags": []
          },
          "execution_count": 102
        }
      ]
    },
    {
      "cell_type": "markdown",
      "metadata": {
        "id": "186WjH66Xqen"
      },
      "source": [
        "Obtendo a frequência de cada palavra "
      ]
    },
    {
      "cell_type": "code",
      "metadata": {
        "id": "AAqhWMrbSYOW",
        "colab": {
          "base_uri": "https://localhost:8080/"
        },
        "outputId": "7731272a-6242-405e-d88e-d61567be1f9a"
      },
      "source": [
        "from nltk import FreqDist\n",
        "frequency = FreqDist(['python', 'python', 'python', 'Data Science', 'linguagem', 'programação', 'Data Science','mineração'])\n",
        "frequency"
      ],
      "execution_count": null,
      "outputs": [
        {
          "output_type": "execute_result",
          "data": {
            "text/plain": [
              "FreqDist({'Data Science': 2,\n",
              "          'linguagem': 1,\n",
              "          'mineração': 1,\n",
              "          'programação': 1,\n",
              "          'python': 3})"
            ]
          },
          "metadata": {
            "tags": []
          },
          "execution_count": 103
        }
      ]
    },
    {
      "cell_type": "markdown",
      "metadata": {
        "id": "nmDy8KIsX1vU"
      },
      "source": [
        "Usando o método *values()* na variável *frequency* para obter apenas os valores de frequência das palavras"
      ]
    },
    {
      "cell_type": "code",
      "metadata": {
        "colab": {
          "base_uri": "https://localhost:8080/"
        },
        "id": "tj6tVEBDXT7W",
        "outputId": "6364be57-59eb-4b40-c665-a9eab3f4347e"
      },
      "source": [
        "frequency.values()"
      ],
      "execution_count": null,
      "outputs": [
        {
          "output_type": "execute_result",
          "data": {
            "text/plain": [
              "dict_values([3, 2, 1, 1, 1])"
            ]
          },
          "metadata": {
            "tags": []
          },
          "execution_count": 104
        }
      ]
    },
    {
      "cell_type": "markdown",
      "metadata": {
        "id": "U50wzu0MYEaK"
      },
      "source": [
        "Obtendo a palavra de  maior frequência, usando o método *max()*, ou seja, retorna a chave que possui maior valor em *frequency*\n",
        "\n"
      ]
    },
    {
      "cell_type": "code",
      "metadata": {
        "colab": {
          "base_uri": "https://localhost:8080/",
          "height": 35
        },
        "id": "iBzUKyBcXoQ1",
        "outputId": "0f1f7f48-1fc5-4aca-9e66-1e31a8f29351"
      },
      "source": [
        "frequency.max()"
      ],
      "execution_count": null,
      "outputs": [
        {
          "output_type": "execute_result",
          "data": {
            "application/vnd.google.colaboratory.intrinsic+json": {
              "type": "string"
            },
            "text/plain": [
              "'python'"
            ]
          },
          "metadata": {
            "tags": []
          },
          "execution_count": 105
        }
      ]
    },
    {
      "cell_type": "markdown",
      "metadata": {
        "id": "n8TFb_QZZFP5"
      },
      "source": [
        "*O objeto FreqDist possui métodos de dicionário, o que nos ajuda bastante dependendo da tarefa que precisamos realizar*"
      ]
    },
    {
      "cell_type": "markdown",
      "metadata": {
        "id": "eTeo-iBKZhV_"
      },
      "source": [
        "Plotando a frequência de palavras em uma determinada lista (base)"
      ]
    },
    {
      "cell_type": "code",
      "metadata": {
        "colab": {
          "base_uri": "https://localhost:8080/",
          "height": 281
        },
        "id": "cNAsY5iUYtk2",
        "outputId": "a9b1072a-1289-456f-cc69-6c7cec826195"
      },
      "source": [
        "import numpy as np\n",
        "import matplotlib.pyplot as plt\n",
        "\n",
        "words = frequency.keys()\n",
        "y_pos = np.arange(len(words))\n",
        "count = frequency.values()\n",
        "\n",
        "plt.bar(y_pos, count, align='center', alpha=0.5)\n",
        "plt.xticks(y_pos, words)\n",
        "plt.ylabel('Frequência')\n",
        "plt.title('Frequência das palavras na lista')\n",
        "\n",
        "plt.show()"
      ],
      "execution_count": null,
      "outputs": [
        {
          "output_type": "display_data",
          "data": {
            "image/png": "[encoded data removed]",
            "text/plain": [
              "<Figure size 432x288 with 1 Axes>"
            ]
          },
          "metadata": {
            "tags": [],
            "needs_background": "light"
          }
        }
      ]
    },
    {
      "cell_type": "markdown",
      "metadata": {
        "id": "WYfDnlnCcWBh"
      },
      "source": [
        "**Stemming**"
      ]
    },
    {
      "cell_type": "markdown",
      "metadata": {
        "id": "YPV3rdREcYCo"
      },
      "source": [
        "\n",
        "*   Dicionários léxicos.\n",
        "*   Reduz uma palavra na forma do seu radical.\n",
        "*   Usado para fazer pré-processamento de dados.\n",
        "*   Muito utilizado devido às inúmeras variações de palavras que, muitas vezes, não são relevantes ao modelo ou que pode até prejudicar o modelo. Dessa forma, reduzimos, bastante, o número de palavras únicas da base.\n",
        "*   Porém, dependendo do modelo ou da tarefa a ser realizada, utilizar o stemming se torna prejudicial para o resultado. Por isso, é sempre importante analisar o resultado usando e não usando o stemming e, assim, decidir se, para aquele caso, ele melhora ou não o resultado.\n",
        "*   Pode não ser muito bom usar com Análise de Sentimentos.\n",
        "\n",
        "\n",
        "\n"
      ]
    },
    {
      "cell_type": "markdown",
      "metadata": {
        "id": "Jd-cqMjXcpV6"
      },
      "source": [
        "Instanciando um stemming em Português"
      ]
    },
    {
      "cell_type": "code",
      "metadata": {
        "id": "LFcEhoWOcGdQ"
      },
      "source": [
        "stemmer = nltk.stem.RSLPStemmer()"
      ],
      "execution_count": null,
      "outputs": []
    },
    {
      "cell_type": "markdown",
      "metadata": {
        "id": "bp9zvo-MdOq5"
      },
      "source": [
        "Exemplos"
      ]
    },
    {
      "cell_type": "markdown",
      "metadata": {
        "id": "mgD2hShzeAfo"
      },
      "source": [
        "\n",
        "\n",
        "\n",
        "1.   Trabalhou - Trabalhava - Trabalha - Trabalha\n"
      ]
    },
    {
      "cell_type": "code",
      "metadata": {
        "colab": {
          "base_uri": "https://localhost:8080/",
          "height": 35
        },
        "id": "-m2h71IGc08f",
        "outputId": "25180d93-eba4-40d7-9a59-628563576741"
      },
      "source": [
        "stemmer.stem('Trabalhou')"
      ],
      "execution_count": null,
      "outputs": [
        {
          "output_type": "execute_result",
          "data": {
            "application/vnd.google.colaboratory.intrinsic+json": {
              "type": "string"
            },
            "text/plain": [
              "'trabalh'"
            ]
          },
          "metadata": {
            "tags": []
          },
          "execution_count": 108
        }
      ]
    },
    {
      "cell_type": "code",
      "metadata": {
        "colab": {
          "base_uri": "https://localhost:8080/",
          "height": 35
        },
        "id": "BpNt8YaIdMA2",
        "outputId": "084d40c6-de55-419f-ae99-95aa346f6d44"
      },
      "source": [
        "stemmer.stem('Trabalhava')"
      ],
      "execution_count": null,
      "outputs": [
        {
          "output_type": "execute_result",
          "data": {
            "application/vnd.google.colaboratory.intrinsic+json": {
              "type": "string"
            },
            "text/plain": [
              "'trabalh'"
            ]
          },
          "metadata": {
            "tags": []
          },
          "execution_count": 109
        }
      ]
    },
    {
      "cell_type": "code",
      "metadata": {
        "colab": {
          "base_uri": "https://localhost:8080/",
          "height": 35
        },
        "id": "TrfMYRJVdTbl",
        "outputId": "159e2430-2c42-490f-e24f-c418db4120f6"
      },
      "source": [
        "stemmer.stem('Trabalha')"
      ],
      "execution_count": null,
      "outputs": [
        {
          "output_type": "execute_result",
          "data": {
            "application/vnd.google.colaboratory.intrinsic+json": {
              "type": "string"
            },
            "text/plain": [
              "'trabalh'"
            ]
          },
          "metadata": {
            "tags": []
          },
          "execution_count": 110
        }
      ]
    },
    {
      "cell_type": "code",
      "metadata": {
        "colab": {
          "base_uri": "https://localhost:8080/",
          "height": 35
        },
        "id": "IW_to7j7dYo1",
        "outputId": "8b51137f-a615-42d2-fc96-41333ddd10eb"
      },
      "source": [
        "stemmer.stem('Trabalhar')"
      ],
      "execution_count": null,
      "outputs": [
        {
          "output_type": "execute_result",
          "data": {
            "application/vnd.google.colaboratory.intrinsic+json": {
              "type": "string"
            },
            "text/plain": [
              "'trabalh'"
            ]
          },
          "metadata": {
            "tags": []
          },
          "execution_count": 111
        }
      ]
    },
    {
      "cell_type": "markdown",
      "metadata": {
        "id": "o8U9HYtNgivL"
      },
      "source": [
        "Instanciando um stemming em Inglês"
      ]
    },
    {
      "cell_type": "code",
      "metadata": {
        "id": "Ttq2ca8yeP_u"
      },
      "source": [
        "stemmer = nltk.stem.SnowballStemmer('english')"
      ],
      "execution_count": null,
      "outputs": []
    },
    {
      "cell_type": "markdown",
      "metadata": {
        "id": "wP6qJyDZguBf"
      },
      "source": [
        "Exemplos"
      ]
    },
    {
      "cell_type": "markdown",
      "metadata": {
        "id": "zUrclaIXgxMn"
      },
      "source": [
        "\n",
        "\n",
        "1.   running - run"
      ]
    },
    {
      "cell_type": "code",
      "metadata": {
        "colab": {
          "base_uri": "https://localhost:8080/",
          "height": 35
        },
        "id": "LX16aTiFgoeu",
        "outputId": "4890ff23-a9ce-4027-def2-11427deca524"
      },
      "source": [
        "stemmer.stem('running')"
      ],
      "execution_count": null,
      "outputs": [
        {
          "output_type": "execute_result",
          "data": {
            "application/vnd.google.colaboratory.intrinsic+json": {
              "type": "string"
            },
            "text/plain": [
              "'run'"
            ]
          },
          "metadata": {
            "tags": []
          },
          "execution_count": 113
        }
      ]
    },
    {
      "cell_type": "code",
      "metadata": {
        "colab": {
          "base_uri": "https://localhost:8080/",
          "height": 35
        },
        "id": "wjKjiR9UgrHO",
        "outputId": "406d7493-16ae-4506-cd2a-58beac02d3d3"
      },
      "source": [
        "stemmer.stem('run')"
      ],
      "execution_count": null,
      "outputs": [
        {
          "output_type": "execute_result",
          "data": {
            "application/vnd.google.colaboratory.intrinsic+json": {
              "type": "string"
            },
            "text/plain": [
              "'run'"
            ]
          },
          "metadata": {
            "tags": []
          },
          "execution_count": 114
        }
      ]
    },
    {
      "cell_type": "markdown",
      "metadata": {
        "id": "qyC7U7rehAtb"
      },
      "source": [
        "\n",
        "\n",
        "2.   have - having\n",
        "\n"
      ]
    },
    {
      "cell_type": "code",
      "metadata": {
        "colab": {
          "base_uri": "https://localhost:8080/",
          "height": 35
        },
        "id": "l7xk8KtTg5BH",
        "outputId": "32c52913-8a59-4edf-b236-cd4620a226b3"
      },
      "source": [
        "stemmer.stem('have')"
      ],
      "execution_count": null,
      "outputs": [
        {
          "output_type": "execute_result",
          "data": {
            "application/vnd.google.colaboratory.intrinsic+json": {
              "type": "string"
            },
            "text/plain": [
              "'have'"
            ]
          },
          "metadata": {
            "tags": []
          },
          "execution_count": 115
        }
      ]
    },
    {
      "cell_type": "code",
      "metadata": {
        "colab": {
          "base_uri": "https://localhost:8080/",
          "height": 35
        },
        "id": "jKaIVYfVhGJ2",
        "outputId": "6f9314dc-1b02-430f-944f-928e796fbe3d"
      },
      "source": [
        "stemmer.stem('having')"
      ],
      "execution_count": null,
      "outputs": [
        {
          "output_type": "execute_result",
          "data": {
            "application/vnd.google.colaboratory.intrinsic+json": {
              "type": "string"
            },
            "text/plain": [
              "'have'"
            ]
          },
          "metadata": {
            "tags": []
          },
          "execution_count": 116
        }
      ]
    },
    {
      "cell_type": "markdown",
      "metadata": {
        "id": "IsyhDlRFhtDi"
      },
      "source": [
        "Criando uma função para aplicar Stemming"
      ]
    },
    {
      "cell_type": "code",
      "metadata": {
        "id": "omNMUf3FhHlW"
      },
      "source": [
        "def Stemming(st):\n",
        "    stemmer = nltk.stem.RSLPStemmer()\n",
        "    words = []\n",
        "    for w in st.split():\n",
        "        words.append(stemmer.stem(w))\n",
        "    return (\" \".join(words))"
      ],
      "execution_count": null,
      "outputs": []
    },
    {
      "cell_type": "code",
      "metadata": {
        "colab": {
          "base_uri": "https://localhost:8080/",
          "height": 35
        },
        "id": "7JH1sDb1iGCe",
        "outputId": "116ced6b-a067-455f-da44-e1ed0283b60b"
      },
      "source": [
        "Stemming('Ele trabalhava frequentemente no projeto de criação de novos produtos')"
      ],
      "execution_count": null,
      "outputs": [
        {
          "output_type": "execute_result",
          "data": {
            "application/vnd.google.colaboratory.intrinsic+json": {
              "type": "string"
            },
            "text/plain": [
              "'ele trabalh frequ no projet de cri de nov produt'"
            ]
          },
          "metadata": {
            "tags": []
          },
          "execution_count": 118
        }
      ]
    },
    {
      "cell_type": "markdown",
      "metadata": {
        "id": "pLgHvv6SpU_K"
      },
      "source": [
        "**Lemmatization**"
      ]
    },
    {
      "cell_type": "markdown",
      "metadata": {
        "id": "CG4hFFC8pZu3"
      },
      "source": [
        "\n",
        "\n",
        "*   Desflexiona uma palavra para determinar o seu *lema*.\n",
        "*   Técnica usada para fazer pré-processamento de dados.\n",
        "*   Até a data de execução do notebook, não havia em Português.\n",
        "\n"
      ]
    },
    {
      "cell_type": "markdown",
      "metadata": {
        "id": "5lNNeDt7DV7Z"
      },
      "source": [
        "Importando a biblioteca"
      ]
    },
    {
      "cell_type": "code",
      "metadata": {
        "id": "5RN2LIR0ilJ1"
      },
      "source": [
        "from nltk.stem import WordNetLemmatizer"
      ],
      "execution_count": null,
      "outputs": []
    },
    {
      "cell_type": "markdown",
      "metadata": {
        "id": "mFm7Yf0zDbLp"
      },
      "source": [
        "Instanciando o objeto"
      ]
    },
    {
      "cell_type": "code",
      "metadata": {
        "id": "6JCrABeGDPWp"
      },
      "source": [
        "lemmatizer = WordNetLemmatizer()"
      ],
      "execution_count": null,
      "outputs": []
    },
    {
      "cell_type": "code",
      "metadata": {
        "colab": {
          "base_uri": "https://localhost:8080/"
        },
        "id": "89bSJoifEMvn",
        "outputId": "0a2d8697-a8c3-487d-aef6-5bdd6cc76534"
      },
      "source": [
        "#Encontrando o lema da palavra cats\n",
        "print(lemmatizer.lemmatize('cats'))    #parâmetro pos (part of speech) por default é substantivo (n)"
      ],
      "execution_count": null,
      "outputs": [
        {
          "output_type": "stream",
          "text": [
            "cat\n"
          ],
          "name": "stdout"
        }
      ]
    },
    {
      "cell_type": "markdown",
      "metadata": {
        "id": "KIsx-Tm1F77k"
      },
      "source": [
        "Buscando o lema para 'is' do tipo substantivo (pos='n')"
      ]
    },
    {
      "cell_type": "code",
      "metadata": {
        "colab": {
          "base_uri": "https://localhost:8080/",
          "height": 35
        },
        "id": "la4Bk3VtFa8v",
        "outputId": "f93b6b4c-8369-450c-fe10-a7f48bf71d61"
      },
      "source": [
        "lemmatizer.lemmatize('is', pos='n')     "
      ],
      "execution_count": null,
      "outputs": [
        {
          "output_type": "execute_result",
          "data": {
            "application/vnd.google.colaboratory.intrinsic+json": {
              "type": "string"
            },
            "text/plain": [
              "'is'"
            ]
          },
          "metadata": {
            "tags": []
          },
          "execution_count": 122
        }
      ]
    },
    {
      "cell_type": "markdown",
      "metadata": {
        "id": "x2mTGqWpGAoI"
      },
      "source": [
        "Buscando o lema para 'is' do tipo verbo (pos='v')"
      ]
    },
    {
      "cell_type": "code",
      "metadata": {
        "colab": {
          "base_uri": "https://localhost:8080/",
          "height": 35
        },
        "id": "kwOHy-EtGEfy",
        "outputId": "1d81db19-7ab5-42ac-a32a-36b963b83202"
      },
      "source": [
        "lemmatizer.lemmatize('is', pos='v')"
      ],
      "execution_count": null,
      "outputs": [
        {
          "output_type": "execute_result",
          "data": {
            "application/vnd.google.colaboratory.intrinsic+json": {
              "type": "string"
            },
            "text/plain": [
              "'be'"
            ]
          },
          "metadata": {
            "tags": []
          },
          "execution_count": 123
        }
      ]
    },
    {
      "cell_type": "markdown",
      "metadata": {
        "id": "7a31eMJXGSvl"
      },
      "source": [
        "Da mesma forma o 'are'"
      ]
    },
    {
      "cell_type": "code",
      "metadata": {
        "colab": {
          "base_uri": "https://localhost:8080/",
          "height": 35
        },
        "id": "pOf3ZA-7GOLI",
        "outputId": "0d5d7ba1-0ad8-49e1-c51f-8d844face1ad"
      },
      "source": [
        "lemmatizer.lemmatize('are', pos='v')"
      ],
      "execution_count": null,
      "outputs": [
        {
          "output_type": "execute_result",
          "data": {
            "application/vnd.google.colaboratory.intrinsic+json": {
              "type": "string"
            },
            "text/plain": [
              "'be'"
            ]
          },
          "metadata": {
            "tags": []
          },
          "execution_count": 124
        }
      ]
    },
    {
      "cell_type": "markdown",
      "metadata": {
        "id": "Lkz_GCB0GXRo"
      },
      "source": [
        "Buscando o lema para 'better' do tipo adjetivo (pos='a')"
      ]
    },
    {
      "cell_type": "code",
      "metadata": {
        "colab": {
          "base_uri": "https://localhost:8080/",
          "height": 35
        },
        "id": "4rkqLMJ2GiEN",
        "outputId": "3e1e7ecc-29a5-40b1-b4a5-c2b275241d30"
      },
      "source": [
        "lemmatizer.lemmatize('better', pos='a')"
      ],
      "execution_count": null,
      "outputs": [
        {
          "output_type": "execute_result",
          "data": {
            "application/vnd.google.colaboratory.intrinsic+json": {
              "type": "string"
            },
            "text/plain": [
              "'good'"
            ]
          },
          "metadata": {
            "tags": []
          },
          "execution_count": 125
        }
      ]
    },
    {
      "cell_type": "markdown",
      "metadata": {
        "id": "S3bRHG24GzYK"
      },
      "source": [
        "Buscando o lema para 'best' do tipo adjetivo"
      ]
    },
    {
      "cell_type": "code",
      "metadata": {
        "colab": {
          "base_uri": "https://localhost:8080/",
          "height": 35
        },
        "id": "KKmIpSlcGnmO",
        "outputId": "31d0e2a3-da0c-4875-e9ae-66b6041881eb"
      },
      "source": [
        "lemmatizer.lemmatize('best', pos='a')"
      ],
      "execution_count": null,
      "outputs": [
        {
          "output_type": "execute_result",
          "data": {
            "application/vnd.google.colaboratory.intrinsic+json": {
              "type": "string"
            },
            "text/plain": [
              "'best'"
            ]
          },
          "metadata": {
            "tags": []
          },
          "execution_count": 126
        }
      ]
    },
    {
      "cell_type": "markdown",
      "metadata": {
        "id": "g0ATkBvMG6tJ"
      },
      "source": [
        "Buscando o lema para 'running' do tipo substantivo"
      ]
    },
    {
      "cell_type": "code",
      "metadata": {
        "colab": {
          "base_uri": "https://localhost:8080/",
          "height": 35
        },
        "id": "XWRXlzREG_j-",
        "outputId": "934e4454-c35b-4664-f796-16dfba0e7d19"
      },
      "source": [
        "lemmatizer.lemmatize('running', pos='n')"
      ],
      "execution_count": null,
      "outputs": [
        {
          "output_type": "execute_result",
          "data": {
            "application/vnd.google.colaboratory.intrinsic+json": {
              "type": "string"
            },
            "text/plain": [
              "'running'"
            ]
          },
          "metadata": {
            "tags": []
          },
          "execution_count": 127
        }
      ]
    },
    {
      "cell_type": "markdown",
      "metadata": {
        "id": "fNkdlAMkHFc5"
      },
      "source": [
        "Buscando o lema para 'running' do tipo verbo"
      ]
    },
    {
      "cell_type": "code",
      "metadata": {
        "colab": {
          "base_uri": "https://localhost:8080/",
          "height": 35
        },
        "id": "IqIQ2g2rHJvs",
        "outputId": "955e0b88-8c00-4362-c3f0-1d4d37e3c42c"
      },
      "source": [
        "lemmatizer.lemmatize('running', pos='v')"
      ],
      "execution_count": null,
      "outputs": [
        {
          "output_type": "execute_result",
          "data": {
            "application/vnd.google.colaboratory.intrinsic+json": {
              "type": "string"
            },
            "text/plain": [
              "'run'"
            ]
          },
          "metadata": {
            "tags": []
          },
          "execution_count": 128
        }
      ]
    },
    {
      "cell_type": "markdown",
      "metadata": {
        "id": "WQagIfH9HNeL"
      },
      "source": [
        "Buscando o lema para 'running' do tipo adjetivo"
      ]
    },
    {
      "cell_type": "code",
      "metadata": {
        "colab": {
          "base_uri": "https://localhost:8080/",
          "height": 35
        },
        "id": "KeZWNMaRHQ21",
        "outputId": "14c6c636-1a2d-485a-c201-78baeabf2669"
      },
      "source": [
        "lemmatizer.lemmatize('running', pos='a')"
      ],
      "execution_count": null,
      "outputs": [
        {
          "output_type": "execute_result",
          "data": {
            "application/vnd.google.colaboratory.intrinsic+json": {
              "type": "string"
            },
            "text/plain": [
              "'running'"
            ]
          },
          "metadata": {
            "tags": []
          },
          "execution_count": 129
        }
      ]
    },
    {
      "cell_type": "markdown",
      "metadata": {
        "id": "FjMsk_hrEv5S"
      },
      "source": [
        "Diferenças entre Stemming e Lemmatization:\n",
        "*   O Stemming, quando não encontra a raiz da palavra, geralmente, ele trunca a palavra (o que pode ser um problema, podemos ter um retorno de algo que não existe). Isso não ocorre no Lemmatization (no Lemmatization, ele traz a própria palavra se ele não encontra um lema do tipo especificado).\n",
        "*   Stemming geralmente se refere a um processo heurístico bruto que corta as pontas das palavras na esperança de atingir seu objetivo corretamente na maioria das vezes, e muitas vezes inclui a remoção de afixos derivacionais.\n",
        "*   O Lemmatization geralmente se refere a fazer as coisas corretamente com o uso de um vocabulário e análise morfológica de palavras, normalmente com o objetivo de remover apenas desinências flexionais e retornar a forma base ou dicionário de uma palavra, que é conhecido como lema. \n",
        "*   Por exemplo:  Se confrontado com o token saw, o Stemming pode retornar apenas s, enquanto o Lemmatization tentaria retornar see ou saw dependendo se o uso do token foi como um verbo ou um substantivo. \n",
        "\n"
      ]
    },
    {
      "cell_type": "markdown",
      "metadata": {
        "id": "KQVGVN0jI2eK"
      },
      "source": [
        "**StopWords**"
      ]
    },
    {
      "cell_type": "markdown",
      "metadata": {
        "id": "3wlcbu-nI9oJ"
      },
      "source": [
        "*   Palavras ou termos que são muito usados, mas que, normalmente, não têm nenhum significado ou relevância, como por exemplo os artigos 'é', 'o', 'a'.\n",
        "*   Técnica usada para pré-processamento de textos.\n",
        "*   Possui dicionário de palavras em Português."
      ]
    },
    {
      "cell_type": "markdown",
      "metadata": {
        "id": "7wBncXoYJWu8"
      },
      "source": [
        "Instanciando o objeto"
      ]
    },
    {
      "cell_type": "code",
      "metadata": {
        "id": "woO5KcxfEZqf"
      },
      "source": [
        "stopwords = nltk.corpus.stopwords.words('portuguese')"
      ],
      "execution_count": null,
      "outputs": []
    },
    {
      "cell_type": "markdown",
      "metadata": {
        "id": "Z-cCQ3YBJorU"
      },
      "source": [
        "Visualizando as 10 primeiras palavras que estão em stopwords"
      ]
    },
    {
      "cell_type": "code",
      "metadata": {
        "colab": {
          "base_uri": "https://localhost:8080/"
        },
        "id": "nxl3TG-6JgDm",
        "outputId": "de3b9079-4df3-4a86-f7a9-d07fba22340f"
      },
      "source": [
        "stopwords[:10]"
      ],
      "execution_count": null,
      "outputs": [
        {
          "output_type": "execute_result",
          "data": {
            "text/plain": [
              "['de', 'a', 'o', 'que', 'e', 'é', 'do', 'da', 'em', 'um']"
            ]
          },
          "metadata": {
            "tags": []
          },
          "execution_count": 131
        }
      ]
    },
    {
      "cell_type": "markdown",
      "metadata": {
        "id": "srCZPP5DJ2tp"
      },
      "source": [
        "Essas palavras são as que a NLTK considera como StopWords em sua base de dados. Esse dicionário é muito competente e foi feito por pessoas altamente entendidas, porém, vale lembrar que, para cada negócio, podemos ter StopWords diferentes, ou seja, deve ser feita uma avaliação desse dicionário antes de usar em seu negócio, para ver se faz sentido."
      ]
    },
    {
      "cell_type": "markdown",
      "metadata": {
        "id": "8Vd8ZEuMKks2"
      },
      "source": [
        "Criando uma função para aplicar as StopWords nos dados"
      ]
    },
    {
      "cell_type": "code",
      "metadata": {
        "id": "rydAY-7KJmLg"
      },
      "source": [
        "def RemovingStopWords(st):\n",
        "    st = st.lower()\n",
        "    stopwords = set(nltk.corpus.stopwords.words('portuguese'))\n",
        "    words = [i for i in st.split() if not i in stopwords]\n",
        "    return (\" \".join(words))"
      ],
      "execution_count": null,
      "outputs": []
    },
    {
      "cell_type": "code",
      "metadata": {
        "id": "t0-3DMeNK9Uw"
      },
      "source": [
        "sentence1 = \"Olá, mundo! Estou trabalhando com textos no curso de Mineração de Textos do MinerandoDados.com.br\""
      ],
      "execution_count": null,
      "outputs": []
    },
    {
      "cell_type": "code",
      "metadata": {
        "colab": {
          "base_uri": "https://localhost:8080/",
          "height": 35
        },
        "id": "6jssW68qLGTY",
        "outputId": "e3bbd702-906f-4e73-80d4-b5e80447bc63"
      },
      "source": [
        "RemovingStopWords(sentence1)"
      ],
      "execution_count": null,
      "outputs": [
        {
          "output_type": "execute_result",
          "data": {
            "application/vnd.google.colaboratory.intrinsic+json": {
              "type": "string"
            },
            "text/plain": [
              "'olá, mundo! trabalhando textos curso mineração textos minerandodados.com.br'"
            ]
          },
          "metadata": {
            "tags": []
          },
          "execution_count": 134
        }
      ]
    },
    {
      "cell_type": "code",
      "metadata": {
        "id": "-HgqCghDLIpo"
      },
      "source": [
        "sentence2 = \"Seu trabalho de NLP será super interessante com as aulas de Mineração de Textos\""
      ],
      "execution_count": null,
      "outputs": []
    },
    {
      "cell_type": "code",
      "metadata": {
        "colab": {
          "base_uri": "https://localhost:8080/",
          "height": 35
        },
        "id": "IjAwT1PmL59f",
        "outputId": "867468bc-cd40-4668-89ff-b2f170df20af"
      },
      "source": [
        "RemovingStopWords(sentence2)"
      ],
      "execution_count": null,
      "outputs": [
        {
          "output_type": "execute_result",
          "data": {
            "application/vnd.google.colaboratory.intrinsic+json": {
              "type": "string"
            },
            "text/plain": [
              "'trabalho nlp super interessante aulas mineração textos'"
            ]
          },
          "metadata": {
            "tags": []
          },
          "execution_count": 136
        }
      ]
    },
    {
      "cell_type": "markdown",
      "metadata": {
        "id": "qKUDLxnvMejt"
      },
      "source": [
        "É sempre bom usar com moderação e sempre testar os resultados entre usar ou não usar as stopwords. Isso serve também para o Stemming e o Lemmatization."
      ]
    },
    {
      "cell_type": "markdown",
      "metadata": {
        "id": "sNfdGfkzY5MI"
      },
      "source": [
        "**Part of Speech**"
      ]
    },
    {
      "cell_type": "markdown",
      "metadata": {
        "id": "MRdKKhJKY_zZ"
      },
      "source": [
        "\n",
        "\n",
        "*   Part of Speech, na tradução literal, significa *Partes da Fala*.\n",
        "*   Consiste em identificar a **função gramatical** das palavras em um texto.\n",
        "*   A função gramatical da palavra muda dependendo de como ela é empregada no texto.\n",
        "\n"
      ]
    },
    {
      "cell_type": "markdown",
      "metadata": {
        "id": "aO3E7EI7Z2ic"
      },
      "source": [
        "Gerando os tokens de uma frase e passando a lista para o método pos_tag()"
      ]
    },
    {
      "cell_type": "code",
      "metadata": {
        "colab": {
          "base_uri": "https://localhost:8080/"
        },
        "id": "oryoRQLBL71A",
        "outputId": "9ad20b0f-a423-41eb-95bc-9105f8f5637a"
      },
      "source": [
        "text = nltk.word_tokenize(\"O blog MinerandoDados é muito bom\")\n",
        "\n",
        "nltk.pos_tag(text)"
      ],
      "execution_count": null,
      "outputs": [
        {
          "output_type": "execute_result",
          "data": {
            "text/plain": [
              "[('O', 'NNP'),\n",
              " ('blog', 'NN'),\n",
              " ('MinerandoDados', 'NNP'),\n",
              " ('é', 'NNP'),\n",
              " ('muito', 'NN'),\n",
              " ('bom', 'NN')]"
            ]
          },
          "metadata": {
            "tags": []
          },
          "execution_count": 137
        }
      ]
    },
    {
      "cell_type": "code",
      "metadata": {
        "colab": {
          "base_uri": "https://localhost:8080/"
        },
        "id": "HbDw8525aEfp",
        "outputId": "d5eb9ea3-b7ca-4860-e243-cf4ed8659de7"
      },
      "source": [
        "nltk.help.upenn_tagset('NNP') #Substantivo, próprio, singular"
      ],
      "execution_count": null,
      "outputs": [
        {
          "output_type": "stream",
          "text": [
            "NNP: noun, proper, singular\n",
            "    Motown Venneboerger Czestochwa Ranzer Conchita Trumplane Christos\n",
            "    Oceanside Escobar Kreisler Sawyer Cougar Yvette Ervin ODI Darryl CTCA\n",
            "    Shannon A.K.C. Meltex Liverpool ...\n"
          ],
          "name": "stdout"
        }
      ]
    },
    {
      "cell_type": "code",
      "metadata": {
        "colab": {
          "base_uri": "https://localhost:8080/"
        },
        "id": "Mh26lQMCaT7R",
        "outputId": "d9e5bf5b-e063-4836-b1d8-e5edf4112c53"
      },
      "source": [
        "nltk.help.upenn_tagset('NN') #Substantivo, comum, singular"
      ],
      "execution_count": null,
      "outputs": [
        {
          "output_type": "stream",
          "text": [
            "NN: noun, common, singular or mass\n",
            "    common-carrier cabbage knuckle-duster Casino afghan shed thermostat\n",
            "    investment slide humour falloff slick wind hyena override subhumanity\n",
            "    machinist ...\n"
          ],
          "name": "stdout"
        }
      ]
    },
    {
      "cell_type": "markdown",
      "metadata": {
        "id": "69_rGdSYaw8e"
      },
      "source": [
        "Observe que o pos_tag errou algumas coisas, por exemplo, em determinar que 'é' é um substantivo próprio singular e não um verbo. Além disso, 'bom' é um adjetivo, mas foi classificado como substantivo comum singular."
      ]
    },
    {
      "cell_type": "markdown",
      "metadata": {
        "id": "kVqH7YcHbChb"
      },
      "source": [
        "Outro exemplo"
      ]
    },
    {
      "cell_type": "code",
      "metadata": {
        "colab": {
          "base_uri": "https://localhost:8080/"
        },
        "id": "EOlvVUHjablZ",
        "outputId": "8b76321f-fc75-4978-9118-db91d5f59595"
      },
      "source": [
        "text = nltk.word_tokenize(\"João comprou um presente muito legal\")\n",
        "\n",
        "nltk.pos_tag(text)"
      ],
      "execution_count": null,
      "outputs": [
        {
          "output_type": "execute_result",
          "data": {
            "text/plain": [
              "[('João', 'NNP'),\n",
              " ('comprou', 'NN'),\n",
              " ('um', 'JJ'),\n",
              " ('presente', 'NN'),\n",
              " ('muito', 'FW'),\n",
              " ('legal', 'JJ')]"
            ]
          },
          "metadata": {
            "tags": []
          },
          "execution_count": 140
        }
      ]
    },
    {
      "cell_type": "code",
      "metadata": {
        "colab": {
          "base_uri": "https://localhost:8080/"
        },
        "id": "z71AHVCPb6Vi",
        "outputId": "7564f3ce-74a1-45a6-d98f-80138959b412"
      },
      "source": [
        "nltk.help.upenn_tagset('JJ') #Adjetivo ou numeral, ordinal"
      ],
      "execution_count": null,
      "outputs": [
        {
          "output_type": "stream",
          "text": [
            "JJ: adjective or numeral, ordinal\n",
            "    third ill-mannered pre-war regrettable oiled calamitous first separable\n",
            "    ectoplasmic battery-powered participatory fourth still-to-be-named\n",
            "    multilingual multi-disciplinary ...\n"
          ],
          "name": "stdout"
        }
      ]
    },
    {
      "cell_type": "code",
      "metadata": {
        "colab": {
          "base_uri": "https://localhost:8080/"
        },
        "id": "GmScOUqhcDFn",
        "outputId": "29f3c1a0-fa94-4172-cb9e-4eb9879664e4"
      },
      "source": [
        "nltk.help.upenn_tagset('FW') #Palavra estrangeira"
      ],
      "execution_count": null,
      "outputs": [
        {
          "output_type": "stream",
          "text": [
            "FW: foreign word\n",
            "    gemeinschaft hund ich jeux habeas Haementeria Herr K'ang-si vous\n",
            "    lutihaw alai je jour objets salutaris fille quibusdam pas trop Monte\n",
            "    terram fiche oui corporis ...\n"
          ],
          "name": "stdout"
        }
      ]
    },
    {
      "cell_type": "markdown",
      "metadata": {
        "id": "Q7zB2F0BbZuX"
      },
      "source": [
        "Observe que o pos_tag errou aqui também, por exemplo, em determinar que 'comprou' é um substantivo comum singular e não um verbo. Além disso, 'muito' foi classificado como uma palavra estrangeira, e não é."
      ]
    },
    {
      "cell_type": "markdown",
      "metadata": {
        "id": "PRZCwRL3cRSW"
      },
      "source": [
        "Ou seja, podemos concluir que o recurso pos_tag() da NLTK não consegue classificar tão bem palavras do idioma Português; há algumas falhas na classificação."
      ]
    },
    {
      "cell_type": "markdown",
      "metadata": {
        "id": "loA4am7Mcif1"
      },
      "source": [
        "Vejamos como o pos_tag() se sai para palavras em Inglês"
      ]
    },
    {
      "cell_type": "code",
      "metadata": {
        "colab": {
          "base_uri": "https://localhost:8080/"
        },
        "id": "Tt7f2-FqbTfB",
        "outputId": "bc998144-200c-4024-a293-6770f10a9b1a"
      },
      "source": [
        "text = nltk.word_tokenize(\"My print is very good\")\n",
        "\n",
        "nltk.pos_tag(text)"
      ],
      "execution_count": null,
      "outputs": [
        {
          "output_type": "execute_result",
          "data": {
            "text/plain": [
              "[('My', 'PRP$'),\n",
              " ('print', 'NN'),\n",
              " ('is', 'VBZ'),\n",
              " ('very', 'RB'),\n",
              " ('good', 'JJ')]"
            ]
          },
          "metadata": {
            "tags": []
          },
          "execution_count": 143
        }
      ]
    },
    {
      "cell_type": "code",
      "metadata": {
        "colab": {
          "base_uri": "https://localhost:8080/"
        },
        "id": "9lXNFRPCcu7J",
        "outputId": "da7b52a1-b250-49b5-dbdf-b6b53e6b11cc"
      },
      "source": [
        "nltk.help.upenn_tagset('PRP$') #Pronome possessivo"
      ],
      "execution_count": null,
      "outputs": [
        {
          "output_type": "stream",
          "text": [
            "PRP$: pronoun, possessive\n",
            "    her his mine my our ours their thy your\n"
          ],
          "name": "stdout"
        }
      ]
    },
    {
      "cell_type": "code",
      "metadata": {
        "colab": {
          "base_uri": "https://localhost:8080/"
        },
        "id": "B3zFKyJ-c-2B",
        "outputId": "20310ecd-bc49-47b5-e37f-0ee53087f910"
      },
      "source": [
        "nltk.help.upenn_tagset('VBZ') #Verbo"
      ],
      "execution_count": null,
      "outputs": [
        {
          "output_type": "stream",
          "text": [
            "VBZ: verb, present tense, 3rd person singular\n",
            "    bases reconstructs marks mixes displeases seals carps weaves snatches\n",
            "    slumps stretches authorizes smolders pictures emerges stockpiles\n",
            "    seduces fizzes uses bolsters slaps speaks pleads ...\n"
          ],
          "name": "stdout"
        }
      ]
    },
    {
      "cell_type": "code",
      "metadata": {
        "colab": {
          "base_uri": "https://localhost:8080/"
        },
        "id": "uKtQOaEfdFuZ",
        "outputId": "a06efb8d-d78c-409f-b8f7-fd9bf3e629a0"
      },
      "source": [
        "nltk.help.upenn_tagset('RB') #Advérbio"
      ],
      "execution_count": null,
      "outputs": [
        {
          "output_type": "stream",
          "text": [
            "RB: adverb\n",
            "    occasionally unabatingly maddeningly adventurously professedly\n",
            "    stirringly prominently technologically magisterially predominately\n",
            "    swiftly fiscally pitilessly ...\n"
          ],
          "name": "stdout"
        }
      ]
    },
    {
      "cell_type": "markdown",
      "metadata": {
        "id": "7hO-EHojdatG"
      },
      "source": [
        "Observe que para essa frase em inglês, o pos_tag() se saiu muito bem, não errando nenhuma classificação. O que nos mostra como esse método ainda é ruim para palavras em Português."
      ]
    },
    {
      "cell_type": "markdown",
      "metadata": {
        "id": "SqDu1qeFdpBE"
      },
      "source": [
        "Vejamos com outra frase em Inglês"
      ]
    },
    {
      "cell_type": "code",
      "metadata": {
        "colab": {
          "base_uri": "https://localhost:8080/"
        },
        "id": "PnB9sKd9dIux",
        "outputId": "0b10a90c-f980-4e39-cd8d-a27db46cca69"
      },
      "source": [
        "text = nltk.word_tokenize(\"Hi, my name is Bruna. I want to print the outstanding invoice\")\n",
        "\n",
        "nltk.pos_tag(text)"
      ],
      "execution_count": null,
      "outputs": [
        {
          "output_type": "execute_result",
          "data": {
            "text/plain": [
              "[('Hi', 'NNP'),\n",
              " (',', ','),\n",
              " ('my', 'PRP$'),\n",
              " ('name', 'NN'),\n",
              " ('is', 'VBZ'),\n",
              " ('Bruna', 'NNP'),\n",
              " ('.', '.'),\n",
              " ('I', 'PRP'),\n",
              " ('want', 'VBP'),\n",
              " ('to', 'TO'),\n",
              " ('print', 'VB'),\n",
              " ('the', 'DT'),\n",
              " ('outstanding', 'JJ'),\n",
              " ('invoice', 'NN')]"
            ]
          },
          "metadata": {
            "tags": []
          },
          "execution_count": 147
        }
      ]
    },
    {
      "cell_type": "code",
      "metadata": {
        "colab": {
          "base_uri": "https://localhost:8080/"
        },
        "id": "A83apAN3d6Wz",
        "outputId": "8a83d16f-eb45-4917-e615-2536f355396d"
      },
      "source": [
        "nltk.help.upenn_tagset('PRP') #Pronome pessoal"
      ],
      "execution_count": null,
      "outputs": [
        {
          "output_type": "stream",
          "text": [
            "PRP: pronoun, personal\n",
            "    hers herself him himself hisself it itself me myself one oneself ours\n",
            "    ourselves ownself self she thee theirs them themselves they thou thy us\n"
          ],
          "name": "stdout"
        }
      ]
    },
    {
      "cell_type": "code",
      "metadata": {
        "colab": {
          "base_uri": "https://localhost:8080/"
        },
        "id": "G_2-ipe5eUmp",
        "outputId": "8f4bb131-8666-46e4-960e-0e14d07861bb"
      },
      "source": [
        "nltk.help.upenn_tagset('VBP') #Verbo"
      ],
      "execution_count": null,
      "outputs": [
        {
          "output_type": "stream",
          "text": [
            "VBP: verb, present tense, not 3rd person singular\n",
            "    predominate wrap resort sue twist spill cure lengthen brush terminate\n",
            "    appear tend stray glisten obtain comprise detest tease attract\n",
            "    emphasize mold postpone sever return wag ...\n"
          ],
          "name": "stdout"
        }
      ]
    },
    {
      "cell_type": "code",
      "metadata": {
        "colab": {
          "base_uri": "https://localhost:8080/"
        },
        "id": "gXn35TooeYyJ",
        "outputId": "35788590-aa82-4f02-c389-d3f93bfa4f81"
      },
      "source": [
        "nltk.help.upenn_tagset('TO') #Preposição"
      ],
      "execution_count": null,
      "outputs": [
        {
          "output_type": "stream",
          "text": [
            "TO: \"to\" as preposition or infinitive marker\n",
            "    to\n"
          ],
          "name": "stdout"
        }
      ]
    },
    {
      "cell_type": "code",
      "metadata": {
        "colab": {
          "base_uri": "https://localhost:8080/"
        },
        "id": "ZweJxK6XeaMw",
        "outputId": "b415073b-6b0f-47a7-ed74-4e9902a7dfb2"
      },
      "source": [
        "nltk.help.upenn_tagset('DT')"
      ],
      "execution_count": null,
      "outputs": [
        {
          "output_type": "stream",
          "text": [
            "DT: determiner\n",
            "    all an another any both del each either every half la many much nary\n",
            "    neither no some such that the them these this those\n"
          ],
          "name": "stdout"
        }
      ]
    },
    {
      "cell_type": "markdown",
      "metadata": {
        "id": "mRt0Fq5Ie0fV"
      },
      "source": [
        "Da mesma forma que tivemos na frase anterior em inglês, as palavras dessa frase também foram muito bem classificadas."
      ]
    },
    {
      "cell_type": "markdown",
      "metadata": {
        "id": "PNQldGoNfB_2"
      },
      "source": [
        "Essa é uma tarefa é muito útil e amplamente utilizada.\n",
        "\n",
        "Além disso, é uma técnica difícil devido as funções gramaticais de cada idioma.\n",
        "\n",
        "Existem projetos que utilizam Machine Learning para implementar POS."
      ]
    },
    {
      "cell_type": "markdown",
      "metadata": {
        "id": "vFa8LpMTq6lw"
      },
      "source": [
        "**Wordnet**"
      ]
    },
    {
      "cell_type": "markdown",
      "metadata": {
        "id": "rNf6fIR_rH9M"
      },
      "source": [
        "\n",
        "\n",
        "*   O Wordnet é um grande banco de dados léxico de substantivos, verbos, adjetivos e advérbios.\n",
        "*   Essas palavras são agrupadas em conjuntos de sinônimos, cada um expressando um conceito distinto.\n",
        "*   Os sinônimos são interligados pelo seu significado semântico conceitual e suas relações léxicas.\n",
        "*   O Wordnet é uma grande rede de conceitos interligados e é amplamente utilizado em pesquisas no mundo todo.\n",
        "*   O NLTK possui uma interface de acesso ao Wordnet.\n",
        "\n",
        "Para saber mais: https://wordnet.princeton.edu/\n",
        "\n",
        "OBS.:\n",
        "*   Existem diversas variações do Wordnet para outros idiomas.\n",
        "*   Para Português, ainda existem poucas iniciativas.\n",
        "\n"
      ]
    },
    {
      "cell_type": "markdown",
      "metadata": {
        "id": "SO6wOC0Ds94w"
      },
      "source": [
        "Importando a biblioteca"
      ]
    },
    {
      "cell_type": "code",
      "metadata": {
        "id": "XLZut-YOenlR"
      },
      "source": [
        "from nltk.corpus import wordnet"
      ],
      "execution_count": null,
      "outputs": []
    },
    {
      "cell_type": "markdown",
      "metadata": {
        "id": "08FGdZDxtDrf"
      },
      "source": [
        "Consultando sinônimos para a palavra *bike*"
      ]
    },
    {
      "cell_type": "code",
      "metadata": {
        "colab": {
          "base_uri": "https://localhost:8080/"
        },
        "id": "tjmbJqgmtCOh",
        "outputId": "ba5eb8ca-c02b-418a-b283-ef97100d0c96"
      },
      "source": [
        "wordnet.synsets('bike')"
      ],
      "execution_count": null,
      "outputs": [
        {
          "output_type": "execute_result",
          "data": {
            "text/plain": [
              "[Synset('motorcycle.n.01'), Synset('bicycle.n.01'), Synset('bicycle.v.01')]"
            ]
          },
          "metadata": {
            "tags": []
          },
          "execution_count": 153
        }
      ]
    },
    {
      "cell_type": "markdown",
      "metadata": {
        "id": "3i7LIwEOtP_f"
      },
      "source": [
        "No resultado acima, note que temos 'bicycle.n.01' e 'bicycle.v.01'. Como o primeiro é n.01, quer dizer que é o substantivo bicycle (bicicleta); já o segundo é v.01, o que quer dizer que é o verbo bicycle (andar de bicicleta)."
      ]
    },
    {
      "cell_type": "markdown",
      "metadata": {
        "id": "J0TlWAV3tq_v"
      },
      "source": [
        "Consultando a definição de um ou mais sinônimos da palavra *bike*, ou da própria palavra *bike*"
      ]
    },
    {
      "cell_type": "code",
      "metadata": {
        "colab": {
          "base_uri": "https://localhost:8080/",
          "height": 35
        },
        "id": "Oj-uL8YqtMTJ",
        "outputId": "bb1859bf-288e-4533-ff64-8c1599244825"
      },
      "source": [
        "wordnet.synset('bicycle.n.01').definition()"
      ],
      "execution_count": null,
      "outputs": [
        {
          "output_type": "execute_result",
          "data": {
            "application/vnd.google.colaboratory.intrinsic+json": {
              "type": "string"
            },
            "text/plain": [
              "'a wheeled vehicle that has two wheels and is moved by foot pedals'"
            ]
          },
          "metadata": {
            "tags": []
          },
          "execution_count": 154
        }
      ]
    },
    {
      "cell_type": "code",
      "metadata": {
        "colab": {
          "base_uri": "https://localhost:8080/",
          "height": 35
        },
        "id": "TZFKxc99uC_i",
        "outputId": "eee6045e-b2fa-4d5c-e632-3f6e7d161083"
      },
      "source": [
        "wordnet.synset('bicycle.v.01').definition()"
      ],
      "execution_count": null,
      "outputs": [
        {
          "output_type": "execute_result",
          "data": {
            "application/vnd.google.colaboratory.intrinsic+json": {
              "type": "string"
            },
            "text/plain": [
              "'ride a bicycle'"
            ]
          },
          "metadata": {
            "tags": []
          },
          "execution_count": 156
        }
      ]
    },
    {
      "cell_type": "code",
      "metadata": {
        "colab": {
          "base_uri": "https://localhost:8080/",
          "height": 35
        },
        "id": "2l38Jbzht7IK",
        "outputId": "dc54035f-20db-4e95-fe6b-e621431942cc"
      },
      "source": [
        "wordnet.synset('motorcycle.n.01').definition()"
      ],
      "execution_count": null,
      "outputs": [
        {
          "output_type": "execute_result",
          "data": {
            "application/vnd.google.colaboratory.intrinsic+json": {
              "type": "string"
            },
            "text/plain": [
              "'a motor vehicle with two wheels and a strong frame'"
            ]
          },
          "metadata": {
            "tags": []
          },
          "execution_count": 155
        }
      ]
    },
    {
      "cell_type": "markdown",
      "metadata": {
        "id": "lhcXh5bquaKe"
      },
      "source": [
        "Consultando a hierarquia de termos"
      ]
    },
    {
      "cell_type": "code",
      "metadata": {
        "colab": {
          "base_uri": "https://localhost:8080/"
        },
        "id": "YbZIexxnuBbB",
        "outputId": "53560163-03bd-4e89-dc16-f10f2cd55c38"
      },
      "source": [
        "#Hiponimos da palavra 'bicycle'\n",
        "#Conceitos mais específicos, derivações.\n",
        "\n",
        "wordnet.synset('bicycle.n.01').hyponyms()"
      ],
      "execution_count": null,
      "outputs": [
        {
          "output_type": "execute_result",
          "data": {
            "text/plain": [
              "[Synset('bicycle-built-for-two.n.01'),\n",
              " Synset('mountain_bike.n.01'),\n",
              " Synset('ordinary.n.04'),\n",
              " Synset('push-bike.n.01'),\n",
              " Synset('safety_bicycle.n.01'),\n",
              " Synset('velocipede.n.01')]"
            ]
          },
          "metadata": {
            "tags": []
          },
          "execution_count": 157
        }
      ]
    },
    {
      "cell_type": "code",
      "metadata": {
        "colab": {
          "base_uri": "https://localhost:8080/"
        },
        "id": "ygzm_tj9u0Wh",
        "outputId": "248dcff6-2afb-4fbc-f4b8-c7820e512e47"
      },
      "source": [
        "#Hiperonimos da palavra 'bicycle'\n",
        "#Conceitos mais genericos\n",
        "\n",
        "wordnet.synset('bicycle.n.01').hypernyms()"
      ],
      "execution_count": null,
      "outputs": [
        {
          "output_type": "execute_result",
          "data": {
            "text/plain": [
              "[Synset('wheeled_vehicle.n.01')]"
            ]
          },
          "metadata": {
            "tags": []
          },
          "execution_count": 158
        }
      ]
    },
    {
      "cell_type": "code",
      "metadata": {
        "colab": {
          "base_uri": "https://localhost:8080/"
        },
        "id": "xD7M32LAvCU6",
        "outputId": "672b461d-0e9e-4606-c8b0-b83f9fc15e0e"
      },
      "source": [
        "#Meronyms da palavra 'bicycle'\n",
        "#Conceitos de partes de outros conceitos\n",
        "\n",
        "wordnet.synset('bicycle.n.01').part_meronyms()"
      ],
      "execution_count": null,
      "outputs": [
        {
          "output_type": "execute_result",
          "data": {
            "text/plain": [
              "[Synset('bicycle_seat.n.01'),\n",
              " Synset('bicycle_wheel.n.01'),\n",
              " Synset('chain.n.03'),\n",
              " Synset('coaster_brake.n.01'),\n",
              " Synset('handlebar.n.01'),\n",
              " Synset('kickstand.n.01'),\n",
              " Synset('mudguard.n.01'),\n",
              " Synset('pedal.n.02'),\n",
              " Synset('sprocket.n.02')]"
            ]
          },
          "metadata": {
            "tags": []
          },
          "execution_count": 159
        }
      ]
    }
  ]
}