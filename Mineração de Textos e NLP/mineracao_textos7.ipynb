{
  "nbformat": 4,
  "nbformat_minor": 0,
  "metadata": {
    "colab": {
      "name": "mineracao_textos7.ipynb",
      "provenance": [],
      "collapsed_sections": [],
      "toc_visible": true,
      "mount_file_id": "10wFRcIJfJ0nmmrRYX21WazYn4rycBVox",
      "authorship_tag": "ABX9TyN13VUGKqHHS+6aTBJlDkS6",
      "include_colab_link": true
    },
    "kernelspec": {
      "name": "python3",
      "display_name": "Python 3"
    },
    "language_info": {
      "name": "python"
    }
  },
  "cells": [
    {
      "cell_type": "markdown",
      "metadata": {
        "id": "view-in-github",
        "colab_type": "text"
      },
      "source": [
        "<a href=\"https://colab.research.google.com/github/brunatoloti/data-science-do-zero/blob/main/Minera%C3%A7%C3%A3o%20de%20Textos%20e%20NLP/mineracao_textos7.ipynb\" target=\"_parent\"><img src=\"https://colab.research.google.com/assets/colab-badge.svg\" alt=\"Open In Colab\"/></a>"
      ]
    },
    {
      "cell_type": "markdown",
      "metadata": {
        "id": "y3Ztww7tWRQc"
      },
      "source": [
        "#Análise de Sentimentos usando Machine Learning"
      ]
    },
    {
      "cell_type": "markdown",
      "metadata": {
        "id": "gZA7pRj6Wj18"
      },
      "source": [
        "*   Criaremos modelos para análise de sentimentos de tweets. Usaremos uma base de dados de tweets sobre o governo de Minas Gerais, disponibilizada no curso de Data Science do Zero do Minerando Dados.\n",
        "*   Essa base de dados disponibilizada possui uma coluna de classificação do sentimento do tweet. Pode ser Neutro, Positivo ou Negativo. Essa classificação foi feita de forma manual por alguma(s) pessoa(s).\n",
        "*   Faremos teste com modelo usando tag de negações.\n",
        "*   Faremos teste com modelo usando Bigrams."
      ]
    },
    {
      "cell_type": "markdown",
      "metadata": {
        "id": "qo4lloCkXSEk"
      },
      "source": [
        "**Importando as bibliotecas**"
      ]
    },
    {
      "cell_type": "code",
      "metadata": {
        "id": "2kWE6b_gCwcF"
      },
      "source": [
        "import nltk\n",
        "from nltk import word_tokenize\n",
        "import re\n",
        "import pandas as pd\n",
        "from sklearn.feature_extraction.text import CountVectorizer\n",
        "from sklearn.naive_bayes import MultinomialNB\n",
        "from sklearn import metrics\n",
        "from sklearn.model_selection import cross_val_predict\n",
        "import seaborn as sns\n",
        "import matplotlib.pyplot as plt"
      ],
      "execution_count": 1,
      "outputs": []
    },
    {
      "cell_type": "markdown",
      "metadata": {
        "id": "0_o9_O7dX3E9"
      },
      "source": [
        "**Carregando e lendo a base de dados**"
      ]
    },
    {
      "cell_type": "code",
      "metadata": {
        "id": "690sGrx2Xydw"
      },
      "source": [
        "dataset = pd.read_csv('/content/drive/MyDrive/Curso Data Science do Zero/Mineração de Textos e NLP/dados/Tweets_Mg.csv', encoding='utf-8')"
      ],
      "execution_count": 2,
      "outputs": []
    },
    {
      "cell_type": "code",
      "metadata": {
        "colab": {
          "base_uri": "https://localhost:8080/",
          "height": 318
        },
        "id": "5It378LoZWTm",
        "outputId": "3b62560c-0f6b-4e3e-ae63-2b9963cfb4a4"
      },
      "source": [
        "dataset.head(2)"
      ],
      "execution_count": 3,
      "outputs": [
        {
          "output_type": "execute_result",
          "data": {
            "text/html": [
              "<div>\n",
              "<style scoped>\n",
              "    .dataframe tbody tr th:only-of-type {\n",
              "        vertical-align: middle;\n",
              "    }\n",
              "\n",
              "    .dataframe tbody tr th {\n",
              "        vertical-align: top;\n",
              "    }\n",
              "\n",
              "    .dataframe thead th {\n",
              "        text-align: right;\n",
              "    }\n",
              "</style>\n",
              "<table border=\"1\" class=\"dataframe\">\n",
              "  <thead>\n",
              "    <tr style=\"text-align: right;\">\n",
              "      <th></th>\n",
              "      <th>Unnamed: 0</th>\n",
              "      <th>Created At</th>\n",
              "      <th>Text</th>\n",
              "      <th>Geo Coordinates.latitude</th>\n",
              "      <th>Geo Coordinates.longitude</th>\n",
              "      <th>User Location</th>\n",
              "      <th>Username</th>\n",
              "      <th>User Screen Name</th>\n",
              "      <th>Retweet Count</th>\n",
              "      <th>Classificacao</th>\n",
              "      <th>Observação</th>\n",
              "      <th>Unnamed: 10</th>\n",
              "      <th>Unnamed: 11</th>\n",
              "      <th>Unnamed: 12</th>\n",
              "      <th>Unnamed: 13</th>\n",
              "      <th>Unnamed: 14</th>\n",
              "      <th>Unnamed: 15</th>\n",
              "      <th>Unnamed: 16</th>\n",
              "      <th>Unnamed: 17</th>\n",
              "      <th>Unnamed: 18</th>\n",
              "      <th>Unnamed: 19</th>\n",
              "      <th>Unnamed: 20</th>\n",
              "      <th>Unnamed: 21</th>\n",
              "      <th>Unnamed: 22</th>\n",
              "      <th>Unnamed: 23</th>\n",
              "      <th>Unnamed: 24</th>\n",
              "    </tr>\n",
              "  </thead>\n",
              "  <tbody>\n",
              "    <tr>\n",
              "      <th>0</th>\n",
              "      <td>0</td>\n",
              "      <td>Sun Jan 08 01:22:05 +0000 2017</td>\n",
              "      <td>���⛪ @ Catedral de Santo Antônio - Governador ...</td>\n",
              "      <td>NaN</td>\n",
              "      <td>NaN</td>\n",
              "      <td>Brasil</td>\n",
              "      <td>Leonardo C Schneider</td>\n",
              "      <td>LeoCSchneider</td>\n",
              "      <td>0</td>\n",
              "      <td>Neutro</td>\n",
              "      <td>NaN</td>\n",
              "      <td>NaN</td>\n",
              "      <td>NaN</td>\n",
              "      <td>NaN</td>\n",
              "      <td>NaN</td>\n",
              "      <td>NaN</td>\n",
              "      <td>NaN</td>\n",
              "      <td>NaN</td>\n",
              "      <td>NaN</td>\n",
              "      <td>NaN</td>\n",
              "      <td>NaN</td>\n",
              "      <td>NaN</td>\n",
              "      <td>NaN</td>\n",
              "      <td>NaN</td>\n",
              "      <td>NaN</td>\n",
              "      <td>NaN</td>\n",
              "    </tr>\n",
              "    <tr>\n",
              "      <th>1</th>\n",
              "      <td>1</td>\n",
              "      <td>Sun Jan 08 01:49:01 +0000 2017</td>\n",
              "      <td>� @ Governador Valadares, Minas Gerais https:/...</td>\n",
              "      <td>-41.9333</td>\n",
              "      <td>-18.85</td>\n",
              "      <td>NaN</td>\n",
              "      <td>Wândell</td>\n",
              "      <td>klefnews</td>\n",
              "      <td>0</td>\n",
              "      <td>Neutro</td>\n",
              "      <td>NaN</td>\n",
              "      <td>NaN</td>\n",
              "      <td>NaN</td>\n",
              "      <td>NaN</td>\n",
              "      <td>NaN</td>\n",
              "      <td>NaN</td>\n",
              "      <td>NaN</td>\n",
              "      <td>NaN</td>\n",
              "      <td>NaN</td>\n",
              "      <td>NaN</td>\n",
              "      <td>NaN</td>\n",
              "      <td>NaN</td>\n",
              "      <td>NaN</td>\n",
              "      <td>NaN</td>\n",
              "      <td>NaN</td>\n",
              "      <td>NaN</td>\n",
              "    </tr>\n",
              "  </tbody>\n",
              "</table>\n",
              "</div>"
            ],
            "text/plain": [
              "   Unnamed: 0                      Created At  ... Unnamed: 23  Unnamed: 24\n",
              "0           0  Sun Jan 08 01:22:05 +0000 2017  ...         NaN          NaN\n",
              "1           1  Sun Jan 08 01:49:01 +0000 2017  ...         NaN          NaN\n",
              "\n",
              "[2 rows x 26 columns]"
            ]
          },
          "metadata": {
            "tags": []
          },
          "execution_count": 3
        }
      ]
    },
    {
      "cell_type": "code",
      "metadata": {
        "colab": {
          "base_uri": "https://localhost:8080/"
        },
        "id": "ixJ5esq2cIkl",
        "outputId": "e5d93dc6-7343-4e3c-dc04-29ef52817c57"
      },
      "source": [
        "dataset.shape"
      ],
      "execution_count": 4,
      "outputs": [
        {
          "output_type": "execute_result",
          "data": {
            "text/plain": [
              "(8199, 26)"
            ]
          },
          "metadata": {
            "tags": []
          },
          "execution_count": 4
        }
      ]
    },
    {
      "cell_type": "markdown",
      "metadata": {
        "id": "a35zyD1pYte3"
      },
      "source": [
        "**Imprimindo os 50 primeiros tweets desse dataset**"
      ]
    },
    {
      "cell_type": "markdown",
      "metadata": {
        "id": "x9lO-w_NZ2_a"
      },
      "source": [
        "Lembrando que os tweets ficam na coluna *Text* nesse dataset."
      ]
    },
    {
      "cell_type": "code",
      "metadata": {
        "colab": {
          "base_uri": "https://localhost:8080/"
        },
        "id": "dhaShPrYYGvU",
        "outputId": "0b7776ac-9d3d-4dfb-c236-716b746a5577"
      },
      "source": [
        "dataset.Text.head(50)"
      ],
      "execution_count": 5,
      "outputs": [
        {
          "output_type": "execute_result",
          "data": {
            "text/plain": [
              "0     ���⛪ @ Catedral de Santo Antônio - Governador ...\n",
              "1     � @ Governador Valadares, Minas Gerais https:/...\n",
              "2     �� @ Governador Valadares, Minas Gerais https:...\n",
              "3                           ��� https://t.co/BnDsO34qK0\n",
              "4     ��� PSOL vai questionar aumento de vereadores ...\n",
              "5     \" bom é bandido morto\"\\nDeputado Cabo Júlio é ...\n",
              "6     \"..E 25% dos mineiros dizem não torcer para ti...\n",
              "7     \"A gigantesca barba do mal\" em destaque no cad...\n",
              "8     \"BB e governo de Minas travam disputa sobre de...\n",
              "9     \"com vcs bh fica pequena!\" Belo Horizonte (pro...\n",
              "10    \"Daí a gente visita governador valadares\"\\n\"Qu...\n",
              "11    \"É bonita e é bonita...\" \\n#latergram #ibituru...\n",
              "12    \"erro desconhecido\" é mato! Aliás, é da secret...\n",
              "13    \"La La Land: Cantando Estações\" arrasa no Glob...\n",
              "14    \"La La Land: Cantando Estações\" arrasa no Glob...\n",
              "15    \"Los abusos, aun en el estado más sólido, son ...\n",
              "16    \"Mesmo sem muito dinheiro no caixa o governo d...\n",
              "17    \"Modelo de segurança será o nosso legado\", diz...\n",
              "18    \"Modelo de segurança será o nosso legado\", diz...\n",
              "19    \"Modelo de segurança será o nosso legado\", diz...\n",
              "20    \"O governo de Minas Gerais não comentou o assu...\n",
              "21    \"O governo federal publicou no dia 27 de dezem...\n",
              "22    \"Polícia Federal acaba de divulgar que encontr...\n",
              "23    \"Praia da Estação\" lota neste sábado de verão ...\n",
              "24    \"Representando mais uma ferramenta de monitora...\n",
              "25    \"uso de aeronave pertencente ao  Estado de MG,...\n",
              "26    \"vou postar umas curiosidades sobre o corpo hu...\n",
              "27    #ACORDAMINAS!!!\\n\\nO governador Fernando Pimen...\n",
              "28    #ACORDAMINAS!!!!\\n\\nO povo mineiro tem que da ...\n",
              "29    #Alerta - Nome da CEEE é utilizado em golpe no...\n",
              "30    #beta #betalab #mg Afiliada da Globo: Apresent...\n",
              "31    #beta #betalab #mg Caos nos presídios: AM pede...\n",
              "32    #beta #betalab #mg Caos nos presídios: Temer e...\n",
              "33    #beta #betalab #mg Crise carcerária: Governo d...\n",
              "34    #beta #betalab #mg Crise carcerária: Secretári...\n",
              "35    #beta #betalab #mg Crise política no DF se agr...\n",
              "36    #beta #betalab #mg Escalada de violência nos p...\n",
              "37    #beta #betalab #mg Escalada de violência: Crim...\n",
              "38    #beta #betalab #mg Estado afirma não ter sido ...\n",
              "39    #beta #betalab #mg Estado de espírito do pauli...\n",
              "40    #beta #betalab #mg Estados falidos: Parte do P...\n",
              "41    #beta #betalab #mg Ex-ministro e outros: Servi...\n",
              "42    #beta #betalab #mg Ex-presidente da Câmara: Ju...\n",
              "43    #beta #betalab #mg Governo em calamidade finan...\n",
              "44    #beta #betalab #mg Mais sobre o massacre: PF: ...\n",
              "45    #beta #betalab #mg Marketing e veto a medidas ...\n",
              "46    #beta #betalab #mg Massacre em presídio de Man...\n",
              "47    #beta #betalab #mg Mudanças propostas pelo gov...\n",
              "48    #beta #betalab #mg Muitas páginas de investiga...\n",
              "49    #beta #betalab #mg Nos últimos dois anos: Gove...\n",
              "Name: Text, dtype: object"
            ]
          },
          "metadata": {
            "tags": []
          },
          "execution_count": 5
        }
      ]
    },
    {
      "cell_type": "markdown",
      "metadata": {
        "id": "0SihNK72Zddi"
      },
      "source": [
        "**Obtendo a quantidade de linhas de tweets neutros, positivos e negativos**"
      ]
    },
    {
      "cell_type": "markdown",
      "metadata": {
        "id": "RD38kpZpZjO8"
      },
      "source": [
        "Quantidade de tweets neutros"
      ]
    },
    {
      "cell_type": "code",
      "metadata": {
        "colab": {
          "base_uri": "https://localhost:8080/"
        },
        "id": "h2iq1BSxY4Is",
        "outputId": "d1727b8f-0f84-4b24-8ba3-2add885982dd"
      },
      "source": [
        "dataset[dataset.Classificacao == 'Neutro'].count().Text"
      ],
      "execution_count": 6,
      "outputs": [
        {
          "output_type": "execute_result",
          "data": {
            "text/plain": [
              "2453"
            ]
          },
          "metadata": {
            "tags": []
          },
          "execution_count": 6
        }
      ]
    },
    {
      "cell_type": "markdown",
      "metadata": {
        "id": "X0b_U3ZRZ89D"
      },
      "source": [
        "Quantidade de tweets positivos"
      ]
    },
    {
      "cell_type": "code",
      "metadata": {
        "colab": {
          "base_uri": "https://localhost:8080/"
        },
        "id": "B-hwiUcmZuz6",
        "outputId": "faf048c4-7aed-4fa0-85d9-dffd78418520"
      },
      "source": [
        "dataset[dataset.Classificacao == 'Positivo'].count().Text"
      ],
      "execution_count": 7,
      "outputs": [
        {
          "output_type": "execute_result",
          "data": {
            "text/plain": [
              "3300"
            ]
          },
          "metadata": {
            "tags": []
          },
          "execution_count": 7
        }
      ]
    },
    {
      "cell_type": "markdown",
      "metadata": {
        "id": "t8osx_WmaDyT"
      },
      "source": [
        "Quantidade de tweets negativos"
      ]
    },
    {
      "cell_type": "code",
      "metadata": {
        "colab": {
          "base_uri": "https://localhost:8080/"
        },
        "id": "VWBMpkl5aCsj",
        "outputId": "45156569-9d61-49fc-9048-46e7ea321817"
      },
      "source": [
        "dataset[dataset.Classificacao == 'Negativo'].count().Text"
      ],
      "execution_count": 8,
      "outputs": [
        {
          "output_type": "execute_result",
          "data": {
            "text/plain": [
              "2446"
            ]
          },
          "metadata": {
            "tags": []
          },
          "execution_count": 8
        }
      ]
    },
    {
      "cell_type": "markdown",
      "metadata": {
        "id": "KwRrHDfxao1_"
      },
      "source": [
        "Visualizando graficamente"
      ]
    },
    {
      "cell_type": "code",
      "metadata": {
        "colab": {
          "base_uri": "https://localhost:8080/",
          "height": 415
        },
        "id": "2J9w_kJFCyCE",
        "outputId": "58d145e6-9c6f-450a-88e6-45187b457b14"
      },
      "source": [
        "sns.set(font_scale=1.2)     #Definindo o tamanho da fonte\n",
        "\n",
        "plt.figure(figsize=(8, 6))\n",
        "ax = sns.countplot(x='Classificacao', data=dataset, order=dataset.Classificacao.value_counts().index)\n",
        "ax.set_title('Quantidade de Tweets para cada Classificação')\n",
        "ax.set(xlabel='Classificação', ylabel='Quantidade')  #Definindo os labels do eixo x e y\n",
        "\n",
        "for p in ax.patches:\n",
        "    height = p.get_height()\n",
        "    ax.text(p.get_x()+p.get_width()/2., height + 0.1,height ,ha=\"center\")\n",
        "\n",
        "plt.show()"
      ],
      "execution_count": 9,
      "outputs": [
        {
          "output_type": "display_data",
          "data": {
            "image/png": "[encoded data removed]",
            "text/plain": [
              "<Figure size 576x432 with 1 Axes>"
            ]
          },
          "metadata": {
            "tags": []
          }
        }
      ]
    },
    {
      "cell_type": "markdown",
      "metadata": {
        "id": "8mu8KBBEbdJt"
      },
      "source": [
        "###Pré-processamento dos dados"
      ]
    },
    {
      "cell_type": "markdown",
      "metadata": {
        "id": "kE0NAi9IbmjT"
      },
      "source": [
        "*   Removeremos possíveis linhas duplicadas na base de dados.\n",
        "*   Removeremos StopWords.\n",
        "*   Faremos Stemming nos dados.\n",
        "*   Removeremos caracteres indesejados como pontuação e removeremos links."
      ]
    },
    {
      "cell_type": "markdown",
      "metadata": {
        "id": "GqDHJ5A9cRUF"
      },
      "source": [
        "**Removendo linhas duplicadas na base de dados**"
      ]
    },
    {
      "cell_type": "code",
      "metadata": {
        "id": "xoQbAchmazlz"
      },
      "source": [
        "dataset.drop_duplicates(subset=['Text'], inplace=True)"
      ],
      "execution_count": 10,
      "outputs": []
    },
    {
      "cell_type": "code",
      "metadata": {
        "colab": {
          "base_uri": "https://localhost:8080/"
        },
        "id": "j6-hQ-54cF9o",
        "outputId": "7aa628ca-9d5a-45d6-aadc-2acf0d65bf56"
      },
      "source": [
        "dataset.shape"
      ],
      "execution_count": 11,
      "outputs": [
        {
          "output_type": "execute_result",
          "data": {
            "text/plain": [
              "(5765, 26)"
            ]
          },
          "metadata": {
            "tags": []
          },
          "execution_count": 11
        }
      ]
    },
    {
      "cell_type": "markdown",
      "metadata": {
        "id": "jHgWbYYncZ3b"
      },
      "source": [
        "Observe que de 8199 tweets, agora temos 5765 tweets."
      ]
    },
    {
      "cell_type": "markdown",
      "metadata": {
        "id": "ZOjzVYLqc47L"
      },
      "source": [
        "**Separando dados de tweets das suas classes**"
      ]
    },
    {
      "cell_type": "code",
      "metadata": {
        "id": "wTpl5BqYcQpr"
      },
      "source": [
        "tweets = dataset.Text\n",
        "classes = dataset.Classificacao"
      ],
      "execution_count": 12,
      "outputs": []
    },
    {
      "cell_type": "markdown",
      "metadata": {
        "id": "VPPc-g5Vn4qe"
      },
      "source": [
        "**Instalando a biblioteca nltk e importando os pacotes**"
      ]
    },
    {
      "cell_type": "code",
      "metadata": {
        "id": "GOUfE1_OdB20",
        "colab": {
          "base_uri": "https://localhost:8080/"
        },
        "outputId": "4b72f96e-4e10-4cc3-d97d-1253dec83041"
      },
      "source": [
        "import nltk\n",
        "nltk.download('stopwords')\n",
        "nltk.download('rslp')"
      ],
      "execution_count": 13,
      "outputs": [
        {
          "output_type": "stream",
          "text": [
            "[nltk_data] Downloading package stopwords to /root/nltk_data...\n",
            "[nltk_data]   Unzipping corpora/stopwords.zip.\n",
            "[nltk_data] Downloading package rslp to /root/nltk_data...\n",
            "[nltk_data]   Unzipping stemmers/rslp.zip.\n"
          ],
          "name": "stdout"
        },
        {
          "output_type": "execute_result",
          "data": {
            "text/plain": [
              "True"
            ]
          },
          "metadata": {
            "tags": []
          },
          "execution_count": 13
        }
      ]
    },
    {
      "cell_type": "markdown",
      "metadata": {
        "id": "ca1LUvVRv_bE"
      },
      "source": [
        "**Criando funções para alguns pré-processamentos**\n"
      ]
    },
    {
      "cell_type": "markdown",
      "metadata": {
        "id": "qZ1SGtMuwF-D"
      },
      "source": [
        "Remoção de StopWords"
      ]
    },
    {
      "cell_type": "code",
      "metadata": {
        "id": "Fko5YQsSoC5Y"
      },
      "source": [
        "def RemoveStopWords(sentence):\n",
        "    stopwords = set(nltk.corpus.stopwords.words('portuguese'))\n",
        "    words = [i for i in sentence.split() if not i in stopwords]\n",
        "    return (' '.join(words))"
      ],
      "execution_count": 14,
      "outputs": []
    },
    {
      "cell_type": "markdown",
      "metadata": {
        "id": "Xds3gjT3xjI8"
      },
      "source": [
        "Stemming"
      ]
    },
    {
      "cell_type": "code",
      "metadata": {
        "id": "8aAeUiFNwfvI"
      },
      "source": [
        "def Stemming(sentence):\n",
        "    stemmer = nltk.stem.RSLPStemmer()\n",
        "    words = []\n",
        "    for w in sentence.split():\n",
        "        words.append(stemmer.stem(w))\n",
        "    return (' '.join(words))"
      ],
      "execution_count": 15,
      "outputs": []
    },
    {
      "cell_type": "markdown",
      "metadata": {
        "id": "YzEvnZ5cxk8l"
      },
      "source": [
        "Limpeza dos Dados\n",
        "\n",
        "*   Remoção de:\n",
        "    *   links;\n",
        "    *   pontuação."
      ]
    },
    {
      "cell_type": "code",
      "metadata": {
        "id": "ABgmxUCBjeY8"
      },
      "source": [
        "import string"
      ],
      "execution_count": 20,
      "outputs": []
    },
    {
      "cell_type": "code",
      "metadata": {
        "id": "NAwG936tw3SR"
      },
      "source": [
        "def DataCleaning(sentence):\n",
        "    exclude = set(string.punctuation)\n",
        "    sentence = re.sub(r'http\\S+', '', sentence).lower()\n",
        "    sentence = ''.join(ch for ch in sentence if ch not in exclude)\n",
        "    return (sentence)"
      ],
      "execution_count": 21,
      "outputs": []
    },
    {
      "cell_type": "markdown",
      "metadata": {
        "id": "HXt34aLSyH_y"
      },
      "source": [
        "**Aplicando algumas frases a essas funções para entender o funcionamento delas**"
      ]
    },
    {
      "cell_type": "code",
      "metadata": {
        "colab": {
          "base_uri": "https://localhost:8080/",
          "height": 35
        },
        "id": "L5Rl6MZ7x_XP",
        "outputId": "f27fbd86-e1f5-4d05-ca54-c5ce27ff8270"
      },
      "source": [
        "RemoveStopWords('Eu não gosto do partido e, também, não votaria novamente nesse governante!')"
      ],
      "execution_count": 22,
      "outputs": [
        {
          "output_type": "execute_result",
          "data": {
            "application/vnd.google.colaboratory.intrinsic+json": {
              "type": "string"
            },
            "text/plain": [
              "'Eu gosto partido e, também, votaria novamente nesse governante!'"
            ]
          },
          "metadata": {
            "tags": []
          },
          "execution_count": 22
        }
      ]
    },
    {
      "cell_type": "markdown",
      "metadata": {
        "id": "KzX1LImVzYAa"
      },
      "source": [
        "Esse caso aqui do RemoveStopWords não nos ajudaria se quiséssemos manter o sentido da frase. Note que uma das stopwords foi a palavra *'não'*. Com ela sendo removida da frase, o sentido da sentença ficou diferente! Será que é interessante usar essas stopwords no nosso problema de análise de sentimentos? Pode não ser muito bom!\n",
        "\n",
        "Lembrando que aqui estamos usando as stopwords da biblioteca da nltk. Se necessário,  podemos criar nosso próprio conjunto de stopwords, dependendo do nosso problema."
      ]
    },
    {
      "cell_type": "code",
      "metadata": {
        "colab": {
          "base_uri": "https://localhost:8080/",
          "height": 35
        },
        "id": "JRFgEdfzyXEm",
        "outputId": "8ffd776f-8c0e-46e6-fc32-4454b980aa58"
      },
      "source": [
        "Stemming('Eu não gosto do partido e, também, não votaria novamente nesse governante!')"
      ],
      "execution_count": 23,
      "outputs": [
        {
          "output_type": "execute_result",
          "data": {
            "application/vnd.google.colaboratory.intrinsic+json": {
              "type": "string"
            },
            "text/plain": [
              "'eu não gost do part e, também, não vot nov ness governante!'"
            ]
          },
          "metadata": {
            "tags": []
          },
          "execution_count": 23
        }
      ]
    },
    {
      "cell_type": "markdown",
      "metadata": {
        "id": "FfK025v04UOa"
      },
      "source": [
        "Lembrando que o método de Stemming reduz algumas palavras ao seu radical. Mas, nem sempre é a melhor solução usar esse método. Observe neste exemplo que a palavra *'gosto'* virou *'gost'*, porém *'gost'* é uma palavra que não existe, não tem sentido.\n",
        "\n",
        "Isso pode ser um erro do método de Stemming utilizado e pode ser que em uma tarefa de análise de sentimentos esse método não seja interessante."
      ]
    },
    {
      "cell_type": "code",
      "metadata": {
        "colab": {
          "base_uri": "https://localhost:8080/",
          "height": 35
        },
        "id": "LlSySVxcygcB",
        "outputId": "4df7d82d-88f6-430a-cf59-152042cacc07"
      },
      "source": [
        "DataCleaning('Assista aqui o vídeo do Governador falando sobre a CEMIG https://www.uol.com.br :) ;)')"
      ],
      "execution_count": 24,
      "outputs": [
        {
          "output_type": "execute_result",
          "data": {
            "application/vnd.google.colaboratory.intrinsic+json": {
              "type": "string"
            },
            "text/plain": [
              "'assista aqui o vídeo do governador falando sobre a cemig   '"
            ]
          },
          "metadata": {
            "tags": []
          },
          "execution_count": 24
        }
      ]
    },
    {
      "cell_type": "markdown",
      "metadata": {
        "id": "A1IzAU-y3zqP"
      },
      "source": [
        "Precisamos analisar se faz sentido usarmos esses métodos de pré-processamento. Podemos optar por não usar algum ou não usar nenhum dos métodos. Note que eles podem não ajudar em todos os casos, logo, dependendo do nosso problema, é melhor não utilizar."
      ]
    },
    {
      "cell_type": "markdown",
      "metadata": {
        "id": "9jDpgraSCD-E"
      },
      "source": [
        "**Aplicando apenas o método DataCleaning nos dados de tweets**"
      ]
    },
    {
      "cell_type": "markdown",
      "metadata": {
        "id": "f3SZNE54CJY6"
      },
      "source": [
        "Dado o resultado obtido com os outros métodos, acredito que o único que vale a pena utilizar aqui, no nosso caso de análise de sentimentos, seja o método de limpeza de pontos e links. Portanto, os outros dois métodos serão ignorados, nesse caso."
      ]
    },
    {
      "cell_type": "code",
      "metadata": {
        "id": "wqxuMcMpzG_h"
      },
      "source": [
        "tweets = [DataCleaning(i) for i in tweets]"
      ],
      "execution_count": 25,
      "outputs": []
    },
    {
      "cell_type": "markdown",
      "metadata": {
        "id": "Bf4oP0XYCnU7"
      },
      "source": [
        "**Visualizando os 50 primeiros tweets com o método aplicado**"
      ]
    },
    {
      "cell_type": "code",
      "metadata": {
        "colab": {
          "base_uri": "https://localhost:8080/"
        },
        "id": "N96kupXDClJt",
        "outputId": "1dc8cf83-21c5-4dea-8c4d-0b6668bc1fc8"
      },
      "source": [
        "tweets[:50]"
      ],
      "execution_count": 26,
      "outputs": [
        {
          "output_type": "execute_result",
          "data": {
            "text/plain": [
              "['���⛪  catedral de santo antônio  governador valadaresmg ',\n",
              " '�  governador valadares minas gerais ',\n",
              " '��  governador valadares minas gerais ',\n",
              " '��� ',\n",
              " '��� psol vai questionar aumento de vereadores e prefeito de bh na justiça  politica  estado de minas ',\n",
              " ' bom é bandido morto\\ndeputado cabo júlio é condenado e fica inelegível por 10 anos  politica  estado de minas ',\n",
              " 'e 25 dos mineiros dizem não torcer para time nenhummesmo dentro de um estado com atléticomg e cruzeiro pq ',\n",
              " 'a gigantesca barba do mal em destaque no caderno cultura do estado de minas ',\n",
              " 'bb e governo de minas travam disputa sobre depósitos judiciais ',\n",
              " 'com vcs bh fica pequena belo horizonte pron bɛloɾiˈzõntʃi10 é a capital do estado de mg com uma área de aproximadamente 331 km²',\n",
              " 'daí a gente visita governador valadares\\nque lugar eh esse mãe\\nmg a gente tem uns parente la\\n\\nmano onde q eu não tenho parente',\n",
              " 'é bonita e é bonita \\nlatergram ibituruna home  governador valadares minas gerais ',\n",
              " 'erro desconhecido é mato aliás é da secretaria estadual de fazenda que tá assim mg não precisa de dinheiro não governador',\n",
              " 'la la land cantando estações arrasa no globo de ouro  estado de minas  ',\n",
              " 'la la land cantando estações arrasa no globo de ouro  estado de minas ',\n",
              " 'los abusos aun en el estado más sólido son minas sordas que tarde o temprano estallan joseph sanialdubay',\n",
              " 'mesmo sem muito dinheiro no caixa o governo de minas gerais compra 2 dois helicópteros dois helicópteros minas gerais 2017 s1',\n",
              " 'modelo de segurança será o nosso legado diz cláudio beato  politica  estado de minas ',\n",
              " 'modelo de segurança será o nosso legado diz cláudio beato  politica  estado de minas ',\n",
              " 'modelo de segurança será o nosso legado diz cláudio beato  politica  estado de minas ',\n",
              " 'o governo de minas gerais não comentou o assunto \\n\\n',\n",
              " 'o governo federal publicou no dia 27 de dezembro de 2016 a medida provisória 76416 que permite a diferenciação ',\n",
              " 'polícia federal acaba de divulgar que encontrou provas no apartamento do lula mas só até a 4ª série jornal estado de minas',\n",
              " 'praia da estação lota neste sábado de verão em bh  gerais  estado de minas ',\n",
              " 'representando mais uma ferramenta de monitoramento da educação da rede estadual em minas a secretaria de estado ',\n",
              " 'uso de aeronave pertencente ao  estado de mg em domingo p fins pessoais  em claro desvio de finalidade  ',\n",
              " 'vou postar umas curiosidades sobre o corpo humano\\n\\no japão é menor que o estado de minas gerais ¿¿¿¿',\n",
              " 'acordaminas\\n\\no governador fernando pimentel depois de ser flagrado usando um helicóptero do estado de mg ',\n",
              " 'acordaminas\\n\\no povo mineiro tem que da um pé na bunda  desse  canalha ',\n",
              " 'alerta  nome da ceee é utilizado em golpe no estado  ',\n",
              " 'beta betalab mg afiliada da globo apresentador no am é demitido após criticar governador… ',\n",
              " 'beta betalab mg caos nos presídios am pede apoio à união seis dias após massacre  ',\n",
              " 'beta betalab mg caos nos presídios temer e cármen lúcia se reúnem para debater crise  ',\n",
              " 'beta betalab mg crise carcerária governo de roraima pede força nacional a temer  ',\n",
              " 'beta betalab mg crise carcerária secretário de sp diz haver guerra de facções no país  ',\n",
              " 'beta betalab mg crise política no df se agrava rollemberg exonera vicegovernador de cargo…  timbeta rt brasil',\n",
              " 'beta betalab mg escalada de violência nos presídios am pede apoio da força nacional…  ',\n",
              " 'beta betalab mg escalada de violência crime organizado no brasil é disputado por 27…  ',\n",
              " 'beta betalab mg estado afirma não ter sido notificado apesar de decisão judicial reajuste…… ',\n",
              " 'beta betalab mg estado de espírito do paulistano voz do trânsito buzina reflete pressa…… ',\n",
              " 'beta betalab mg estados falidos parte do pmdb quer barrar vetos de temer na negociação de…… ',\n",
              " 'beta betalab mg exministro e outros servidores da era pt se mantêm em cargos estratégicos…  timbeta rt brasil',\n",
              " 'beta betalab mg expresidente da câmara justiça suíça vê indícios concretos contra…  ',\n",
              " 'beta betalab mg governo em calamidade financeira bb avisa justiça que minas não tem…  ',\n",
              " 'beta betalab mg mais sobre o massacre pf facção tinha cela de comando dentro da prisão… ',\n",
              " 'beta betalab mg marketing e veto a medidas de paes de doação de sangue a capoeira a 1ª…… ',\n",
              " 'beta betalab mg massacre em presídio de manaus governo do am rebate ministro da justiça e…  timbeta rt brasil',\n",
              " 'beta betalab mg mudanças propostas pelo governo reforma libera trabalhar 12 horas alguns…… ',\n",
              " 'beta betalab mg muitas páginas de investigação qg da lava jato reúne mais de 30 milhões…… ',\n",
              " 'beta betalab mg nos últimos dois anos governo pagou r 24 bi a alvos da lava jato  ']"
            ]
          },
          "metadata": {
            "tags": []
          },
          "execution_count": 26
        }
      ]
    },
    {
      "cell_type": "markdown",
      "metadata": {
        "id": "oxo9Yw73E4nu"
      },
      "source": [
        "###Criando o modelo"
      ]
    },
    {
      "cell_type": "markdown",
      "metadata": {
        "id": "wOXbt396E936"
      },
      "source": [
        "**Instanciando o objeto que faz a vetorização dos dados de texto**"
      ]
    },
    {
      "cell_type": "markdown",
      "metadata": {
        "id": "a2UdBKdeFLPU"
      },
      "source": [
        "Geralmente, modelos de Machine Learning não se saem muito bem com dados de texto. Por isso, precisamos processar esses textos e transformá-los em  vetores numéricos. Dessa forma, usamos os vetores nos modelos de Machine Learning."
      ]
    },
    {
      "cell_type": "code",
      "metadata": {
        "id": "S1IvNV1RCtBg"
      },
      "source": [
        "vectorizer = CountVectorizer(analyzer='word')"
      ],
      "execution_count": 27,
      "outputs": []
    },
    {
      "cell_type": "markdown",
      "metadata": {
        "id": "1J6Ut2tOFt9p"
      },
      "source": [
        "**Aplicando o vetorizador nos dados de texto**"
      ]
    },
    {
      "cell_type": "code",
      "metadata": {
        "colab": {
          "base_uri": "https://localhost:8080/"
        },
        "id": "haB2EfgvFskQ",
        "outputId": "c87ee1af-f8c1-4fc9-ddb1-626aa55527d6"
      },
      "source": [
        "freq_tweets = vectorizer.fit_transform(tweets)\n",
        "type(freq_tweets)"
      ],
      "execution_count": 28,
      "outputs": [
        {
          "output_type": "execute_result",
          "data": {
            "text/plain": [
              "scipy.sparse.csr.csr_matrix"
            ]
          },
          "metadata": {
            "tags": []
          },
          "execution_count": 28
        }
      ]
    },
    {
      "cell_type": "markdown",
      "metadata": {
        "id": "5Et66I--ILzY"
      },
      "source": [
        "Ou seja, freq_tweets é uma matriz esparsa."
      ]
    },
    {
      "cell_type": "code",
      "metadata": {
        "colab": {
          "base_uri": "https://localhost:8080/"
        },
        "id": "XkQRq84aIf2J",
        "outputId": "c8135281-6503-4ec4-9201-d5238260e531"
      },
      "source": [
        "freq_tweets.A"
      ],
      "execution_count": 29,
      "outputs": [
        {
          "output_type": "execute_result",
          "data": {
            "text/plain": [
              "array([[0, 0, 0, ..., 0, 0, 0],\n",
              "       [0, 0, 0, ..., 0, 0, 0],\n",
              "       [0, 0, 0, ..., 0, 0, 0],\n",
              "       ...,\n",
              "       [0, 0, 0, ..., 0, 0, 0],\n",
              "       [0, 0, 0, ..., 0, 0, 0],\n",
              "       [0, 0, 0, ..., 0, 0, 0]])"
            ]
          },
          "metadata": {
            "tags": []
          },
          "execution_count": 29
        }
      ]
    },
    {
      "cell_type": "markdown",
      "metadata": {
        "id": "SW_YPGuoIUl4"
      },
      "source": [
        "**Visualizando o número de linhas e colunas da matriz**"
      ]
    },
    {
      "cell_type": "code",
      "metadata": {
        "colab": {
          "base_uri": "https://localhost:8080/"
        },
        "id": "h30VDI2YIatJ",
        "outputId": "42396643-7b1e-49bb-f43f-1379da34f957"
      },
      "source": [
        "freq_tweets.shape"
      ],
      "execution_count": 30,
      "outputs": [
        {
          "output_type": "execute_result",
          "data": {
            "text/plain": [
              "(5765, 7248)"
            ]
          },
          "metadata": {
            "tags": []
          },
          "execution_count": 30
        }
      ]
    },
    {
      "cell_type": "markdown",
      "metadata": {
        "id": "HxJd41zzIpE7"
      },
      "source": [
        "Cada palavra é uma coluna da matriz."
      ]
    },
    {
      "cell_type": "markdown",
      "metadata": {
        "id": "g-4V_xswGip6"
      },
      "source": [
        "**Instanciando o modelo Naive Bayes Multinomial**\n",
        "\n",
        "Classificador muito utilizado em análise de sentimentos"
      ]
    },
    {
      "cell_type": "markdown",
      "metadata": {
        "id": "6J5z05Y9H0qz"
      },
      "source": [
        "![image.png](data:image/png;base64,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)"
      ]
    },
    {
      "cell_type": "code",
      "metadata": {
        "colab": {
          "base_uri": "https://localhost:8080/"
        },
        "id": "dtaTrh-MGYy3",
        "outputId": "522502bb-1dcb-4fa3-9c5b-a666ef661811"
      },
      "source": [
        "model = MultinomialNB()\n",
        "model.fit(freq_tweets, classes)"
      ],
      "execution_count": 31,
      "outputs": [
        {
          "output_type": "execute_result",
          "data": {
            "text/plain": [
              "MultinomialNB(alpha=1.0, class_prior=None, fit_prior=True)"
            ]
          },
          "metadata": {
            "tags": []
          },
          "execution_count": 31
        }
      ]
    },
    {
      "cell_type": "markdown",
      "metadata": {
        "id": "fRzPljYtJ4-i"
      },
      "source": [
        "**Testando o modelo com algumas instâncias simples**"
      ]
    },
    {
      "cell_type": "markdown",
      "metadata": {
        "id": "I1Ig0KFnJ8wI"
      },
      "source": [
        "Sentenças usadas na aula do curso Data Science do Zero do Minerando Dados."
      ]
    },
    {
      "cell_type": "code",
      "metadata": {
        "id": "Mfo-v1yhIEd4"
      },
      "source": [
        "tests = ['Esse governo está no início, vamos ver o que vai dar',\n",
        "         'Estou muito feliz com o governo de Minas esse ano',\n",
        "         'O estado de Minas Gerais decretou calamidade financeira!!!',\n",
        "         'A segurança desse país está deixando a desejar',\n",
        "         'O governador de Minas é mais uma vez do PT']"
      ],
      "execution_count": 32,
      "outputs": []
    },
    {
      "cell_type": "markdown",
      "metadata": {
        "id": "tETcPP6xKWY1"
      },
      "source": [
        "Aplicando a função de Data Cleaning nos dados de teste"
      ]
    },
    {
      "cell_type": "code",
      "metadata": {
        "id": "GT7Ka7viKVbt"
      },
      "source": [
        "tests = [DataCleaning(i) for i in tests]"
      ],
      "execution_count": 33,
      "outputs": []
    },
    {
      "cell_type": "markdown",
      "metadata": {
        "id": "7p7S9CliKuqY"
      },
      "source": [
        "Vetorizando os dados de teste"
      ]
    },
    {
      "cell_type": "code",
      "metadata": {
        "id": "Huk2_TV3KeRW"
      },
      "source": [
        "freq_tests = vectorizer.transform(tests)"
      ],
      "execution_count": 34,
      "outputs": []
    },
    {
      "cell_type": "markdown",
      "metadata": {
        "id": "wtcx7JF_K6n8"
      },
      "source": [
        "Fazendo a classificação dos dados de teste com o modelo treinado"
      ]
    },
    {
      "cell_type": "code",
      "metadata": {
        "colab": {
          "base_uri": "https://localhost:8080/"
        },
        "id": "B6ZkTdGgLSkW",
        "outputId": "a68b9c3c-bf0b-48e4-becb-3cd236e2ad98"
      },
      "source": [
        "for t, c in zip(tests, model.predict(freq_tests)):\n",
        "    print(t +\" - \"+ c)"
      ],
      "execution_count": 35,
      "outputs": [
        {
          "output_type": "stream",
          "text": [
            "esse governo está no início vamos ver o que vai dar - Neutro\n",
            "estou muito feliz com o governo de minas esse ano - Neutro\n",
            "o estado de minas gerais decretou calamidade financeira - Negativo\n",
            "a segurança desse país está deixando a desejar - Neutro\n",
            "o governador de minas é mais uma vez do pt - Neutro\n"
          ],
          "name": "stdout"
        }
      ]
    },
    {
      "cell_type": "markdown",
      "metadata": {
        "id": "ijNe01T4LsAI"
      },
      "source": [
        "Observe que a segunda sentença e a quarta sentença foram classificadas de forma errada. A segunda deveria ser classificada como positiva e a quarta deveria ser classificada como negativa, mas ambas foram classificadas como neutras."
      ]
    },
    {
      "cell_type": "markdown",
      "metadata": {
        "id": "nQ1yqi8_MeSR"
      },
      "source": [
        "Vejamos a probabilidade de classificação de cada classe para cada uma dessas sentenças de teste"
      ]
    },
    {
      "cell_type": "code",
      "metadata": {
        "colab": {
          "base_uri": "https://localhost:8080/"
        },
        "id": "Jb3do9FHLj6X",
        "outputId": "1cc8a946-7288-4b32-c52c-0d244117b91d"
      },
      "source": [
        "print(model.classes_)\n",
        "model.predict_proba(freq_tests).round(2)"
      ],
      "execution_count": 36,
      "outputs": [
        {
          "output_type": "stream",
          "text": [
            "['Negativo' 'Neutro' 'Positivo']\n"
          ],
          "name": "stdout"
        },
        {
          "output_type": "execute_result",
          "data": {
            "text/plain": [
              "array([[0.29, 0.71, 0.  ],\n",
              "       [0.04, 0.96, 0.  ],\n",
              "       [0.99, 0.01, 0.  ],\n",
              "       [0.12, 0.86, 0.02],\n",
              "       [0.22, 0.78, 0.  ]])"
            ]
          },
          "metadata": {
            "tags": []
          },
          "execution_count": 36
        }
      ]
    },
    {
      "cell_type": "markdown",
      "metadata": {
        "id": "YsA7WSLQ78q6"
      },
      "source": [
        "Essa não é a melhor forma de validar o modelo. Isso foi apenas um teste. Uma melhor validação será feita posteriormente.\n",
        "\n",
        "Mas, antes disso, vamos ver como funciona a função de tags de negações."
      ]
    },
    {
      "cell_type": "markdown",
      "metadata": {
        "id": "2fW0Z1w08M6O"
      },
      "source": [
        "###Função de Tags de Negações"
      ]
    },
    {
      "cell_type": "markdown",
      "metadata": {
        "id": "FGnHo4sG8QRY"
      },
      "source": [
        "*   Acrescenta uma tag _NEG em todas as palavras após um *'não'*.\n",
        "*   O objetivo é dar mais peso para o modelo identificar uma inversão de sentimento na frase.\n",
        "*   Exemplos:\n",
        "    *   Eu gosto de cachorros - Positivo\n",
        "    *   Eu não gosto de cachorros - Negativo"
      ]
    },
    {
      "cell_type": "code",
      "metadata": {
        "id": "cMyTpOJdNpBH"
      },
      "source": [
        "def set_neg(text):\n",
        "    neg = ['não', 'not']\n",
        "    neg_detected = False\n",
        "    result = []\n",
        "    exclude = set(string.punctuation)\n",
        "    text = ''.join(ch for ch in text if ch not in exclude)\n",
        "    words = text.split()\n",
        "    for w in words:\n",
        "        w = w.lower()\n",
        "        if neg_detected == True:\n",
        "            w = w + '_NEG'\n",
        "        if w in neg:\n",
        "            neg_detected = True\n",
        "        result.append(w)\n",
        "    return (' '.join(result))"
      ],
      "execution_count": 40,
      "outputs": []
    },
    {
      "cell_type": "markdown",
      "metadata": {
        "id": "rsj8_dyq-7hw"
      },
      "source": [
        "**Usando algumas frases de exemplo para vermos o funcionamento dessa função**"
      ]
    },
    {
      "cell_type": "code",
      "metadata": {
        "colab": {
          "base_uri": "https://localhost:8080/",
          "height": 35
        },
        "id": "b72C_LXT9Izl",
        "outputId": "397036ea-691b-4c53-d4ef-483c969124b5"
      },
      "source": [
        "set_neg('Eu gosto do partido, votaria novamente nesse governante!')"
      ],
      "execution_count": 41,
      "outputs": [
        {
          "output_type": "execute_result",
          "data": {
            "application/vnd.google.colaboratory.intrinsic+json": {
              "type": "string"
            },
            "text/plain": [
              "'eu gosto do partido votaria novamente nesse governante'"
            ]
          },
          "metadata": {
            "tags": []
          },
          "execution_count": 41
        }
      ]
    },
    {
      "cell_type": "markdown",
      "metadata": {
        "id": "rYCyGXR5_GAD"
      },
      "source": [
        "Observe que, como não há palavras da lista *neg* nessa frase, ou seja, não há *não* nessa frase, não houve mudança em nenhuma palavra."
      ]
    },
    {
      "cell_type": "code",
      "metadata": {
        "colab": {
          "base_uri": "https://localhost:8080/",
          "height": 35
        },
        "id": "b6zsFV2m_Eus",
        "outputId": "2407bab3-56fe-4ff0-c116-59c998c99eb5"
      },
      "source": [
        "set_neg('Eu não gosto do partido, não votaria novamente nesse governante!')"
      ],
      "execution_count": 42,
      "outputs": [
        {
          "output_type": "execute_result",
          "data": {
            "application/vnd.google.colaboratory.intrinsic+json": {
              "type": "string"
            },
            "text/plain": [
              "'eu não gosto_NEG do_NEG partido_NEG não_NEG votaria_NEG novamente_NEG nesse_NEG governante_NEG'"
            ]
          },
          "metadata": {
            "tags": []
          },
          "execution_count": 42
        }
      ]
    },
    {
      "cell_type": "markdown",
      "metadata": {
        "id": "ALkrsZ2R_mLq"
      },
      "source": [
        "Observe que, como há *'não'* nessa frase, foi acrescentada a tag _NEG em todas as palavras após a palavra *'não'*."
      ]
    },
    {
      "cell_type": "markdown",
      "metadata": {
        "id": "Xuh1PbMNBz2G"
      },
      "source": [
        "###Criando modelos com Pipelines"
      ]
    },
    {
      "cell_type": "markdown",
      "metadata": {
        "id": "GaUgbgynB2ZS"
      },
      "source": [
        "*   Pipelines são interessantes para reduzir código e automatizar fluxos\n",
        "*   A classe Pipeline nos permite embutir no modelo não apenas o algoritmo usado, mas também a forma como ele irá pré-processar os dados.\n",
        "\n",
        "Mais informações no artigo nesse [link](https://medium.com/data-hackers/como-usar-pipelines-no-scikit-learn-1398a4cc6ae9)."
      ]
    },
    {
      "cell_type": "markdown",
      "metadata": {
        "id": "Kpx1gyGTGWXy"
      },
      "source": [
        "**Importando a biblioteca**"
      ]
    },
    {
      "cell_type": "code",
      "metadata": {
        "id": "t2IVwH0i_YZc"
      },
      "source": [
        "from sklearn.pipeline import Pipeline"
      ],
      "execution_count": 43,
      "outputs": []
    },
    {
      "cell_type": "markdown",
      "metadata": {
        "id": "w0d02ho7GhZ0"
      },
      "source": [
        "**Criando um pipeline**"
      ]
    },
    {
      "cell_type": "markdown",
      "metadata": {
        "id": "ncH0NL2bGq0W"
      },
      "source": [
        "*   Primeiro passo desse Pipeline é vetorizar os dados.\n",
        "*   Segundo passo desse Pipeline é criar um classificador Naive Bayes Multinomial."
      ]
    },
    {
      "cell_type": "code",
      "metadata": {
        "id": "stl2HHUNGdys"
      },
      "source": [
        "simple_pipeline = Pipeline([\n",
        "    ('counts', CountVectorizer()),\n",
        "    ('classifier', MultinomialNB())\n",
        "])"
      ],
      "execution_count": 45,
      "outputs": []
    },
    {
      "cell_type": "markdown",
      "metadata": {
        "id": "P02uxMUoZuvl"
      },
      "source": [
        "**Criando um outro pipeline que usa tag de negações**"
      ]
    },
    {
      "cell_type": "markdown",
      "metadata": {
        "id": "cGHBSM7ebVyi"
      },
      "source": [
        "*   Primeiro passo desse Pipeline é vetorizar os dados, usando tag de negações.\n",
        "*   Segundo passo desse Pipeline é criar um classificador Naive Bayes Multinomial."
      ]
    },
    {
      "cell_type": "code",
      "metadata": {
        "id": "hUl8T2jGZ0Zp"
      },
      "source": [
        "neg_pipeline = Pipeline([\n",
        "    ('counts', CountVectorizer(tokenizer = lambda text: set_neg(text))),\n",
        "    ('classifier', MultinomialNB())\n",
        "])"
      ],
      "execution_count": 44,
      "outputs": []
    },
    {
      "cell_type": "markdown",
      "metadata": {
        "id": "NTsHHjV_bJew"
      },
      "source": [
        "Vejamos como cada pipeline performa."
      ]
    },
    {
      "cell_type": "markdown",
      "metadata": {
        "id": "IGrmF_MYbjzv"
      },
      "source": [
        "**Treinando os modelos**"
      ]
    },
    {
      "cell_type": "markdown",
      "metadata": {
        "id": "axldHJCHbnjb"
      },
      "source": [
        "simple_pipeline"
      ]
    },
    {
      "cell_type": "code",
      "metadata": {
        "colab": {
          "base_uri": "https://localhost:8080/"
        },
        "id": "LArl3dj-aF74",
        "outputId": "d7acb31a-4866-47be-a977-c78620b6811b"
      },
      "source": [
        "simple_pipeline.fit(tweets, classes)"
      ],
      "execution_count": 47,
      "outputs": [
        {
          "output_type": "execute_result",
          "data": {
            "text/plain": [
              "Pipeline(memory=None,\n",
              "         steps=[('counts',\n",
              "                 CountVectorizer(analyzer='word', binary=False,\n",
              "                                 decode_error='strict',\n",
              "                                 dtype=<class 'numpy.int64'>, encoding='utf-8',\n",
              "                                 input='content', lowercase=True, max_df=1.0,\n",
              "                                 max_features=None, min_df=1,\n",
              "                                 ngram_range=(1, 1), preprocessor=None,\n",
              "                                 stop_words=None, strip_accents=None,\n",
              "                                 token_pattern='(?u)\\\\b\\\\w\\\\w+\\\\b',\n",
              "                                 tokenizer=None, vocabulary=None)),\n",
              "                ('classifier',\n",
              "                 MultinomialNB(alpha=1.0, class_prior=None, fit_prior=True))],\n",
              "         verbose=False)"
            ]
          },
          "metadata": {
            "tags": []
          },
          "execution_count": 47
        }
      ]
    },
    {
      "cell_type": "code",
      "metadata": {
        "colab": {
          "base_uri": "https://localhost:8080/"
        },
        "id": "eF-didsybrcc",
        "outputId": "61b92fb6-2ca7-4a0c-cefc-814bfc362b0c"
      },
      "source": [
        "simple_pipeline.steps"
      ],
      "execution_count": 48,
      "outputs": [
        {
          "output_type": "execute_result",
          "data": {
            "text/plain": [
              "[('counts',\n",
              "  CountVectorizer(analyzer='word', binary=False, decode_error='strict',\n",
              "                  dtype=<class 'numpy.int64'>, encoding='utf-8', input='content',\n",
              "                  lowercase=True, max_df=1.0, max_features=None, min_df=1,\n",
              "                  ngram_range=(1, 1), preprocessor=None, stop_words=None,\n",
              "                  strip_accents=None, token_pattern='(?u)\\\\b\\\\w\\\\w+\\\\b',\n",
              "                  tokenizer=None, vocabulary=None)),\n",
              " ('classifier', MultinomialNB(alpha=1.0, class_prior=None, fit_prior=True))]"
            ]
          },
          "metadata": {
            "tags": []
          },
          "execution_count": 48
        }
      ]
    },
    {
      "cell_type": "markdown",
      "metadata": {
        "id": "8-P93E7Wb9OM"
      },
      "source": [
        "neg_pipeline"
      ]
    },
    {
      "cell_type": "code",
      "metadata": {
        "colab": {
          "base_uri": "https://localhost:8080/"
        },
        "id": "eHwGqsHAb0sa",
        "outputId": "5e07fa39-f248-42f2-e691-96aa09cfc5c4"
      },
      "source": [
        "neg_pipeline.fit(tweets, classes)"
      ],
      "execution_count": 49,
      "outputs": [
        {
          "output_type": "execute_result",
          "data": {
            "text/plain": [
              "Pipeline(memory=None,\n",
              "         steps=[('counts',\n",
              "                 CountVectorizer(analyzer='word', binary=False,\n",
              "                                 decode_error='strict',\n",
              "                                 dtype=<class 'numpy.int64'>, encoding='utf-8',\n",
              "                                 input='content', lowercase=True, max_df=1.0,\n",
              "                                 max_features=None, min_df=1,\n",
              "                                 ngram_range=(1, 1), preprocessor=None,\n",
              "                                 stop_words=None, strip_accents=None,\n",
              "                                 token_pattern='(?u)\\\\b\\\\w\\\\w+\\\\b',\n",
              "                                 tokenizer=<function <lambda> at 0x7f75bb5c4710>,\n",
              "                                 vocabulary=None)),\n",
              "                ('classifier',\n",
              "                 MultinomialNB(alpha=1.0, class_prior=None, fit_prior=True))],\n",
              "         verbose=False)"
            ]
          },
          "metadata": {
            "tags": []
          },
          "execution_count": 49
        }
      ]
    },
    {
      "cell_type": "code",
      "metadata": {
        "colab": {
          "base_uri": "https://localhost:8080/"
        },
        "id": "7UHyHYf3cFWB",
        "outputId": "52d005b5-c145-4382-e805-a5533cc2a31d"
      },
      "source": [
        "neg_pipeline.steps"
      ],
      "execution_count": 50,
      "outputs": [
        {
          "output_type": "execute_result",
          "data": {
            "text/plain": [
              "[('counts',\n",
              "  CountVectorizer(analyzer='word', binary=False, decode_error='strict',\n",
              "                  dtype=<class 'numpy.int64'>, encoding='utf-8', input='content',\n",
              "                  lowercase=True, max_df=1.0, max_features=None, min_df=1,\n",
              "                  ngram_range=(1, 1), preprocessor=None, stop_words=None,\n",
              "                  strip_accents=None, token_pattern='(?u)\\\\b\\\\w\\\\w+\\\\b',\n",
              "                  tokenizer=<function <lambda> at 0x7f75bb5c4710>,\n",
              "                  vocabulary=None)),\n",
              " ('classifier', MultinomialNB(alpha=1.0, class_prior=None, fit_prior=True))]"
            ]
          },
          "metadata": {
            "tags": []
          },
          "execution_count": 50
        }
      ]
    },
    {
      "cell_type": "markdown",
      "metadata": {
        "id": "FkG7ZBzycP7v"
      },
      "source": [
        "**Validando o modelo simples com Validação Cruzada**"
      ]
    },
    {
      "cell_type": "markdown",
      "metadata": {
        "id": "ZYyKvbIqcbHt"
      },
      "source": [
        "Fazendo o cross validation do modelo"
      ]
    },
    {
      "cell_type": "code",
      "metadata": {
        "id": "s90ieGuQcIQJ"
      },
      "source": [
        "results_simple = cross_val_predict(simple_pipeline, tweets, classes, cv=10)"
      ],
      "execution_count": 51,
      "outputs": []
    },
    {
      "cell_type": "markdown",
      "metadata": {
        "id": "NShsPR9qcjXm"
      },
      "source": [
        "Medindo a acurácia média do modelo"
      ]
    },
    {
      "cell_type": "code",
      "metadata": {
        "colab": {
          "base_uri": "https://localhost:8080/"
        },
        "id": "Znk3NYEKclly",
        "outputId": "ca397bee-8bb5-4bb4-f4fc-caf670029338"
      },
      "source": [
        "metrics.accuracy_score(classes, results_simple)"
      ],
      "execution_count": 52,
      "outputs": [
        {
          "output_type": "execute_result",
          "data": {
            "text/plain": [
              "0.8679965307892454"
            ]
          },
          "metadata": {
            "tags": []
          },
          "execution_count": 52
        }
      ]
    },
    {
      "cell_type": "markdown",
      "metadata": {
        "id": "hPZoZJtgcoxq"
      },
      "source": [
        "Obtendo medidas de validação do modelo"
      ]
    },
    {
      "cell_type": "code",
      "metadata": {
        "colab": {
          "base_uri": "https://localhost:8080/"
        },
        "id": "awVgKhsCcqqZ",
        "outputId": "4f4b0ea2-140a-4a98-992c-bb1bfa45d396"
      },
      "source": [
        "c = ['Positivo', 'Negativo', 'Neutro']\n",
        "print(metrics.classification_report(classes, results_simple, c))"
      ],
      "execution_count": 53,
      "outputs": [
        {
          "output_type": "stream",
          "text": [
            "              precision    recall  f1-score   support\n",
            "\n",
            "    Positivo       0.96      0.88      0.92      2840\n",
            "    Negativo       0.77      0.89      0.83       951\n",
            "      Neutro       0.81      0.84      0.82      1974\n",
            "\n",
            "    accuracy                           0.87      5765\n",
            "   macro avg       0.85      0.87      0.86      5765\n",
            "weighted avg       0.87      0.87      0.87      5765\n",
            "\n"
          ],
          "name": "stdout"
        }
      ]
    },
    {
      "cell_type": "markdown",
      "metadata": {
        "id": "MLZgXK1_c0k8"
      },
      "source": [
        "Obtendo a matriz de confusão"
      ]
    },
    {
      "cell_type": "code",
      "metadata": {
        "colab": {
          "base_uri": "https://localhost:8080/",
          "height": 204
        },
        "id": "umwXzgHBc25i",
        "outputId": "11cf22f1-7c83-42ea-f479-7b1121bbf3ad"
      },
      "source": [
        "pd.crosstab(classes, results_simple, rownames=['Real'], colnames=['Predito'], margins=True)"
      ],
      "execution_count": 54,
      "outputs": [
        {
          "output_type": "execute_result",
          "data": {
            "text/html": [
              "<div>\n",
              "<style scoped>\n",
              "    .dataframe tbody tr th:only-of-type {\n",
              "        vertical-align: middle;\n",
              "    }\n",
              "\n",
              "    .dataframe tbody tr th {\n",
              "        vertical-align: top;\n",
              "    }\n",
              "\n",
              "    .dataframe thead th {\n",
              "        text-align: right;\n",
              "    }\n",
              "</style>\n",
              "<table border=\"1\" class=\"dataframe\">\n",
              "  <thead>\n",
              "    <tr style=\"text-align: right;\">\n",
              "      <th>Predito</th>\n",
              "      <th>Negativo</th>\n",
              "      <th>Neutro</th>\n",
              "      <th>Positivo</th>\n",
              "      <th>All</th>\n",
              "    </tr>\n",
              "    <tr>\n",
              "      <th>Real</th>\n",
              "      <th></th>\n",
              "      <th></th>\n",
              "      <th></th>\n",
              "      <th></th>\n",
              "    </tr>\n",
              "  </thead>\n",
              "  <tbody>\n",
              "    <tr>\n",
              "      <th>Negativo</th>\n",
              "      <td>846</td>\n",
              "      <td>100</td>\n",
              "      <td>5</td>\n",
              "      <td>951</td>\n",
              "    </tr>\n",
              "    <tr>\n",
              "      <th>Neutro</th>\n",
              "      <td>202</td>\n",
              "      <td>1665</td>\n",
              "      <td>107</td>\n",
              "      <td>1974</td>\n",
              "    </tr>\n",
              "    <tr>\n",
              "      <th>Positivo</th>\n",
              "      <td>45</td>\n",
              "      <td>302</td>\n",
              "      <td>2493</td>\n",
              "      <td>2840</td>\n",
              "    </tr>\n",
              "    <tr>\n",
              "      <th>All</th>\n",
              "      <td>1093</td>\n",
              "      <td>2067</td>\n",
              "      <td>2605</td>\n",
              "      <td>5765</td>\n",
              "    </tr>\n",
              "  </tbody>\n",
              "</table>\n",
              "</div>"
            ],
            "text/plain": [
              "Predito   Negativo  Neutro  Positivo   All\n",
              "Real                                      \n",
              "Negativo       846     100         5   951\n",
              "Neutro         202    1665       107  1974\n",
              "Positivo        45     302      2493  2840\n",
              "All           1093    2067      2605  5765"
            ]
          },
          "metadata": {
            "tags": []
          },
          "execution_count": 54
        }
      ]
    },
    {
      "cell_type": "markdown",
      "metadata": {
        "id": "L4TTVS25d15K"
      },
      "source": [
        "**Validando o modelo com tag de negações com Validação Cruzada**"
      ]
    },
    {
      "cell_type": "markdown",
      "metadata": {
        "id": "urhi1rAAeSpM"
      },
      "source": [
        "Fazendo o cross validation do modelo"
      ]
    },
    {
      "cell_type": "code",
      "metadata": {
        "id": "n6M1z5ODdk5P"
      },
      "source": [
        "results_neg = cross_val_predict(neg_pipeline, tweets, classes, cv=10)"
      ],
      "execution_count": 55,
      "outputs": []
    },
    {
      "cell_type": "markdown",
      "metadata": {
        "id": "ALB9i_qveany"
      },
      "source": [
        "Medindo a acurácia média do modelo"
      ]
    },
    {
      "cell_type": "code",
      "metadata": {
        "colab": {
          "base_uri": "https://localhost:8080/"
        },
        "id": "qKejalqaeXo7",
        "outputId": "37c420bb-f3c9-4531-f0ac-bc8abdb5fc9f"
      },
      "source": [
        "metrics.accuracy_score(classes, results_neg)"
      ],
      "execution_count": 57,
      "outputs": [
        {
          "output_type": "execute_result",
          "data": {
            "text/plain": [
              "0.6617519514310495"
            ]
          },
          "metadata": {
            "tags": []
          },
          "execution_count": 57
        }
      ]
    },
    {
      "cell_type": "markdown",
      "metadata": {
        "id": "pZckI94Lehv9"
      },
      "source": [
        "Obtendo medidas de validação do modelo"
      ]
    },
    {
      "cell_type": "code",
      "metadata": {
        "colab": {
          "base_uri": "https://localhost:8080/"
        },
        "id": "fRzHw8r6eclJ",
        "outputId": "35eb562c-0fc2-4c79-ec41-9aaf7514d343"
      },
      "source": [
        "c = ['Positivo', 'Negativo', 'Neutro']\n",
        "print(metrics.classification_report(classes, results_neg, c))"
      ],
      "execution_count": 58,
      "outputs": [
        {
          "output_type": "stream",
          "text": [
            "              precision    recall  f1-score   support\n",
            "\n",
            "    Positivo       0.64      0.90      0.75      2840\n",
            "    Negativo       0.68      0.36      0.47       951\n",
            "      Neutro       0.71      0.47      0.56      1974\n",
            "\n",
            "    accuracy                           0.66      5765\n",
            "   macro avg       0.68      0.57      0.59      5765\n",
            "weighted avg       0.67      0.66      0.64      5765\n",
            "\n"
          ],
          "name": "stdout"
        }
      ]
    },
    {
      "cell_type": "markdown",
      "metadata": {
        "id": "vK-6GXppeoVN"
      },
      "source": [
        "Obtendo a matriz de confusão"
      ]
    },
    {
      "cell_type": "code",
      "metadata": {
        "colab": {
          "base_uri": "https://localhost:8080/",
          "height": 204
        },
        "id": "d5MzeDxKelNJ",
        "outputId": "22f1ff28-b31e-4348-e015-91c04631e1e0"
      },
      "source": [
        "pd.crosstab(classes, results_neg, rownames=['Real'], colnames=['Predito'], margins=True)"
      ],
      "execution_count": 59,
      "outputs": [
        {
          "output_type": "execute_result",
          "data": {
            "text/html": [
              "<div>\n",
              "<style scoped>\n",
              "    .dataframe tbody tr th:only-of-type {\n",
              "        vertical-align: middle;\n",
              "    }\n",
              "\n",
              "    .dataframe tbody tr th {\n",
              "        vertical-align: top;\n",
              "    }\n",
              "\n",
              "    .dataframe thead th {\n",
              "        text-align: right;\n",
              "    }\n",
              "</style>\n",
              "<table border=\"1\" class=\"dataframe\">\n",
              "  <thead>\n",
              "    <tr style=\"text-align: right;\">\n",
              "      <th>Predito</th>\n",
              "      <th>Negativo</th>\n",
              "      <th>Neutro</th>\n",
              "      <th>Positivo</th>\n",
              "      <th>All</th>\n",
              "    </tr>\n",
              "    <tr>\n",
              "      <th>Real</th>\n",
              "      <th></th>\n",
              "      <th></th>\n",
              "      <th></th>\n",
              "      <th></th>\n",
              "    </tr>\n",
              "  </thead>\n",
              "  <tbody>\n",
              "    <tr>\n",
              "      <th>Negativo</th>\n",
              "      <td>341</td>\n",
              "      <td>178</td>\n",
              "      <td>432</td>\n",
              "      <td>951</td>\n",
              "    </tr>\n",
              "    <tr>\n",
              "      <th>Neutro</th>\n",
              "      <td>78</td>\n",
              "      <td>919</td>\n",
              "      <td>977</td>\n",
              "      <td>1974</td>\n",
              "    </tr>\n",
              "    <tr>\n",
              "      <th>Positivo</th>\n",
              "      <td>86</td>\n",
              "      <td>199</td>\n",
              "      <td>2555</td>\n",
              "      <td>2840</td>\n",
              "    </tr>\n",
              "    <tr>\n",
              "      <th>All</th>\n",
              "      <td>505</td>\n",
              "      <td>1296</td>\n",
              "      <td>3964</td>\n",
              "      <td>5765</td>\n",
              "    </tr>\n",
              "  </tbody>\n",
              "</table>\n",
              "</div>"
            ],
            "text/plain": [
              "Predito   Negativo  Neutro  Positivo   All\n",
              "Real                                      \n",
              "Negativo       341     178       432   951\n",
              "Neutro          78     919       977  1974\n",
              "Positivo        86     199      2555  2840\n",
              "All            505    1296      3964  5765"
            ]
          },
          "metadata": {
            "tags": []
          },
          "execution_count": 59
        }
      ]
    },
    {
      "cell_type": "markdown",
      "metadata": {
        "id": "wCWv9E9zfxlt"
      },
      "source": [
        "Observe que o modelo que utiliza tag de negações se saiu pior do que o modelo simples. Portanto, para esse caso, para esses dados, atribuir tag de negações não é a melhor saída."
      ]
    },
    {
      "cell_type": "markdown",
      "metadata": {
        "id": "lQGVfuDIkFhe"
      },
      "source": [
        "**Testando e avaliando modelo com Unigrams e Bigrams**"
      ]
    },
    {
      "cell_type": "code",
      "metadata": {
        "colab": {
          "base_uri": "https://localhost:8080/"
        },
        "id": "Yv811GymjKKJ",
        "outputId": "19bc82d3-c76c-42d0-e8be-43fd8b25c06d"
      },
      "source": [
        "vectorizer = CountVectorizer(ngram_range=(1,2))\n",
        "freq_tweets = vectorizer.fit_transform(tweets)\n",
        "model = MultinomialNB()\n",
        "model.fit(freq_tweets, classes)"
      ],
      "execution_count": 75,
      "outputs": [
        {
          "output_type": "execute_result",
          "data": {
            "text/plain": [
              "MultinomialNB(alpha=1.0, class_prior=None, fit_prior=True)"
            ]
          },
          "metadata": {
            "tags": []
          },
          "execution_count": 75
        }
      ]
    },
    {
      "cell_type": "code",
      "metadata": {
        "id": "4tJK_nvYkVjq"
      },
      "source": [
        "results = cross_val_predict(model, freq_tweets, classes, cv=10)"
      ],
      "execution_count": 76,
      "outputs": []
    },
    {
      "cell_type": "code",
      "metadata": {
        "colab": {
          "base_uri": "https://localhost:8080/"
        },
        "id": "H3RZi3V8kaah",
        "outputId": "79d581c3-4fb0-4083-f3e5-186b251abbc6"
      },
      "source": [
        "metrics.accuracy_score(classes, results)"
      ],
      "execution_count": 77,
      "outputs": [
        {
          "output_type": "execute_result",
          "data": {
            "text/plain": [
              "0.8638334778837814"
            ]
          },
          "metadata": {
            "tags": []
          },
          "execution_count": 77
        }
      ]
    },
    {
      "cell_type": "code",
      "metadata": {
        "colab": {
          "base_uri": "https://localhost:8080/"
        },
        "id": "g5njMzGRkcjx",
        "outputId": "ca3d9aad-2ec5-41cf-cd8f-c9e560eed75a"
      },
      "source": [
        "c = ['Positivo', 'Negativo', 'Neutro']\n",
        "print(metrics.classification_report(classes, results, c))"
      ],
      "execution_count": 78,
      "outputs": [
        {
          "output_type": "stream",
          "text": [
            "              precision    recall  f1-score   support\n",
            "\n",
            "    Positivo       0.97      0.88      0.92      2840\n",
            "    Negativo       0.67      0.93      0.78       951\n",
            "      Neutro       0.86      0.81      0.83      1974\n",
            "\n",
            "    accuracy                           0.86      5765\n",
            "   macro avg       0.83      0.87      0.84      5765\n",
            "weighted avg       0.88      0.86      0.87      5765\n",
            "\n"
          ],
          "name": "stdout"
        }
      ]
    },
    {
      "cell_type": "code",
      "metadata": {
        "colab": {
          "base_uri": "https://localhost:8080/",
          "height": 204
        },
        "id": "3EQwgEstkl9y",
        "outputId": "522c999d-fe5e-4296-ffe8-1e70f55daa8e"
      },
      "source": [
        "pd.crosstab(classes, results, rownames=['Real'], colnames=['Predito'], margins=True)"
      ],
      "execution_count": 79,
      "outputs": [
        {
          "output_type": "execute_result",
          "data": {
            "text/html": [
              "<div>\n",
              "<style scoped>\n",
              "    .dataframe tbody tr th:only-of-type {\n",
              "        vertical-align: middle;\n",
              "    }\n",
              "\n",
              "    .dataframe tbody tr th {\n",
              "        vertical-align: top;\n",
              "    }\n",
              "\n",
              "    .dataframe thead th {\n",
              "        text-align: right;\n",
              "    }\n",
              "</style>\n",
              "<table border=\"1\" class=\"dataframe\">\n",
              "  <thead>\n",
              "    <tr style=\"text-align: right;\">\n",
              "      <th>Predito</th>\n",
              "      <th>Negativo</th>\n",
              "      <th>Neutro</th>\n",
              "      <th>Positivo</th>\n",
              "      <th>All</th>\n",
              "    </tr>\n",
              "    <tr>\n",
              "      <th>Real</th>\n",
              "      <th></th>\n",
              "      <th></th>\n",
              "      <th></th>\n",
              "      <th></th>\n",
              "    </tr>\n",
              "  </thead>\n",
              "  <tbody>\n",
              "    <tr>\n",
              "      <th>Negativo</th>\n",
              "      <td>889</td>\n",
              "      <td>62</td>\n",
              "      <td>0</td>\n",
              "      <td>951</td>\n",
              "    </tr>\n",
              "    <tr>\n",
              "      <th>Neutro</th>\n",
              "      <td>292</td>\n",
              "      <td>1606</td>\n",
              "      <td>76</td>\n",
              "      <td>1974</td>\n",
              "    </tr>\n",
              "    <tr>\n",
              "      <th>Positivo</th>\n",
              "      <td>148</td>\n",
              "      <td>207</td>\n",
              "      <td>2485</td>\n",
              "      <td>2840</td>\n",
              "    </tr>\n",
              "    <tr>\n",
              "      <th>All</th>\n",
              "      <td>1329</td>\n",
              "      <td>1875</td>\n",
              "      <td>2561</td>\n",
              "      <td>5765</td>\n",
              "    </tr>\n",
              "  </tbody>\n",
              "</table>\n",
              "</div>"
            ],
            "text/plain": [
              "Predito   Negativo  Neutro  Positivo   All\n",
              "Real                                      \n",
              "Negativo       889      62         0   951\n",
              "Neutro         292    1606        76  1974\n",
              "Positivo       148     207      2485  2840\n",
              "All           1329    1875      2561  5765"
            ]
          },
          "metadata": {
            "tags": []
          },
          "execution_count": 79
        }
      ]
    },
    {
      "cell_type": "markdown",
      "metadata": {
        "id": "T1tduo12lyzM"
      },
      "source": [
        "Observe que usando Unigrams e Bigrams na vetorização, teve um desempenho similar ao modelo simples que fizemos anteriormente."
      ]
    },
    {
      "cell_type": "markdown",
      "metadata": {
        "id": "_SUvLyKmlNu8"
      },
      "source": [
        "**Considerações finais**"
      ]
    },
    {
      "cell_type": "markdown",
      "metadata": {
        "id": "3MluImLglQrA"
      },
      "source": [
        "*   Aumentar a quantidade de dados de treino pode ser bom para melhorar os resultados.\n",
        "*   Da mesma forma, alterar os parâmetros do algoritmo pode melhorar o desempenho do modelo.\n",
        "*   Deve-se fazer vários testes fazendo alterações em parâmetros e quantidade de dados."
      ]
    }
  ]
}