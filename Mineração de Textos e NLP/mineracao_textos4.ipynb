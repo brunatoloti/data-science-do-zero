{
  "nbformat": 4,
  "nbformat_minor": 0,
  "metadata": {
    "colab": {
      "name": "mineracao_textos4.ipynb",
      "provenance": [],
      "mount_file_id": "1BJ3OQCxNiHwJHfsHLoWXCwfl8343sxoA",
      "authorship_tag": "ABX9TyMp9rCTsI+tu6ZdT01Phm5p",
      "include_colab_link": true
    },
    "kernelspec": {
      "name": "python3",
      "display_name": "Python 3"
    },
    "language_info": {
      "name": "python"
    }
  },
  "cells": [
    {
      "cell_type": "markdown",
      "metadata": {
        "id": "view-in-github",
        "colab_type": "text"
      },
      "source": [
        "<a href=\"https://colab.research.google.com/github/brunatoloti/data-science-do-zero/blob/main/Minera%C3%A7%C3%A3o%20de%20Textos%20e%20NLP/mineracao_textos4.ipynb\" target=\"_parent\"><img src=\"https://colab.research.google.com/assets/colab-badge.svg\" alt=\"Open In Colab\"/></a>"
      ]
    },
    {
      "cell_type": "markdown",
      "metadata": {
        "id": "fxCcqLpkNc14"
      },
      "source": [
        "#Trabalhando com a biblioteca TextBlob\n",
        "\n",
        "##Classificando documentos"
      ]
    },
    {
      "cell_type": "markdown",
      "metadata": {
        "id": "PiPBpkw6Nk3l"
      },
      "source": [
        "*   Criação de um modelo para classificar frases.\n",
        "*   Uso de base de dados em português."
      ]
    },
    {
      "cell_type": "markdown",
      "metadata": {
        "id": "0Mwvc-lxNtc2"
      },
      "source": [
        "Importando as bibliotecas"
      ]
    },
    {
      "cell_type": "code",
      "metadata": {
        "id": "X9JiwKX0NCRm"
      },
      "source": [
        "from textblob import TextBlob\n",
        "import pandas as pd\n",
        "import nltk"
      ],
      "execution_count": null,
      "outputs": []
    },
    {
      "cell_type": "code",
      "metadata": {
        "id": "iLkFEkScPm61"
      },
      "source": [
        "nltk.download()"
      ],
      "execution_count": null,
      "outputs": []
    },
    {
      "cell_type": "markdown",
      "metadata": {
        "id": "NYfVHejEN3xG"
      },
      "source": [
        "**Importando e lendo uma base de dados de notícias**\n",
        "\n",
        "*   Base de dados disponibilizada no curso Data Science do Zero.\n",
        "*   A base de dados possui uma coluna de classificação da notícia: notícia verdadeira ou fake news."
      ]
    },
    {
      "cell_type": "code",
      "metadata": {
        "id": "KaeU9EPiNydu"
      },
      "source": [
        "news = pd.read_csv('/content/drive/MyDrive/Curso Data Science do Zero/Mineração de Textos e NLP/dados/news.csv', sep=';', header=None)"
      ],
      "execution_count": null,
      "outputs": []
    },
    {
      "cell_type": "code",
      "metadata": {
        "colab": {
          "base_uri": "https://localhost:8080/",
          "height": 204
        },
        "id": "AClk9BfxOSRG",
        "outputId": "e55608cc-d35a-4b7d-a802-d43bca8a2216"
      },
      "source": [
        "news.head()"
      ],
      "execution_count": null,
      "outputs": [
        {
          "output_type": "execute_result",
          "data": {
            "text/html": [
              "<div>\n",
              "<style scoped>\n",
              "    .dataframe tbody tr th:only-of-type {\n",
              "        vertical-align: middle;\n",
              "    }\n",
              "\n",
              "    .dataframe tbody tr th {\n",
              "        vertical-align: top;\n",
              "    }\n",
              "\n",
              "    .dataframe thead th {\n",
              "        text-align: right;\n",
              "    }\n",
              "</style>\n",
              "<table border=\"1\" class=\"dataframe\">\n",
              "  <thead>\n",
              "    <tr style=\"text-align: right;\">\n",
              "      <th></th>\n",
              "      <th>0</th>\n",
              "      <th>1</th>\n",
              "    </tr>\n",
              "  </thead>\n",
              "  <tbody>\n",
              "    <tr>\n",
              "      <th>0</th>\n",
              "      <td>O capitão américa aparece sobrevoando São Paul...</td>\n",
              "      <td>verdadeiro</td>\n",
              "    </tr>\n",
              "    <tr>\n",
              "      <th>1</th>\n",
              "      <td>A polarização da população gera guerra civil</td>\n",
              "      <td>fake_news</td>\n",
              "    </tr>\n",
              "    <tr>\n",
              "      <th>2</th>\n",
              "      <td>O Chaves se pronuncia e diz está indignado com...</td>\n",
              "      <td>verdadeiro</td>\n",
              "    </tr>\n",
              "    <tr>\n",
              "      <th>3</th>\n",
              "      <td>Morte do precidenciavel X por acidente de aviao</td>\n",
              "      <td>verdadeiro</td>\n",
              "    </tr>\n",
              "    <tr>\n",
              "      <th>4</th>\n",
              "      <td>Monumento de Brasilia é atacado por manifestan...</td>\n",
              "      <td>fake_news</td>\n",
              "    </tr>\n",
              "  </tbody>\n",
              "</table>\n",
              "</div>"
            ],
            "text/plain": [
              "                                                   0           1\n",
              "0  O capitão américa aparece sobrevoando São Paul...  verdadeiro\n",
              "1       A polarização da população gera guerra civil   fake_news\n",
              "2  O Chaves se pronuncia e diz está indignado com...  verdadeiro\n",
              "3    Morte do precidenciavel X por acidente de aviao  verdadeiro\n",
              "4  Monumento de Brasilia é atacado por manifestan...   fake_news"
            ]
          },
          "metadata": {
            "tags": []
          },
          "execution_count": 3
        }
      ]
    },
    {
      "cell_type": "markdown",
      "metadata": {
        "id": "Mu5fjXkqOz2m"
      },
      "source": [
        "**Importando o classificador NaiveBayes**"
      ]
    },
    {
      "cell_type": "code",
      "metadata": {
        "id": "ElB5dv4YOv1v"
      },
      "source": [
        "from textblob.classifiers import NaiveBayesClassifier"
      ],
      "execution_count": null,
      "outputs": []
    },
    {
      "cell_type": "markdown",
      "metadata": {
        "id": "QrukF5pAO8zO"
      },
      "source": [
        "**Treinando o classificador**\n",
        "\n",
        "*   O classificador NaiveBayes espera receber os dados de treino como uma lista de tuplas da forma (texto, classificação) ou um arquivo."
      ]
    },
    {
      "cell_type": "code",
      "metadata": {
        "id": "m33CYlv4O7gV"
      },
      "source": [
        "clf = NaiveBayesClassifier(news.values)"
      ],
      "execution_count": null,
      "outputs": []
    },
    {
      "cell_type": "markdown",
      "metadata": {
        "id": "1V1veibYHona"
      },
      "source": [
        "Fazendo uma modelagem do tipo bag of words com uma frase de exemplo usando o modelo treinado"
      ]
    },
    {
      "cell_type": "code",
      "metadata": {
        "colab": {
          "base_uri": "https://localhost:8080/"
        },
        "id": "HI_Z7JtPQmAN",
        "outputId": "28eca962-c7cb-4a91-fdd1-649f6eaae804"
      },
      "source": [
        "clf.extract_features('Chuva declara apoio aos baixinhos')"
      ],
      "execution_count": null,
      "outputs": [
        {
          "output_type": "execute_result",
          "data": {
            "text/plain": [
              "{'contains(13)': False,\n",
              " 'contains(A)': False,\n",
              " 'contains(Amoedo)': False,\n",
              " 'contains(Bolsonaro)': False,\n",
              " 'contains(Brasilia)': False,\n",
              " 'contains(Chaves)': False,\n",
              " 'contains(Corpus)': False,\n",
              " 'contains(Disputa)': False,\n",
              " 'contains(Ex)': False,\n",
              " 'contains(Haddad)': False,\n",
              " 'contains(Jair)': False,\n",
              " 'contains(Lula)': False,\n",
              " 'contains(Manifestantes)': False,\n",
              " 'contains(Marcelo)': False,\n",
              " 'contains(Monumento)': False,\n",
              " 'contains(Morte)': False,\n",
              " 'contains(Mourao)': False,\n",
              " 'contains(NOVO)': False,\n",
              " 'contains(Novo)': False,\n",
              " 'contains(O)': False,\n",
              " 'contains(PT)': False,\n",
              " 'contains(Padre)': False,\n",
              " 'contains(Paulo)': False,\n",
              " 'contains(Presidente)': False,\n",
              " 'contains(Rossi)': False,\n",
              " 'contains(Sao)': False,\n",
              " 'contains(São)': False,\n",
              " 'contains(X)': False,\n",
              " 'contains(a)': False,\n",
              " 'contains(acidente)': False,\n",
              " 'contains(acirrada)': False,\n",
              " 'contains(adiantamento)': False,\n",
              " 'contains(américa)': False,\n",
              " 'contains(ao)': False,\n",
              " 'contains(aparece)': False,\n",
              " 'contains(apoio)': True,\n",
              " 'contains(apos)': False,\n",
              " 'contains(atacado)': False,\n",
              " 'contains(avenida)': False,\n",
              " 'contains(aviao)': False,\n",
              " 'contains(cada)': False,\n",
              " 'contains(canceladas)': False,\n",
              " 'contains(candidatar)': False,\n",
              " 'contains(candidato)': False,\n",
              " 'contains(capitão)': False,\n",
              " 'contains(civil)': False,\n",
              " 'contains(com)': False,\n",
              " 'contains(confiante)': False,\n",
              " 'contains(consegue)': False,\n",
              " 'contains(contra)': False,\n",
              " 'contains(da)': False,\n",
              " 'contains(de)': False,\n",
              " 'contains(declara)': True,\n",
              " 'contains(diz)': False,\n",
              " 'contains(do)': False,\n",
              " 'contains(e)': False,\n",
              " 'contains(eleicoes)': False,\n",
              " 'contains(em)': False,\n",
              " 'contains(entre)': False,\n",
              " 'contains(está)': False,\n",
              " 'contains(extremos)': False,\n",
              " 'contains(funcionários)': False,\n",
              " 'contains(férias)': False,\n",
              " 'contains(gera)': False,\n",
              " 'contains(governar)': False,\n",
              " 'contains(guerra)': False,\n",
              " 'contains(habeas)': False,\n",
              " 'contains(indignado)': False,\n",
              " 'contains(intervençao)': False,\n",
              " 'contains(irá)': False,\n",
              " 'contains(mais)': False,\n",
              " 'contains(manifestantes)': False,\n",
              " 'contains(melhora)': False,\n",
              " 'contains(mentira)': False,\n",
              " 'contains(militar)': False,\n",
              " 'contains(nas)': False,\n",
              " 'contains(no)': False,\n",
              " 'contains(nordeste)': False,\n",
              " 'contains(o)': False,\n",
              " 'contains(os)': False,\n",
              " 'contains(pais)': False,\n",
              " 'contains(para)': False,\n",
              " 'contains(param)': False,\n",
              " 'contains(partido)': False,\n",
              " 'contains(pedem)': False,\n",
              " 'contains(pesquisas)': False,\n",
              " 'contains(pode)': False,\n",
              " 'contains(polarização)': False,\n",
              " 'contains(população)': False,\n",
              " 'contains(por)': False,\n",
              " 'contains(precidenciavel)': False,\n",
              " 'contains(presidencia)': False,\n",
              " 'contains(presidente)': False,\n",
              " 'contains(pronuncia)': False,\n",
              " 'contains(que)': False,\n",
              " 'contains(ranking)': False,\n",
              " 'contains(rejeicao)': False,\n",
              " 'contains(salario)': False,\n",
              " 'contains(se)': False,\n",
              " 'contains(segundo)': False,\n",
              " 'contains(ser)': False,\n",
              " 'contains(seráo)': False,\n",
              " 'contains(sobe)': False,\n",
              " 'contains(sobrevoando)': False,\n",
              " 'contains(tanta)': False,\n",
              " 'contains(temmer)': False,\n",
              " 'contains(turno)': False,\n",
              " 'contains(vez)': False,\n",
              " 'contains(é)': False}"
            ]
          },
          "metadata": {
            "tags": []
          },
          "execution_count": 8
        }
      ]
    },
    {
      "cell_type": "markdown",
      "metadata": {
        "id": "bIq-3xBuHrWK"
      },
      "source": [
        "Fazendo uma classificação de fato da frase com o modelo treinado"
      ]
    },
    {
      "cell_type": "code",
      "metadata": {
        "colab": {
          "base_uri": "https://localhost:8080/",
          "height": 35
        },
        "id": "9peTMu5nRNXT",
        "outputId": "39f06401-5c60-4a5c-aed8-860768170dc4"
      },
      "source": [
        "clf.classify('Chuva declara apoio aos baixinhos')"
      ],
      "execution_count": null,
      "outputs": [
        {
          "output_type": "execute_result",
          "data": {
            "application/vnd.google.colaboratory.intrinsic+json": {
              "type": "string"
            },
            "text/plain": [
              "'fake_news'"
            ]
          },
          "metadata": {
            "tags": []
          },
          "execution_count": 9
        }
      ]
    },
    {
      "cell_type": "markdown",
      "metadata": {
        "id": "XKzOCKSWHuBU"
      },
      "source": [
        "Fazendo uma classificação de fato com outra frase usando o modelo treinado"
      ]
    },
    {
      "cell_type": "code",
      "metadata": {
        "colab": {
          "base_uri": "https://localhost:8080/",
          "height": 35
        },
        "id": "yipf6Du3Roxc",
        "outputId": "c5913142-2802-4787-b570-720b275938a3"
      },
      "source": [
        "clf.classify('Presidente Temer declara apoio a candidato do PSDB')"
      ],
      "execution_count": null,
      "outputs": [
        {
          "output_type": "execute_result",
          "data": {
            "application/vnd.google.colaboratory.intrinsic+json": {
              "type": "string"
            },
            "text/plain": [
              "'fake_news'"
            ]
          },
          "metadata": {
            "tags": []
          },
          "execution_count": 10
        }
      ]
    },
    {
      "cell_type": "markdown",
      "metadata": {
        "id": "H_vT9ELRHwq2"
      },
      "source": [
        "Fazendo uma classificação de fato com outra frase usando o modelo treinado"
      ]
    },
    {
      "cell_type": "code",
      "metadata": {
        "colab": {
          "base_uri": "https://localhost:8080/",
          "height": 35
        },
        "id": "IDoERPQ-R7h8",
        "outputId": "7dd01a8d-f0de-4433-ff47-e49ee1eb5de9"
      },
      "source": [
        "clf.classify('Disputa entre presidenciáveis será mesmo no segundo turno')"
      ],
      "execution_count": null,
      "outputs": [
        {
          "output_type": "execute_result",
          "data": {
            "application/vnd.google.colaboratory.intrinsic+json": {
              "type": "string"
            },
            "text/plain": [
              "'verdadeiro'"
            ]
          },
          "metadata": {
            "tags": []
          },
          "execution_count": 11
        }
      ]
    },
    {
      "cell_type": "markdown",
      "metadata": {
        "id": "gOknydhFHxdS"
      },
      "source": [
        "**Distribuição das Probabilidades**"
      ]
    },
    {
      "cell_type": "markdown",
      "metadata": {
        "id": "Wei4lRR0H1dS"
      },
      "source": [
        "Como estamos trabalhando com um classificador probabilístico, podemos obter a probabilidade de cada frase/texto ser verdadeiro ou fake news, ou seja, a probabilidade da classificação.\n",
        "\n",
        "Para isso, usamos o método *prob_classify()* do classificador e passamos a frase que queremos obter a probabilidade da classificação como parâmetro. Com isso, usamos o método *prob()* para obtermos a probabilidade em si de a frase ser classificada com cada uma das classes."
      ]
    },
    {
      "cell_type": "code",
      "metadata": {
        "id": "U0fgyTc9SNQU"
      },
      "source": [
        "dist_prob = clf.prob_classify('Padre Marcelo Rossi se pronuncia e diz que irá se candidatar')"
      ],
      "execution_count": null,
      "outputs": []
    },
    {
      "cell_type": "code",
      "metadata": {
        "colab": {
          "base_uri": "https://localhost:8080/"
        },
        "id": "VvJgrrgpIJLe",
        "outputId": "675d8dc4-ef8b-42bc-a829-22e1a5ca681b"
      },
      "source": [
        "dist_prob.prob('fake_news')"
      ],
      "execution_count": null,
      "outputs": [
        {
          "output_type": "execute_result",
          "data": {
            "text/plain": [
              "0.8336538270304874"
            ]
          },
          "metadata": {
            "tags": []
          },
          "execution_count": 13
        }
      ]
    },
    {
      "cell_type": "code",
      "metadata": {
        "colab": {
          "base_uri": "https://localhost:8080/"
        },
        "id": "UM2K7nEzIOU4",
        "outputId": "374e80c5-04be-4d97-9959-ebde76cd2543"
      },
      "source": [
        "dist_prob.prob('verdadeiro')"
      ],
      "execution_count": null,
      "outputs": [
        {
          "output_type": "execute_result",
          "data": {
            "text/plain": [
              "0.16634617296951504"
            ]
          },
          "metadata": {
            "tags": []
          },
          "execution_count": 14
        }
      ]
    },
    {
      "cell_type": "markdown",
      "metadata": {
        "id": "RG3qkjvTI67C"
      },
      "source": [
        "A probabilidade de a frase *Padre Marcelo Rossi se pronuncia e diz que irá se candidatar* ser da classe *fake_news* é de, aproximadamente, 83%, enquanto que de ser da classe *verdadeiro* é de, aproximadamente, 17%."
      ]
    },
    {
      "cell_type": "code",
      "metadata": {
        "colab": {
          "base_uri": "https://localhost:8080/",
          "height": 35
        },
        "id": "V_-eGgpDIVCB",
        "outputId": "d92ab6f0-8883-4eaf-9831-339febf41f75"
      },
      "source": [
        "dist_prob.max()"
      ],
      "execution_count": null,
      "outputs": [
        {
          "output_type": "execute_result",
          "data": {
            "application/vnd.google.colaboratory.intrinsic+json": {
              "type": "string"
            },
            "text/plain": [
              "'fake_news'"
            ]
          },
          "metadata": {
            "tags": []
          },
          "execution_count": 15
        }
      ]
    },
    {
      "cell_type": "markdown",
      "metadata": {
        "id": "ZeKv8dW8JZPp"
      },
      "source": [
        "Com o método *max()*, aplicado à variável dist_prob, conseguimos ver qual a probabilidade máxima. Nos é retornado *fake_news*. De fato, é a classificação com maior probabilidade para essa frase."
      ]
    },
    {
      "cell_type": "markdown",
      "metadata": {
        "id": "OqPBQJBzJtPz"
      },
      "source": [
        "**Avaliando o classificador usando um conjunto de validação de exemplo**"
      ]
    },
    {
      "cell_type": "markdown",
      "metadata": {
        "id": "VuCVaNeaJ4zk"
      },
      "source": [
        "Como forma de exemplo e para fixação dos conceitos, usaremos aqui uma lista com algumas frases e suas classes como conjunto de validação. Num problema real, obviamente, esse conjunto seria bem maior, assim como a base de dados utilizada."
      ]
    },
    {
      "cell_type": "code",
      "metadata": {
        "id": "Phi3qSENJXbp"
      },
      "source": [
        "validation = [\n",
        "    ('O governo Temer propõe reforma trabalhista', 'verdadeiro'),\n",
        "    ('Capitão América é visto em campanha eleitoral do partido NOVO', 'fake_news'),\n",
        "    ('Padre Marcelo Rossi é solto nessa madrugada', 'fake_news'),\n",
        "    ('Urso melhora nas pesquisas após atentado', 'verdadeiro')\n",
        "]"
      ],
      "execution_count": null,
      "outputs": []
    },
    {
      "cell_type": "markdown",
      "metadata": {
        "id": "t90RB2wRKuQC"
      },
      "source": [
        "Visualizando a acurácia do modelo"
      ]
    },
    {
      "cell_type": "code",
      "metadata": {
        "colab": {
          "base_uri": "https://localhost:8080/"
        },
        "id": "9v_sAo4WKs-n",
        "outputId": "8916e18c-aabd-4852-e31a-060c870c58a9"
      },
      "source": [
        "clf.accuracy(validation)"
      ],
      "execution_count": null,
      "outputs": [
        {
          "output_type": "execute_result",
          "data": {
            "text/plain": [
              "1.0"
            ]
          },
          "metadata": {
            "tags": []
          },
          "execution_count": 29
        }
      ]
    },
    {
      "cell_type": "code",
      "metadata": {
        "colab": {
          "base_uri": "https://localhost:8080/"
        },
        "id": "I0EOS3QRKyOx",
        "outputId": "26446032-8edc-4af3-fcfe-08f6546d1c09"
      },
      "source": [
        "for i in validation:\n",
        "    print(f'{i[0]} - {clf.classify(i[0])}')"
      ],
      "execution_count": null,
      "outputs": [
        {
          "output_type": "stream",
          "text": [
            "O governo Temer propõe reforma trabalhista - verdadeiro\n",
            "Capitão América é visto em campanha eleitoral do partido NOVO - fake_news\n",
            "Padre Marcelo Rossi é solto nessa madrugada - fake_news\n",
            "Urso melhora nas pesquisas após atentado - verdadeiro\n"
          ],
          "name": "stdout"
        }
      ]
    },
    {
      "cell_type": "markdown",
      "metadata": {
        "id": "8BHCnOF1Lzvt"
      },
      "source": [
        "Conseguimos ver que o modelo conseguiu acertar todas as classificações da validação, neste caso. Poderia não ter ocorrido isso, dado que tanto a base de dados aqui utilizada quanto o conjunto de validação utilizado são pequenos."
      ]
    },
    {
      "cell_type": "markdown",
      "metadata": {
        "id": "-luhawMcLANK"
      },
      "source": [
        "**Imprimindo as features mais informativas para o classificador**"
      ]
    },
    {
      "cell_type": "markdown",
      "metadata": {
        "id": "-uQ3_z-VMM7K"
      },
      "source": [
        "Aqui, neste exemplo, temos as features mais informativas para o classificador. Óbviamente, com uma base de dados maior, o modelo seria bem melhor e teria informações mais precisas para o classificador."
      ]
    },
    {
      "cell_type": "code",
      "metadata": {
        "colab": {
          "base_uri": "https://localhost:8080/"
        },
        "id": "98wBYfcGK4Rg",
        "outputId": "76c892df-0c34-4f9f-9ff1-6ccab429bc0f"
      },
      "source": [
        "clf.show_informative_features(20)"
      ],
      "execution_count": null,
      "outputs": [
        {
          "output_type": "stream",
          "text": [
            "Most Informative Features\n",
            "            contains(de) = True           verdad : fake_n =      2.7 : 1.0\n",
            "            contains(se) = True           verdad : fake_n =      2.1 : 1.0\n",
            "           contains(diz) = True           verdad : fake_n =      2.1 : 1.0\n",
            "         contains(apoio) = True           fake_n : verdad =      1.9 : 1.0\n",
            "       contains(declara) = True           fake_n : verdad =      1.9 : 1.0\n",
            "            contains(de) = False          fake_n : verdad =      1.6 : 1.0\n",
            "           contains(que) = True           verdad : fake_n =      1.5 : 1.0\n",
            "            contains(ao) = False          verdad : fake_n =      1.4 : 1.0\n",
            "            contains(se) = False          fake_n : verdad =      1.3 : 1.0\n",
            "           contains(diz) = False          fake_n : verdad =      1.3 : 1.0\n",
            "            contains(no) = False          fake_n : verdad =      1.3 : 1.0\n",
            "             contains(o) = False          fake_n : verdad =      1.3 : 1.0\n",
            "          contains(está) = False          fake_n : verdad =      1.3 : 1.0\n",
            "             contains(O) = False          fake_n : verdad =      1.3 : 1.0\n",
            "             contains(e) = True           verdad : fake_n =      1.2 : 1.0\n",
            "       contains(declara) = False          verdad : fake_n =      1.2 : 1.0\n",
            "         contains(apoio) = False          verdad : fake_n =      1.2 : 1.0\n",
            "           contains(ser) = False          verdad : fake_n =      1.2 : 1.0\n",
            "            contains(PT) = False          verdad : fake_n =      1.2 : 1.0\n",
            "    contains(Presidente) = False          verdad : fake_n =      1.2 : 1.0\n"
          ],
          "name": "stdout"
        }
      ]
    }
  ]
}