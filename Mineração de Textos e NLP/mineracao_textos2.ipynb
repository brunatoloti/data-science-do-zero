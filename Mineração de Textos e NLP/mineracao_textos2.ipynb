{
  "nbformat": 4,
  "nbformat_minor": 0,
  "metadata": {
    "colab": {
      "name": "mineracao_textos2.ipynb",
      "provenance": [],
      "collapsed_sections": [],
      "mount_file_id": "1lHPw6Fj2879giBvwPHMSS2_6Tx4c2Bep",
      "authorship_tag": "ABX9TyNiatDjXYvf2cIWuUHg+JfY",
      "include_colab_link": true
    },
    "kernelspec": {
      "name": "python3",
      "display_name": "Python 3"
    },
    "language_info": {
      "name": "python"
    }
  },
  "cells": [
    {
      "cell_type": "markdown",
      "metadata": {
        "id": "view-in-github",
        "colab_type": "text"
      },
      "source": [
        "<a href=\"https://colab.research.google.com/github/brunatoloti/data-science-do-zero/blob/main/Minera%C3%A7%C3%A3o%20de%20Textos%20e%20NLP/mineracao_textos2.ipynb\" target=\"_parent\"><img src=\"https://colab.research.google.com/assets/colab-badge.svg\" alt=\"Open In Colab\"/></a>"
      ]
    },
    {
      "cell_type": "markdown",
      "metadata": {
        "id": "37IE4WFswJQc"
      },
      "source": [
        "#Mineração de Textos - NLTK"
      ]
    },
    {
      "cell_type": "markdown",
      "metadata": {
        "id": "oMPzvBa5wNMD"
      },
      "source": [
        "Neste notebook, terá:\n",
        "*   Exploração de recursos da NLTK;\n",
        "*   Abordagem das features da biblioteca com corpus da própria NLTK;\n",
        "*   Aplicação da NLTK em uma base de dados real."
      ]
    },
    {
      "cell_type": "markdown",
      "metadata": {
        "id": "p2nx_Gh1wi_T"
      },
      "source": [
        "Importando as bibliotecas"
      ]
    },
    {
      "cell_type": "code",
      "metadata": {
        "id": "MNvcEw5TwBTp"
      },
      "source": [
        "import nltk"
      ],
      "execution_count": null,
      "outputs": []
    },
    {
      "cell_type": "markdown",
      "metadata": {
        "id": "4_YjfTtKwqi0"
      },
      "source": [
        "Fazendo o download da base de corpus da NLTK"
      ]
    },
    {
      "cell_type": "code",
      "metadata": {
        "id": "qIvwpVd_wl2k"
      },
      "source": [
        " #nltk.download()"
      ],
      "execution_count": null,
      "outputs": []
    },
    {
      "cell_type": "markdown",
      "metadata": {
        "id": "leLM1IgXw8FD"
      },
      "source": [
        "Importando o corpus *brown*"
      ]
    },
    {
      "cell_type": "markdown",
      "metadata": {
        "id": "NqxZEFgxzxc0"
      },
      "source": [
        "*   Corpus com milhares de palavras de várias categorias"
      ]
    },
    {
      "cell_type": "code",
      "metadata": {
        "id": "wWaIuZEOw_6a"
      },
      "source": [
        "from nltk.corpus import brown"
      ],
      "execution_count": null,
      "outputs": []
    },
    {
      "cell_type": "markdown",
      "metadata": {
        "id": "QV2PLXQ1z7AU"
      },
      "source": [
        "Imprimindo as suas categorias"
      ]
    },
    {
      "cell_type": "code",
      "metadata": {
        "colab": {
          "base_uri": "https://localhost:8080/"
        },
        "id": "Llp1Sk2ExDWi",
        "outputId": "f68e90f1-93ec-4483-a8b1-1c9eb7cea3e8"
      },
      "source": [
        "brown.categories()"
      ],
      "execution_count": null,
      "outputs": [
        {
          "output_type": "execute_result",
          "data": {
            "text/plain": [
              "['adventure',\n",
              " 'belles_lettres',\n",
              " 'editorial',\n",
              " 'fiction',\n",
              " 'government',\n",
              " 'hobbies',\n",
              " 'humor',\n",
              " 'learned',\n",
              " 'lore',\n",
              " 'mystery',\n",
              " 'news',\n",
              " 'religion',\n",
              " 'reviews',\n",
              " 'romance',\n",
              " 'science_fiction']"
            ]
          },
          "metadata": {
            "tags": []
          },
          "execution_count": 47
        }
      ]
    },
    {
      "cell_type": "markdown",
      "metadata": {
        "id": "Mb6Dzefx0auF"
      },
      "source": [
        "Imprimindo as palavras do corpus"
      ]
    },
    {
      "cell_type": "code",
      "metadata": {
        "id": "ehDj8iaC0VGl",
        "colab": {
          "base_uri": "https://localhost:8080/"
        },
        "outputId": "3a8169c8-bc12-4f26-94a0-029586eecbe0"
      },
      "source": [
        "brown.words()"
      ],
      "execution_count": null,
      "outputs": [
        {
          "output_type": "execute_result",
          "data": {
            "text/plain": [
              "['The', 'Fulton', 'County', 'Grand', 'Jury', 'said', ...]"
            ]
          },
          "metadata": {
            "tags": []
          },
          "execution_count": 48
        }
      ]
    },
    {
      "cell_type": "markdown",
      "metadata": {
        "id": "VQB5an7W0eGE"
      },
      "source": [
        "Observe que foi retornada uma lista truncada com palavras de diversas categorias."
      ]
    },
    {
      "cell_type": "markdown",
      "metadata": {
        "id": "IVieZjKu0yT0"
      },
      "source": [
        "Obtendo o número de palavras do corpus"
      ]
    },
    {
      "cell_type": "code",
      "metadata": {
        "id": "0jviUz6M0xvz",
        "colab": {
          "base_uri": "https://localhost:8080/"
        },
        "outputId": "c66cd5ca-4dbd-41a3-c8cb-e8cc1e61f0ba"
      },
      "source": [
        "len(brown.words())"
      ],
      "execution_count": null,
      "outputs": [
        {
          "output_type": "execute_result",
          "data": {
            "text/plain": [
              "1161192"
            ]
          },
          "metadata": {
            "tags": []
          },
          "execution_count": 49
        }
      ]
    },
    {
      "cell_type": "markdown",
      "metadata": {
        "id": "aPqg4muQ0qCE"
      },
      "source": [
        "Obtendo o número de palavras do corpus cuja categoria é *news*"
      ]
    },
    {
      "cell_type": "code",
      "metadata": {
        "id": "AR62jjK2xJWy",
        "colab": {
          "base_uri": "https://localhost:8080/"
        },
        "outputId": "ed23fa74-16a7-47f0-d2cd-c5e243be145b"
      },
      "source": [
        "len(brown.words(categories='news'))"
      ],
      "execution_count": null,
      "outputs": [
        {
          "output_type": "execute_result",
          "data": {
            "text/plain": [
              "100554"
            ]
          },
          "metadata": {
            "tags": []
          },
          "execution_count": 50
        }
      ]
    },
    {
      "cell_type": "markdown",
      "metadata": {
        "id": "xjTsZu6U1JmS"
      },
      "source": [
        "Visualizando sentenças da categoria romance"
      ]
    },
    {
      "cell_type": "markdown",
      "metadata": {
        "id": "g8GLX6Zx1fsb"
      },
      "source": [
        "\n",
        "\n",
        "*   Lista de listas de sentenças.\n",
        "\n"
      ]
    },
    {
      "cell_type": "code",
      "metadata": {
        "id": "MayMg7OM1AAi",
        "colab": {
          "base_uri": "https://localhost:8080/"
        },
        "outputId": "fb386718-9462-453c-9f4a-624702c4d41c"
      },
      "source": [
        "brown.sents(categories=['romance'])"
      ],
      "execution_count": null,
      "outputs": [
        {
          "output_type": "execute_result",
          "data": {
            "text/plain": [
              "[['They', 'neither', 'liked', 'nor', 'disliked', 'the', 'Old', 'Man', '.'], ['To', 'them', 'he', 'could', 'have', 'been', 'the', 'broken', 'bell', 'in', 'the', 'church', 'tower', 'which', 'rang', 'before', 'and', 'after', 'Mass', ',', 'and', 'at', 'noon', ',', 'and', 'at', 'six', 'each', 'evening', '--', 'its', 'tone', ',', 'repetitive', ',', 'monotonous', ',', 'never', 'breaking', 'the', 'boredom', 'of', 'the', 'streets', '.'], ...]"
            ]
          },
          "metadata": {
            "tags": []
          },
          "execution_count": 51
        }
      ]
    },
    {
      "cell_type": "markdown",
      "metadata": {
        "id": "mm578MRO1kab"
      },
      "source": [
        "Observe que também é retornada uma lista truncada.\n",
        "\n",
        "Vejamos a quantidade de sentenças cuja categoria é *romance*"
      ]
    },
    {
      "cell_type": "code",
      "metadata": {
        "id": "ff0cguxi1StK",
        "colab": {
          "base_uri": "https://localhost:8080/"
        },
        "outputId": "e24202e2-ac23-45a8-c1e8-679113413e42"
      },
      "source": [
        "len(brown.sents(categories=['romance']))"
      ],
      "execution_count": null,
      "outputs": [
        {
          "output_type": "execute_result",
          "data": {
            "text/plain": [
              "4431"
            ]
          },
          "metadata": {
            "tags": []
          },
          "execution_count": 52
        }
      ]
    },
    {
      "cell_type": "markdown",
      "metadata": {
        "id": "NJ24RmEw1y7C"
      },
      "source": [
        "Obtendo as palavras do corpus cuja categoria é *romance*"
      ]
    },
    {
      "cell_type": "code",
      "metadata": {
        "id": "-cHYVL6e1tK6"
      },
      "source": [
        "romance_words = brown.words(categories=['romance'])"
      ],
      "execution_count": null,
      "outputs": []
    },
    {
      "cell_type": "code",
      "metadata": {
        "id": "Ag0gnkqi16Jq",
        "colab": {
          "base_uri": "https://localhost:8080/"
        },
        "outputId": "d7171db1-3f0f-4d47-d077-7981ad7774d4"
      },
      "source": [
        "romance_words"
      ],
      "execution_count": null,
      "outputs": [
        {
          "output_type": "execute_result",
          "data": {
            "text/plain": [
              "['They', 'neither', 'liked', 'nor', 'disliked', 'the', ...]"
            ]
          },
          "metadata": {
            "tags": []
          },
          "execution_count": 54
        }
      ]
    },
    {
      "cell_type": "code",
      "metadata": {
        "id": "fM9_5lDB164q",
        "colab": {
          "base_uri": "https://localhost:8080/"
        },
        "outputId": "60498c29-86de-400d-c022-229c81d79a08"
      },
      "source": [
        "len(romance_words)"
      ],
      "execution_count": null,
      "outputs": [
        {
          "output_type": "execute_result",
          "data": {
            "text/plain": [
              "70022"
            ]
          },
          "metadata": {
            "tags": []
          },
          "execution_count": 55
        }
      ]
    },
    {
      "cell_type": "markdown",
      "metadata": {
        "id": "T8eSOQzZ2IL8"
      },
      "source": [
        "Obtendo a frequência de palavras presentes no *romance_words*"
      ]
    },
    {
      "cell_type": "markdown",
      "metadata": {
        "id": "4EpKbq_R4TvR"
      },
      "source": [
        "\n",
        "\n",
        "*   FreqDist() retorna um dicionário de frequências\n",
        "\n"
      ]
    },
    {
      "cell_type": "code",
      "metadata": {
        "id": "OkFE0rsV1-N6"
      },
      "source": [
        "fdist_romance = nltk.FreqDist(w.lower() for w in romance_words)"
      ],
      "execution_count": null,
      "outputs": []
    },
    {
      "cell_type": "code",
      "metadata": {
        "id": "u979bjal2VOT",
        "colab": {
          "base_uri": "https://localhost:8080/"
        },
        "outputId": "6efd3361-89da-49d3-c785-3ee369fe99e6"
      },
      "source": [
        "#Visualizando as 20 palavras mais frequentes\n",
        "\n",
        "fdist_romance.most_common(20)"
      ],
      "execution_count": null,
      "outputs": [
        {
          "output_type": "execute_result",
          "data": {
            "text/plain": [
              "[(',', 3899),\n",
              " ('.', 3736),\n",
              " ('the', 2988),\n",
              " ('and', 1905),\n",
              " ('to', 1517),\n",
              " ('a', 1383),\n",
              " ('of', 1202),\n",
              " ('he', 1068),\n",
              " ('``', 1045),\n",
              " (\"''\", 1044),\n",
              " ('was', 999),\n",
              " ('i', 951),\n",
              " ('in', 930),\n",
              " ('she', 728),\n",
              " ('it', 717),\n",
              " ('had', 695),\n",
              " ('?', 690),\n",
              " ('her', 680),\n",
              " ('that', 612),\n",
              " ('his', 603)]"
            ]
          },
          "metadata": {
            "tags": []
          },
          "execution_count": 57
        }
      ]
    },
    {
      "cell_type": "markdown",
      "metadata": {
        "id": "x5qyZJPH3eyd"
      },
      "source": [
        "Palavras presentes em *romance_words* ordenadas por ordem alfabética"
      ]
    },
    {
      "cell_type": "code",
      "metadata": {
        "id": "JRLJySah2dIi",
        "colab": {
          "base_uri": "https://localhost:8080/"
        },
        "outputId": "9d805f40-7671-44ea-89f2-e220c821f9d1"
      },
      "source": [
        "#Imprimindo as 50 primeiras palavras\n",
        "sorted(set(romance_words))[:50]"
      ],
      "execution_count": null,
      "outputs": [
        {
          "output_type": "execute_result",
          "data": {
            "text/plain": [
              "['!',\n",
              " '&',\n",
              " \"'\",\n",
              " \"''\",\n",
              " \"'ello\",\n",
              " \"'em\",\n",
              " \"'most\",\n",
              " '(',\n",
              " ')',\n",
              " ',',\n",
              " '--',\n",
              " '.',\n",
              " '10',\n",
              " '141',\n",
              " '160',\n",
              " '1935',\n",
              " '1936',\n",
              " '1938',\n",
              " '1940',\n",
              " '1944',\n",
              " '230',\n",
              " '3',\n",
              " '4000-plus',\n",
              " \"6'\",\n",
              " ':',\n",
              " ';',\n",
              " '?',\n",
              " 'A',\n",
              " \"A's\",\n",
              " 'A-Z',\n",
              " \"A-Z's\",\n",
              " 'A.M.',\n",
              " 'A40-AjK',\n",
              " 'AA',\n",
              " 'Abernathy',\n",
              " 'Abernathys',\n",
              " 'About',\n",
              " 'Above',\n",
              " 'Abruptly',\n",
              " 'Absolution',\n",
              " 'Acala',\n",
              " 'Across',\n",
              " 'Acting',\n",
              " 'Actually',\n",
              " 'Adam',\n",
              " 'Adams',\n",
              " 'Adele',\n",
              " 'Adelia',\n",
              " 'Adrien',\n",
              " 'African']"
            ]
          },
          "metadata": {
            "tags": []
          },
          "execution_count": 58
        }
      ]
    },
    {
      "cell_type": "markdown",
      "metadata": {
        "id": "q2GJALtR4A5F"
      },
      "source": [
        "Obtendo a frequência de uma palavra específica no corpus cuja categoria é *romance*"
      ]
    },
    {
      "cell_type": "code",
      "metadata": {
        "id": "wVJlbqAh3oFD",
        "colab": {
          "base_uri": "https://localhost:8080/"
        },
        "outputId": "02a15217-c480-4f6a-fcee-90f7a69d4872"
      },
      "source": [
        "romance_words.count('love')"
      ],
      "execution_count": null,
      "outputs": [
        {
          "output_type": "execute_result",
          "data": {
            "text/plain": [
              "32"
            ]
          },
          "metadata": {
            "tags": []
          },
          "execution_count": 59
        }
      ]
    },
    {
      "cell_type": "code",
      "metadata": {
        "id": "AQOCCVF14Kvi",
        "colab": {
          "base_uri": "https://localhost:8080/"
        },
        "outputId": "93e1ad58-5a71-459d-e652-c8c003db66f2"
      },
      "source": [
        "romance_words.count('hate')"
      ],
      "execution_count": null,
      "outputs": [
        {
          "output_type": "execute_result",
          "data": {
            "text/plain": [
              "9"
            ]
          },
          "metadata": {
            "tags": []
          },
          "execution_count": 60
        }
      ]
    },
    {
      "cell_type": "markdown",
      "metadata": {
        "id": "TP4WrEJl4eXd"
      },
      "source": [
        "Obtendo a frequência em percentual de uma palavra específica no corpus cuja categoria é *romance*"
      ]
    },
    {
      "cell_type": "code",
      "metadata": {
        "id": "5GvpDOGr4Ms6"
      },
      "source": [
        "def percentual_word(freq, dataset):\n",
        "    total = len(dataset)\n",
        "    return 100*(freq/total)"
      ],
      "execution_count": null,
      "outputs": []
    },
    {
      "cell_type": "code",
      "metadata": {
        "id": "9KEZHYuE4z1z",
        "colab": {
          "base_uri": "https://localhost:8080/"
        },
        "outputId": "59895f8c-84fe-40d5-ef31-9c261cf3c54f"
      },
      "source": [
        "percentual_word(romance_words.count('love'), romance_words)"
      ],
      "execution_count": null,
      "outputs": [
        {
          "output_type": "execute_result",
          "data": {
            "text/plain": [
              "0.04569992288138014"
            ]
          },
          "metadata": {
            "tags": []
          },
          "execution_count": 62
        }
      ]
    },
    {
      "cell_type": "markdown",
      "metadata": {
        "id": "epkaH83u6jHt"
      },
      "source": [
        "Transformando palavras em objeto texto"
      ]
    },
    {
      "cell_type": "markdown",
      "metadata": {
        "id": "2_9rMWz26oL0"
      },
      "source": [
        "*   Para isso, deve-se passar uma lista de palavras para essa classe.\n",
        "*   Passaremos aqui, a lista *romance_words* (palavras do corpus cuja categoria é *romance*)."
      ]
    },
    {
      "cell_type": "code",
      "metadata": {
        "id": "RgVzZ3Sq44eC"
      },
      "source": [
        "romance_words = nltk.Text(romance_words)"
      ],
      "execution_count": null,
      "outputs": []
    },
    {
      "cell_type": "code",
      "metadata": {
        "id": "4LLtRb6J7EQX",
        "colab": {
          "base_uri": "https://localhost:8080/"
        },
        "outputId": "9af82e2c-d2ea-4edc-efb6-8b0b5207172b"
      },
      "source": [
        "type(romance_words)"
      ],
      "execution_count": null,
      "outputs": [
        {
          "output_type": "execute_result",
          "data": {
            "text/plain": [
              "nltk.text.Text"
            ]
          },
          "metadata": {
            "tags": []
          },
          "execution_count": 64
        }
      ]
    },
    {
      "cell_type": "markdown",
      "metadata": {
        "id": "xkhyayAS7PI8"
      },
      "source": [
        "Imprimindo palavras similares a uma determinada palavra"
      ]
    },
    {
      "cell_type": "markdown",
      "metadata": {
        "id": "aSLgVItY7Yr8"
      },
      "source": [
        "\n",
        "\n",
        "*   Imprime as palavras mais similares por contexto.\n",
        "*   Imprime as palavras que, geralmente, são usadas no mesmo contexto da palavra que estou passando por parâmetro.\n",
        "\n"
      ]
    },
    {
      "cell_type": "code",
      "metadata": {
        "id": "K8aNDWzN7JSL",
        "colab": {
          "base_uri": "https://localhost:8080/"
        },
        "outputId": "27a713fb-9c76-423e-a5aa-ccbb453b2dbb"
      },
      "source": [
        "#Por default, o método similar() retorna as 20 palavras mais similares por contexto. Posso alterar esse valor conforme a necessidade\n",
        "romance_words.similar('love')"
      ],
      "execution_count": null,
      "outputs": [
        {
          "output_type": "stream",
          "text": [
            "see that it place know tell want help understand telling hate man he\n",
            "there him above name one but her\n"
          ],
          "name": "stdout"
        }
      ]
    },
    {
      "cell_type": "markdown",
      "metadata": {
        "id": "_ns80ZqV8TQp"
      },
      "source": [
        "Imprimindo conjuntos de palavras empregadas similarmente"
      ]
    },
    {
      "cell_type": "markdown",
      "metadata": {
        "id": "2pyga36M8f4x"
      },
      "source": [
        "\n",
        "\n",
        "*   Palavras que são muito empregadas juntas em *romance_words* (palavras do corpus cuja categoria é *romance*).\n"
      ]
    },
    {
      "cell_type": "code",
      "metadata": {
        "id": "UoHPZWjr7fYM",
        "colab": {
          "base_uri": "https://localhost:8080/"
        },
        "outputId": "b599346a-e5a6-4c42-a5de-8a65b751d619"
      },
      "source": [
        "romance_words.collocations()"
      ],
      "execution_count": null,
      "outputs": [
        {
          "output_type": "stream",
          "text": [
            "New York; Old Man; Mike Deegan; Cousin Elec; Lucille Warren; old man;\n",
            "Poor John; Cousin Emma; Gratt Shafer; I've got; Mrs. Kirby; could see;\n",
            "Eddie Lee; Hanford College; young men; Miss Jen; Mr. Willis; Early\n",
            "Spring; Mrs. Salter; Gertrude Parker\n"
          ],
          "name": "stdout"
        }
      ]
    },
    {
      "cell_type": "markdown",
      "metadata": {
        "id": "0OlWJf3Q84b2"
      },
      "source": [
        "Imprimindo concordância das palavras"
      ]
    },
    {
      "cell_type": "markdown",
      "metadata": {
        "id": "m7K5l8l-87y2"
      },
      "source": [
        "*   Basicamente é o contexto no qual a palavra aparece.\n",
        "*   Consulta onde uma determinada palavra aparece no conjunto."
      ]
    },
    {
      "cell_type": "code",
      "metadata": {
        "id": "uK00FFWv8Zcz",
        "colab": {
          "base_uri": "https://localhost:8080/"
        },
        "outputId": "151dc948-c8d1-4efd-dbc8-56d42914050b"
      },
      "source": [
        "romance_words.concordance('love')"
      ],
      "execution_count": null,
      "outputs": [
        {
          "output_type": "stream",
          "text": [
            "Displaying 25 of 36 matches:\n",
            "yards in which no one knew privacy . Love and hatred and fear were one here , \n",
            "l leave you '' . `` Sounds like real love '' , Owen said . `` It sort of bring\n",
            " to satisfy any egotist . It was for love that he had served the Navy . To hav\n",
            "rved the Navy . To have someday that love returned was what he had lived for .\n",
            "is not having the only man you could love , whether he drives a bread truck or\n",
            " you can stay alive and hate him and love him and want him even if it means yo\n",
            "e him , not even with God . If it is love , you don't . And I'll take you with\n",
            "her woman , the one that never could love him the way you do , the one who got\n",
            "ts women under stress indulge in . I love you , I hate you , I feel like killi\n",
            " myself , and in the same sequence I love you I think you're the most wonderfu\n",
            "t , I can understand that by now and love them still , because everyone must j\n",
            " of women in towns , dispossessed of love , hanging on to makeshifts , and alt\n",
            "d like the tails of sage hens making love . Walitzee whitened his leggings wit\n",
            "said , jollying Lucy a little . `` I love you . Susan ready '' ? ? Lucy listen\n",
            "e said , and the single word mingled love and exasperation in an equal blend .\n",
            "g gave her as a token of his undying love . `` You going to marry the King '' \n",
            " the aqua-lung I could swim better , love my woman better . I chuckled aloud ,\n",
            "anger in her . We undressed and made love with the comfortable acceptance I ha\n",
            " Sue baby '' , he'd said . Much as I love you -- well , a guy's a guy and Luci\n",
            "arren . But it didn't seem fair . My love for Johnnie was young and clean -- h\n",
            "oved me and wanted me . But the only love I was giving him was the pure kind .\n",
            ", we both knew we were hopelessly in love . Yet even then we did nothing much \n",
            "hnnie and I had been innocent in our love , and that was the way I wanted to k\n",
            " darkness , begging this man to make love to me . `` Love me , Johnnie '' . ``\n",
            "ing this man to make love to me . `` Love me , Johnnie '' . `` I will , kitten\n"
          ],
          "name": "stdout"
        }
      ]
    },
    {
      "cell_type": "markdown",
      "metadata": {
        "id": "Ya4-GRRt9dTg"
      },
      "source": [
        "Imprimindo as empregabilidades comuns entre palavras"
      ]
    },
    {
      "cell_type": "markdown",
      "metadata": {
        "id": "GHzLjBpj9xHf"
      },
      "source": [
        "\n",
        "\n",
        "*   Encontra os contextos comuns onde essas palavras são empregadas.\n",
        "\n"
      ]
    },
    {
      "cell_type": "code",
      "metadata": {
        "id": "S9ewmSl_9EZ0",
        "colab": {
          "base_uri": "https://localhost:8080/"
        },
        "outputId": "8e652fcc-daee-4d6f-ddc2-67449e7f635d"
      },
      "source": [
        "romance_words.common_contexts(['love', 'hate'])"
      ],
      "execution_count": null,
      "outputs": [
        {
          "output_type": "stream",
          "text": [
            "and_him i_you\n"
          ],
          "name": "stdout"
        }
      ]
    },
    {
      "cell_type": "markdown",
      "metadata": {
        "id": "9cVBOK7g-b39"
      },
      "source": [
        "Verificando dispersão léxica de palavras no conjunto"
      ]
    },
    {
      "cell_type": "markdown",
      "metadata": {
        "id": "YZXNPqQo-ymO"
      },
      "source": [
        "*   Onde essas palavras acontecem no conjunto, ou seja, qual a localização das mesmas.\n",
        "*   Determinada palavra começa a aparecer no começo já no começo do conjunto (até umas 1000 palavras, por exemplo), ou começa a aparecer depois? Aparece mais em qual localização do conjunto?\n",
        "*   Isso pode ser interssante quando temos um conjunto que leva em consideração séries temporais. Por exemplo, dados de notícias, dados de reviews. Análise de quando começou a aparecer determinado termo em notícias, por exemplo; ou, a partir de quando, as reviews do site começaram a ter certas palavras que definem certa coisa."
      ]
    },
    {
      "cell_type": "code",
      "metadata": {
        "id": "53vHDkTZ9qMM",
        "colab": {
          "base_uri": "https://localhost:8080/",
          "height": 295
        },
        "outputId": "e7b0f178-dbc2-4911-f766-20ef7404147b"
      },
      "source": [
        "romance_words.dispersion_plot(['love', 'hate', 'man'])"
      ],
      "execution_count": null,
      "outputs": [
        {
          "output_type": "display_data",
          "data": {
            "image/png": "[encoded data removed]",
            "text/plain": [
              "<Figure size 432x288 with 1 Axes>"
            ]
          },
          "metadata": {
            "tags": [],
            "needs_background": "light"
          }
        }
      ]
    },
    {
      "cell_type": "markdown",
      "metadata": {
        "id": "qGKyrvBDz65T"
      },
      "source": [
        "##Aplicando NLTK em uma base de dados real"
      ]
    },
    {
      "cell_type": "markdown",
      "metadata": {
        "id": "39ZIrr9-0fGC"
      },
      "source": [
        "*   Usaremos uma base de dados real de tweets sobre o governo de Minas Gerais.\n",
        "*   Base de dados disponibilizada no curso de **Data Science do Zero do Minerando Dados**.\n",
        "*   O Twitter é uma rede social muito utilizada por empresas para análises.\n",
        "*   Trabalhar com o idioma português ainda é um desafio."
      ]
    },
    {
      "cell_type": "markdown",
      "metadata": {
        "id": "KxHt_NiG12j5"
      },
      "source": [
        "Importando as bibliotecas"
      ]
    },
    {
      "cell_type": "code",
      "metadata": {
        "id": "pZ3myEbn-pzx"
      },
      "source": [
        "import pandas as pd"
      ],
      "execution_count": null,
      "outputs": []
    },
    {
      "cell_type": "markdown",
      "metadata": {
        "id": "nYPnzL301677"
      },
      "source": [
        "Carregando a base de dados"
      ]
    },
    {
      "cell_type": "code",
      "metadata": {
        "id": "3m9SFA8Q14zg"
      },
      "source": [
        "tweets = pd.read_csv('/content/drive/MyDrive/Curso Data Science do Zero/Mineração de Textos e NLP/dados/Tweets_Mg.csv')"
      ],
      "execution_count": null,
      "outputs": []
    },
    {
      "cell_type": "code",
      "metadata": {
        "colab": {
          "base_uri": "https://localhost:8080/",
          "height": 581
        },
        "id": "r1vwObUV2NWI",
        "outputId": "d6549294-5b76-4d94-8577-2b2ceaed8b54"
      },
      "source": [
        "tweets.head()"
      ],
      "execution_count": null,
      "outputs": [
        {
          "output_type": "execute_result",
          "data": {
            "text/html": [
              "<div>\n",
              "<style scoped>\n",
              "    .dataframe tbody tr th:only-of-type {\n",
              "        vertical-align: middle;\n",
              "    }\n",
              "\n",
              "    .dataframe tbody tr th {\n",
              "        vertical-align: top;\n",
              "    }\n",
              "\n",
              "    .dataframe thead th {\n",
              "        text-align: right;\n",
              "    }\n",
              "</style>\n",
              "<table border=\"1\" class=\"dataframe\">\n",
              "  <thead>\n",
              "    <tr style=\"text-align: right;\">\n",
              "      <th></th>\n",
              "      <th>Unnamed: 0</th>\n",
              "      <th>Created At</th>\n",
              "      <th>Text</th>\n",
              "      <th>Geo Coordinates.latitude</th>\n",
              "      <th>Geo Coordinates.longitude</th>\n",
              "      <th>User Location</th>\n",
              "      <th>Username</th>\n",
              "      <th>User Screen Name</th>\n",
              "      <th>Retweet Count</th>\n",
              "      <th>Classificacao</th>\n",
              "      <th>Observação</th>\n",
              "      <th>Unnamed: 10</th>\n",
              "      <th>Unnamed: 11</th>\n",
              "      <th>Unnamed: 12</th>\n",
              "      <th>Unnamed: 13</th>\n",
              "      <th>Unnamed: 14</th>\n",
              "      <th>Unnamed: 15</th>\n",
              "      <th>Unnamed: 16</th>\n",
              "      <th>Unnamed: 17</th>\n",
              "      <th>Unnamed: 18</th>\n",
              "      <th>Unnamed: 19</th>\n",
              "      <th>Unnamed: 20</th>\n",
              "      <th>Unnamed: 21</th>\n",
              "      <th>Unnamed: 22</th>\n",
              "      <th>Unnamed: 23</th>\n",
              "      <th>Unnamed: 24</th>\n",
              "    </tr>\n",
              "  </thead>\n",
              "  <tbody>\n",
              "    <tr>\n",
              "      <th>0</th>\n",
              "      <td>0</td>\n",
              "      <td>Sun Jan 08 01:22:05 +0000 2017</td>\n",
              "      <td>���⛪ @ Catedral de Santo Antônio - Governador ...</td>\n",
              "      <td>NaN</td>\n",
              "      <td>NaN</td>\n",
              "      <td>Brasil</td>\n",
              "      <td>Leonardo C Schneider</td>\n",
              "      <td>LeoCSchneider</td>\n",
              "      <td>0</td>\n",
              "      <td>Neutro</td>\n",
              "      <td>NaN</td>\n",
              "      <td>NaN</td>\n",
              "      <td>NaN</td>\n",
              "      <td>NaN</td>\n",
              "      <td>NaN</td>\n",
              "      <td>NaN</td>\n",
              "      <td>NaN</td>\n",
              "      <td>NaN</td>\n",
              "      <td>NaN</td>\n",
              "      <td>NaN</td>\n",
              "      <td>NaN</td>\n",
              "      <td>NaN</td>\n",
              "      <td>NaN</td>\n",
              "      <td>NaN</td>\n",
              "      <td>NaN</td>\n",
              "      <td>NaN</td>\n",
              "    </tr>\n",
              "    <tr>\n",
              "      <th>1</th>\n",
              "      <td>1</td>\n",
              "      <td>Sun Jan 08 01:49:01 +0000 2017</td>\n",
              "      <td>� @ Governador Valadares, Minas Gerais https:/...</td>\n",
              "      <td>-41.9333</td>\n",
              "      <td>-18.85</td>\n",
              "      <td>NaN</td>\n",
              "      <td>Wândell</td>\n",
              "      <td>klefnews</td>\n",
              "      <td>0</td>\n",
              "      <td>Neutro</td>\n",
              "      <td>NaN</td>\n",
              "      <td>NaN</td>\n",
              "      <td>NaN</td>\n",
              "      <td>NaN</td>\n",
              "      <td>NaN</td>\n",
              "      <td>NaN</td>\n",
              "      <td>NaN</td>\n",
              "      <td>NaN</td>\n",
              "      <td>NaN</td>\n",
              "      <td>NaN</td>\n",
              "      <td>NaN</td>\n",
              "      <td>NaN</td>\n",
              "      <td>NaN</td>\n",
              "      <td>NaN</td>\n",
              "      <td>NaN</td>\n",
              "      <td>NaN</td>\n",
              "    </tr>\n",
              "    <tr>\n",
              "      <th>2</th>\n",
              "      <td>2</td>\n",
              "      <td>Sun Jan 08 01:01:46 +0000 2017</td>\n",
              "      <td>�� @ Governador Valadares, Minas Gerais https:...</td>\n",
              "      <td>-41.9333</td>\n",
              "      <td>-18.85</td>\n",
              "      <td>NaN</td>\n",
              "      <td>Wândell</td>\n",
              "      <td>klefnews</td>\n",
              "      <td>0</td>\n",
              "      <td>Neutro</td>\n",
              "      <td>NaN</td>\n",
              "      <td>NaN</td>\n",
              "      <td>NaN</td>\n",
              "      <td>NaN</td>\n",
              "      <td>NaN</td>\n",
              "      <td>NaN</td>\n",
              "      <td>NaN</td>\n",
              "      <td>NaN</td>\n",
              "      <td>NaN</td>\n",
              "      <td>NaN</td>\n",
              "      <td>NaN</td>\n",
              "      <td>NaN</td>\n",
              "      <td>NaN</td>\n",
              "      <td>NaN</td>\n",
              "      <td>NaN</td>\n",
              "      <td>NaN</td>\n",
              "    </tr>\n",
              "    <tr>\n",
              "      <th>3</th>\n",
              "      <td>3</td>\n",
              "      <td>Wed Jan 04 21:43:51 +0000 2017</td>\n",
              "      <td>��� https://t.co/BnDsO34qK0</td>\n",
              "      <td>NaN</td>\n",
              "      <td>NaN</td>\n",
              "      <td>NaN</td>\n",
              "      <td>Ana estudando</td>\n",
              "      <td>estudandoconcur</td>\n",
              "      <td>0</td>\n",
              "      <td>Neutro</td>\n",
              "      <td>NaN</td>\n",
              "      <td>NaN</td>\n",
              "      <td>NaN</td>\n",
              "      <td>NaN</td>\n",
              "      <td>NaN</td>\n",
              "      <td>NaN</td>\n",
              "      <td>NaN</td>\n",
              "      <td>NaN</td>\n",
              "      <td>NaN</td>\n",
              "      <td>NaN</td>\n",
              "      <td>NaN</td>\n",
              "      <td>NaN</td>\n",
              "      <td>NaN</td>\n",
              "      <td>NaN</td>\n",
              "      <td>NaN</td>\n",
              "      <td>NaN</td>\n",
              "    </tr>\n",
              "    <tr>\n",
              "      <th>4</th>\n",
              "      <td>4</td>\n",
              "      <td>Mon Jan 09 15:08:21 +0000 2017</td>\n",
              "      <td>��� PSOL vai questionar aumento de vereadores ...</td>\n",
              "      <td>NaN</td>\n",
              "      <td>NaN</td>\n",
              "      <td>NaN</td>\n",
              "      <td>Emily</td>\n",
              "      <td>Milly777</td>\n",
              "      <td>0</td>\n",
              "      <td>Negativo</td>\n",
              "      <td>NaN</td>\n",
              "      <td>NaN</td>\n",
              "      <td>NaN</td>\n",
              "      <td>NaN</td>\n",
              "      <td>NaN</td>\n",
              "      <td>NaN</td>\n",
              "      <td>NaN</td>\n",
              "      <td>NaN</td>\n",
              "      <td>NaN</td>\n",
              "      <td>NaN</td>\n",
              "      <td>NaN</td>\n",
              "      <td>NaN</td>\n",
              "      <td>NaN</td>\n",
              "      <td>NaN</td>\n",
              "      <td>NaN</td>\n",
              "      <td>NaN</td>\n",
              "    </tr>\n",
              "  </tbody>\n",
              "</table>\n",
              "</div>"
            ],
            "text/plain": [
              "   Unnamed: 0                      Created At  ... Unnamed: 23  Unnamed: 24\n",
              "0           0  Sun Jan 08 01:22:05 +0000 2017  ...         NaN          NaN\n",
              "1           1  Sun Jan 08 01:49:01 +0000 2017  ...         NaN          NaN\n",
              "2           2  Sun Jan 08 01:01:46 +0000 2017  ...         NaN          NaN\n",
              "3           3  Wed Jan 04 21:43:51 +0000 2017  ...         NaN          NaN\n",
              "4           4  Mon Jan 09 15:08:21 +0000 2017  ...         NaN          NaN\n",
              "\n",
              "[5 rows x 26 columns]"
            ]
          },
          "metadata": {
            "tags": []
          },
          "execution_count": 72
        }
      ]
    },
    {
      "cell_type": "markdown",
      "metadata": {
        "id": "LGwShAcC2ZxJ"
      },
      "source": [
        "Obtendo o número de linhas e colunas"
      ]
    },
    {
      "cell_type": "code",
      "metadata": {
        "colab": {
          "base_uri": "https://localhost:8080/"
        },
        "id": "VoAug7OY2Qcg",
        "outputId": "789586f3-6ec1-4709-ad1f-875ee91d91d2"
      },
      "source": [
        "print(f'O número de linhas dessa base de dados é {tweets.shape[0]}')\n",
        "print(f'O número de colunas dessa base de dados é {tweets.shape[1]}')"
      ],
      "execution_count": null,
      "outputs": [
        {
          "output_type": "stream",
          "text": [
            "O número de linhas dessa base de dados é 8199\n",
            "O número de colunas dessa base de dados é 26\n"
          ],
          "name": "stdout"
        }
      ]
    },
    {
      "cell_type": "markdown",
      "metadata": {
        "id": "yXbYEgDV3M7i"
      },
      "source": [
        "Focaremos nosso trabalho na coluna *Text* dessa base de dados"
      ]
    },
    {
      "cell_type": "code",
      "metadata": {
        "colab": {
          "base_uri": "https://localhost:8080/"
        },
        "id": "QWBd_ean26iI",
        "outputId": "a20873f4-63a5-4a11-dbc5-689055992dc5"
      },
      "source": [
        "tweets.Text.head(20)"
      ],
      "execution_count": null,
      "outputs": [
        {
          "output_type": "execute_result",
          "data": {
            "text/plain": [
              "0     ���⛪ @ Catedral de Santo Antônio - Governador ...\n",
              "1     � @ Governador Valadares, Minas Gerais https:/...\n",
              "2     �� @ Governador Valadares, Minas Gerais https:...\n",
              "3                           ��� https://t.co/BnDsO34qK0\n",
              "4     ��� PSOL vai questionar aumento de vereadores ...\n",
              "5     \" bom é bandido morto\"\\nDeputado Cabo Júlio é ...\n",
              "6     \"..E 25% dos mineiros dizem não torcer para ti...\n",
              "7     \"A gigantesca barba do mal\" em destaque no cad...\n",
              "8     \"BB e governo de Minas travam disputa sobre de...\n",
              "9     \"com vcs bh fica pequena!\" Belo Horizonte (pro...\n",
              "10    \"Daí a gente visita governador valadares\"\\n\"Qu...\n",
              "11    \"É bonita e é bonita...\" \\n#latergram #ibituru...\n",
              "12    \"erro desconhecido\" é mato! Aliás, é da secret...\n",
              "13    \"La La Land: Cantando Estações\" arrasa no Glob...\n",
              "14    \"La La Land: Cantando Estações\" arrasa no Glob...\n",
              "15    \"Los abusos, aun en el estado más sólido, son ...\n",
              "16    \"Mesmo sem muito dinheiro no caixa o governo d...\n",
              "17    \"Modelo de segurança será o nosso legado\", diz...\n",
              "18    \"Modelo de segurança será o nosso legado\", diz...\n",
              "19    \"Modelo de segurança será o nosso legado\", diz...\n",
              "Name: Text, dtype: object"
            ]
          },
          "metadata": {
            "tags": []
          },
          "execution_count": 74
        }
      ]
    },
    {
      "cell_type": "markdown",
      "metadata": {
        "id": "1e9isSI43hw2"
      },
      "source": [
        "**Realizando Tokenization dos tweets**"
      ]
    },
    {
      "cell_type": "markdown",
      "metadata": {
        "id": "_IGbwdtO38xJ"
      },
      "source": [
        "*   Tokenização é a capacidade de reconhecer palavras e sentenças em uma frase ou texto.\n",
        "*   Existem diversos tipos de tokenizadores.\n",
        "*   A utilização de cada um irá depender do domínio e do contexto em que se está trabalhando.\n",
        "*   Nesse caso, como estamos tralhando com tweets, iremos trabalhar com um tokenizador de tweets."
      ]
    },
    {
      "cell_type": "code",
      "metadata": {
        "id": "nkCRP_583VuQ"
      },
      "source": [
        "from nltk.tokenize import TweetTokenizer, word_tokenize"
      ],
      "execution_count": null,
      "outputs": []
    },
    {
      "cell_type": "markdown",
      "metadata": {
        "id": "XyXnmmIf65Lp"
      },
      "source": [
        "Aplicando o tokenizador comum de palavras"
      ]
    },
    {
      "cell_type": "code",
      "metadata": {
        "colab": {
          "base_uri": "https://localhost:8080/"
        },
        "id": "QEuMst1B4ejh",
        "outputId": "4333683f-c2e3-4d42-b2eb-2a317c28de49"
      },
      "source": [
        "#Usando uma string de exemplo\n",
        "word_tokenize('RT @janedoe I like very Loooooot this movieee!!, thanks ;) :) :-)')"
      ],
      "execution_count": null,
      "outputs": [
        {
          "output_type": "execute_result",
          "data": {
            "text/plain": [
              "['RT',\n",
              " '@',\n",
              " 'janedoe',\n",
              " 'I',\n",
              " 'like',\n",
              " 'very',\n",
              " 'Loooooot',\n",
              " 'this',\n",
              " 'movieee',\n",
              " '!',\n",
              " '!',\n",
              " ',',\n",
              " 'thanks',\n",
              " ';',\n",
              " ')',\n",
              " ':',\n",
              " ')',\n",
              " ':',\n",
              " '-',\n",
              " ')']"
            ]
          },
          "metadata": {
            "tags": []
          },
          "execution_count": 76
        }
      ]
    },
    {
      "cell_type": "markdown",
      "metadata": {
        "id": "9wD7lJsy68P8"
      },
      "source": [
        "Aplicando o tokenizador de Tweets"
      ]
    },
    {
      "cell_type": "markdown",
      "metadata": {
        "id": "sjGk7F-_7upT"
      },
      "source": [
        "Instanciando o objeto"
      ]
    },
    {
      "cell_type": "code",
      "metadata": {
        "id": "8_bxvIAs7t6a"
      },
      "source": [
        "tweet_tokenize = TweetTokenizer()"
      ],
      "execution_count": null,
      "outputs": []
    },
    {
      "cell_type": "code",
      "metadata": {
        "colab": {
          "base_uri": "https://localhost:8080/"
        },
        "id": "PXDDvkWG6Wzx",
        "outputId": "b7fb01c5-62e3-41e9-fb54-7293a252ea16"
      },
      "source": [
        "tweet_tokenize.tokenize('RT @janedoe I like very Loooooot this movieee!!, thanks ;) :) :-)')"
      ],
      "execution_count": null,
      "outputs": [
        {
          "output_type": "execute_result",
          "data": {
            "text/plain": [
              "['RT',\n",
              " '@janedoe',\n",
              " 'I',\n",
              " 'like',\n",
              " 'very',\n",
              " 'Loooooot',\n",
              " 'this',\n",
              " 'movieee',\n",
              " '!',\n",
              " '!',\n",
              " ',',\n",
              " 'thanks',\n",
              " ';)',\n",
              " ':)',\n",
              " ':-)']"
            ]
          },
          "metadata": {
            "tags": []
          },
          "execution_count": 78
        }
      ]
    },
    {
      "cell_type": "markdown",
      "metadata": {
        "id": "Zyoh8BjL6_2m"
      },
      "source": [
        "Observe a grande diferença entre as saídas dos dois tokenizadores. Note que os caracteres que representam os emoticons foram separados no tokenizador comum de palavras, ou seja, cada caracter especial foi tido como um token (o que não nos agrega nada, pois esses caracteres sozinhos não representam emoticons), enquanto que no tokenizador de tweets, eles foram entendidos como representações dos emoticons, ou seja, cada representação de emoticons (conjunto de caracteres especiais) foi entendido como um emoticon. Além disso, no tokenizador comum de palavras, o '@' foi separado do nome do usuário, enquanto que no tokenizador de tweets não, pois aqui, sim, é entendido que o '@nome-do-usuario' faz referência ao usuário."
      ]
    },
    {
      "cell_type": "markdown",
      "metadata": {
        "id": "muwFBT7WJNXS"
      },
      "source": [
        "Analisando os dados dos tweets, gerando uma lista de palavras, para prosseguirmos com o uso das ferramentas de NLTK"
      ]
    },
    {
      "cell_type": "code",
      "metadata": {
        "colab": {
          "base_uri": "https://localhost:8080/"
        },
        "id": "EqIvf1ys6xoo",
        "outputId": "08e07b6e-a0f7-4aa3-c865-6842df158772"
      },
      "source": [
        "for t in tweets.Text.head(50).items(): #pegando apenas as 50 primeiras linhas do dataframe de tweets para não ficar tão extenso\n",
        "    print(\"Tweet:\", t[1])\n",
        "    print(\"Tokens:\", tweet_tokenize.tokenize(t[1]))"
      ],
      "execution_count": null,
      "outputs": [
        {
          "output_type": "stream",
          "text": [
            "Tweet: ���⛪ @ Catedral de Santo Antônio - Governador Valadares/MG https://t.co/JSbKamIqUJ\n",
            "Tokens: ['�', '�', '�', '⛪', '@', 'Catedral', 'de', 'Santo', 'Antônio', '-', 'Governador', 'Valadares', '/', 'MG', 'https://t.co/JSbKamIqUJ']\n",
            "Tweet: � @ Governador Valadares, Minas Gerais https://t.co/B3ThIDJCSf\n",
            "Tokens: ['�', '@', 'Governador', 'Valadares', ',', 'Minas', 'Gerais', 'https://t.co/B3ThIDJCSf']\n",
            "Tweet: �� @ Governador Valadares, Minas Gerais https://t.co/dPkgzVR2Qw\n",
            "Tokens: ['�', '�', '@', 'Governador', 'Valadares', ',', 'Minas', 'Gerais', 'https://t.co/dPkgzVR2Qw']\n",
            "Tweet: ��� https://t.co/BnDsO34qK0\n",
            "Tokens: ['�', '�', '�', 'https://t.co/BnDsO34qK0']\n",
            "Tweet: ��� PSOL vai questionar aumento de vereadores e prefeito de BH na Justiça - Politica - Estado de Minas https://t.co/DMg7BGsek5\n",
            "Tokens: ['�', '�', '�', 'PSOL', 'vai', 'questionar', 'aumento', 'de', 'vereadores', 'e', 'prefeito', 'de', 'BH', 'na', 'Justiça', '-', 'Politica', '-', 'Estado', 'de', 'Minas', 'https://t.co/DMg7BGsek5']\n",
            "Tweet: \" bom é bandido morto\"\n",
            "Deputado Cabo Júlio é condenado e fica inelegível por 10 anos - Politica - Estado de Minas https://t.co/3GfAqvrFHS\n",
            "Tokens: ['\"', 'bom', 'é', 'bandido', 'morto', '\"', 'Deputado', 'Cabo', 'Júlio', 'é', 'condenado', 'e', 'fica', 'inelegível', 'por', '10', 'anos', '-', 'Politica', '-', 'Estado', 'de', 'Minas', 'https://t.co/3GfAqvrFHS']\n",
            "Tweet: \"..E 25% dos mineiros dizem não torcer para time nenhum,mesmo dentro de um estado com Atlético-MG e Cruzeiro. Pq?..\" https://t.co/fN5evlLQsR\n",
            "Tokens: ['\"', '..', 'E', '25', '%', 'dos', 'mineiros', 'dizem', 'não', 'torcer', 'para', 'time', 'nenhum', ',', 'mesmo', 'dentro', 'de', 'um', 'estado', 'com', 'Atlético-MG', 'e', 'Cruzeiro', '.', 'Pq', '?', '..', '\"', 'https://t.co/fN5evlLQsR']\n",
            "Tweet: \"A gigantesca barba do mal\" em destaque no caderno Cultura do Estado de Minas. https://t.co/PxNurIkTlw\n",
            "Tokens: ['\"', 'A', 'gigantesca', 'barba', 'do', 'mal', '\"', 'em', 'destaque', 'no', 'caderno', 'Cultura', 'do', 'Estado', 'de', 'Minas', '.', 'https://t.co/PxNurIkTlw']\n",
            "Tweet: \"BB e governo de Minas travam disputa sobre depósitos judiciais\" https://t.co/CnMu2A2Qo5\n",
            "Tokens: ['\"', 'BB', 'e', 'governo', 'de', 'Minas', 'travam', 'disputa', 'sobre', 'depósitos', 'judiciais', '\"', 'https://t.co/CnMu2A2Qo5']\n",
            "Tweet: \"com vcs bh fica pequena!\" Belo Horizonte (pron. [bɛloɾiˈzõntʃi][10]) é a capital do estado de MG, com uma área de aproximadamente 331 km²\n",
            "Tokens: ['\"', 'com', 'vcs', 'bh', 'fica', 'pequena', '!', '\"', 'Belo', 'Horizonte', '(', 'pron', '.', '[', 'bɛloɾiˈzõntʃi', ']', '[', '10', ']', ')', 'é', 'a', 'capital', 'do', 'estado', 'de', 'MG', ',', 'com', 'uma', 'área', 'de', 'aproximadamente', '331', 'km²']\n",
            "Tweet: \"Daí a gente visita governador valadares\"\n",
            "\"Que lugar eh esse mãe?\"\n",
            "\"MG, a gente tem uns parente la\"\n",
            "\n",
            "MANO onde q eu NÃO tenho parente\n",
            "Tokens: ['\"', 'Daí', 'a', 'gente', 'visita', 'governador', 'valadares', '\"', '\"', 'Que', 'lugar', 'eh', 'esse', 'mãe', '?', '\"', '\"', 'MG', ',', 'a', 'gente', 'tem', 'uns', 'parente', 'la', '\"', 'MANO', 'onde', 'q', 'eu', 'NÃO', 'tenho', 'parente']\n",
            "Tweet: \"É bonita e é bonita...\" \n",
            "#latergram #ibituruna #home @ Governador Valadares, Minas Gerais https://t.co/y12TtNqpnH\n",
            "Tokens: ['\"', 'É', 'bonita', 'e', 'é', 'bonita', '...', '\"', '#latergram', '#ibituruna', '#home', '@', 'Governador', 'Valadares', ',', 'Minas', 'Gerais', 'https://t.co/y12TtNqpnH']\n",
            "Tweet: \"erro desconhecido\" é mato! Aliás, é da secretaria estadual de fazenda que tá assim... MG não precisa de dinheiro não, Governador?\n",
            "Tokens: ['\"', 'erro', 'desconhecido', '\"', 'é', 'mato', '!', 'Aliás', ',', 'é', 'da', 'secretaria', 'estadual', 'de', 'fazenda', 'que', 'tá', 'assim', '...', 'MG', 'não', 'precisa', 'de', 'dinheiro', 'não', ',', 'Governador', '?']\n",
            "Tweet: \"La La Land: Cantando Estações\" arrasa no Globo de Ouro - Estado de Minas https://t.co/aQ0NG1bp5f https://t.co/aY3qlrVnTE\n",
            "Tokens: ['\"', 'La', 'La', 'Land', ':', 'Cantando', 'Estações', '\"', 'arrasa', 'no', 'Globo', 'de', 'Ouro', '-', 'Estado', 'de', 'Minas', 'https://t.co/aQ0NG1bp5f', 'https://t.co/aY3qlrVnTE']\n",
            "Tweet: \"La La Land: Cantando Estações\" arrasa no Globo de Ouro - Estado de Minas https://t.co/qRI9DCiicc\n",
            "Tokens: ['\"', 'La', 'La', 'Land', ':', 'Cantando', 'Estações', '\"', 'arrasa', 'no', 'Globo', 'de', 'Ouro', '-', 'Estado', 'de', 'Minas', 'https://t.co/qRI9DCiicc']\n",
            "Tweet: \"Los abusos, aun en el estado más sólido, son minas sordas que tarde o temprano estallan\" Joseph Sanial-Dubay\n",
            "Tokens: ['\"', 'Los', 'abusos', ',', 'aun', 'en', 'el', 'estado', 'más', 'sólido', ',', 'son', 'minas', 'sordas', 'que', 'tarde', 'o', 'temprano', 'estallan', '\"', 'Joseph', 'Sanial-Dubay']\n",
            "Tweet: \"Mesmo sem muito dinheiro no caixa o governo de Minas Gerais compra 2 (DOIS) helicópteros.\" Dois... Helicópteros... Minas Gerais... #2017 s1\n",
            "Tokens: ['\"', 'Mesmo', 'sem', 'muito', 'dinheiro', 'no', 'caixa', 'o', 'governo', 'de', 'Minas', 'Gerais', 'compra', '2', '(', 'DOIS', ')', 'helicópteros', '.', '\"', 'Dois', '...', 'Helicópteros', '...', 'Minas', 'Gerais', '...', '#2017', 's1']\n",
            "Tweet: \"Modelo de segurança será o nosso legado\", diz Cláudio Beato - Politica - Estado de Minas https://t.co/1MqOJo7Nnf\n",
            "Tokens: ['\"', 'Modelo', 'de', 'segurança', 'será', 'o', 'nosso', 'legado', '\"', ',', 'diz', 'Cláudio', 'Beato', '-', 'Politica', '-', 'Estado', 'de', 'Minas', 'https://t.co/1MqOJo7Nnf']\n",
            "Tweet: \"Modelo de segurança será o nosso legado\", diz Cláudio Beato - Politica - Estado de Minas https://t.co/kA09mEn4xN\n",
            "Tokens: ['\"', 'Modelo', 'de', 'segurança', 'será', 'o', 'nosso', 'legado', '\"', ',', 'diz', 'Cláudio', 'Beato', '-', 'Politica', '-', 'Estado', 'de', 'Minas', 'https://t.co/kA09mEn4xN']\n",
            "Tweet: \"Modelo de segurança será o nosso legado\", diz Cláudio Beato - Politica - Estado de Minas https://t.co/S97Khxldiu\n",
            "Tokens: ['\"', 'Modelo', 'de', 'segurança', 'será', 'o', 'nosso', 'legado', '\"', ',', 'diz', 'Cláudio', 'Beato', '-', 'Politica', '-', 'Estado', 'de', 'Minas', 'https://t.co/S97Khxldiu']\n",
            "Tweet: \"O governo de Minas Gerais não comentou o assunto. \"\n",
            "\n",
            "https://t.co/SNYMRfQ737\n",
            "Tokens: ['\"', 'O', 'governo', 'de', 'Minas', 'Gerais', 'não', 'comentou', 'o', 'assunto', '.', '\"', 'https://t.co/SNYMRfQ737']\n",
            "Tweet: \"O governo federal publicou no dia 27 de dezembro de 2016, a Medida Provisória 764/16 que permite a diferenciação... https://t.co/0DlDpZ9WGz\n",
            "Tokens: ['\"', 'O', 'governo', 'federal', 'publicou', 'no', 'dia', '27', 'de', 'dezembro', 'de', '2016', ',', 'a', 'Medida', 'Provisória', '764/16', 'que', 'permite', 'a', 'diferenciação', '...', 'https://t.co/0DlDpZ9WGz']\n",
            "Tweet: \"Polícia Federal acaba de divulgar que encontrou provas no apartamento do Lula, mas só até a 4ª série.\" Jornal Estado de Minas\n",
            "Tokens: ['\"', 'Polícia', 'Federal', 'acaba', 'de', 'divulgar', 'que', 'encontrou', 'provas', 'no', 'apartamento', 'do', 'Lula', ',', 'mas', 'só', 'até', 'a', '4ª', 'série', '.', '\"', 'Jornal', 'Estado', 'de', 'Minas']\n",
            "Tweet: \"Praia da Estação\" lota neste sábado de verão em BH - Gerais - Estado de Minas https://t.co/DpG3CNfZBb\n",
            "Tokens: ['\"', 'Praia', 'da', 'Estação', '\"', 'lota', 'neste', 'sábado', 'de', 'verão', 'em', 'BH', '-', 'Gerais', '-', 'Estado', 'de', 'Minas', 'https://t.co/DpG3CNfZBb']\n",
            "Tweet: \"Representando mais uma ferramenta de monitoramento da educação da rede estadual em Minas, a Secretaria de Estado... https://t.co/brsfBqHXlQ\n",
            "Tokens: ['\"', 'Representando', 'mais', 'uma', 'ferramenta', 'de', 'monitoramento', 'da', 'educação', 'da', 'rede', 'estadual', 'em', 'Minas', ',', 'a', 'Secretaria', 'de', 'Estado', '...', 'https://t.co/brsfBqHXlQ']\n",
            "Tweet: \"uso de aeronave pertencente ao  Estado de MG, em domingo, p/ fins pessoais,  em claro desvio de finalidade\" - https://t.co/WEfv5iLyju\n",
            "Tokens: ['\"', 'uso', 'de', 'aeronave', 'pertencente', 'ao', 'Estado', 'de', 'MG', ',', 'em', 'domingo', ',', 'p', '/', 'fins', 'pessoais', ',', 'em', 'claro', 'desvio', 'de', 'finalidade', '\"', '-', 'https://t.co/WEfv5iLyju']\n",
            "Tweet: \"vou postar umas curiosidades sobre o corpo humano\"\n",
            "\n",
            "*o Japão é menor que o estado de minas gerais* ????¿¿¿.?¿\n",
            "Tokens: ['\"', 'vou', 'postar', 'umas', 'curiosidades', 'sobre', 'o', 'corpo', 'humano', '\"', '*', 'o', 'Japão', 'é', 'menor', 'que', 'o', 'estado', 'de', 'minas', 'gerais', '*', '?', '?', '?', '¿', '¿', '¿', '.', '?', '¿']\n",
            "Tweet: #ACORDAMINAS!!!\n",
            "\n",
            "O governador Fernando Pimentel, depois de ser flagrado usando um helicóptero do Estado de MG... https://t.co/bedW4w4jij\n",
            "Tokens: ['#ACORDAMINAS', '!', '!', '!', 'O', 'governador', 'Fernando', 'Pimentel', ',', 'depois', 'de', 'ser', 'flagrado', 'usando', 'um', 'helicóptero', 'do', 'Estado', 'de', 'MG', '...', 'https://t.co/bedW4w4jij']\n",
            "Tweet: #ACORDAMINAS!!!!\n",
            "\n",
            "O povo mineiro tem que da um pé na bunda  desse  canalha... https://t.co/ZKZNVmyXbg\n",
            "Tokens: ['#ACORDAMINAS', '!', '!', '!', 'O', 'povo', 'mineiro', 'tem', 'que', 'da', 'um', 'pé', 'na', 'bunda', 'desse', 'canalha', '...', 'https://t.co/ZKZNVmyXbg']\n",
            "Tweet: #Alerta - Nome da CEEE é utilizado em golpe no Estado. https://t.co/i5ndsWhXR4 https://t.co/yaEM6s3Z2f\n",
            "Tokens: ['#Alerta', '-', 'Nome', 'da', 'CEEE', 'é', 'utilizado', 'em', 'golpe', 'no', 'Estado', '.', 'https://t.co/i5ndsWhXR4', 'https://t.co/yaEM6s3Z2f']\n",
            "Tweet: #beta #betalab #mg Afiliada da Globo: Apresentador no AM é demitido após criticar governador… https://t.co/hlH8ITxXig\n",
            "Tokens: ['#beta', '#betalab', '#mg', 'Afiliada', 'da', 'Globo', ':', 'Apresentador', 'no', 'AM', 'é', 'demitido', 'após', 'criticar', 'governador', '…', 'https://t.co/hlH8ITxXig']\n",
            "Tweet: #beta #betalab #mg Caos nos presídios: AM pede apoio à União seis dias após massacre https://t.co/GRv0HkrX3T… https://t.co/YJy2RcSfWZ\n",
            "Tokens: ['#beta', '#betalab', '#mg', 'Caos', 'nos', 'presídios', ':', 'AM', 'pede', 'apoio', 'à', 'União', 'seis', 'dias', 'após', 'massacre', 'https://t.co/GRv0HkrX3T…', 'https://t.co/YJy2RcSfWZ']\n",
            "Tweet: #beta #betalab #mg Caos nos presídios: Temer e Cármen Lúcia se reúnem para debater crise https://t.co/e34RNvtU7v… https://t.co/8xKwPTOv4C\n",
            "Tokens: ['#beta', '#betalab', '#mg', 'Caos', 'nos', 'presídios', ':', 'Temer', 'e', 'Cármen', 'Lúcia', 'se', 'reúnem', 'para', 'debater', 'crise', 'https://t.co/e34RNvtU7v…', 'https://t.co/8xKwPTOv4C']\n",
            "Tweet: #beta #betalab #mg Crise carcerária: Governo de Roraima pede Força Nacional a Temer https://t.co/wLslS1T6ZI… https://t.co/NK4c5IhNUg\n",
            "Tokens: ['#beta', '#betalab', '#mg', 'Crise', 'carcerária', ':', 'Governo', 'de', 'Roraima', 'pede', 'Força', 'Nacional', 'a', 'Temer', 'https://t.co/wLslS1T6ZI…', 'https://t.co/NK4c5IhNUg']\n",
            "Tweet: #beta #betalab #mg Crise carcerária: Secretário de SP diz haver guerra de facções no país https://t.co/RSf2Tk1VmX… https://t.co/Sonel0f8Xq\n",
            "Tokens: ['#beta', '#betalab', '#mg', 'Crise', 'carcerária', ':', 'Secretário', 'de', 'SP', 'diz', 'haver', 'guerra', 'de', 'facções', 'no', 'país', 'https://t.co/RSf2Tk1VmX…', 'https://t.co/Sonel0f8Xq']\n",
            "Tweet: #beta #betalab #mg Crise política no DF se agrava: Rollemberg exonera vice-governador de cargo… https://t.co/idJfAELeW4 #timbeta #rt #brasil\n",
            "Tokens: ['#beta', '#betalab', '#mg', 'Crise', 'política', 'no', 'DF', 'se', 'agrava', ':', 'Rollemberg', 'exonera', 'vice-governador', 'de', 'cargo', '…', 'https://t.co/idJfAELeW4', '#timbeta', '#rt', '#brasil']\n",
            "Tweet: #beta #betalab #mg Escalada de violência nos presídios: AM pede apoio da Força Nacional;… https://t.co/ysX8TXSm50… https://t.co/NAly4Uxb5h\n",
            "Tokens: ['#beta', '#betalab', '#mg', 'Escalada', 'de', 'violência', 'nos', 'presídios', ':', 'AM', 'pede', 'apoio', 'da', 'Força', 'Nacional', ';', '…', 'https://t.co/ysX8TXSm50…', 'https://t.co/NAly4Uxb5h']\n",
            "Tweet: #beta #betalab #mg Escalada de violência: Crime organizado no Brasil é disputado por 27… https://t.co/loRe3EfGaF… https://t.co/sSY5liKfMl\n",
            "Tokens: ['#beta', '#betalab', '#mg', 'Escalada', 'de', 'violência', ':', 'Crime', 'organizado', 'no', 'Brasil', 'é', 'disputado', 'por', '27', '…', 'https://t.co/loRe3EfGaF…', 'https://t.co/sSY5liKfMl']\n",
            "Tweet: #beta #betalab #mg Estado afirma não ter sido notificado: Apesar de decisão judicial, reajuste…… https://t.co/IMG9Vxs4nK\n",
            "Tokens: ['#beta', '#betalab', '#mg', 'Estado', 'afirma', 'não', 'ter', 'sido', 'notificado', ':', 'Apesar', 'de', 'decisão', 'judicial', ',', 'reajuste', '…', '…', 'https://t.co/IMG9Vxs4nK']\n",
            "Tweet: #beta #betalab #mg Estado de espírito do paulistano: \"Voz\" do trânsito, buzina reflete pressa,…… https://t.co/hvLy03lyt3\n",
            "Tokens: ['#beta', '#betalab', '#mg', 'Estado', 'de', 'espírito', 'do', 'paulistano', ':', '\"', 'Voz', '\"', 'do', 'trânsito', ',', 'buzina', 'reflete', 'pressa', ',', '…', '…', 'https://t.co/hvLy03lyt3']\n",
            "Tweet: #beta #betalab #mg Estados falidos: Parte do PMDB quer barrar vetos de Temer na negociação de…… https://t.co/h9KQvBYlYV\n",
            "Tokens: ['#beta', '#betalab', '#mg', 'Estados', 'falidos', ':', 'Parte', 'do', 'PMDB', 'quer', 'barrar', 'vetos', 'de', 'Temer', 'na', 'negociação', 'de', '…', '…', 'https://t.co/h9KQvBYlYV']\n",
            "Tweet: #beta #betalab #mg Ex-ministro e outros: Servidores da era PT se mantêm em cargos estratégicos… https://t.co/Q2Nor97ngg #timbeta #rt #brasil\n",
            "Tokens: ['#beta', '#betalab', '#mg', 'Ex-ministro', 'e', 'outros', ':', 'Servidores', 'da', 'era', 'PT', 'se', 'mantêm', 'em', 'cargos', 'estratégicos', '…', 'https://t.co/Q2Nor97ngg', '#timbeta', '#rt', '#brasil']\n",
            "Tweet: #beta #betalab #mg Ex-presidente da Câmara: Justiça suíça vê 'indícios concretos' contra… https://t.co/fwuwi8S4oD… https://t.co/w1W2SaN172\n",
            "Tokens: ['#beta', '#betalab', '#mg', 'Ex-presidente', 'da', 'Câmara', ':', 'Justiça', 'suíça', 'vê', \"'\", 'indícios', 'concretos', \"'\", 'contra', '…', 'https://t.co/fwuwi8S4oD…', 'https://t.co/w1W2SaN172']\n",
            "Tweet: #beta #betalab #mg Governo em calamidade financeira: BB avisa Justiça que Minas não tem… https://t.co/CdXt0cvcuY… https://t.co/s8un5iFnQS\n",
            "Tokens: ['#beta', '#betalab', '#mg', 'Governo', 'em', 'calamidade', 'financeira', ':', 'BB', 'avisa', 'Justiça', 'que', 'Minas', 'não', 'tem', '…', 'https://t.co/CdXt0cvcuY…', 'https://t.co/s8un5iFnQS']\n",
            "Tweet: #beta #betalab #mg Mais sobre o massacre: PF: Facção tinha 'cela de comando' dentro da prisão… https://t.co/W3Cr89L0dk\n",
            "Tokens: ['#beta', '#betalab', '#mg', 'Mais', 'sobre', 'o', 'massacre', ':', 'PF', ':', 'Facção', 'tinha', \"'\", 'cela', 'de', 'comando', \"'\", 'dentro', 'da', 'prisão', '…', 'https://t.co/W3Cr89L0dk']\n",
            "Tweet: #beta #betalab #mg Marketing e veto a medidas de Paes: De doação de sangue a capoeira: a 1ª…… https://t.co/xPnt6omym6\n",
            "Tokens: ['#beta', '#betalab', '#mg', 'Marketing', 'e', 'veto', 'a', 'medidas', 'de', 'Paes', ':', 'De', 'doação', 'de', 'sangue', 'a', 'capoeira', ':', 'a', '1ª', '…', '…', 'https://t.co/xPnt6omym6']\n",
            "Tweet: #beta #betalab #mg Massacre em presídio de Manaus: Governo do AM rebate ministro da Justiça e… https://t.co/MaBb4airMU #timbeta #rt #brasil\n",
            "Tokens: ['#beta', '#betalab', '#mg', 'Massacre', 'em', 'presídio', 'de', 'Manaus', ':', 'Governo', 'do', 'AM', 'rebate', 'ministro', 'da', 'Justiça', 'e', '…', 'https://t.co/MaBb4airMU', '#timbeta', '#rt', '#brasil']\n",
            "Tweet: #beta #betalab #mg Mudanças propostas pelo governo: Reforma libera trabalhar 12 horas alguns…… https://t.co/eIDgx5Ak3n\n",
            "Tokens: ['#beta', '#betalab', '#mg', 'Mudanças', 'propostas', 'pelo', 'governo', ':', 'Reforma', 'libera', 'trabalhar', '12', 'horas', 'alguns', '…', '…', 'https://t.co/eIDgx5Ak3n']\n",
            "Tweet: #beta #betalab #mg Muitas páginas de investigação: \"QG\" da Lava Jato reúne mais de 30 milhões…… https://t.co/pQF48BKPMr\n",
            "Tokens: ['#beta', '#betalab', '#mg', 'Muitas', 'páginas', 'de', 'investigação', ':', '\"', 'QG', '\"', 'da', 'Lava', 'Jato', 'reúne', 'mais', 'de', '30', 'milhões', '…', '…', 'https://t.co/pQF48BKPMr']\n",
            "Tweet: #beta #betalab #mg Nos últimos dois anos: Governo pagou R$ 2,4 bi a alvos da Lava Jato https://t.co/KN8C0LcReb… https://t.co/GDQVhjO1Hc\n",
            "Tokens: ['#beta', '#betalab', '#mg', 'Nos', 'últimos', 'dois', 'anos', ':', 'Governo', 'pagou', 'R', '$', '2,4', 'bi', 'a', 'alvos', 'da', 'Lava', 'Jato', 'https://t.co/KN8C0LcReb…', 'https://t.co/GDQVhjO1Hc']\n"
          ],
          "name": "stdout"
        }
      ]
    },
    {
      "cell_type": "markdown",
      "metadata": {
        "id": "v5N9Uhk4KKi6"
      },
      "source": [
        "Observe que em alguns tokens, o '@' é um token e o nome do usuário é outro token. Isso se deu por conta que na extração dos dados, provavelmente, houve um erro e ocorreu um espaço entre o '@' e o nome do usuário. Dessa forma, é entendido como dois tokens diferentes."
      ]
    },
    {
      "cell_type": "markdown",
      "metadata": {
        "id": "U044NkFvJ510"
      },
      "source": [
        "*   Gerando uma lista de palavras a partir dos tokens ou termos da base de dados para que eu consiga transformá-las em texto do NLTK e, com isso, usar os diversos recursos da NLTK."
      ]
    },
    {
      "cell_type": "code",
      "metadata": {
        "id": "uq3LrHuqJu2J"
      },
      "source": [
        "from functools import reduce\n",
        "import operator"
      ],
      "execution_count": null,
      "outputs": []
    },
    {
      "cell_type": "code",
      "metadata": {
        "colab": {
          "base_uri": "https://localhost:8080/"
        },
        "id": "61w-nGm-itVC",
        "outputId": "0e73d90b-2b9d-4ba5-a674-fd9a7ab50997"
      },
      "source": [
        "words_list = []\n",
        "for t in tweets.Text.items():\n",
        "    words_list.append(t[1].split())\n",
        "\n",
        "#Reduzindo a lista de listas para uma lista de elementos\n",
        "words_list = reduce(operator.concat, words_list)\n",
        "#Imprimindo os 50 primeiros elementos da lista\n",
        "words_list[:50]"
      ],
      "execution_count": null,
      "outputs": [
        {
          "output_type": "execute_result",
          "data": {
            "text/plain": [
              "['���⛪',\n",
              " '@',\n",
              " 'Catedral',\n",
              " 'de',\n",
              " 'Santo',\n",
              " 'Antônio',\n",
              " '-',\n",
              " 'Governador',\n",
              " 'Valadares/MG',\n",
              " 'https://t.co/JSbKamIqUJ',\n",
              " '�',\n",
              " '@',\n",
              " 'Governador',\n",
              " 'Valadares,',\n",
              " 'Minas',\n",
              " 'Gerais',\n",
              " 'https://t.co/B3ThIDJCSf',\n",
              " '��',\n",
              " '@',\n",
              " 'Governador',\n",
              " 'Valadares,',\n",
              " 'Minas',\n",
              " 'Gerais',\n",
              " 'https://t.co/dPkgzVR2Qw',\n",
              " '���',\n",
              " 'https://t.co/BnDsO34qK0',\n",
              " '���',\n",
              " 'PSOL',\n",
              " 'vai',\n",
              " 'questionar',\n",
              " 'aumento',\n",
              " 'de',\n",
              " 'vereadores',\n",
              " 'e',\n",
              " 'prefeito',\n",
              " 'de',\n",
              " 'BH',\n",
              " 'na',\n",
              " 'Justiça',\n",
              " '-',\n",
              " 'Politica',\n",
              " '-',\n",
              " 'Estado',\n",
              " 'de',\n",
              " 'Minas',\n",
              " 'https://t.co/DMg7BGsek5',\n",
              " '\"',\n",
              " 'bom',\n",
              " 'é',\n",
              " 'bandido']"
            ]
          },
          "metadata": {
            "tags": []
          },
          "execution_count": 81
        }
      ]
    },
    {
      "cell_type": "markdown",
      "metadata": {
        "id": "BTcnz2BdkHaE"
      },
      "source": [
        "Obtendo o número de elementos dessa lista criada"
      ]
    },
    {
      "cell_type": "code",
      "metadata": {
        "colab": {
          "base_uri": "https://localhost:8080/"
        },
        "id": "HB3WrikmkLy_",
        "outputId": "de17cf3d-d049-44b2-aa7b-ecfcaf19271c"
      },
      "source": [
        "len(words_list)"
      ],
      "execution_count": null,
      "outputs": [
        {
          "output_type": "execute_result",
          "data": {
            "text/plain": [
              "132341"
            ]
          },
          "metadata": {
            "tags": []
          },
          "execution_count": 82
        }
      ]
    },
    {
      "cell_type": "markdown",
      "metadata": {
        "id": "rS5cQITZjpki"
      },
      "source": [
        "Gerando um objeto do tipo nltk.Text a partir da lista de palavras criada"
      ]
    },
    {
      "cell_type": "code",
      "metadata": {
        "id": "LQiBdI5kjb5R"
      },
      "source": [
        "tweets_text_nltk = nltk.Text(words_list)"
      ],
      "execution_count": null,
      "outputs": []
    },
    {
      "cell_type": "markdown",
      "metadata": {
        "id": "F-es2E6ZkQQg"
      },
      "source": [
        "Imprimindo os 20 primeiros tokens"
      ]
    },
    {
      "cell_type": "code",
      "metadata": {
        "colab": {
          "base_uri": "https://localhost:8080/"
        },
        "id": "uI0lKqyZkO9y",
        "outputId": "1e6a63ee-4ce4-474f-a98c-8863bf8e8686"
      },
      "source": [
        "tweets_text_nltk.tokens[:20]"
      ],
      "execution_count": null,
      "outputs": [
        {
          "output_type": "execute_result",
          "data": {
            "text/plain": [
              "['���⛪',\n",
              " '@',\n",
              " 'Catedral',\n",
              " 'de',\n",
              " 'Santo',\n",
              " 'Antônio',\n",
              " '-',\n",
              " 'Governador',\n",
              " 'Valadares/MG',\n",
              " 'https://t.co/JSbKamIqUJ',\n",
              " '�',\n",
              " '@',\n",
              " 'Governador',\n",
              " 'Valadares,',\n",
              " 'Minas',\n",
              " 'Gerais',\n",
              " 'https://t.co/B3ThIDJCSf',\n",
              " '��',\n",
              " '@',\n",
              " 'Governador']"
            ]
          },
          "metadata": {
            "tags": []
          },
          "execution_count": 85
        }
      ]
    },
    {
      "cell_type": "markdown",
      "metadata": {
        "id": "OCOXNufEkwLn"
      },
      "source": [
        "Obtendo a frequência do token 'Minas' e 'Pimentel'"
      ]
    },
    {
      "cell_type": "code",
      "metadata": {
        "colab": {
          "base_uri": "https://localhost:8080/"
        },
        "id": "MfrKWP16kZCK",
        "outputId": "8c68dc09-0343-4df7-de7e-16e10e1f65f8"
      },
      "source": [
        "tweets_text_nltk.count('Minas')"
      ],
      "execution_count": null,
      "outputs": [
        {
          "output_type": "execute_result",
          "data": {
            "text/plain": [
              "2626"
            ]
          },
          "metadata": {
            "tags": []
          },
          "execution_count": 86
        }
      ]
    },
    {
      "cell_type": "code",
      "metadata": {
        "colab": {
          "base_uri": "https://localhost:8080/"
        },
        "id": "X_-SBW1Ok3MZ",
        "outputId": "663e8e4d-db63-4ab9-a250-6ccd6403066a"
      },
      "source": [
        "tweets_text_nltk.count('Pimentel')"
      ],
      "execution_count": null,
      "outputs": [
        {
          "output_type": "execute_result",
          "data": {
            "text/plain": [
              "418"
            ]
          },
          "metadata": {
            "tags": []
          },
          "execution_count": 88
        }
      ]
    },
    {
      "cell_type": "markdown",
      "metadata": {
        "id": "C3J7hwYvlKEg"
      },
      "source": [
        "Usando a função *percentual_word* criada anteriormente nesse notebook para que tenhamos a proporção dessas palavras na lista de palavras."
      ]
    },
    {
      "cell_type": "code",
      "metadata": {
        "colab": {
          "base_uri": "https://localhost:8080/"
        },
        "id": "iv5STVm_k5_J",
        "outputId": "4d55c2a3-ff57-47c6-d2d4-e5db805cd798"
      },
      "source": [
        "percentual_word(tweets_text_nltk.count('Minas'), tweets_text_nltk)"
      ],
      "execution_count": null,
      "outputs": [
        {
          "output_type": "execute_result",
          "data": {
            "text/plain": [
              "1.9842679139495698"
            ]
          },
          "metadata": {
            "tags": []
          },
          "execution_count": 89
        }
      ]
    },
    {
      "cell_type": "code",
      "metadata": {
        "colab": {
          "base_uri": "https://localhost:8080/"
        },
        "id": "UgCY8eouloaK",
        "outputId": "52287167-d76c-4505-c775-78350c2fc978"
      },
      "source": [
        "percentual_word(tweets_text_nltk.count('Pimentel'), tweets_text_nltk)"
      ],
      "execution_count": null,
      "outputs": [
        {
          "output_type": "execute_result",
          "data": {
            "text/plain": [
              "0.3158507189759787"
            ]
          },
          "metadata": {
            "tags": []
          },
          "execution_count": 90
        }
      ]
    },
    {
      "cell_type": "markdown",
      "metadata": {
        "id": "V0xRRyxfl48r"
      },
      "source": [
        "Obtendo a similaridade de palavras por **contexto**\n",
        "\n",
        "*   Similaridade distribucional: encontra outras palavras que aparecem nos mesmos contextos que a palavra especificada.\n",
        "*   Lista as 20 palavras mais similares por contexto, por default."
      ]
    },
    {
      "cell_type": "code",
      "metadata": {
        "colab": {
          "base_uri": "https://localhost:8080/"
        },
        "id": "mYJDf59ilvk7",
        "outputId": "b94aeda4-0bf8-4a21-f240-fd8a804f6b25"
      },
      "source": [
        "tweets_text_nltk.similar('Minas')"
      ],
      "execution_count": null,
      "outputs": [
        {
          "output_type": "stream",
          "text": [
            "mg rt drogas roubo estado o fora bh pimentel anos que governo sp\n",
            "manaus um calamidade casos segurança temer presídio\n"
          ],
          "name": "stdout"
        }
      ]
    },
    {
      "cell_type": "code",
      "metadata": {
        "colab": {
          "base_uri": "https://localhost:8080/"
        },
        "id": "54JxkaswsIEE",
        "outputId": "71728d9e-b3f3-46ba-b9b1-54e8f8b2d643"
      },
      "source": [
        "tweets_text_nltk.similar('Gerais')"
      ],
      "execution_count": null,
      "outputs": [
        {
          "output_type": "stream",
          "text": [
            "rt que politica e para economia governador é não do no mantém melhor\n",
            "deste de com governo tem q o\n"
          ],
          "name": "stdout"
        }
      ]
    },
    {
      "cell_type": "code",
      "metadata": {
        "colab": {
          "base_uri": "https://localhost:8080/"
        },
        "id": "uAhBVmqKti9k",
        "outputId": "9341a6a9-3b64-4de5-f693-c4b495b75cd7"
      },
      "source": [
        "tweets_text_nltk.similar('Pimentel') #Pimentel foi o governador do estado de Minas Gerais na época da extração dos dados"
      ],
      "execution_count": null,
      "outputs": [
        {
          "output_type": "stream",
          "text": [
            "minas rt governador estado mg o que fora drogas e anos mas calamidade\n",
            "né resolver ensino gerais é com em\n"
          ],
          "name": "stdout"
        }
      ]
    },
    {
      "cell_type": "markdown",
      "metadata": {
        "id": "_C6pCUWPubZe"
      },
      "source": [
        "Obtendo conjuntos de palavras, geralmente, empregadas juntas"
      ]
    },
    {
      "cell_type": "code",
      "metadata": {
        "colab": {
          "base_uri": "https://localhost:8080/"
        },
        "id": "8ll7vY-4tmob",
        "outputId": "8ba8deb1-9bab-4e96-bca8-5768303c1f83"
      },
      "source": [
        "tweets_text_nltk.collocations()"
      ],
      "execution_count": null,
      "outputs": [
        {
          "output_type": "stream",
          "text": [
            "dois helicópteros; febre amarela; Minas Gerais; calamidade\n",
            "financeira,; compra mais; helicópteros!!A cara; @AnaPaulaVolei: Mais;\n",
            "estado. htt…; avisa Justiça; calamidade financeira; canalhice ainda;\n",
            "mais dois; são maiores; tem recursos; três anos,; Com três; conta\n",
            "judicial; anos, presídio; presídio privado; 21,8 milhões:\n"
          ],
          "name": "stdout"
        }
      ]
    },
    {
      "cell_type": "markdown",
      "metadata": {
        "id": "n3uuuZ3jxotB"
      },
      "source": [
        "Obtendo a frequência de cada palavra"
      ]
    },
    {
      "cell_type": "code",
      "metadata": {
        "id": "LEo3gHJoxVqr"
      },
      "source": [
        "fdist = nltk.FreqDist(p.lower() for p in words_list)"
      ],
      "execution_count": null,
      "outputs": []
    },
    {
      "cell_type": "code",
      "metadata": {
        "colab": {
          "base_uri": "https://localhost:8080/"
        },
        "id": "RdQy0ySLx7lS",
        "outputId": "a2241654-e453-4a51-b7d5-d49b39d26b08"
      },
      "source": [
        "#Imprimindo as 20 palavras mais comuns\n",
        "fdist.most_common(20)"
      ],
      "execution_count": null,
      "outputs": [
        {
          "output_type": "execute_result",
          "data": {
            "text/plain": [
              "[('de', 8624),\n",
              " ('em', 4478),\n",
              " ('rt', 3080),\n",
              " ('minas', 2945),\n",
              " ('e', 2269),\n",
              " ('estado', 2120),\n",
              " ('mg', 2004),\n",
              " ('-', 1937),\n",
              " ('a', 1889),\n",
              " ('governo', 1775),\n",
              " ('o', 1737),\n",
              " ('do', 1477),\n",
              " ('é', 1289),\n",
              " ('que', 1230),\n",
              " ('mais', 1157),\n",
              " ('gerais', 980),\n",
              " ('drogas', 917),\n",
              " ('com', 913),\n",
              " ('compra', 886),\n",
              " ('calamidade', 882)]"
            ]
          },
          "metadata": {
            "tags": []
          },
          "execution_count": 98
        }
      ]
    },
    {
      "cell_type": "markdown",
      "metadata": {
        "id": "1P-qmB1Eyf1Q"
      },
      "source": [
        "Observe que dentre essas 20 palavras mais comuns aparecem palavras sem muita relevância, como por exemplo as palavras *de*, *em*, *-*. A melhor forma de resolver isso é usar StopWords."
      ]
    },
    {
      "cell_type": "markdown",
      "metadata": {
        "id": "Ub8YQ9SNyVue"
      },
      "source": [
        "Removendo StopWords"
      ]
    },
    {
      "cell_type": "code",
      "metadata": {
        "id": "WH8_dwhkx-97"
      },
      "source": [
        "#Definindo a lista de stopwords\n",
        "\n",
        "stopwords = set(nltk.corpus.stopwords.words('portuguese')) #estamos usando essa lista, porém há outras e podemos criar a nossa também"
      ],
      "execution_count": null,
      "outputs": []
    },
    {
      "cell_type": "code",
      "metadata": {
        "colab": {
          "base_uri": "https://localhost:8080/"
        },
        "id": "nPqIKJMdzISf",
        "outputId": "ecb00201-ca2d-43ef-8dea-39b2ef375881"
      },
      "source": [
        "#Removendo stopwords da lista de palavras\n",
        "\n",
        "words_list = [i.lower() for i in words_list if not i.lower() in stopwords]\n",
        "words_list[:30]"
      ],
      "execution_count": null,
      "outputs": [
        {
          "output_type": "execute_result",
          "data": {
            "text/plain": [
              "['���⛪',\n",
              " '@',\n",
              " 'catedral',\n",
              " 'santo',\n",
              " 'antônio',\n",
              " '-',\n",
              " 'governador',\n",
              " 'valadares/mg',\n",
              " 'https://t.co/jsbkamiquj',\n",
              " '�',\n",
              " '@',\n",
              " 'governador',\n",
              " 'valadares,',\n",
              " 'minas',\n",
              " 'gerais',\n",
              " 'https://t.co/b3thidjcsf',\n",
              " '��',\n",
              " '@',\n",
              " 'governador',\n",
              " 'valadares,',\n",
              " 'minas',\n",
              " 'gerais',\n",
              " 'https://t.co/dpkgzvr2qw',\n",
              " '���',\n",
              " 'https://t.co/bndso34qk0',\n",
              " '���',\n",
              " 'psol',\n",
              " 'vai',\n",
              " 'questionar',\n",
              " 'aumento']"
            ]
          },
          "metadata": {
            "tags": []
          },
          "execution_count": 105
        }
      ]
    },
    {
      "cell_type": "code",
      "metadata": {
        "colab": {
          "base_uri": "https://localhost:8080/"
        },
        "id": "zqnyQW4Uzws7",
        "outputId": "6c6dc224-970b-47eb-bbc7-95b102f9b754"
      },
      "source": [
        "#Obtendo o número de elementos da nova lista de palavras sem stopwords\n",
        "\n",
        "len(words_list)"
      ],
      "execution_count": null,
      "outputs": [
        {
          "output_type": "execute_result",
          "data": {
            "text/plain": [
              "97023"
            ]
          },
          "metadata": {
            "tags": []
          },
          "execution_count": 106
        }
      ]
    },
    {
      "cell_type": "markdown",
      "metadata": {
        "id": "Y6k0cx--0o1L"
      },
      "source": [
        "Obtendo a frequência de cada palavra nessa nova lista de palavras sem stopwords"
      ]
    },
    {
      "cell_type": "code",
      "metadata": {
        "id": "Pdub-W6W0gVr"
      },
      "source": [
        "fdist = nltk.FreqDist(p.lower() for p in words_list)"
      ],
      "execution_count": null,
      "outputs": []
    },
    {
      "cell_type": "code",
      "metadata": {
        "colab": {
          "base_uri": "https://localhost:8080/"
        },
        "id": "8ga6I5Cg0zXz",
        "outputId": "b7724c59-34ea-4b23-ee76-123e1f5631a8"
      },
      "source": [
        "#Imprimindo as 20 palavras mais comuns\n",
        "fdist.most_common(20)"
      ],
      "execution_count": null,
      "outputs": [
        {
          "output_type": "execute_result",
          "data": {
            "text/plain": [
              "[('rt', 3080),\n",
              " ('minas', 2945),\n",
              " ('estado', 2120),\n",
              " ('mg', 2004),\n",
              " ('-', 1937),\n",
              " ('governo', 1775),\n",
              " ('gerais', 980),\n",
              " ('drogas', 917),\n",
              " ('compra', 886),\n",
              " ('calamidade', 882),\n",
              " ('dois', 879),\n",
              " ('helicópteros', 804),\n",
              " ('q', 672),\n",
              " ('governador', 651),\n",
              " ('presídio', 568),\n",
              " ('febre', 549),\n",
              " ('r$', 519),\n",
              " ('amarela', 506),\n",
              " ('pimentel', 465),\n",
              " ('ainda', 461)]"
            ]
          },
          "metadata": {
            "tags": []
          },
          "execution_count": 109
        }
      ]
    },
    {
      "cell_type": "markdown",
      "metadata": {
        "id": "MzB5Tn-B2nFI"
      },
      "source": [
        "#Trabalhando com Bigrams e Trigrams"
      ]
    },
    {
      "cell_type": "markdown",
      "metadata": {
        "id": "ALBuS98T2qxu"
      },
      "source": [
        "*   **Ngrams** é uma sequência contínua de n itens para uma amostra de texto ou fala.\n",
        "*   **Unigrams**: palavras únicas.\n",
        "*   **Bigrams**: pares de palavras.\n",
        "*   **Trigrams**: trios de palavras.\n",
        "*   Palavras juntas são também conhecidas como **colocações**.\n",
        "*   Unigrams normalmente não possuem muita informação quando se comparado com bigrams e trigrams.\n",
        "*   Quanto mais palavras, mais contexto sobre a estrutura da linguagem.\n",
        "*   Deve-se avaliar o uso de Ngrams no projeto e qual utilizar.\n",
        "*   A utilização de bigrams e trigrams pode ser interessante em casos em que se leva em consideração sequências de palavras."
      ]
    },
    {
      "cell_type": "code",
      "metadata": {
        "id": "EB6tB5lZ2qL5"
      },
      "source": [
        "from nltk import bigrams, trigrams"
      ],
      "execution_count": null,
      "outputs": []
    },
    {
      "cell_type": "markdown",
      "metadata": {
        "id": "ghCAIG766F0j"
      },
      "source": [
        "Visualizando bigrams"
      ]
    },
    {
      "cell_type": "code",
      "metadata": {
        "colab": {
          "base_uri": "https://localhost:8080/"
        },
        "id": "QPEw2LJH6DJM",
        "outputId": "5d3d3be5-4a57-48d6-ada0-cc74e402bd7b"
      },
      "source": [
        "list(bigrams(['O rato', 'roeu', 'roupa', 'do rei', 'de roma']))"
      ],
      "execution_count": null,
      "outputs": [
        {
          "output_type": "execute_result",
          "data": {
            "text/plain": [
              "[('O rato', 'roeu'),\n",
              " ('roeu', 'roupa'),\n",
              " ('roupa', 'do rei'),\n",
              " ('do rei', 'de roma')]"
            ]
          },
          "metadata": {
            "tags": []
          },
          "execution_count": 111
        }
      ]
    },
    {
      "cell_type": "markdown",
      "metadata": {
        "id": "S065bWIu67zG"
      },
      "source": [
        "Retornou 4 pares de palavras"
      ]
    },
    {
      "cell_type": "markdown",
      "metadata": {
        "id": "FtqRNEgp6bEQ"
      },
      "source": [
        "Visualizando trigrams"
      ]
    },
    {
      "cell_type": "code",
      "metadata": {
        "colab": {
          "base_uri": "https://localhost:8080/"
        },
        "id": "nFoGt5Tn6Obg",
        "outputId": "6fff3f24-9055-4a60-809c-c62c02aa7cc7"
      },
      "source": [
        "list(trigrams(['O rato', 'roeu', 'roupa', 'do rei', 'de roma']))"
      ],
      "execution_count": null,
      "outputs": [
        {
          "output_type": "execute_result",
          "data": {
            "text/plain": [
              "[('O rato', 'roeu', 'roupa'),\n",
              " ('roeu', 'roupa', 'do rei'),\n",
              " ('roupa', 'do rei', 'de roma')]"
            ]
          },
          "metadata": {
            "tags": []
          },
          "execution_count": 112
        }
      ]
    },
    {
      "cell_type": "markdown",
      "metadata": {
        "id": "JCAdIt5F7HSZ"
      },
      "source": [
        "Retornou 3 trios de palavras"
      ]
    },
    {
      "cell_type": "markdown",
      "metadata": {
        "id": "kFmN4Zg67Wv_"
      },
      "source": [
        "Imprimindo bigrams usando a base de dados de tweets"
      ]
    },
    {
      "cell_type": "code",
      "metadata": {
        "colab": {
          "base_uri": "https://localhost:8080/"
        },
        "id": "oJu_Ebn77DLL",
        "outputId": "4919cee5-6562-4289-b652-f58f6135883b"
      },
      "source": [
        "list(nltk.bigrams(words_list))[:30]"
      ],
      "execution_count": null,
      "outputs": [
        {
          "output_type": "execute_result",
          "data": {
            "text/plain": [
              "[('���⛪', '@'),\n",
              " ('@', 'catedral'),\n",
              " ('catedral', 'santo'),\n",
              " ('santo', 'antônio'),\n",
              " ('antônio', '-'),\n",
              " ('-', 'governador'),\n",
              " ('governador', 'valadares/mg'),\n",
              " ('valadares/mg', 'https://t.co/jsbkamiquj'),\n",
              " ('https://t.co/jsbkamiquj', '�'),\n",
              " ('�', '@'),\n",
              " ('@', 'governador'),\n",
              " ('governador', 'valadares,'),\n",
              " ('valadares,', 'minas'),\n",
              " ('minas', 'gerais'),\n",
              " ('gerais', 'https://t.co/b3thidjcsf'),\n",
              " ('https://t.co/b3thidjcsf', '��'),\n",
              " ('��', '@'),\n",
              " ('@', 'governador'),\n",
              " ('governador', 'valadares,'),\n",
              " ('valadares,', 'minas'),\n",
              " ('minas', 'gerais'),\n",
              " ('gerais', 'https://t.co/dpkgzvr2qw'),\n",
              " ('https://t.co/dpkgzvr2qw', '���'),\n",
              " ('���', 'https://t.co/bndso34qk0'),\n",
              " ('https://t.co/bndso34qk0', '���'),\n",
              " ('���', 'psol'),\n",
              " ('psol', 'vai'),\n",
              " ('vai', 'questionar'),\n",
              " ('questionar', 'aumento'),\n",
              " ('aumento', 'vereadores')]"
            ]
          },
          "metadata": {
            "tags": []
          },
          "execution_count": 115
        }
      ]
    },
    {
      "cell_type": "markdown",
      "metadata": {
        "id": "3G1LgP0N7o_D"
      },
      "source": [
        "Imprimindo trigrams usando a base de dados de tweets"
      ]
    },
    {
      "cell_type": "code",
      "metadata": {
        "colab": {
          "base_uri": "https://localhost:8080/"
        },
        "id": "kzD1OFjY7hFj",
        "outputId": "5c65bdbe-9ef5-45f8-cfe4-c9b20bbf4004"
      },
      "source": [
        "list(nltk.trigrams(words_list))[:50]"
      ],
      "execution_count": null,
      "outputs": [
        {
          "output_type": "execute_result",
          "data": {
            "text/plain": [
              "[('���⛪', '@', 'catedral'),\n",
              " ('@', 'catedral', 'santo'),\n",
              " ('catedral', 'santo', 'antônio'),\n",
              " ('santo', 'antônio', '-'),\n",
              " ('antônio', '-', 'governador'),\n",
              " ('-', 'governador', 'valadares/mg'),\n",
              " ('governador', 'valadares/mg', 'https://t.co/jsbkamiquj'),\n",
              " ('valadares/mg', 'https://t.co/jsbkamiquj', '�'),\n",
              " ('https://t.co/jsbkamiquj', '�', '@'),\n",
              " ('�', '@', 'governador'),\n",
              " ('@', 'governador', 'valadares,'),\n",
              " ('governador', 'valadares,', 'minas'),\n",
              " ('valadares,', 'minas', 'gerais'),\n",
              " ('minas', 'gerais', 'https://t.co/b3thidjcsf'),\n",
              " ('gerais', 'https://t.co/b3thidjcsf', '��'),\n",
              " ('https://t.co/b3thidjcsf', '��', '@'),\n",
              " ('��', '@', 'governador'),\n",
              " ('@', 'governador', 'valadares,'),\n",
              " ('governador', 'valadares,', 'minas'),\n",
              " ('valadares,', 'minas', 'gerais'),\n",
              " ('minas', 'gerais', 'https://t.co/dpkgzvr2qw'),\n",
              " ('gerais', 'https://t.co/dpkgzvr2qw', '���'),\n",
              " ('https://t.co/dpkgzvr2qw', '���', 'https://t.co/bndso34qk0'),\n",
              " ('���', 'https://t.co/bndso34qk0', '���'),\n",
              " ('https://t.co/bndso34qk0', '���', 'psol'),\n",
              " ('���', 'psol', 'vai'),\n",
              " ('psol', 'vai', 'questionar'),\n",
              " ('vai', 'questionar', 'aumento'),\n",
              " ('questionar', 'aumento', 'vereadores'),\n",
              " ('aumento', 'vereadores', 'prefeito'),\n",
              " ('vereadores', 'prefeito', 'bh'),\n",
              " ('prefeito', 'bh', 'justiça'),\n",
              " ('bh', 'justiça', '-'),\n",
              " ('justiça', '-', 'politica'),\n",
              " ('-', 'politica', '-'),\n",
              " ('politica', '-', 'estado'),\n",
              " ('-', 'estado', 'minas'),\n",
              " ('estado', 'minas', 'https://t.co/dmg7bgsek5'),\n",
              " ('minas', 'https://t.co/dmg7bgsek5', '\"'),\n",
              " ('https://t.co/dmg7bgsek5', '\"', 'bom'),\n",
              " ('\"', 'bom', 'bandido'),\n",
              " ('bom', 'bandido', 'morto\"'),\n",
              " ('bandido', 'morto\"', 'deputado'),\n",
              " ('morto\"', 'deputado', 'cabo'),\n",
              " ('deputado', 'cabo', 'júlio'),\n",
              " ('cabo', 'júlio', 'condenado'),\n",
              " ('júlio', 'condenado', 'fica'),\n",
              " ('condenado', 'fica', 'inelegível'),\n",
              " ('fica', 'inelegível', '10'),\n",
              " ('inelegível', '10', 'anos')]"
            ]
          },
          "metadata": {
            "tags": []
          },
          "execution_count": 116
        }
      ]
    }
  ]
}