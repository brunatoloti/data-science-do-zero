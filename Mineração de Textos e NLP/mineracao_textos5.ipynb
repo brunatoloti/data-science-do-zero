{
  "nbformat": 4,
  "nbformat_minor": 0,
  "metadata": {
    "colab": {
      "name": "mineracao_textos5.ipynb",
      "provenance": [],
      "collapsed_sections": [],
      "authorship_tag": "ABX9TyOme2jGEQ4jw1ITJRBNJmB/",
      "include_colab_link": true
    },
    "kernelspec": {
      "name": "python3",
      "display_name": "Python 3"
    },
    "language_info": {
      "name": "python"
    }
  },
  "cells": [
    {
      "cell_type": "markdown",
      "metadata": {
        "id": "view-in-github",
        "colab_type": "text"
      },
      "source": [
        "<a href=\"https://colab.research.google.com/github/brunatoloti/data-science-do-zero/blob/main/Minera%C3%A7%C3%A3o%20de%20Textos%20e%20NLP/mineracao_textos5.ipynb\" target=\"_parent\"><img src=\"https://colab.research.google.com/assets/colab-badge.svg\" alt=\"Open In Colab\"/></a>"
      ]
    },
    {
      "cell_type": "markdown",
      "metadata": {
        "id": "mSA60SmvCZ4n"
      },
      "source": [
        "#Mineração Textos - Similaridade de Strings"
      ]
    },
    {
      "cell_type": "markdown",
      "metadata": {
        "id": "ZbNYcYuvCfBk"
      },
      "source": [
        "Aplicações:\n",
        "*   Data Cleaning - Limpeza de Dados.\n",
        "*   Correção de digitação.\n",
        "*   Tradução de idiomas."
      ]
    },
    {
      "cell_type": "markdown",
      "metadata": {
        "id": "JA7P2JkfCu-l"
      },
      "source": [
        "Usando a biblioteca FuzzyWuzzy\n",
        "*   Essa biblioteca usa a Distância de Levenshtein para calcular as diferenças entre as strings.\n",
        "*   Um dos métodos mais fáceis de usar para comparar dois textos ou duas strings é a biblioteca FuzzyWuzzy, onde podemos ter um score de 100, que denota que duas strings são iguais, dando um índice de similaridade."
      ]
    },
    {
      "cell_type": "markdown",
      "metadata": {
        "id": "KLrF0eDgDSuU"
      },
      "source": [
        "Importando as bibliotecas"
      ]
    },
    {
      "cell_type": "code",
      "metadata": {
        "colab": {
          "base_uri": "https://localhost:8080/"
        },
        "id": "_YpzsiwfCO4u",
        "outputId": "e007e33b-064d-4b1d-fac9-b66aab02a516"
      },
      "source": [
        "!pip install fuzzywuzzy\n",
        "!pip install python-Levenshtein\n",
        "!pip install fuzzywuzzy[speedup]"
      ],
      "execution_count": null,
      "outputs": [
        {
          "output_type": "stream",
          "text": [
            "Collecting fuzzywuzzy\n",
            "  Downloading https://files.pythonhosted.org/packages/43/ff/74f23998ad2f93b945c0309f825be92e04e0348e062026998b5eefef4c33/fuzzywuzzy-0.18.0-py2.py3-none-any.whl\n",
            "Installing collected packages: fuzzywuzzy\n",
            "Successfully installed fuzzywuzzy-0.18.0\n",
            "Collecting python-Levenshtein\n",
            "\u001b[?25l  Downloading https://files.pythonhosted.org/packages/2a/dc/97f2b63ef0fa1fd78dcb7195aca577804f6b2b51e712516cc0e902a9a201/python-Levenshtein-0.12.2.tar.gz (50kB)\n",
            "\u001b[K     |████████████████████████████████| 51kB 2.4MB/s \n",
            "\u001b[?25hRequirement already satisfied: setuptools in /usr/local/lib/python3.7/dist-packages (from python-Levenshtein) (56.0.0)\n",
            "Building wheels for collected packages: python-Levenshtein\n",
            "  Building wheel for python-Levenshtein (setup.py) ... \u001b[?25l\u001b[?25hdone\n",
            "  Created wheel for python-Levenshtein: filename=python_Levenshtein-0.12.2-cp37-cp37m-linux_x86_64.whl size=149827 sha256=707fc80cb7cf335d0e2a67dce8817218583ec34831bd5c9ed1c2137c24b9aa4c\n",
            "  Stored in directory: /root/.cache/pip/wheels/b3/26/73/4b48503bac73f01cf18e52cd250947049a7f339e940c5df8fc\n",
            "Successfully built python-Levenshtein\n",
            "Installing collected packages: python-Levenshtein\n",
            "Successfully installed python-Levenshtein-0.12.2\n",
            "Requirement already satisfied: fuzzywuzzy[speedup] in /usr/local/lib/python3.7/dist-packages (0.18.0)\n",
            "Requirement already satisfied: python-levenshtein>=0.12; extra == \"speedup\" in /usr/local/lib/python3.7/dist-packages (from fuzzywuzzy[speedup]) (0.12.2)\n",
            "Requirement already satisfied: setuptools in /usr/local/lib/python3.7/dist-packages (from python-levenshtein>=0.12; extra == \"speedup\"->fuzzywuzzy[speedup]) (56.0.0)\n"
          ],
          "name": "stdout"
        }
      ]
    },
    {
      "cell_type": "code",
      "metadata": {
        "id": "62Hoex2WDytJ"
      },
      "source": [
        "from fuzzywuzzy import fuzz\n",
        "from fuzzywuzzy import process"
      ],
      "execution_count": null,
      "outputs": []
    },
    {
      "cell_type": "markdown",
      "metadata": {
        "id": "OtdwST6gH9jX"
      },
      "source": [
        "**\"Similaridade Total\"**"
      ]
    },
    {
      "cell_type": "markdown",
      "metadata": {
        "id": "_7tTlaxMEDU2"
      },
      "source": [
        "Aplicando a FuzzyWuzzy em duas strings"
      ]
    },
    {
      "cell_type": "code",
      "metadata": {
        "colab": {
          "base_uri": "https://localhost:8080/"
        },
        "id": "3mBIfhHND-2d",
        "outputId": "80544d7a-2321-4d8a-93c7-0aeb497068ca"
      },
      "source": [
        "s1 = 'Doença Cardiovascular'\n",
        "s2 = 'Doença Cardiovascular'\n",
        "\n",
        "fuzz.ratio(s1,s2)"
      ],
      "execution_count": null,
      "outputs": [
        {
          "output_type": "execute_result",
          "data": {
            "text/plain": [
              "100"
            ]
          },
          "metadata": {
            "tags": []
          },
          "execution_count": 3
        }
      ]
    },
    {
      "cell_type": "markdown",
      "metadata": {
        "id": "1QnXAPB5EUC1"
      },
      "source": [
        "Observe que a taxa retornada é de 100, ou seja, as duas strings são idênticas."
      ]
    },
    {
      "cell_type": "markdown",
      "metadata": {
        "id": "8ljV87CPEZts"
      },
      "source": [
        "Aplicando a FuzzyWuzzy em outras duas strings - com uma pequena diferença entre elas"
      ]
    },
    {
      "cell_type": "code",
      "metadata": {
        "colab": {
          "base_uri": "https://localhost:8080/"
        },
        "id": "xFla9H4dEPOc",
        "outputId": "c85e2b4f-cdaf-480c-a35e-d0acead18757"
      },
      "source": [
        "s1 = 'Doença Cardiovascular'\n",
        "s2 = 'Doença Cardiovasculhar'\n",
        "\n",
        "fuzz.ratio(s1, s2)"
      ],
      "execution_count": null,
      "outputs": [
        {
          "output_type": "execute_result",
          "data": {
            "text/plain": [
              "98"
            ]
          },
          "metadata": {
            "tags": []
          },
          "execution_count": 4
        }
      ]
    },
    {
      "cell_type": "markdown",
      "metadata": {
        "id": "g0w7ZtTPEkFE"
      },
      "source": [
        "Essas duas strings possuem uma taxa de similaridade de 98."
      ]
    },
    {
      "cell_type": "markdown",
      "metadata": {
        "id": "KYZwHssVEtpl"
      },
      "source": [
        "Aplicando a FuzzyWuzzy em duas strings, com diferenças entre letras maiúsculas e minúsculas"
      ]
    },
    {
      "cell_type": "code",
      "metadata": {
        "colab": {
          "base_uri": "https://localhost:8080/"
        },
        "id": "sugLS2evEiik",
        "outputId": "f023c62d-afa7-4ba3-a65d-1f2a93c0bd3c"
      },
      "source": [
        "s1 = 'Doença Cardiovascular'\n",
        "s2 = 'doença Cardiovascular'\n",
        "\n",
        "fuzz.ratio(s1,s2)"
      ],
      "execution_count": null,
      "outputs": [
        {
          "output_type": "execute_result",
          "data": {
            "text/plain": [
              "95"
            ]
          },
          "metadata": {
            "tags": []
          },
          "execution_count": 5
        }
      ]
    },
    {
      "cell_type": "markdown",
      "metadata": {
        "id": "WRe8RlnME_GP"
      },
      "source": [
        "A similaridade entre essas duas strings foi ainda maior do que se ter um caracter a mais (como aconteceu no caso anterior a esse). Podemos concluir ter a letra maiúscula em uma string e ter a letra minúscula na outra string tem um peso maior do que ter uma letra a mais em uma das strings."
      ]
    },
    {
      "cell_type": "markdown",
      "metadata": {
        "id": "DrJwzHqrFYZQ"
      },
      "source": [
        "Aplicando a FuzzyWuzzy em duas strings, com diferenças de pontuação ou outros caracteres"
      ]
    },
    {
      "cell_type": "code",
      "metadata": {
        "colab": {
          "base_uri": "https://localhost:8080/"
        },
        "id": "_n85oQChE9cs",
        "outputId": "6dff1a66-45e1-42df-cb27-2347872b636a"
      },
      "source": [
        "s1 = 'Doença Cardiovascular'\n",
        "s2 = 'Doença Cardiovascular!'\n",
        "\n",
        "fuzz.ratio(s1,s2)"
      ],
      "execution_count": null,
      "outputs": [
        {
          "output_type": "execute_result",
          "data": {
            "text/plain": [
              "98"
            ]
          },
          "metadata": {
            "tags": []
          },
          "execution_count": 6
        }
      ]
    },
    {
      "cell_type": "markdown",
      "metadata": {
        "id": "yb_aaeCTFwdt"
      },
      "source": [
        "Também perdemos similaridade entre strings se houver pontuação ou caracter especial em uma das strings e na outra não. Porém, aparentemente, perde-se similaridade na mesma taxa de se ter uma letra a mais na string."
      ]
    },
    {
      "cell_type": "markdown",
      "metadata": {
        "id": "_RyeTeAVIBfl"
      },
      "source": [
        "**Similaridade Parcial**"
      ]
    },
    {
      "cell_type": "markdown",
      "metadata": {
        "id": "jKqk8gjuIEQG"
      },
      "source": [
        "*   Similaridade Parcial busca apenas a string em questão, de interesse, e descarta o resto.\n",
        "*   Extremamente útil para se trabalhar com dados coletados da Web."
      ]
    },
    {
      "cell_type": "markdown",
      "metadata": {
        "id": "qT1_2SvlISFt"
      },
      "source": [
        "Consultando o score usando o método *ratio*, ou seja, sem usar a similaridade parcial"
      ]
    },
    {
      "cell_type": "code",
      "metadata": {
        "colab": {
          "base_uri": "https://localhost:8080/"
        },
        "id": "yjAf8GAkFkyy",
        "outputId": "ebb9d31a-5682-460b-86f2-047574968a21"
      },
      "source": [
        "s1 = 'Doença Cardiovascular'\n",
        "s2 = '###$$%$!Doença Cardiovascular#$#%#^^^^^!!'\n",
        "\n",
        "fuzz.ratio(s1, s2)"
      ],
      "execution_count": null,
      "outputs": [
        {
          "output_type": "execute_result",
          "data": {
            "text/plain": [
              "68"
            ]
          },
          "metadata": {
            "tags": []
          },
          "execution_count": 7
        }
      ]
    },
    {
      "cell_type": "markdown",
      "metadata": {
        "id": "jvvSG31CIwCO"
      },
      "source": [
        "Note que a taxa de \"similaridade total\" dessas duas strings é relativamente baixo."
      ]
    },
    {
      "cell_type": "markdown",
      "metadata": {
        "id": "anrBFTcYI49N"
      },
      "source": [
        "Consultando agora o score usando o método *partial_ratio*, sem diferença na string de interesse"
      ]
    },
    {
      "cell_type": "code",
      "metadata": {
        "colab": {
          "base_uri": "https://localhost:8080/"
        },
        "id": "xJdPbcN_Ip29",
        "outputId": "45c9c8a1-9e3f-4aee-f630-03bc3ccc9706"
      },
      "source": [
        "s1 = 'Doença Cardiovascular'\n",
        "s2 = '###$$%$!Doença Cardiovascular#$#%#^^^^^!!'\n",
        "\n",
        "fuzz.partial_ratio(s1, s2)"
      ],
      "execution_count": null,
      "outputs": [
        {
          "output_type": "execute_result",
          "data": {
            "text/plain": [
              "100"
            ]
          },
          "metadata": {
            "tags": []
          },
          "execution_count": 8
        }
      ]
    },
    {
      "cell_type": "markdown",
      "metadata": {
        "id": "biL1euRSJJR2"
      },
      "source": [
        "Note agora que avaliando apenas a string de interesse, sem considerar as pontuações e os caracteres especiais, ficamos com uma taxa de similaridade de 100. Ou seja, usando *partial_ratio* as strings são idênticas."
      ]
    },
    {
      "cell_type": "markdown",
      "metadata": {
        "id": "UUKjmaPhJjeO"
      },
      "source": [
        "Consultando agora o score usando o método *partial_ratio*, com diferença na string de interesse"
      ]
    },
    {
      "cell_type": "code",
      "metadata": {
        "colab": {
          "base_uri": "https://localhost:8080/"
        },
        "id": "Lxr4NM3bJISG",
        "outputId": "fe1191a6-6af7-4cbf-bb1b-57b2034fa490"
      },
      "source": [
        "s1 = 'Doença Cardiovascular'\n",
        "s2 = '###$$%$!Doença Cardiovasculhar#$#%#^^^^^!!'\n",
        "\n",
        "fuzz.partial_ratio(s1, s2)"
      ],
      "execution_count": null,
      "outputs": [
        {
          "output_type": "execute_result",
          "data": {
            "text/plain": [
              "95"
            ]
          },
          "metadata": {
            "tags": []
          },
          "execution_count": 9
        }
      ]
    },
    {
      "cell_type": "markdown",
      "metadata": {
        "id": "0KiWh-JUKF75"
      },
      "source": [
        "Com isso, devido a diferença na string de interesse, a taxa de similaridade foi de 95 e não de 100. Seria ainda mais baixa se usássemos o método *ratio* e não o método *partial_ratio*."
      ]
    },
    {
      "cell_type": "markdown",
      "metadata": {
        "id": "00CvTZd2KWHY"
      },
      "source": [
        "Verificando se a ordem das substrings na string interfere muito no score de similaridade."
      ]
    },
    {
      "cell_type": "code",
      "metadata": {
        "colab": {
          "base_uri": "https://localhost:8080/"
        },
        "id": "DStFq3zWJr1W",
        "outputId": "0c691f2f-5c23-4484-8156-f728776bca1b"
      },
      "source": [
        "s1 = 'Doença Cardiovascular'\n",
        "s2 = 'Cardiovascular Doença'\n",
        "\n",
        "fuzz.partial_ratio(s1, s2)"
      ],
      "execution_count": null,
      "outputs": [
        {
          "output_type": "execute_result",
          "data": {
            "text/plain": [
              "67"
            ]
          },
          "metadata": {
            "tags": []
          },
          "execution_count": 10
        }
      ]
    },
    {
      "cell_type": "markdown",
      "metadata": {
        "id": "qCIsa9AhKlb2"
      },
      "source": [
        "Podemos ver que, sim, a ordem das substrings influencia na similaridade.\n",
        "\n",
        "Para contornar essa situação, podemos usar o método ***partial_token_sort_ratio()***"
      ]
    },
    {
      "cell_type": "markdown",
      "metadata": {
        "id": "FGAc8d9YLRVn"
      },
      "source": [
        "*   O método **partial_token_sort_ratio()** separa os tokens por espaço e ordena por ordem alfabética.\n",
        "*   Além disso, esse método coloca as strings em letras minúsculas.\n",
        "*   E, também, considera apenas as strings de interesse."
      ]
    },
    {
      "cell_type": "markdown",
      "metadata": {
        "id": "OAKhAvDzLqqm"
      },
      "source": [
        "Consultando o score usando o método *partial_token_sort_ratio*, com alteração na ordem das substrings de uma das strings"
      ]
    },
    {
      "cell_type": "code",
      "metadata": {
        "colab": {
          "base_uri": "https://localhost:8080/"
        },
        "id": "jnKlYO5FKibq",
        "outputId": "cfd5570e-188d-4ef0-d144-6207f57f6639"
      },
      "source": [
        "s1 = 'Doença Cardiovascular'\n",
        "s2 = 'Cardiovascular Doença'\n",
        "\n",
        "fuzz.partial_token_sort_ratio(s1, s2)"
      ],
      "execution_count": null,
      "outputs": [
        {
          "output_type": "execute_result",
          "data": {
            "text/plain": [
              "100"
            ]
          },
          "metadata": {
            "tags": []
          },
          "execution_count": 11
        }
      ]
    },
    {
      "cell_type": "markdown",
      "metadata": {
        "id": "zoFhrCXpL6OP"
      },
      "source": [
        "Observe agora que usando esse método e com as substrings invertidas em uma das strings, obtivemos taxa de similaridade 100."
      ]
    },
    {
      "cell_type": "markdown",
      "metadata": {
        "id": "2GXbmV45MPfW"
      },
      "source": [
        "Consultando o score usando o método *partial_token_sort_ratio*, com alteração na ordem das substrings em uma das strings e com letras minúsculas em uma das strings."
      ]
    },
    {
      "cell_type": "code",
      "metadata": {
        "colab": {
          "base_uri": "https://localhost:8080/"
        },
        "id": "w4ff7lZIL3Ut",
        "outputId": "c248b8f3-eed3-4444-d6fc-8c7cbdb5f938"
      },
      "source": [
        "s1 = 'Doença Cardiovascular'\n",
        "s2 = 'cardiovascular doença'\n",
        "\n",
        "fuzz.partial_token_sort_ratio(s1, s2)"
      ],
      "execution_count": null,
      "outputs": [
        {
          "output_type": "execute_result",
          "data": {
            "text/plain": [
              "100"
            ]
          },
          "metadata": {
            "tags": []
          },
          "execution_count": 12
        }
      ]
    },
    {
      "cell_type": "markdown",
      "metadata": {
        "id": "I-GFVHlJM5kg"
      },
      "source": [
        "Observe que continuamos tendo um score de 100, ou seja, usando esse método, essas duas strings são idênticas."
      ]
    },
    {
      "cell_type": "code",
      "metadata": {
        "colab": {
          "base_uri": "https://localhost:8080/"
        },
        "id": "FBaiiXfGNwLn",
        "outputId": "707dc938-2718-4abf-916c-e7273b185f50"
      },
      "source": [
        "s1 = 'Doença Cardiovascular'\n",
        "s2 = '%%%%%cardiovascular doença&&&&****@@@'\n",
        "\n",
        "fuzz.partial_token_sort_ratio(s1, s2)"
      ],
      "execution_count": null,
      "outputs": [
        {
          "output_type": "execute_result",
          "data": {
            "text/plain": [
              "100"
            ]
          },
          "metadata": {
            "tags": []
          },
          "execution_count": 13
        }
      ]
    },
    {
      "cell_type": "markdown",
      "metadata": {
        "id": "WIpyZQvCN4_f"
      },
      "source": [
        "Observe que continuamos tendo um score de 100, ou seja, usando esse método, essas duas strings são idênticas."
      ]
    },
    {
      "cell_type": "markdown",
      "metadata": {
        "id": "lXVKG1AINC5P"
      },
      "source": [
        "Tudo isso faz sentido, por conta do funcionamento desse método. Como colocado anteriormente, o método\n",
        "*   Separa os tokens por espaço e ordena por ordem alfabética, portanto não importa se as palavras estão em ordens diferentes entre as duas strings. No final, ambas ficarão na mesma ordem, se forem de fato iguais.\n",
        "*   Coloca as strings em letras minúsculas, portanto não importa se uma das strings está com letra maiúscula e a outra não. No final, ambas ficarão em letras minúsculas.\n",
        "*   Leva em consideração apenas a string de interesse, sem levar em consideração pontuação e caracteres especiais."
      ]
    },
    {
      "cell_type": "markdown",
      "metadata": {
        "id": "4PFJ-Ps_2LDB"
      },
      "source": [
        "**Processando uma lista de strings**"
      ]
    },
    {
      "cell_type": "markdown",
      "metadata": {
        "id": "K5IXcyTQ2PA1"
      },
      "source": [
        "*   Aplicando o FuzzyWuzzy para corrigir strings em uma base de dados"
      ]
    },
    {
      "cell_type": "markdown",
      "metadata": {
        "id": "mTfBhBF52WZe"
      },
      "source": [
        "Importando a biblioteca"
      ]
    },
    {
      "cell_type": "code",
      "metadata": {
        "id": "iTtvZshTMzQj"
      },
      "source": [
        "from fuzzywuzzy import process"
      ],
      "execution_count": null,
      "outputs": []
    },
    {
      "cell_type": "markdown",
      "metadata": {
        "id": "RlkLQsZW2bjI"
      },
      "source": [
        "Criando uma lista de strings"
      ]
    },
    {
      "cell_type": "code",
      "metadata": {
        "id": "YRuTIK5e2aKN"
      },
      "source": [
        "l = ['Doença Cardiovascular.', 'doença cardiovascular!!', 'Doenca Cardiovascular', 'Doenc. Cardio']"
      ],
      "execution_count": null,
      "outputs": []
    },
    {
      "cell_type": "markdown",
      "metadata": {
        "id": "_9D0Tx0121X2"
      },
      "source": [
        "Extraindo os scores de similaridade entre as strings da lista e uma string específica, usando o método *partial_ratio*"
      ]
    },
    {
      "cell_type": "code",
      "metadata": {
        "colab": {
          "base_uri": "https://localhost:8080/"
        },
        "id": "J7nz-3cT2ttt",
        "outputId": "427b1349-70f2-47cf-f229-3c5fc41d5324"
      },
      "source": [
        "process.extract('Doença Cardiovascular', l, scorer=fuzz.partial_ratio)"
      ],
      "execution_count": null,
      "outputs": [
        {
          "output_type": "execute_result",
          "data": {
            "text/plain": [
              "[('Doença Cardiovascular.', 100),\n",
              " ('doença cardiovascular!!', 100),\n",
              " ('Doenca Cardiovascular', 95),\n",
              " ('Doenc. Cardio', 85)]"
            ]
          },
          "metadata": {
            "tags": []
          },
          "execution_count": 20
        }
      ]
    },
    {
      "cell_type": "markdown",
      "metadata": {
        "id": "UixuMvVu3Vcl"
      },
      "source": [
        "Limitando o retorno"
      ]
    },
    {
      "cell_type": "code",
      "metadata": {
        "colab": {
          "base_uri": "https://localhost:8080/"
        },
        "id": "4ELDT1MN3GDc",
        "outputId": "e35ac65b-fc16-4a11-db27-15a698b9b1b0"
      },
      "source": [
        "#Suponha que eu queira retornar as 3 strings mais similares\n",
        "\n",
        "process.extract('Doença Cardiovascular', l, scorer=fuzz.partial_ratio, limit=3)"
      ],
      "execution_count": null,
      "outputs": [
        {
          "output_type": "execute_result",
          "data": {
            "text/plain": [
              "[('Doença Cardiovascular.', 100),\n",
              " ('doença cardiovascular!!', 100),\n",
              " ('Doenca Cardiovascular', 95)]"
            ]
          },
          "metadata": {
            "tags": []
          },
          "execution_count": 21
        }
      ]
    },
    {
      "cell_type": "markdown",
      "metadata": {
        "id": "Io1ZSISP36PT"
      },
      "source": [
        "Retornando apenas uma string com score acima de 95 -> ou seja, retorna a string mais similar com score acima de 95."
      ]
    },
    {
      "cell_type": "code",
      "metadata": {
        "colab": {
          "base_uri": "https://localhost:8080/"
        },
        "id": "wLa9I0aX33Aq",
        "outputId": "5b8b036c-f726-41d3-e05e-7da8fefe40a1"
      },
      "source": [
        "process.extractOne('Doença Cardiovascular', l, scorer=fuzz.partial_ratio, score_cutoff=95)"
      ],
      "execution_count": null,
      "outputs": [
        {
          "output_type": "execute_result",
          "data": {
            "text/plain": [
              "('Doença Cardiovascular.', 100)"
            ]
          },
          "metadata": {
            "tags": []
          },
          "execution_count": 22
        }
      ]
    },
    {
      "cell_type": "markdown",
      "metadata": {
        "id": "sMrCCIZp56g2"
      },
      "source": [
        "Supondo que quisessemos substituir as palavras da lista pela palavra mais similar à string de interesse, caso a similaridade entre a palavra da lista e string de interesse seja maior do que 85."
      ]
    },
    {
      "cell_type": "code",
      "metadata": {
        "colab": {
          "base_uri": "https://localhost:8080/",
          "height": 35
        },
        "id": "G0VmmRD56Nhv",
        "outputId": "f22672be-f0c9-4568-a6d2-929a30ae8eb0"
      },
      "source": [
        "more_similar = process.extractOne('Doença Cardiovascular', l, scorer=fuzz.partial_ratio, score_cutoff=95)\n",
        "more_similar[0]"
      ],
      "execution_count": null,
      "outputs": [
        {
          "output_type": "execute_result",
          "data": {
            "application/vnd.google.colaboratory.intrinsic+json": {
              "type": "string"
            },
            "text/plain": [
              "'Doença Cardiovascular.'"
            ]
          },
          "metadata": {
            "tags": []
          },
          "execution_count": 26
        }
      ]
    },
    {
      "cell_type": "code",
      "metadata": {
        "colab": {
          "base_uri": "https://localhost:8080/"
        },
        "id": "5DXHWlRF7y-Z",
        "outputId": "1c4b1984-f0b5-4b48-fc37-84a3dc46a10b"
      },
      "source": [
        "sims = process.extract('Doença Cardiovascular', l, scorer=fuzz.partial_ratio)\n",
        "sims"
      ],
      "execution_count": null,
      "outputs": [
        {
          "output_type": "execute_result",
          "data": {
            "text/plain": [
              "[('Doença Cardiovascular.', 100),\n",
              " ('doença cardiovascular!!', 100),\n",
              " ('Doenca Cardiovascular', 95),\n",
              " ('Doenc. Cardio', 85)]"
            ]
          },
          "metadata": {
            "tags": []
          },
          "execution_count": 37
        }
      ]
    },
    {
      "cell_type": "code",
      "metadata": {
        "id": "e_VTV78_6IW1"
      },
      "source": [
        "l2 = [i[0].replace(i[0], more_similar[0]) for i in sims if i[1] >=85]"
      ],
      "execution_count": null,
      "outputs": []
    },
    {
      "cell_type": "code",
      "metadata": {
        "colab": {
          "base_uri": "https://localhost:8080/"
        },
        "id": "XxMcpQ817nZm",
        "outputId": "a324938f-3f8f-45f1-e80a-79fa8b070a9d"
      },
      "source": [
        "l2"
      ],
      "execution_count": null,
      "outputs": [
        {
          "output_type": "execute_result",
          "data": {
            "text/plain": [
              "['Doença Cardiovascular.',\n",
              " 'Doença Cardiovascular.',\n",
              " 'Doença Cardiovascular.',\n",
              " 'Doença Cardiovascular.']"
            ]
          },
          "metadata": {
            "tags": []
          },
          "execution_count": 46
        }
      ]
    },
    {
      "cell_type": "code",
      "metadata": {
        "id": "thCX2CAW7rEV"
      },
      "source": [
        ""
      ],
      "execution_count": null,
      "outputs": []
    },
    {
      "cell_type": "markdown",
      "metadata": {
        "id": "hEX4FFyT5l61"
      },
      "source": [
        "**Data Cleaning em um DataFrame**"
      ]
    },
    {
      "cell_type": "markdown",
      "metadata": {
        "id": "5QOV2_fu8gbo"
      },
      "source": [
        "*   Aplicar o FuzzyWuzzy em uma base de dados\n",
        "*   Medir a similaridade de strings e fazer Data Cleaning"
      ]
    },
    {
      "cell_type": "markdown",
      "metadata": {
        "id": "TMsL9NJC8pHn"
      },
      "source": [
        "Importando as bibliotecas"
      ]
    },
    {
      "cell_type": "code",
      "metadata": {
        "id": "Um_fmPQR4GCM"
      },
      "source": [
        "import pandas as pd\n",
        "from collections import OrderedDict"
      ],
      "execution_count": null,
      "outputs": []
    },
    {
      "cell_type": "markdown",
      "metadata": {
        "id": "s01bBC6A9RzP"
      },
      "source": [
        "Para fins didáticos, iremos criar uma pequena base de dados."
      ]
    },
    {
      "cell_type": "markdown",
      "metadata": {
        "id": "tXMVeqJl8vq3"
      },
      "source": [
        "Criando um dicionário "
      ]
    },
    {
      "cell_type": "code",
      "metadata": {
        "id": "8dM45UO68uP9"
      },
      "source": [
        "data = OrderedDict(\n",
        "    {\n",
        "        'codigo_produto': [10, 11, 12, 13, 14],\n",
        "        'descricao': ['iphone 6ss', 'iphone 6s', 'iphoni 6s', 'ipone 6s', 'Iphone 6s,,,,']\n",
        "    }\n",
        ")"
      ],
      "execution_count": null,
      "outputs": []
    },
    {
      "cell_type": "markdown",
      "metadata": {
        "id": "8gyEDdf_9HPA"
      },
      "source": [
        "Convertendo o dicionário em um dataframe"
      ]
    },
    {
      "cell_type": "code",
      "metadata": {
        "colab": {
          "base_uri": "https://localhost:8080/",
          "height": 204
        },
        "id": "COeeCZci9GG9",
        "outputId": "58bfbb55-bf5c-42a1-f581-5b6218bbf877"
      },
      "source": [
        "dataset = pd.DataFrame(data)\n",
        "dataset"
      ],
      "execution_count": null,
      "outputs": [
        {
          "output_type": "execute_result",
          "data": {
            "text/html": [
              "<div>\n",
              "<style scoped>\n",
              "    .dataframe tbody tr th:only-of-type {\n",
              "        vertical-align: middle;\n",
              "    }\n",
              "\n",
              "    .dataframe tbody tr th {\n",
              "        vertical-align: top;\n",
              "    }\n",
              "\n",
              "    .dataframe thead th {\n",
              "        text-align: right;\n",
              "    }\n",
              "</style>\n",
              "<table border=\"1\" class=\"dataframe\">\n",
              "  <thead>\n",
              "    <tr style=\"text-align: right;\">\n",
              "      <th></th>\n",
              "      <th>codigo_produto</th>\n",
              "      <th>descricao</th>\n",
              "    </tr>\n",
              "  </thead>\n",
              "  <tbody>\n",
              "    <tr>\n",
              "      <th>0</th>\n",
              "      <td>10</td>\n",
              "      <td>iphone 6ss</td>\n",
              "    </tr>\n",
              "    <tr>\n",
              "      <th>1</th>\n",
              "      <td>11</td>\n",
              "      <td>iphone 6s</td>\n",
              "    </tr>\n",
              "    <tr>\n",
              "      <th>2</th>\n",
              "      <td>12</td>\n",
              "      <td>iphoni 6s</td>\n",
              "    </tr>\n",
              "    <tr>\n",
              "      <th>3</th>\n",
              "      <td>13</td>\n",
              "      <td>ipone 6s</td>\n",
              "    </tr>\n",
              "    <tr>\n",
              "      <th>4</th>\n",
              "      <td>14</td>\n",
              "      <td>Iphone 6s,,,,</td>\n",
              "    </tr>\n",
              "  </tbody>\n",
              "</table>\n",
              "</div>"
            ],
            "text/plain": [
              "   codigo_produto      descricao\n",
              "0              10     iphone 6ss\n",
              "1              11      iphone 6s\n",
              "2              12      iphoni 6s\n",
              "3              13       ipone 6s\n",
              "4              14  Iphone 6s,,,,"
            ]
          },
          "metadata": {
            "tags": []
          },
          "execution_count": 50
        }
      ]
    },
    {
      "cell_type": "markdown",
      "metadata": {
        "id": "O_LTU6h9isFo"
      },
      "source": [
        "Extraindo a melhor descrição presente em *dataset* em relação a string *Iphone 6s*.\n",
        "\n",
        "Como se eu quisesse corrigir os erros de digitação presentes na coluna *descrição* do dataset. Para isso, vou extrair a string mais similar a string correta dessa coluna do dataframe."
      ]
    },
    {
      "cell_type": "code",
      "metadata": {
        "colab": {
          "base_uri": "https://localhost:8080/"
        },
        "id": "5BLSG15r9NuV",
        "outputId": "beefedd3-4b0f-49bd-9016-c92747d442ee"
      },
      "source": [
        "process.extractOne('Iphone 6s', choices=dataset.descricao, scorer=fuzz.ratio, score_cutoff=95)"
      ],
      "execution_count": null,
      "outputs": [
        {
          "output_type": "execute_result",
          "data": {
            "text/plain": [
              "('iphone 6s', 100, 1)"
            ]
          },
          "metadata": {
            "tags": []
          },
          "execution_count": 51
        }
      ]
    },
    {
      "cell_type": "markdown",
      "metadata": {
        "id": "UsqXCQjBjjY7"
      },
      "source": [
        "Criando uma função que aplica o FuzzyWuzzy"
      ]
    },
    {
      "cell_type": "code",
      "metadata": {
        "id": "GCXiAXwkjQY_"
      },
      "source": [
        "def AplicaFuzzy(query, dados, metodo_ratio, score_corte):\n",
        "    return process.extractOne(query, choices=dados, scorer=metodo_ratio, score_cutoff=score_corte)"
      ],
      "execution_count": null,
      "outputs": []
    },
    {
      "cell_type": "markdown",
      "metadata": {
        "id": "Is9TGFDJkPdp"
      },
      "source": [
        "Testando a função usando a mesma string de interesse usada anteriormente"
      ]
    },
    {
      "cell_type": "code",
      "metadata": {
        "colab": {
          "base_uri": "https://localhost:8080/"
        },
        "id": "E_sNWu_PkOOX",
        "outputId": "c4440f89-6281-40ac-834c-b618f0c03f34"
      },
      "source": [
        "AplicaFuzzy('Iphone 6s', dataset.descricao, fuzz.ratio, 95)"
      ],
      "execution_count": null,
      "outputs": [
        {
          "output_type": "execute_result",
          "data": {
            "text/plain": [
              "('iphone 6s', 100, 1)"
            ]
          },
          "metadata": {
            "tags": []
          },
          "execution_count": 53
        }
      ]
    },
    {
      "cell_type": "markdown",
      "metadata": {
        "id": "kc0hcpRHkedi"
      },
      "source": [
        "Observe que obtivemos o mesmo resultado. Logo, nossa função está funcionando."
      ]
    },
    {
      "cell_type": "markdown",
      "metadata": {
        "id": "m_rnZmuXklq6"
      },
      "source": [
        "Criando uma nova coluna em *dataset* a partir das strings similares.\n",
        "\n",
        "Essa nova coluna terá as strings da coluna *descricao* corrigidas."
      ]
    },
    {
      "cell_type": "code",
      "metadata": {
        "colab": {
          "base_uri": "https://localhost:8080/",
          "height": 204
        },
        "id": "J9jiS73Mkdhe",
        "outputId": "561614eb-c690-45bf-df47-010322c72357"
      },
      "source": [
        "dataset['descricao_corrigida'] = AplicaFuzzy('Iphone 6s', dataset.descricao, fuzz.ratio, 95)[0]\n",
        "dataset"
      ],
      "execution_count": null,
      "outputs": [
        {
          "output_type": "execute_result",
          "data": {
            "text/html": [
              "<div>\n",
              "<style scoped>\n",
              "    .dataframe tbody tr th:only-of-type {\n",
              "        vertical-align: middle;\n",
              "    }\n",
              "\n",
              "    .dataframe tbody tr th {\n",
              "        vertical-align: top;\n",
              "    }\n",
              "\n",
              "    .dataframe thead th {\n",
              "        text-align: right;\n",
              "    }\n",
              "</style>\n",
              "<table border=\"1\" class=\"dataframe\">\n",
              "  <thead>\n",
              "    <tr style=\"text-align: right;\">\n",
              "      <th></th>\n",
              "      <th>codigo_produto</th>\n",
              "      <th>descricao</th>\n",
              "      <th>descricao_corrigida</th>\n",
              "    </tr>\n",
              "  </thead>\n",
              "  <tbody>\n",
              "    <tr>\n",
              "      <th>0</th>\n",
              "      <td>10</td>\n",
              "      <td>iphone 6ss</td>\n",
              "      <td>iphone 6s</td>\n",
              "    </tr>\n",
              "    <tr>\n",
              "      <th>1</th>\n",
              "      <td>11</td>\n",
              "      <td>iphone 6s</td>\n",
              "      <td>iphone 6s</td>\n",
              "    </tr>\n",
              "    <tr>\n",
              "      <th>2</th>\n",
              "      <td>12</td>\n",
              "      <td>iphoni 6s</td>\n",
              "      <td>iphone 6s</td>\n",
              "    </tr>\n",
              "    <tr>\n",
              "      <th>3</th>\n",
              "      <td>13</td>\n",
              "      <td>ipone 6s</td>\n",
              "      <td>iphone 6s</td>\n",
              "    </tr>\n",
              "    <tr>\n",
              "      <th>4</th>\n",
              "      <td>14</td>\n",
              "      <td>Iphone 6s,,,,</td>\n",
              "      <td>iphone 6s</td>\n",
              "    </tr>\n",
              "  </tbody>\n",
              "</table>\n",
              "</div>"
            ],
            "text/plain": [
              "   codigo_produto      descricao descricao_corrigida\n",
              "0              10     iphone 6ss           iphone 6s\n",
              "1              11      iphone 6s           iphone 6s\n",
              "2              12      iphoni 6s           iphone 6s\n",
              "3              13       ipone 6s           iphone 6s\n",
              "4              14  Iphone 6s,,,,           iphone 6s"
            ]
          },
          "metadata": {
            "tags": []
          },
          "execution_count": 54
        }
      ]
    },
    {
      "cell_type": "markdown",
      "metadata": {
        "id": "L_ZtSo2gljmM"
      },
      "source": [
        "Obs. Esse foi apenas um exemplo simples do funcionamento. Claro que em uma base de dados real teríamos muitos produtos diferentes e não apenas o Iphone 6s. Por isso, deve-se criar regras para a aplicação desse método para corrigir strings digitadas erradas."
      ]
    },
    {
      "cell_type": "markdown",
      "metadata": {
        "id": "WcEz3sZ4J9_G"
      },
      "source": [
        "Vejamos um exemplo um pouquinho mais elaborado, com outras marcas e modelos de celulares."
      ]
    },
    {
      "cell_type": "markdown",
      "metadata": {
        "id": "yi8Qy7JWKEa_"
      },
      "source": [
        "Criando um dicionário"
      ]
    },
    {
      "cell_type": "code",
      "metadata": {
        "id": "1DTIJTus3F_F"
      },
      "source": [
        "data = OrderedDict(\n",
        "    {\n",
        "        'codigo_produto': [10, 11, 12, 13, 14, 15, 16, 17, 18, 19],\n",
        "        'descricao': ['iphone 6ss', 'iphone 6s', 'iphoni 6s', 'ipone 6s', 'Iphone 6s,,,,', 'motorola G7.', 'motorola g7', 'motorola G7!', 'redmi note 8 pro', 'redimi note 8 pro']\n",
        "    }\n",
        ")"
      ],
      "execution_count": null,
      "outputs": []
    },
    {
      "cell_type": "markdown",
      "metadata": {
        "id": "V7zUIhnoKGS2"
      },
      "source": [
        "Convertendo o dicionário em um dataframe"
      ]
    },
    {
      "cell_type": "code",
      "metadata": {
        "id": "dL9q9b9S3aBY"
      },
      "source": [
        "df = pd.DataFrame(data)"
      ],
      "execution_count": null,
      "outputs": []
    },
    {
      "cell_type": "code",
      "metadata": {
        "colab": {
          "base_uri": "https://localhost:8080/",
          "height": 359
        },
        "id": "_zHkh6fS3boA",
        "outputId": "f7ed7299-65bc-4c70-eda3-10e3d3ca3d79"
      },
      "source": [
        "df"
      ],
      "execution_count": null,
      "outputs": [
        {
          "output_type": "execute_result",
          "data": {
            "text/html": [
              "<div>\n",
              "<style scoped>\n",
              "    .dataframe tbody tr th:only-of-type {\n",
              "        vertical-align: middle;\n",
              "    }\n",
              "\n",
              "    .dataframe tbody tr th {\n",
              "        vertical-align: top;\n",
              "    }\n",
              "\n",
              "    .dataframe thead th {\n",
              "        text-align: right;\n",
              "    }\n",
              "</style>\n",
              "<table border=\"1\" class=\"dataframe\">\n",
              "  <thead>\n",
              "    <tr style=\"text-align: right;\">\n",
              "      <th></th>\n",
              "      <th>codigo_produto</th>\n",
              "      <th>descricao</th>\n",
              "    </tr>\n",
              "  </thead>\n",
              "  <tbody>\n",
              "    <tr>\n",
              "      <th>0</th>\n",
              "      <td>10</td>\n",
              "      <td>iphone 6ss</td>\n",
              "    </tr>\n",
              "    <tr>\n",
              "      <th>1</th>\n",
              "      <td>11</td>\n",
              "      <td>iphone 6s</td>\n",
              "    </tr>\n",
              "    <tr>\n",
              "      <th>2</th>\n",
              "      <td>12</td>\n",
              "      <td>iphoni 6s</td>\n",
              "    </tr>\n",
              "    <tr>\n",
              "      <th>3</th>\n",
              "      <td>13</td>\n",
              "      <td>ipone 6s</td>\n",
              "    </tr>\n",
              "    <tr>\n",
              "      <th>4</th>\n",
              "      <td>14</td>\n",
              "      <td>Iphone 6s,,,,</td>\n",
              "    </tr>\n",
              "    <tr>\n",
              "      <th>5</th>\n",
              "      <td>15</td>\n",
              "      <td>motorola G7.</td>\n",
              "    </tr>\n",
              "    <tr>\n",
              "      <th>6</th>\n",
              "      <td>16</td>\n",
              "      <td>motorola g7</td>\n",
              "    </tr>\n",
              "    <tr>\n",
              "      <th>7</th>\n",
              "      <td>17</td>\n",
              "      <td>motorola G7!</td>\n",
              "    </tr>\n",
              "    <tr>\n",
              "      <th>8</th>\n",
              "      <td>18</td>\n",
              "      <td>redmi note 8 pro</td>\n",
              "    </tr>\n",
              "    <tr>\n",
              "      <th>9</th>\n",
              "      <td>19</td>\n",
              "      <td>redimi note 8 pro</td>\n",
              "    </tr>\n",
              "  </tbody>\n",
              "</table>\n",
              "</div>"
            ],
            "text/plain": [
              "   codigo_produto          descricao\n",
              "0              10         iphone 6ss\n",
              "1              11          iphone 6s\n",
              "2              12          iphoni 6s\n",
              "3              13           ipone 6s\n",
              "4              14      Iphone 6s,,,,\n",
              "5              15       motorola G7.\n",
              "6              16        motorola g7\n",
              "7              17       motorola G7!\n",
              "8              18   redmi note 8 pro\n",
              "9              19  redimi note 8 pro"
            ]
          },
          "metadata": {
            "tags": []
          },
          "execution_count": 222
        }
      ]
    },
    {
      "cell_type": "markdown",
      "metadata": {
        "id": "f5UTUcqnKJtp"
      },
      "source": [
        "Criando uma função que recebe o nome do dataframe, o nome da coluna que possui erros de digitação (ou seja, que deve ser corrigida) e uma lista de strings com as strings de interesse para cada marca-modelo de celular"
      ]
    },
    {
      "cell_type": "code",
      "metadata": {
        "id": "D9kLyzXUA6rE"
      },
      "source": [
        "def AplicaFuzzyDF(dados, coluna: str, string_match: list):\n",
        "    results = []\n",
        "    for i, row in dados.iterrows():\n",
        "        for l in string_match:\n",
        "            sims = process.extract(l, dados[f'{coluna}'], scorer=fuzz.ratio)\n",
        "            sims2 = [j[0] for j in sims if j[1] >= 85]\n",
        "            if row[f'{coluna}'] in sims2:\n",
        "                results.append(sims[0][0])\n",
        "            \n",
        "    return results"
      ],
      "execution_count": null,
      "outputs": []
    },
    {
      "cell_type": "markdown",
      "metadata": {
        "id": "m1c7NfSpKgbG"
      },
      "source": [
        "Nesse caso, como é um exemplo pequeno, sabemos as marcas e modelos que possuímos no dataframe e como devemos corrigí-los. Num caso real, poderíamos ter uma lista pré-definida de strings corretas que já foram mapeadas ou podemos ter como ajuda um outro dataframe com valores já corretos para nos auxiliar (usando unique() para pegar os valores únicos que já em uma determinada coluna desse dataframe)."
      ]
    },
    {
      "cell_type": "markdown",
      "metadata": {
        "id": "fVK8o8hrK-lx"
      },
      "source": [
        "Aplicando a função"
      ]
    },
    {
      "cell_type": "code",
      "metadata": {
        "id": "8l4B3WoPB8mu"
      },
      "source": [
        "results = AplicaFuzzyDF(df,'descricao', ['Iphone 6s', 'Motorola G7', 'Redmi Note 8 PRO'])"
      ],
      "execution_count": null,
      "outputs": []
    },
    {
      "cell_type": "markdown",
      "metadata": {
        "id": "XuoM__LoLBh8"
      },
      "source": [
        "Visualizando a lista retornada da função"
      ]
    },
    {
      "cell_type": "code",
      "metadata": {
        "colab": {
          "base_uri": "https://localhost:8080/"
        },
        "id": "snoBNKMhGyZ9",
        "outputId": "76e59b7d-071f-494c-9399-4b3f545e1108"
      },
      "source": [
        "results"
      ],
      "execution_count": null,
      "outputs": [
        {
          "output_type": "execute_result",
          "data": {
            "text/plain": [
              "['iphone 6s',\n",
              " 'iphone 6s',\n",
              " 'iphone 6s',\n",
              " 'iphone 6s',\n",
              " 'iphone 6s',\n",
              " 'motorola G7.',\n",
              " 'motorola G7.',\n",
              " 'motorola G7.',\n",
              " 'redmi note 8 pro',\n",
              " 'redmi note 8 pro']"
            ]
          },
          "metadata": {
            "tags": []
          },
          "execution_count": 225
        }
      ]
    },
    {
      "cell_type": "markdown",
      "metadata": {
        "id": "PvOIatXwLDtA"
      },
      "source": [
        "Aplicando a lista com os valores corrigidos no dataframe"
      ]
    },
    {
      "cell_type": "code",
      "metadata": {
        "colab": {
          "base_uri": "https://localhost:8080/",
          "height": 359
        },
        "id": "GXH1xnKLCRuH",
        "outputId": "0293e36d-213a-4e0f-c790-5b470663af2e"
      },
      "source": [
        "df['descricao_corrigida'] = results\n",
        "df"
      ],
      "execution_count": null,
      "outputs": [
        {
          "output_type": "execute_result",
          "data": {
            "text/html": [
              "<div>\n",
              "<style scoped>\n",
              "    .dataframe tbody tr th:only-of-type {\n",
              "        vertical-align: middle;\n",
              "    }\n",
              "\n",
              "    .dataframe tbody tr th {\n",
              "        vertical-align: top;\n",
              "    }\n",
              "\n",
              "    .dataframe thead th {\n",
              "        text-align: right;\n",
              "    }\n",
              "</style>\n",
              "<table border=\"1\" class=\"dataframe\">\n",
              "  <thead>\n",
              "    <tr style=\"text-align: right;\">\n",
              "      <th></th>\n",
              "      <th>codigo_produto</th>\n",
              "      <th>descricao</th>\n",
              "      <th>descricao_corrigida</th>\n",
              "    </tr>\n",
              "  </thead>\n",
              "  <tbody>\n",
              "    <tr>\n",
              "      <th>0</th>\n",
              "      <td>10</td>\n",
              "      <td>iphone 6ss</td>\n",
              "      <td>iphone 6s</td>\n",
              "    </tr>\n",
              "    <tr>\n",
              "      <th>1</th>\n",
              "      <td>11</td>\n",
              "      <td>iphone 6s</td>\n",
              "      <td>iphone 6s</td>\n",
              "    </tr>\n",
              "    <tr>\n",
              "      <th>2</th>\n",
              "      <td>12</td>\n",
              "      <td>iphoni 6s</td>\n",
              "      <td>iphone 6s</td>\n",
              "    </tr>\n",
              "    <tr>\n",
              "      <th>3</th>\n",
              "      <td>13</td>\n",
              "      <td>ipone 6s</td>\n",
              "      <td>iphone 6s</td>\n",
              "    </tr>\n",
              "    <tr>\n",
              "      <th>4</th>\n",
              "      <td>14</td>\n",
              "      <td>Iphone 6s,,,,</td>\n",
              "      <td>iphone 6s</td>\n",
              "    </tr>\n",
              "    <tr>\n",
              "      <th>5</th>\n",
              "      <td>15</td>\n",
              "      <td>motorola G7.</td>\n",
              "      <td>motorola G7.</td>\n",
              "    </tr>\n",
              "    <tr>\n",
              "      <th>6</th>\n",
              "      <td>16</td>\n",
              "      <td>motorola g7</td>\n",
              "      <td>motorola G7.</td>\n",
              "    </tr>\n",
              "    <tr>\n",
              "      <th>7</th>\n",
              "      <td>17</td>\n",
              "      <td>motorola G7!</td>\n",
              "      <td>motorola G7.</td>\n",
              "    </tr>\n",
              "    <tr>\n",
              "      <th>8</th>\n",
              "      <td>18</td>\n",
              "      <td>redmi note 8 pro</td>\n",
              "      <td>redmi note 8 pro</td>\n",
              "    </tr>\n",
              "    <tr>\n",
              "      <th>9</th>\n",
              "      <td>19</td>\n",
              "      <td>redimi note 8 pro</td>\n",
              "      <td>redmi note 8 pro</td>\n",
              "    </tr>\n",
              "  </tbody>\n",
              "</table>\n",
              "</div>"
            ],
            "text/plain": [
              "   codigo_produto          descricao descricao_corrigida\n",
              "0              10         iphone 6ss           iphone 6s\n",
              "1              11          iphone 6s           iphone 6s\n",
              "2              12          iphoni 6s           iphone 6s\n",
              "3              13           ipone 6s           iphone 6s\n",
              "4              14      Iphone 6s,,,,           iphone 6s\n",
              "5              15       motorola G7.        motorola G7.\n",
              "6              16        motorola g7        motorola G7.\n",
              "7              17       motorola G7!        motorola G7.\n",
              "8              18   redmi note 8 pro    redmi note 8 pro\n",
              "9              19  redimi note 8 pro    redmi note 8 pro"
            ]
          },
          "metadata": {
            "tags": []
          },
          "execution_count": 226
        }
      ]
    }
  ]
}